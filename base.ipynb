{
 "cells": [
  {
   "cell_type": "code",
   "execution_count": 47,
   "metadata": {},
   "outputs": [],
   "source": [
    "import numpy as np\n",
    "import pandas as pd\n",
    "from IPython.display import display\n",
    "import gc\n",
    "import pyreadstat\n",
    "from sklearn.preprocessing import MinMaxScaler\n",
    "from semopy import Model, calc_stats, semplot, report\n",
    "from statsmodels.stats.outliers_influence import variance_inflation_factor"
   ]
  },
  {
   "cell_type": "code",
   "execution_count": 48,
   "metadata": {},
   "outputs": [],
   "source": [
    "def load_data():\n",
    "    kyrbs = pd.read_csv('c:\\\\data\\\\education\\\\kyrbs2024_sas\\\\kyrbs\\\\kyrbs2024.csv', encoding='cp949')\n",
    "    pop = pd.read_csv('c:\\\\data\\\\education\\\\kyrbs2024_sas\\\\kyrbs\\\\pop24.csv', encoding='cp949')\n",
    "    return kyrbs, pop"
   ]
  },
  {
   "cell_type": "code",
   "execution_count": 49,
   "metadata": {},
   "outputs": [],
   "source": [
    "def create_derived_variables(df):\n",
    "    df['disturbed'] = df[[f'M_GAD_{i}' for i in range(1, 8)]].apply(lambda x: 2 if (sum(x) > 14) else 1, axis=1)\n",
    "    df['violent'] = df['V_TRT'].apply(lambda x: 1 if x == 1 else 2)\n",
    "    df = df[df['E_FM_F_1'] != 8888]\n",
    "    def next_of_kin(row):\n",
    "        return 1 if (row['E_FM_F_1'] == 1 or row['E_FM_M_3'] == 3) else 2\n",
    "    \n",
    "    def livingwith(row):\n",
    "        return 1 if (row['E_LT_F'] == 1 or row['E_LT_M'] == 1) else 2\n",
    "    \n",
    "    df['nextofkin'] = df.apply(next_of_kin, axis=1)\n",
    "    df['livingwith'] = df.apply(livingwith, axis=1)\n",
    "    return df"
   ]
  },
  {
   "cell_type": "code",
   "execution_count": 50,
   "metadata": {},
   "outputs": [],
   "source": [
    "def preprocess_data(df, observed_vars):\n",
    "    df = df[['MH'] + observed_vars].dropna()\n",
    "    \n",
    "    df['M_STR'] = 6 - df['M_STR']\n",
    "    df['E_S_RCRD'] = 6 - df['E_S_RCRD']\n",
    "    df['E_SES'] = 6 - df['E_SES']\n",
    "    \n",
    "    scaler = MinMaxScaler()\n",
    "    cols_to_scale = ['M_STR', 'M_LON', 'E_S_RCRD', 'E_SES', 'violent']\n",
    "    df[cols_to_scale] = scaler.fit_transform(df[cols_to_scale])\n",
    "    \n",
    "    numeric_cols = cols_to_scale\n",
    "    categorical_cols = ['M_SAD', 'disturbed', 'M_SUI_CON', 'nextofkin']\n",
    "    df[numeric_cols] = df[numeric_cols].apply(pd.to_numeric, errors='coerce')\n",
    "    df[categorical_cols] = df[categorical_cols].astype(\"category\")\n",
    "    \n",
    "    return df"
   ]
  },
  {
   "cell_type": "code",
   "execution_count": 51,
   "metadata": {},
   "outputs": [],
   "source": [
    "def split_data(df):\n",
    "    mid = df[df['MH'] == '중학교']\n",
    "    high = df[df['MH'] == '고등학교']\n",
    "    return mid, high"
   ]
  },
  {
   "cell_type": "code",
   "execution_count": 52,
   "metadata": {},
   "outputs": [],
   "source": [
    "def define_sem_model():\n",
    "    model_desc = \"\"\"\n",
    "    Emotion =~ M_SAD + M_LON + disturbed\n",
    "    Stress =~ M_STR\n",
    "    Suicide =~ M_SUI_CON\n",
    "    Stress ~ violent + nextofkin + E_S_RCRD + E_SES\n",
    "    Suicide ~ Stress + Emotion\n",
    "    Emotion ~~ Stress\n",
    "    \"\"\"\n",
    "    return Model(model_desc)"
   ]
  },
  {
   "cell_type": "code",
   "execution_count": 53,
   "metadata": {},
   "outputs": [],
   "source": [
    "def weighted_cov(X, weights):\n",
    "    average = np.average(X, axis=0, weights=weights)\n",
    "    X_centered = X - average\n",
    "    cov_matrix = np.dot((X_centered * weights[:, None]).T, X_centered) / (weights.sum() - 1)\n",
    "    return cov_matrix"
   ]
  },
  {
   "cell_type": "code",
   "execution_count": 54,
   "metadata": {},
   "outputs": [],
   "source": [
    "def calculate_covariance(df, observed_vars):\n",
    "    data_for_cov = df[observed_vars].apply(pd.to_numeric, errors='coerce')\n",
    "    weights = df['wt'].to_numpy()\n",
    "    w_cov = weighted_cov(data_for_cov.to_numpy(), weights)\n",
    "    return pd.DataFrame(w_cov, index=observed_vars, columns=observed_vars)"
   ]
  },
  {
   "cell_type": "code",
   "execution_count": 55,
   "metadata": {},
   "outputs": [],
   "source": [
    "def compute_vif(df, observed_vars):\n",
    "    X = df[observed_vars].apply(pd.to_numeric, errors='coerce').dropna()\n",
    "    vif_data = pd.DataFrame()\n",
    "    vif_data[\"Feature\"] = X.columns\n",
    "    vif_data[\"VIF\"] = [variance_inflation_factor(X.values, i) for i in range(X.shape[1])]\n",
    "    return vif_data"
   ]
  },
  {
   "cell_type": "code",
   "execution_count": 56,
   "metadata": {},
   "outputs": [],
   "source": [
    "def fit_sem_model(model, df, w_cov_df):\n",
    "    model.fit(df, cov=w_cov_df)\n",
    "    return model"
   ]
  },
  {
   "cell_type": "code",
   "execution_count": null,
   "metadata": {},
   "outputs": [],
   "source": [
    "def main():\n",
    "    kyrbs, pop = load_data()\n",
    "    kyrbs = create_derived_variables(kyrbs)\n",
    "    observed_vars = ['M_STR', 'M_SAD', 'M_LON', 'disturbed', 'M_SUI_CON', 'E_S_RCRD', 'E_SES', 'nextofkin', 'violent']\n",
    "    kyrbs = preprocess_data(kyrbs, observed_vars)\n",
    "    mid, high = split_data(kyrbs)\n",
    "    model = define_sem_model()\n",
    "    \n",
    "    high = high.copy()\n",
    "    high.loc[:, 'wt'] = 1.0\n",
    "    \n",
    "    w_cov_df = calculate_covariance(high, observed_vars)\n",
    "    print(\"공분산 행렬 랭크:\", np.linalg.matrix_rank(w_cov_df))\n",
    "    print(\"공분산 행렬 크기:\", w_cov_df.shape)\n",
    "    print(\"데이터 샘플 개수:\", high.shape[0])\n",
    "    print(\"가중치 합:\", high['wt'].sum())\n",
    "    \n",
    "    model = fit_sem_model(model, high, w_cov_df)\n",
    "    stats = calc_stats(model)\n",
    "    estimates = model.inspect()\n",
    "    print(\"적합도 지표:\\n\", stats.T, \"\\n\\n\")\n",
    "    print(\"모수 추정치:\\n\", estimates)\n",
    "    \n",
    "    # semplot(model, 'C:\\\\git_files\\\\education_analysis\\\\base\\\\semplot.png')\n",
    "    # report(model, 'C:\\\\git_files\\\\education_analysis\\\\base\\\\report')"
   ]
  },
  {
   "cell_type": "code",
   "execution_count": 58,
   "metadata": {},
   "outputs": [
    {
     "name": "stderr",
     "output_type": "stream",
     "text": [
      "C:\\Users\\User\\AppData\\Local\\Temp\\ipykernel_16964\\3312308014.py:11: SettingWithCopyWarning: \n",
      "A value is trying to be set on a copy of a slice from a DataFrame.\n",
      "Try using .loc[row_indexer,col_indexer] = value instead\n",
      "\n",
      "See the caveats in the documentation: https://pandas.pydata.org/pandas-docs/stable/user_guide/indexing.html#returning-a-view-versus-a-copy\n",
      "  df['nextofkin'] = df.apply(next_of_kin, axis=1)\n",
      "C:\\Users\\User\\AppData\\Local\\Temp\\ipykernel_16964\\3312308014.py:12: SettingWithCopyWarning: \n",
      "A value is trying to be set on a copy of a slice from a DataFrame.\n",
      "Try using .loc[row_indexer,col_indexer] = value instead\n",
      "\n",
      "See the caveats in the documentation: https://pandas.pydata.org/pandas-docs/stable/user_guide/indexing.html#returning-a-view-versus-a-copy\n",
      "  df['livingwith'] = df.apply(livingwith, axis=1)\n"
     ]
    },
    {
     "name": "stdout",
     "output_type": "stream",
     "text": [
      "공분산 행렬 랭크: 9\n",
      "공분산 행렬 크기: (9, 9)\n",
      "데이터 샘플 개수: 22413\n",
      "가중치 합: 22413.0\n",
      "적합도 지표:\n",
      "                       Value\n",
      "DoF               28.000000\n",
      "DoF Baseline      40.000000\n",
      "chi2             814.427536\n",
      "chi2 p-value       0.000000\n",
      "chi2 Baseline  26289.677718\n",
      "CFI                0.970040\n",
      "GFI                0.969021\n",
      "AGFI               0.955744\n",
      "NFI                0.969021\n",
      "TLI                0.957201\n",
      "RMSEA              0.035401\n",
      "AIC               33.927325\n",
      "BIC              170.223065\n",
      "LogLik             0.036337 \n",
      "\n",
      "\n",
      "모수 추정치:\n",
      "          lval  op       rval  Estimate  Std. Err    z-value   p-value\n",
      "0      Stress   ~    violent  0.018155  0.009317   1.948596  0.051344\n",
      "1      Stress   ~  nextofkin  0.003091  0.002981   1.036957  0.299756\n",
      "2      Stress   ~   E_S_RCRD -0.001516  0.001114  -1.361252  0.173434\n",
      "3      Stress   ~      E_SES -0.004148  0.002344  -1.770093  0.076712\n",
      "4     Suicide   ~     Stress  8.751010  4.482975   1.952054  0.050932\n",
      "5     Suicide   ~    Emotion -4.476348  2.628652  -1.702906  0.088586\n",
      "6       M_SAD   ~    Emotion  1.000000         -          -         -\n",
      "7       M_LON   ~    Emotion  0.677965  0.009554  70.960835       0.0\n",
      "8   disturbed   ~    Emotion  0.971458   0.01419  68.462958       0.0\n",
      "9       M_STR   ~     Stress  1.000000         -          -         -\n",
      "10  M_SUI_CON   ~    Suicide  1.000000         -          -         -\n",
      "11    Emotion  ~~     Stress  0.041487  0.000692  59.942066       0.0\n",
      "12    Emotion  ~~    Emotion  0.070779  0.001651  42.872488       0.0\n",
      "13     Stress  ~~     Stress  0.023759   0.00058  40.993451       0.0\n",
      "14    Suicide  ~~    Suicide  0.057473   65536.0   0.000001  0.999999\n",
      "15      M_LON  ~~      M_LON  0.038622  0.000495  77.957325       0.0\n",
      "16      M_SAD  ~~      M_SAD  0.128666   0.00146  88.150641       0.0\n",
      "17      M_STR  ~~      M_STR  0.030322  0.000486  62.418655       0.0\n",
      "18  M_SUI_CON  ~~  M_SUI_CON  0.057274   65536.0   0.000001  0.999999\n",
      "19  disturbed  ~~  disturbed  0.098923   0.00118  83.858605       0.0\n"
     ]
    }
   ],
   "source": [
    "if __name__ == \"__main__\":\n",
    "    main()"
   ]
  },
  {
   "cell_type": "code",
   "execution_count": null,
   "metadata": {},
   "outputs": [],
   "source": []
  }
 ],
 "metadata": {
  "kernelspec": {
   "display_name": "kernel",
   "language": "python",
   "name": "kernel"
  }
 },
 "nbformat": 4,
 "nbformat_minor": 2
}
