{
 "cells": [
  {
   "cell_type": "code",
   "execution_count": 29,
   "metadata": {},
   "outputs": [],
   "source": [
    "import numpy as np\n",
    "import pandas as pd\n",
    "from IPython.display import display\n",
    "import gc\n",
    "import pyreadstat\n",
    "from sklearn.preprocessing import MinMaxScaler\n",
    "from semopy import Model, calc_stats, semplot, report\n",
    "from statsmodels.stats.outliers_influence import variance_inflation_factor"
   ]
  },
  {
   "cell_type": "code",
   "execution_count": 30,
   "metadata": {},
   "outputs": [],
   "source": [
    "def load_data():\n",
    "    kyrbs = pd.read_csv('c:\\\\data\\\\education\\\\kyrbs2024_sas\\\\kyrbs\\\\kyrbs2024.csv', encoding='cp949')\n",
    "    pop = pd.read_csv('c:\\\\data\\\\education\\\\kyrbs2024_sas\\\\kyrbs\\\\pop24.csv', encoding='cp949')\n",
    "    return kyrbs, pop"
   ]
  },
  {
   "cell_type": "code",
   "execution_count": 31,
   "metadata": {},
   "outputs": [],
   "source": [
    "def check_missing_values(df):\n",
    "    missing_cols = df.columns[df.isna().any()].tolist()\n",
    "    print(\"Missing cols:\", missing_cols)\n",
    "    return df[missing_cols].isna().sum()"
   ]
  },
  {
   "cell_type": "code",
   "execution_count": 32,
   "metadata": {},
   "outputs": [],
   "source": [
    "def create_derived_variables(df):\n",
    "    df['disturbed'] = df[[f'M_GAD_{i}' for i in range(1, 8)]].apply(lambda x: 2 if (x == 4).any() else 1, axis=1)\n",
    "    df['violent'] = df['V_TRT'].apply(lambda x: 1 if x == 1 else 2)\n",
    "    df = df[df['E_FM_F_1'] != 8888]\n",
    "    def next_of_kin(row):\n",
    "        return 1 if (row['E_FM_F_1'] == 1 or row['E_FM_M_3'] == 3) else 2\n",
    "    \n",
    "    def livingwith(row):\n",
    "        return 1 if (row['E_LT_F'] == 1 or row['E_LT_M'] == 1) else 2\n",
    "    \n",
    "    df['nextofkin'] = df.apply(next_of_kin, axis=1)\n",
    "    df['livingwith'] = df.apply(livingwith, axis=1)\n",
    "    return df"
   ]
  },
  {
   "cell_type": "code",
   "execution_count": 33,
   "metadata": {},
   "outputs": [],
   "source": [
    "def preprocess_data(df):\n",
    "    observed_vars = ['M_STR', 'M_SAD', 'M_LON', 'disturbed', 'M_SUI_CON', 'E_S_RCRD', 'E_SES', 'nextofkin', 'violent']\n",
    "    df = df[['MH'] + observed_vars].dropna()\n",
    "    \n",
    "    df['M_STR'] = 6 - df['M_STR']\n",
    "    df['E_S_RCRD'] = 6 - df['E_S_RCRD']\n",
    "    df['E_SES'] = 6 - df['E_SES']\n",
    "    \n",
    "    scaler = MinMaxScaler()\n",
    "    cols_to_scale = ['M_STR', 'M_LON', 'E_S_RCRD', 'E_SES', 'violent']\n",
    "    df[cols_to_scale] = scaler.fit_transform(df[cols_to_scale])\n",
    "    \n",
    "    numeric_cols = cols_to_scale\n",
    "    categorical_cols = ['M_SAD', 'disturbed', 'M_SUI_CON', 'nextofkin']\n",
    "    df[numeric_cols] = df[numeric_cols].apply(pd.to_numeric, errors='coerce')\n",
    "    df[categorical_cols] = df[categorical_cols].astype(\"category\")\n",
    "    \n",
    "    return df"
   ]
  },
  {
   "cell_type": "code",
   "execution_count": 34,
   "metadata": {},
   "outputs": [],
   "source": [
    "def split_data(df):\n",
    "    mid = df[df['MH'] == '중학교']\n",
    "    high = df[df['MH'] == '고등학교']\n",
    "    return mid, high"
   ]
  },
  {
   "cell_type": "code",
   "execution_count": 35,
   "metadata": {},
   "outputs": [],
   "source": [
    "def define_sem_model():\n",
    "    model_desc = \"\"\"\n",
    "    Emotion =~ M_SAD + M_LON + disturbed\n",
    "    Stress =~ M_STR\n",
    "    Suicide =~ M_SUI_CON\n",
    "    Stress ~ violent + nextofkin + E_S_RCRD + E_SES\n",
    "    Suicide ~ Stress + Emotion\n",
    "    Emotion ~~ Stress\n",
    "    \"\"\"\n",
    "    return Model(model_desc)"
   ]
  },
  {
   "cell_type": "code",
   "execution_count": 36,
   "metadata": {},
   "outputs": [],
   "source": [
    "def weighted_cov(X, weights):\n",
    "    average = np.average(X, axis=0, weights=weights)\n",
    "    X_centered = X - average\n",
    "    cov_matrix = np.dot((X_centered * weights[:, None]).T, X_centered) / (weights.sum() - 1)\n",
    "    return cov_matrix"
   ]
  },
  {
   "cell_type": "code",
   "execution_count": 37,
   "metadata": {},
   "outputs": [],
   "source": [
    "def calculate_covariance(df, observed_vars):\n",
    "    data_for_cov = df[observed_vars].apply(pd.to_numeric, errors='coerce')\n",
    "    weights = df['wt'].to_numpy()\n",
    "    w_cov = weighted_cov(data_for_cov.to_numpy(), weights)\n",
    "    return pd.DataFrame(w_cov, index=observed_vars, columns=observed_vars)"
   ]
  },
  {
   "cell_type": "code",
   "execution_count": 38,
   "metadata": {},
   "outputs": [],
   "source": [
    "def compute_vif(df, observed_vars):\n",
    "    X = df[observed_vars].apply(pd.to_numeric, errors='coerce').dropna()\n",
    "    vif_data = pd.DataFrame()\n",
    "    vif_data[\"Feature\"] = X.columns\n",
    "    vif_data[\"VIF\"] = [variance_inflation_factor(X.values, i) for i in range(X.shape[1])]\n",
    "    return vif_data"
   ]
  },
  {
   "cell_type": "code",
   "execution_count": 39,
   "metadata": {},
   "outputs": [],
   "source": [
    "def fit_sem_model(model, df, w_cov_df):\n",
    "    model.fit(df, cov=w_cov_df)\n",
    "    return model"
   ]
  },
  {
   "cell_type": "code",
   "execution_count": 40,
   "metadata": {},
   "outputs": [],
   "source": [
    "def main():\n",
    "    kyrbs, pop = load_data()\n",
    "    kyrbs = create_derived_variables(kyrbs)\n",
    "    kyrbs = preprocess_data(kyrbs)\n",
    "    mid, high = split_data(kyrbs)\n",
    "    model = define_sem_model()\n",
    "    \n",
    "    observed_vars = ['M_STR', 'M_SAD', 'M_LON', 'disturbed', 'M_SUI_CON', 'E_S_RCRD', 'E_SES', 'nextofkin', 'violent']\n",
    "    \n",
    "    high = high.copy()\n",
    "    high.loc[:, 'wt'] = 1.0\n",
    "    \n",
    "    w_cov_df = calculate_covariance(high, observed_vars)\n",
    "    print(\"공분산 행렬 랭크:\", np.linalg.matrix_rank(w_cov_df))\n",
    "    print(\"공분산 행렬 크기:\", w_cov_df.shape)\n",
    "    print(\"데이터 샘플 개수:\", high.shape[0])\n",
    "    print(\"가중치 합:\", high['wt'].sum())\n",
    "    \n",
    "    model = fit_sem_model(model, high, w_cov_df)\n",
    "    stats = calc_stats(model)\n",
    "    estimates = model.inspect()\n",
    "    print(\"적합도 지표:\\n\", stats.T, \"\\n\\n\")\n",
    "    print(\"모수 추정치:\\n\", estimates)\n",
    "    \n",
    "    semplot(model, 'C:\\\\git_files\\\\education_analysis\\\\base\\\\semplot.png')\n",
    "    report(model, 'C:\\\\git_files\\\\education_analysis\\\\base\\\\report')"
   ]
  },
  {
   "cell_type": "code",
   "execution_count": 41,
   "metadata": {},
   "outputs": [
    {
     "name": "stderr",
     "output_type": "stream",
     "text": [
      "C:\\Users\\User\\AppData\\Local\\Temp\\ipykernel_7780\\2946408066.py:11: SettingWithCopyWarning: \n",
      "A value is trying to be set on a copy of a slice from a DataFrame.\n",
      "Try using .loc[row_indexer,col_indexer] = value instead\n",
      "\n",
      "See the caveats in the documentation: https://pandas.pydata.org/pandas-docs/stable/user_guide/indexing.html#returning-a-view-versus-a-copy\n",
      "  df['nextofkin'] = df.apply(next_of_kin, axis=1)\n",
      "C:\\Users\\User\\AppData\\Local\\Temp\\ipykernel_7780\\2946408066.py:12: SettingWithCopyWarning: \n",
      "A value is trying to be set on a copy of a slice from a DataFrame.\n",
      "Try using .loc[row_indexer,col_indexer] = value instead\n",
      "\n",
      "See the caveats in the documentation: https://pandas.pydata.org/pandas-docs/stable/user_guide/indexing.html#returning-a-view-versus-a-copy\n",
      "  df['livingwith'] = df.apply(livingwith, axis=1)\n"
     ]
    },
    {
     "name": "stdout",
     "output_type": "stream",
     "text": [
      "공분산 행렬 랭크: 9\n",
      "공분산 행렬 크기: (9, 9)\n",
      "데이터 샘플 개수: 22413\n",
      "가중치 합: 22413.0\n",
      "적합도 지표:\n",
      "                       Value\n",
      "DoF               28.000000\n",
      "DoF Baseline      40.000000\n",
      "chi2             881.982691\n",
      "chi2 p-value       0.000000\n",
      "chi2 Baseline  24361.878997\n",
      "CFI                0.964888\n",
      "GFI                0.963797\n",
      "AGFI               0.948281\n",
      "NFI                0.963797\n",
      "TLI                0.949840\n",
      "RMSEA              0.036890\n",
      "AIC               33.921297\n",
      "BIC              170.217036\n",
      "LogLik             0.039351 \n",
      "\n",
      "\n",
      "모수 추정치:\n",
      "          lval  op       rval  Estimate      Std. Err    z-value   p-value\n",
      "0      Stress   ~    violent  0.018191      0.009491   1.916627  0.055285\n",
      "1      Stress   ~  nextofkin  0.003475      0.002997   1.159347  0.246315\n",
      "2      Stress   ~   E_S_RCRD -0.001355      0.001036    -1.3071  0.191179\n",
      "3      Stress   ~      E_SES -0.003713      0.002155  -1.722837  0.084918\n",
      "4     Suicide   ~     Stress  9.283963      4.830796   1.921829  0.054627\n",
      "5     Suicide   ~    Emotion -4.929944      2.913065  -1.692356  0.090578\n",
      "6       M_SAD   ~    Emotion  1.000000             -          -         -\n",
      "7       M_LON   ~    Emotion  0.682711       0.00989  69.031449       0.0\n",
      "8   disturbed   ~    Emotion  0.805884      0.013036  61.820314       0.0\n",
      "9       M_STR   ~     Stress  1.000000             -          -         -\n",
      "10  M_SUI_CON   ~    Suicide  1.000000             -          -         -\n",
      "11    Emotion  ~~     Stress  0.041575      0.000699  59.495931       0.0\n",
      "12    Emotion  ~~    Emotion  0.068971      0.001652  41.760735       0.0\n",
      "13     Stress  ~~     Stress  0.024464      0.000608  40.223644       0.0\n",
      "14    Suicide  ~~    Suicide  0.062313  46340.950012   0.000001  0.999999\n",
      "15      M_LON  ~~      M_LON  0.039009      0.000512   76.16399       0.0\n",
      "16      M_SAD  ~~      M_SAD  0.130460      0.001489  87.635902       0.0\n",
      "17      M_STR  ~~      M_STR  0.029625      0.000512  57.841655       0.0\n",
      "18  M_SUI_CON  ~~  M_SUI_CON  0.060665  46340.950012   0.000001  0.999999\n",
      "19  disturbed  ~~  disturbed  0.098074      0.001086  90.268037       0.0\n"
     ]
    }
   ],
   "source": [
    "if __name__ == \"__main__\":\n",
    "    main()"
   ]
  },
  {
   "cell_type": "code",
   "execution_count": null,
   "metadata": {},
   "outputs": [],
   "source": []
  }
 ],
 "metadata": {
  "kernelspec": {
   "display_name": "kernel",
   "language": "python",
   "name": "kernel"
  },
  "language_info": {
   "codemirror_mode": {
    "name": "ipython",
    "version": 3
   },
   "file_extension": ".py",
   "mimetype": "text/x-python",
   "name": "python",
   "nbconvert_exporter": "python",
   "pygments_lexer": "ipython3",
   "version": "3.11.2"
  }
 },
 "nbformat": 4,
 "nbformat_minor": 2
}
