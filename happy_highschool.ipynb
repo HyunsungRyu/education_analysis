{
 "cells": [
  {
   "cell_type": "code",
   "execution_count": 111,
   "metadata": {},
   "outputs": [],
   "source": [
    "import pandas as pd\n",
    "import numpy as np\n",
    "from IPython.display import display\n",
    "from sklearn.preprocessing import MinMaxScaler\n",
    "from semopy import Model, calc_stats, semplot, report\n",
    "from statsmodels.stats.outliers_influence import variance_inflation_factor\n",
    "import warnings\n",
    "warnings.filterwarnings(\"ignore\")\n",
    "import matplotlib.pyplot as plt\n",
    "import statsmodels.formula.api as smf\n",
    "import seaborn as sns"
   ]
  },
  {
   "cell_type": "code",
   "execution_count": 112,
   "metadata": {},
   "outputs": [
    {
     "data": {
      "text/html": [
       "<div>\n",
       "<style scoped>\n",
       "    .dataframe tbody tr th:only-of-type {\n",
       "        vertical-align: middle;\n",
       "    }\n",
       "\n",
       "    .dataframe tbody tr th {\n",
       "        vertical-align: top;\n",
       "    }\n",
       "\n",
       "    .dataframe thead th {\n",
       "        text-align: right;\n",
       "    }\n",
       "</style>\n",
       "<table border=\"1\" class=\"dataframe\">\n",
       "  <thead>\n",
       "    <tr style=\"text-align: right;\">\n",
       "      <th></th>\n",
       "      <th>id</th>\n",
       "      <th>sex</th>\n",
       "      <th>birthy</th>\n",
       "      <th>birthm</th>\n",
       "      <th>area</th>\n",
       "      <th>size</th>\n",
       "      <th>school</th>\n",
       "      <th>grade</th>\n",
       "      <th>home1</th>\n",
       "      <th>home2</th>\n",
       "      <th>...</th>\n",
       "      <th>q512</th>\n",
       "      <th>q513</th>\n",
       "      <th>q514</th>\n",
       "      <th>q52</th>\n",
       "      <th>q53</th>\n",
       "      <th>q5411</th>\n",
       "      <th>q5412</th>\n",
       "      <th>q5421</th>\n",
       "      <th>q5422</th>\n",
       "      <th>wt</th>\n",
       "    </tr>\n",
       "  </thead>\n",
       "  <tbody>\n",
       "    <tr>\n",
       "      <th>0</th>\n",
       "      <td>20001.0</td>\n",
       "      <td>여성</td>\n",
       "      <td>2003.0</td>\n",
       "      <td>4월</td>\n",
       "      <td>충청권(대전, 충남, 충북)</td>\n",
       "      <td>도서벽지 및 읍면지역</td>\n",
       "      <td>고등학생</td>\n",
       "      <td>3학년</td>\n",
       "      <td>아니오</td>\n",
       "      <td>아니오</td>\n",
       "      <td>...</td>\n",
       "      <td>해당 없음</td>\n",
       "      <td>차이 없음</td>\n",
       "      <td>차이 없음</td>\n",
       "      <td>28.0</td>\n",
       "      <td>그대로다</td>\n",
       "      <td>NaN</td>\n",
       "      <td>NaN</td>\n",
       "      <td>NaN</td>\n",
       "      <td>NaN</td>\n",
       "      <td>0.250048</td>\n",
       "    </tr>\n",
       "    <tr>\n",
       "      <th>1</th>\n",
       "      <td>20002.0</td>\n",
       "      <td>여성</td>\n",
       "      <td>2003.0</td>\n",
       "      <td>8월</td>\n",
       "      <td>충청권(대전, 충남, 충북)</td>\n",
       "      <td>도서벽지 및 읍면지역</td>\n",
       "      <td>고등학생</td>\n",
       "      <td>3학년</td>\n",
       "      <td>예</td>\n",
       "      <td>예</td>\n",
       "      <td>...</td>\n",
       "      <td>차이 없음</td>\n",
       "      <td>차이 없음</td>\n",
       "      <td>차이 없음</td>\n",
       "      <td>20.0</td>\n",
       "      <td>그대로다</td>\n",
       "      <td>NaN</td>\n",
       "      <td>NaN</td>\n",
       "      <td>NaN</td>\n",
       "      <td>NaN</td>\n",
       "      <td>0.250048</td>\n",
       "    </tr>\n",
       "    <tr>\n",
       "      <th>2</th>\n",
       "      <td>20003.0</td>\n",
       "      <td>여성</td>\n",
       "      <td>2003.0</td>\n",
       "      <td>9월</td>\n",
       "      <td>충청권(대전, 충남, 충북)</td>\n",
       "      <td>도서벽지 및 읍면지역</td>\n",
       "      <td>고등학생</td>\n",
       "      <td>3학년</td>\n",
       "      <td>예</td>\n",
       "      <td>예</td>\n",
       "      <td>...</td>\n",
       "      <td>차이 없음</td>\n",
       "      <td>차이 없음</td>\n",
       "      <td>차이 없음</td>\n",
       "      <td>30.0</td>\n",
       "      <td>그대로다</td>\n",
       "      <td>NaN</td>\n",
       "      <td>NaN</td>\n",
       "      <td>NaN</td>\n",
       "      <td>NaN</td>\n",
       "      <td>0.250048</td>\n",
       "    </tr>\n",
       "  </tbody>\n",
       "</table>\n",
       "<p>3 rows × 277 columns</p>\n",
       "</div>"
      ],
      "text/plain": [
       "        id sex  birthy birthm             area         size school grade  \\\n",
       "0  20001.0  여성  2003.0     4월  충청권(대전, 충남, 충북)  도서벽지 및 읍면지역   고등학생   3학년   \n",
       "1  20002.0  여성  2003.0     8월  충청권(대전, 충남, 충북)  도서벽지 및 읍면지역   고등학생   3학년   \n",
       "2  20003.0  여성  2003.0     9월  충청권(대전, 충남, 충북)  도서벽지 및 읍면지역   고등학생   3학년   \n",
       "\n",
       "  home1 home2  ...   q512   q513   q514   q52   q53 q5411 q5412 q5421 q5422  \\\n",
       "0   아니오   아니오  ...  해당 없음  차이 없음  차이 없음  28.0  그대로다   NaN   NaN   NaN   NaN   \n",
       "1     예     예  ...  차이 없음  차이 없음  차이 없음  20.0  그대로다   NaN   NaN   NaN   NaN   \n",
       "2     예     예  ...  차이 없음  차이 없음  차이 없음  30.0  그대로다   NaN   NaN   NaN   NaN   \n",
       "\n",
       "         wt  \n",
       "0  0.250048  \n",
       "1  0.250048  \n",
       "2  0.250048  \n",
       "\n",
       "[3 rows x 277 columns]"
      ]
     },
     "execution_count": 112,
     "metadata": {},
     "output_type": "execute_result"
    }
   ],
   "source": [
    "df = pd.read_spss('C:\\\\data\\\\education\\\\한국아동청소년행복지수조사\\\\kor_data_20210010.sav')\n",
    "df.head(3)"
   ]
  },
  {
   "cell_type": "code",
   "execution_count": 113,
   "metadata": {},
   "outputs": [
    {
     "data": {
      "text/plain": [
       "q4812\n",
       "전혀 그렇지 않다    1959\n",
       "조금 그렇다       1018\n",
       "보통이다          952\n",
       "별로 그렇지 않다     945\n",
       "매우 그렇다        502\n",
       "Name: count, dtype: int64"
      ]
     },
     "execution_count": 113,
     "metadata": {},
     "output_type": "execute_result"
    }
   ],
   "source": [
    "df['q4812'].value_counts()"
   ]
  },
  {
   "cell_type": "code",
   "execution_count": 114,
   "metadata": {},
   "outputs": [],
   "source": [
    "# df = df[df['school'] == '고등학생']\n",
    "# df.head(3)"
   ]
  },
  {
   "cell_type": "code",
   "execution_count": 115,
   "metadata": {},
   "outputs": [
    {
     "data": {
      "text/plain": [
       "5376"
      ]
     },
     "execution_count": 115,
     "metadata": {},
     "output_type": "execute_result"
    }
   ],
   "source": [
    "len(df)"
   ]
  },
  {
   "cell_type": "code",
   "execution_count": null,
   "metadata": {},
   "outputs": [],
   "source": []
  },
  {
   "cell_type": "code",
   "execution_count": 116,
   "metadata": {},
   "outputs": [],
   "source": [
    "def null0(df):\n",
    "    for col in df.columns:\n",
    "        if df[col].isnull().sum() > 0:\n",
    "            df[col] = df[col].fillna(0)\n",
    "    return df"
   ]
  },
  {
   "cell_type": "code",
   "execution_count": 117,
   "metadata": {},
   "outputs": [],
   "source": [
    "def encoding(df, columns, category_map): \n",
    "    df[columns] = df[columns].replace(category_map)\n",
    "    return df\n",
    "\n",
    "category4_map = {\n",
    "    '전혀 그렇지 않다': 0,\n",
    "    '그렇지 않다': 1,\n",
    "    '그렇다': 2,\n",
    "    '매우 그렇다': 3\n",
    "}\n",
    "category5_map = {\n",
    "    '전혀 그렇지 않다': 0,\n",
    "    '별로 그렇지 않다': 1,\n",
    "    '보통이다' : 2,\n",
    "    '조금 그렇다': 3,\n",
    "    '매우 그렇다': 4\n",
    "}\n",
    "reverse_category5_map = {\n",
    "    '전혀 그렇지 않다': 4,\n",
    "    '별로 그렇지 않다': 3,\n",
    "    '보통이다' : 2,\n",
    "    '조금 그렇다': 1,\n",
    "    '매우 그렇다': 0\n",
    "}\n",
    "how_serious_map = {\n",
    "    '전혀 심각하지 않다' : 0,\n",
    "    '별로 심각하지 않다' : 1,\n",
    "    '보통이다' : 2,\n",
    "    '약간 심각한 편이다' : 3,\n",
    "    '매우 심각하다' : 4\n",
    "}\n",
    "how_often_map = {\n",
    "'경험이 전혀 없거나 거의 없었다' : 2,\n",
    "'1년에 몇 번 있었다' : 1,\n",
    "'한 달에 몇 번 있었다' : 0,\n",
    "'일주일에 한번 이상 있었다' : 0 \n",
    "}\n",
    "happy_map = {\n",
    "'매우 행복하다' : 4,\n",
    "'대체로 행복한 편이다' : 3,\n",
    "'모르겠다' : 2,\n",
    "'별로 행복하지 않은 편이다' : 1,\n",
    "'전혀 행복하지 않다' : 0\n",
    "}\n",
    "how_happy_map = {\n",
    "'매우 행복하다' : 4,\n",
    "'약간 행복하다' : 3,\n",
    "'보통이다' : 2,\n",
    "'약간 불행하다' : 1,\n",
    "'매우 불행하다' : 0\n",
    "}\n",
    "yes_or_no_map = {\n",
    "'예' : 1,\n",
    "'아니오' : 0\n",
    "}\n",
    "is_or_not_map = {\n",
    "    '있다' : 1,\n",
    "    '없다' : 0\n",
    "}\n",
    "is_or_not_map2 = {\n",
    "    '있다' : 2,\n",
    "    '없다' : 1\n",
    "}\n",
    "how_much_is_map = {\n",
    "    '전혀 없다' : 0,\n",
    "    '1~2번 있다' : 1,\n",
    "    '3~4번 있다' : 2,\n",
    "    '5번 이상 있다' : 2\n",
    "}\n",
    "how_high_map = {\n",
    "    '상의 상' : 2,\n",
    "    '상의 하': 2,\n",
    "    '중의 상': 1,\n",
    "    '중의 하': 1,\n",
    "    '하의 상': 0, \n",
    "    '하의 하': 0\n",
    "}"
   ]
  },
  {
   "cell_type": "code",
   "execution_count": 118,
   "metadata": {},
   "outputs": [],
   "source": [
    "def time_min(df, hour_column, minute_column):\n",
    "    # 시간과 분 열의 결측값을 0으로 채움\n",
    "    df[hour_column] = df[hour_column].fillna(0)\n",
    "    df[minute_column] = df[minute_column].fillna(0)\n",
    "    \n",
    "    # 데이터 타입을 float로 변환\n",
    "    df[hour_column] = df[hour_column].astype(float)\n",
    "    df[minute_column] = df[minute_column].astype(float)\n",
    "\n",
    "    # 총 분 계산\n",
    "    df['pri_edu_time'] = df[hour_column] * 60 + df[minute_column]\n",
    "    return df"
   ]
  },
  {
   "cell_type": "code",
   "execution_count": 119,
   "metadata": {},
   "outputs": [],
   "source": [
    "def not_applicable(df, columns):\n",
    "    for col in columns:\n",
    "        df[col] = df[col].replace({'해당사항 없음': '보통이다'})\n",
    "    return df"
   ]
  },
  {
   "cell_type": "code",
   "execution_count": 120,
   "metadata": {},
   "outputs": [],
   "source": [
    "def weighted_cov(X, weights):\n",
    "    average = np.average(X, axis=0, weights=weights)\n",
    "    X_centered = X - average\n",
    "    cov_matrix = np.dot((X_centered * weights[:, None]).T, X_centered) / (weights.sum() - 1)\n",
    "    return cov_matrix"
   ]
  },
  {
   "cell_type": "code",
   "execution_count": 121,
   "metadata": {},
   "outputs": [],
   "source": [
    "def calculate_covariance(df, observed_vars):\n",
    "    data_for_cov = df[observed_vars].apply(pd.to_numeric, errors='coerce')\n",
    "    weights = df['wt'].to_numpy()\n",
    "    w_cov = weighted_cov(data_for_cov.to_numpy(), weights)\n",
    "    return pd.DataFrame(w_cov, index=observed_vars, columns=observed_vars)"
   ]
  },
  {
   "cell_type": "code",
   "execution_count": 122,
   "metadata": {},
   "outputs": [],
   "source": [
    "def compute_vif(df, observed_vars):\n",
    "    X = df[observed_vars].apply(pd.to_numeric, errors='coerce').dropna()\n",
    "    vif_data = pd.DataFrame()\n",
    "    vif_data[\"Feature\"] = X.columns\n",
    "    vif_data[\"VIF\"] = [variance_inflation_factor(X.values, i) for i in range(X.shape[1])]\n",
    "    return vif_data"
   ]
  },
  {
   "cell_type": "code",
   "execution_count": 123,
   "metadata": {},
   "outputs": [],
   "source": [
    "def fit_sem_model(model, df, w_cov_df):\n",
    "    model.fit(df, cov=w_cov_df)\n",
    "    return model"
   ]
  },
  {
   "cell_type": "code",
   "execution_count": 124,
   "metadata": {},
   "outputs": [],
   "source": [
    "def calculate_bmi(df, height, weight):\n",
    "    df[height] = pd.to_numeric(df[height], errors='coerce')\n",
    "    df[weight] = pd.to_numeric(df[weight], errors='coerce')\n",
    "    \n",
    "    df['bmi'] = df[weight] / ((df[height] / 100) ** 2)\n",
    "    df['bmi'] = df['bmi'].round(2)\n",
    "    return df"
   ]
  },
  {
   "cell_type": "code",
   "execution_count": 125,
   "metadata": {},
   "outputs": [],
   "source": [
    "# 표준화 계수 계산 함수\n",
    "def standardize_estimates(df, data):\n",
    "    std_estimates = []\n",
    "    for _, row in df.iterrows():\n",
    "        if row['op'] == '~':  # 회귀 계수\n",
    "            try:\n",
    "                x_std = np.std(data[row['rhs']], ddof=1)\n",
    "                y_std = np.std(data[row['lhs']], ddof=1)\n",
    "                std_beta = row['Estimate'] * (x_std / y_std)\n",
    "                std_estimates.append(std_beta)\n",
    "            except KeyError:\n",
    "                std_estimates.append(np.nan)\n",
    "        elif row['op'] == '=~':  # 요인 부하량\n",
    "            try:\n",
    "                x_std = np.std(data[row['rhs']], ddof=1)\n",
    "                std_estimates.append(row['Estimate'] * x_std)\n",
    "            except KeyError:\n",
    "                std_estimates.append(np.nan)\n",
    "        else:\n",
    "            std_estimates.append(np.nan)\n",
    "    df['std_estimate'] = std_estimates\n",
    "    return df"
   ]
  },
  {
   "cell_type": "markdown",
   "metadata": {},
   "source": [
    "# 학업압박"
   ]
  },
  {
   "cell_type": "code",
   "execution_count": 126,
   "metadata": {},
   "outputs": [],
   "source": [
    "df_edu = df[['q071','q072', 'q073', 'q074'] + ['q485', 'q486', 'q487', 'q488']]\n",
    "df_edu = null0(df_edu)\n",
    "\n",
    "df_edu = encoding(df_edu, ['q071', 'q072', 'q073', 'q074'], category4_map)\n",
    "df_edu = encoding(df_edu, ['q485', 'q486','q487', 'q488'], category5_map)"
   ]
  },
  {
   "cell_type": "code",
   "execution_count": 127,
   "metadata": {},
   "outputs": [],
   "source": [
    "scaler = MinMaxScaler()\n",
    "df_edu[['q071', 'q072', 'q073', 'q074', 'q485', 'q486','q487', 'q488']] = scaler.fit_transform(df_edu[['q071', 'q072', 'q073', 'q074', 'q485', 'q486','q487', 'q488']])"
   ]
  },
  {
   "cell_type": "code",
   "execution_count": 128,
   "metadata": {},
   "outputs": [],
   "source": [
    "model_desc = \"\"\"\n",
    "academic_stress =~ q072 + q073\n",
    "exam_anxiety =~ q485 + q486 + q487 + q488\n",
    "academic_pressure =~  academic_stress + exam_anxiety\n",
    "academic_stress ~~ exam_anxiety\n",
    "\"\"\""
   ]
  },
  {
   "cell_type": "code",
   "execution_count": 129,
   "metadata": {},
   "outputs": [],
   "source": [
    "df_edu['wt'] = df['wt']\n",
    "observed_vars = ['q072', 'q073', 'q485', 'q486', 'q487', 'q488']\n",
    "w_cov_df = calculate_covariance(df_edu, observed_vars)"
   ]
  },
  {
   "cell_type": "code",
   "execution_count": 130,
   "metadata": {},
   "outputs": [
    {
     "name": "stderr",
     "output_type": "stream",
     "text": [
      "WARNING:root:Fisher Information Matrix is not PD.Moore-Penrose inverse will be used instead of Cholesky decomposition. See 10.1109/TSP.2012.2208105.\n"
     ]
    },
    {
     "name": "stdout",
     "output_type": "stream",
     "text": [
      "적합도 지표:\n",
      "                       Value\n",
      "DoF                6.000000\n",
      "DoF Baseline      15.000000\n",
      "chi2             241.352913\n",
      "chi2 p-value       0.000000\n",
      "chi2 Baseline  14606.987426\n",
      "CFI                0.983871\n",
      "GFI                0.983477\n",
      "AGFI               0.958692\n",
      "NFI                0.983477\n",
      "TLI                0.959678\n",
      "RMSEA              0.085427\n",
      "AIC               29.910211\n",
      "BIC              128.755709\n",
      "LogLik             0.044895 \n",
      "\n",
      "\n",
      "모수 추정치:\n",
      "                  lval  op               rval  Estimate  Std. Err     z-value  \\\n",
      "0     academic_stress   ~  academic_pressure  1.000000         -           -   \n",
      "1        exam_anxiety   ~  academic_pressure  0.015159  0.000056  270.468469   \n",
      "2                q072   ~    academic_stress  1.000000         -           -   \n",
      "3                q073   ~    academic_stress  0.833664  0.017369   47.997865   \n",
      "4                q485   ~       exam_anxiety  1.000000         -           -   \n",
      "5                q486   ~       exam_anxiety  1.009905  0.016667   60.591936   \n",
      "6                q487   ~       exam_anxiety  0.975077  0.017668   55.189992   \n",
      "7                q488   ~       exam_anxiety  0.861497  0.016736   51.477199   \n",
      "8     academic_stress  ~~       exam_anxiety  0.054032  0.001565   34.519473   \n",
      "9     academic_stress  ~~    academic_stress  0.048064  0.001172   41.014402   \n",
      "10  academic_pressure  ~~  academic_pressure  0.034679  0.001186   29.231502   \n",
      "11       exam_anxiety  ~~       exam_anxiety  0.075804  0.002281    33.23638   \n",
      "12               q072  ~~               q072  0.017093  0.001439   11.879893   \n",
      "13               q073  ~~               q073  0.042522  0.001273   33.407347   \n",
      "14               q485  ~~               q485  0.042955  0.001152    37.28166   \n",
      "15               q486  ~~               q486  0.040144  0.001116   35.966204   \n",
      "16               q487  ~~               q487  0.058758  0.001405   41.821774   \n",
      "17               q488  ~~               q488  0.059274  0.001343   44.147841   \n",
      "\n",
      "   p-value  \n",
      "0        -  \n",
      "1      0.0  \n",
      "2        -  \n",
      "3      0.0  \n",
      "4        -  \n",
      "5      0.0  \n",
      "6      0.0  \n",
      "7      0.0  \n",
      "8      0.0  \n",
      "9      0.0  \n",
      "10     0.0  \n",
      "11     0.0  \n",
      "12     0.0  \n",
      "13     0.0  \n",
      "14     0.0  \n",
      "15     0.0  \n",
      "16     0.0  \n",
      "17     0.0  \n"
     ]
    }
   ],
   "source": [
    "model = Model(model_desc)\n",
    "model = fit_sem_model(model, df_edu, w_cov_df)\n",
    "stats = calc_stats(model)\n",
    "estimates = model.inspect()\n",
    "print(\"적합도 지표:\\n\", stats.T, \"\\n\\n\")\n",
    "print(\"모수 추정치:\\n\", estimates)"
   ]
  },
  {
   "cell_type": "code",
   "execution_count": 131,
   "metadata": {},
   "outputs": [
    {
     "name": "stdout",
     "output_type": "stream",
     "text": [
      "        id sex  birthy birthm             area         size school grade  \\\n",
      "0  20001.0  여성  2003.0     4월  충청권(대전, 충남, 충북)  도서벽지 및 읍면지역   고등학생   3학년   \n",
      "1  20002.0  여성  2003.0     8월  충청권(대전, 충남, 충북)  도서벽지 및 읍면지역   고등학생   3학년   \n",
      "2  20003.0  여성  2003.0     9월  충청권(대전, 충남, 충북)  도서벽지 및 읍면지역   고등학생   3학년   \n",
      "3  20004.0  남성  2003.0     8월  충청권(대전, 충남, 충북)  도서벽지 및 읍면지역   고등학생   3학년   \n",
      "4  20005.0  남성  2003.0     2월  충청권(대전, 충남, 충북)  도서벽지 및 읍면지역   고등학생   3학년   \n",
      "\n",
      "  home1 home2  ...   q52   q53 q5411 q5412 q5421 q5422        wt  \\\n",
      "0   아니오   아니오  ...  28.0  그대로다   NaN   NaN   NaN   NaN  0.250048   \n",
      "1     예     예  ...  20.0  그대로다   NaN   NaN   NaN   NaN  0.250048   \n",
      "2     예     예  ...  30.0  그대로다   NaN   NaN   NaN   NaN  0.250048   \n",
      "3     예     예  ...  30.0  그대로다   NaN   NaN   NaN   NaN  0.244036   \n",
      "4   아니오     예  ...  30.0  그대로다   NaN   NaN   NaN   NaN  0.244036   \n",
      "\n",
      "  academic_pressure academic_stress exam_anxiety  \n",
      "0         -0.374990       -0.473441     0.002692  \n",
      "1         -0.102685       -0.232045    -0.143317  \n",
      "2         -0.345626       -0.485064    -0.066025  \n",
      "3          0.020866        0.068232     0.058778  \n",
      "4         -0.289557       -0.158075     0.293986  \n",
      "\n",
      "[5 rows x 280 columns]\n"
     ]
    }
   ],
   "source": [
    "factor_scores = model.predict_factors(df_edu)\n",
    "\n",
    "df[\"academic_pressure\"] = factor_scores[\"academic_pressure\"]\n",
    "df['academic_stress'] = factor_scores[\"academic_stress\"]\n",
    "df['exam_anxiety'] = factor_scores[\"exam_anxiety\"]\n",
    "\n",
    "print(df.head())"
   ]
  },
  {
   "cell_type": "code",
   "execution_count": 132,
   "metadata": {},
   "outputs": [
    {
     "data": {
      "image/png": "[encoded data removed]",
      "text/plain": [
       "<Figure size 640x480 with 1 Axes>"
      ]
     },
     "metadata": {},
     "output_type": "display_data"
    }
   ],
   "source": [
    "plt.hist(df[\"academic_pressure\"], bins=20, color='blue')\n",
    "plt.title(\"Distribution of academic pressure Factor\")\n",
    "plt.xlabel(\"academic presure Factor\")\n",
    "plt.ylabel(\"Frequency\")\n",
    "plt.show()"
   ]
  },
  {
   "cell_type": "markdown",
   "metadata": {},
   "source": [
    "# 인간 관계"
   ]
  },
  {
   "cell_type": "code",
   "execution_count": 133,
   "metadata": {},
   "outputs": [
    {
     "data": {
      "text/plain": [
       "Index(['q05', 'q136', 'q061', 'q062', 'q161', 'q162', 'q163', 'q164', 'q171',\n",
       "       'q172', 'q173', 'q174', 'q224', 'q225', 'q132'],\n",
       "      dtype='object')"
      ]
     },
     "execution_count": 133,
     "metadata": {},
     "output_type": "execute_result"
    }
   ],
   "source": [
    "df_rel = df[['q05', 'q136','q061','q062','q161','q162','q163','q164','q171','q172','q173','q174','q224','q225', 'q132']]\n",
    "df_rel.columns"
   ]
  },
  {
   "cell_type": "code",
   "execution_count": 134,
   "metadata": {},
   "outputs": [
    {
     "data": {
      "text/plain": [
       "q172\n",
       "매우 그렇다       2975\n",
       "조금 그렇다       1241\n",
       "보통이다          783\n",
       "별로 그렇지 않다     164\n",
       "해당사항 없음       146\n",
       "전혀 그렇지 않다      67\n",
       "Name: count, dtype: int64"
      ]
     },
     "execution_count": 134,
     "metadata": {},
     "output_type": "execute_result"
    }
   ],
   "source": [
    "df_rel['q172'].value_counts()"
   ]
  },
  {
   "cell_type": "code",
   "execution_count": 135,
   "metadata": {},
   "outputs": [
    {
     "data": {
      "text/html": [
       "<div>\n",
       "<style scoped>\n",
       "    .dataframe tbody tr th:only-of-type {\n",
       "        vertical-align: middle;\n",
       "    }\n",
       "\n",
       "    .dataframe tbody tr th {\n",
       "        vertical-align: top;\n",
       "    }\n",
       "\n",
       "    .dataframe thead th {\n",
       "        text-align: right;\n",
       "    }\n",
       "</style>\n",
       "<table border=\"1\" class=\"dataframe\">\n",
       "  <thead>\n",
       "    <tr style=\"text-align: right;\">\n",
       "      <th></th>\n",
       "      <th>q05</th>\n",
       "      <th>q136</th>\n",
       "      <th>q061</th>\n",
       "      <th>q062</th>\n",
       "      <th>q161</th>\n",
       "      <th>q162</th>\n",
       "      <th>q163</th>\n",
       "      <th>q164</th>\n",
       "      <th>q171</th>\n",
       "      <th>q172</th>\n",
       "      <th>q173</th>\n",
       "      <th>q174</th>\n",
       "      <th>q224</th>\n",
       "      <th>q225</th>\n",
       "      <th>q132</th>\n",
       "    </tr>\n",
       "  </thead>\n",
       "  <tbody>\n",
       "    <tr>\n",
       "      <th>0</th>\n",
       "      <td>1.00</td>\n",
       "      <td>1.0</td>\n",
       "      <td>0.75</td>\n",
       "      <td>0.00</td>\n",
       "      <td>1.0</td>\n",
       "      <td>1.0</td>\n",
       "      <td>1.00</td>\n",
       "      <td>0.25</td>\n",
       "      <td>1.0</td>\n",
       "      <td>1.0</td>\n",
       "      <td>1.00</td>\n",
       "      <td>0.25</td>\n",
       "      <td>0.50</td>\n",
       "      <td>0.25</td>\n",
       "      <td>1.0</td>\n",
       "    </tr>\n",
       "    <tr>\n",
       "      <th>1</th>\n",
       "      <td>0.75</td>\n",
       "      <td>1.0</td>\n",
       "      <td>0.75</td>\n",
       "      <td>0.25</td>\n",
       "      <td>1.0</td>\n",
       "      <td>1.0</td>\n",
       "      <td>1.00</td>\n",
       "      <td>0.75</td>\n",
       "      <td>1.0</td>\n",
       "      <td>1.0</td>\n",
       "      <td>1.00</td>\n",
       "      <td>0.75</td>\n",
       "      <td>0.75</td>\n",
       "      <td>0.75</td>\n",
       "      <td>1.0</td>\n",
       "    </tr>\n",
       "    <tr>\n",
       "      <th>2</th>\n",
       "      <td>1.00</td>\n",
       "      <td>0.0</td>\n",
       "      <td>1.00</td>\n",
       "      <td>1.00</td>\n",
       "      <td>1.0</td>\n",
       "      <td>1.0</td>\n",
       "      <td>0.75</td>\n",
       "      <td>0.75</td>\n",
       "      <td>0.5</td>\n",
       "      <td>0.5</td>\n",
       "      <td>0.75</td>\n",
       "      <td>0.50</td>\n",
       "      <td>0.50</td>\n",
       "      <td>1.00</td>\n",
       "      <td>1.0</td>\n",
       "    </tr>\n",
       "  </tbody>\n",
       "</table>\n",
       "</div>"
      ],
      "text/plain": [
       "    q05  q136  q061  q062  q161  q162  q163  q164  q171  q172  q173  q174  \\\n",
       "0  1.00   1.0  0.75  0.00   1.0   1.0  1.00  0.25   1.0   1.0  1.00  0.25   \n",
       "1  0.75   1.0  0.75  0.25   1.0   1.0  1.00  0.75   1.0   1.0  1.00  0.75   \n",
       "2  1.00   0.0  1.00  1.00   1.0   1.0  0.75  0.75   0.5   0.5  0.75  0.50   \n",
       "\n",
       "   q224  q225  q132  \n",
       "0  0.50  0.25   1.0  \n",
       "1  0.75  0.75   1.0  \n",
       "2  0.50  1.00   1.0  "
      ]
     },
     "execution_count": 135,
     "metadata": {},
     "output_type": "execute_result"
    }
   ],
   "source": [
    "df_rel = not_applicable(df_rel, ['q132', 'q136','q171','q172','q162', 'q161', 'q163', 'q164', 'q173', 'q174', 'q224'])\n",
    "df_rel = encoding(df_rel, ['q05', 'q136','q061','q062','q161','q162','q163','q164','q171','q172','q173','q174','q224','q225'], category5_map)\n",
    "df_rel = encoding(df_rel, ['q132'], reverse_category5_map)\n",
    "df_rel = pd.DataFrame(scaler.fit_transform(df_rel), columns=df_rel.columns)\n",
    "df_rel.head(3)"
   ]
  },
  {
   "cell_type": "code",
   "execution_count": 136,
   "metadata": {},
   "outputs": [],
   "source": [
    "model_desc = \"\"\"\n",
    "friend_rel =~ q132 + q136\n",
    "teacher_rel =~ q061 + q062\n",
    "father_rel =~ q161 + q163\n",
    "mother_rel =~ q171 + q173\n",
    "parent_rel =~ father_rel + mother_rel\n",
    "group_rel =~ q224 + q225\n",
    "\n",
    "human_rel =~ friend_rel + teacher_rel + parent_rel + group_rel\n",
    "\n",
    "father_rel ~~ mother_rel\n",
    "\"\"\""
   ]
  },
  {
   "cell_type": "code",
   "execution_count": 137,
   "metadata": {},
   "outputs": [],
   "source": [
    "df_rel['wt'] = df['wt']\n",
    "observed_vars = ['q132', 'q136', 'q061', 'q062','q161','q163','q171','q173','q224', 'q225']\n",
    "w_cov_df = calculate_covariance(df_rel, observed_vars)"
   ]
  },
  {
   "cell_type": "code",
   "execution_count": 138,
   "metadata": {},
   "outputs": [
    {
     "name": "stderr",
     "output_type": "stream",
     "text": [
      "WARNING:root:Fisher Information Matrix is not PD.Moore-Penrose inverse will be used instead of Cholesky decomposition. See 10.1109/TSP.2012.2208105.\n"
     ]
    },
    {
     "name": "stdout",
     "output_type": "stream",
     "text": [
      "적합도 지표:\n",
      "                       Value\n",
      "DoF               28.000000\n",
      "DoF Baseline      45.000000\n",
      "chi2             658.208495\n",
      "chi2 p-value       0.000000\n",
      "chi2 Baseline  15936.494396\n",
      "CFI                0.960343\n",
      "GFI                0.958698\n",
      "AGFI               0.933622\n",
      "NFI                0.958698\n",
      "TLI                0.936266\n",
      "RMSEA              0.064710\n",
      "AIC               53.755131\n",
      "BIC              231.677028\n",
      "LogLik             0.122435 \n",
      "\n",
      "\n",
      "모수 추정치:\n",
      "            lval  op         rval  Estimate  Std. Err    z-value   p-value\n",
      "0    father_rel   ~   parent_rel  1.000000         -          -         -\n",
      "1    mother_rel   ~   parent_rel  0.814334   0.03698  22.020638       0.0\n",
      "2    friend_rel   ~    human_rel  1.000000         -          -         -\n",
      "3   teacher_rel   ~    human_rel  1.790672  0.103664   17.27387       0.0\n",
      "4    parent_rel   ~    human_rel  1.288310  0.082803  15.558826       0.0\n",
      "5     group_rel   ~    human_rel  2.192993  0.137657  15.930801       0.0\n",
      "6          q132   ~   friend_rel  1.000000         -          -         -\n",
      "7          q136   ~   friend_rel  1.359889  0.081819   16.62074       0.0\n",
      "8          q061   ~  teacher_rel  1.000000         -          -         -\n",
      "9          q062   ~  teacher_rel  0.992293  0.035304  28.107189       0.0\n",
      "10         q161   ~   father_rel  1.000000         -          -         -\n",
      "11         q163   ~   father_rel  1.342623  0.029755  45.123079       0.0\n",
      "12         q171   ~   mother_rel  1.000000         -          -         -\n",
      "13         q173   ~   mother_rel  1.437302  0.033108  43.412232       0.0\n",
      "14         q224   ~    group_rel  1.000000         -          -         -\n",
      "15         q225   ~    group_rel  1.218990  0.041642  29.273131       0.0\n",
      "16   father_rel  ~~   mother_rel -0.008783  0.000509 -17.241415       0.0\n",
      "17   father_rel  ~~   father_rel  0.006234  0.000785   7.941349       0.0\n",
      "18   friend_rel  ~~   friend_rel  0.006563   0.00068   9.645713       0.0\n",
      "19    group_rel  ~~    group_rel  0.005969  0.000987   6.048408       0.0\n",
      "20    human_rel  ~~    human_rel  0.004804  0.000489    9.82739       0.0\n",
      "21   mother_rel  ~~   mother_rel  0.000838   0.00112   0.748211  0.454333\n",
      "22   parent_rel  ~~   parent_rel  0.024304  0.000786  30.906096       0.0\n",
      "23  teacher_rel  ~~  teacher_rel  0.026423  0.001482  17.828119       0.0\n",
      "24         q061  ~~         q061  0.016781  0.001397   12.01189       0.0\n",
      "25         q062  ~~         q062  0.050126  0.001651  30.363284       0.0\n",
      "26         q132  ~~         q132  0.035056  0.000985  35.578404       0.0\n",
      "27         q136  ~~         q136  0.050390  0.001644  30.659273       0.0\n",
      "28         q161  ~~         q161  0.026729  0.000888  30.110769       0.0\n",
      "29         q163  ~~         q163  0.012125  0.001323   9.161291       0.0\n",
      "30         q171  ~~         q171  0.016018  0.000533  30.067414       0.0\n",
      "31         q173  ~~         q173  0.014054  0.000937  15.004775       0.0\n",
      "32         q224  ~~         q224  0.054784  0.001372  39.933464       0.0\n",
      "33         q225  ~~         q225  0.023416  0.001376  17.013541       0.0\n"
     ]
    }
   ],
   "source": [
    "vif_df = compute_vif(df_rel, observed_vars)\n",
    "model = Model(model_desc)\n",
    "model = fit_sem_model(model, df_rel, w_cov_df)\n",
    "stats = calc_stats(model)\n",
    "estimates = model.inspect()\n",
    "print(\"적합도 지표:\\n\", stats.T, \"\\n\\n\")\n",
    "print(\"모수 추정치:\\n\", estimates)"
   ]
  },
  {
   "cell_type": "code",
   "execution_count": 139,
   "metadata": {},
   "outputs": [
    {
     "data": {
      "image/png": "[encoded data removed]",
      "text/plain": [
       "<Figure size 600x400 with 2 Axes>"
      ]
     },
     "metadata": {},
     "output_type": "display_data"
    }
   ],
   "source": [
    "# 문제된 변수만 추출\n",
    "rel_corr_df = df_rel[observed_vars].copy()\n",
    "\n",
    "# 상관행렬 계산\n",
    "corr_matrix = rel_corr_df.corr()\n",
    "\n",
    "# 상관계수 히트맵 시각화\n",
    "plt.figure(figsize=(6, 4))\n",
    "sns.heatmap(corr_matrix, annot=True, cmap='coolwarm', fmt='.2f')\n",
    "plt.title('Correlation matrix of emotional state variables')\n",
    "plt.show()\n"
   ]
  },
  {
   "cell_type": "code",
   "execution_count": 140,
   "metadata": {},
   "outputs": [
    {
     "name": "stdout",
     "output_type": "stream",
     "text": [
      "        id sex  birthy birthm             area         size school grade  \\\n",
      "0  20001.0  여성  2003.0     4월  충청권(대전, 충남, 충북)  도서벽지 및 읍면지역   고등학생   3학년   \n",
      "1  20002.0  여성  2003.0     8월  충청권(대전, 충남, 충북)  도서벽지 및 읍면지역   고등학생   3학년   \n",
      "2  20003.0  여성  2003.0     9월  충청권(대전, 충남, 충북)  도서벽지 및 읍면지역   고등학생   3학년   \n",
      "3  20004.0  남성  2003.0     8월  충청권(대전, 충남, 충북)  도서벽지 및 읍면지역   고등학생   3학년   \n",
      "4  20005.0  남성  2003.0     2월  충청권(대전, 충남, 충북)  도서벽지 및 읍면지역   고등학생   3학년   \n",
      "\n",
      "  home1 home2  ... q5422        wt academic_pressure academic_stress  \\\n",
      "0   아니오   아니오  ...   NaN  0.250048         -0.374990       -0.473441   \n",
      "1     예     예  ...   NaN  0.250048         -0.102685       -0.232045   \n",
      "2     예     예  ...   NaN  0.250048         -0.345626       -0.485064   \n",
      "3     예     예  ...   NaN  0.244036          0.020866        0.068232   \n",
      "4   아니오     예  ...   NaN  0.244036         -0.289557       -0.158075   \n",
      "\n",
      "  exam_anxiety human_rel teacher_rel friend_rel parent_rel group_rel  \n",
      "0     0.002692 -0.045846   -0.115121   0.012501   0.203332 -0.182480  \n",
      "1    -0.143317  0.025775   -0.031395   0.062655   0.201655  0.045834  \n",
      "2    -0.066025  0.021895    0.220415  -0.064081  -0.050576  0.074020  \n",
      "3     0.058778 -0.020820   -0.016095  -0.097528  -0.073231 -0.022850  \n",
      "4     0.293986  0.055980    0.240144   0.021796   0.200948  0.124263  \n",
      "\n",
      "[5 rows x 285 columns]\n"
     ]
    }
   ],
   "source": [
    "factor_scores = model.predict_factors(df_rel)\n",
    "\n",
    "df[\"human_rel\"] = factor_scores[\"human_rel\"]\n",
    "df['teacher_rel'] = factor_scores[\"teacher_rel\"]\n",
    "df['friend_rel'] = factor_scores[\"friend_rel\"]\n",
    "df['parent_rel'] = factor_scores[\"parent_rel\"]\n",
    "df['group_rel'] = factor_scores[\"group_rel\"]\n",
    "\n",
    "print(df.head())"
   ]
  },
  {
   "cell_type": "code",
   "execution_count": 141,
   "metadata": {},
   "outputs": [
    {
     "data": {
      "image/png": "[encoded data removed]",
      "text/plain": [
       "<Figure size 640x480 with 1 Axes>"
      ]
     },
     "metadata": {},
     "output_type": "display_data"
    }
   ],
   "source": [
    "plt.hist(df[\"human_rel\"], bins=20, color='blue')\n",
    "plt.title(\"Distribution of Human Relationship Factor\")\n",
    "plt.xlabel(\"Human Relationship Factor\")\n",
    "plt.ylabel(\"Frequency\")\n",
    "plt.show()"
   ]
  },
  {
   "cell_type": "code",
   "execution_count": null,
   "metadata": {},
   "outputs": [],
   "source": []
  },
  {
   "cell_type": "markdown",
   "metadata": {},
   "source": [
    "# 정서적 상태"
   ]
  },
  {
   "cell_type": "code",
   "execution_count": 142,
   "metadata": {},
   "outputs": [
    {
     "data": {
      "text/plain": [
       "q221    0\n",
       "q222    0\n",
       "q223    0\n",
       "q226    0\n",
       "q23     0\n",
       "q26     0\n",
       "dtype: int64"
      ]
     },
     "execution_count": 142,
     "metadata": {},
     "output_type": "execute_result"
    }
   ],
   "source": [
    "emo = df[['q221', 'q222', 'q223', 'q226', 'q23', 'q26']]\n",
    "emo.isnull().sum()"
   ]
  },
  {
   "cell_type": "code",
   "execution_count": 143,
   "metadata": {},
   "outputs": [
    {
     "data": {
      "text/plain": [
       "q221\n",
       "매우 그렇다       1998\n",
       "조금 그렇다       1508\n",
       "보통이다         1225\n",
       "별로 그렇지 않다     506\n",
       "전혀 그렇지 않다     139\n",
       "Name: count, dtype: int64"
      ]
     },
     "metadata": {},
     "output_type": "display_data"
    },
    {
     "data": {
      "text/plain": [
       "q222\n",
       "매우 그렇다       1815\n",
       "조금 그렇다       1546\n",
       "보통이다         1256\n",
       "별로 그렇지 않다     507\n",
       "전혀 그렇지 않다     252\n",
       "Name: count, dtype: int64"
      ]
     },
     "metadata": {},
     "output_type": "display_data"
    },
    {
     "data": {
      "text/plain": [
       "q223\n",
       "매우 그렇다       1605\n",
       "조금 그렇다       1464\n",
       "보통이다         1454\n",
       "별로 그렇지 않다     610\n",
       "전혀 그렇지 않다     243\n",
       "Name: count, dtype: int64"
      ]
     },
     "metadata": {},
     "output_type": "display_data"
    },
    {
     "data": {
      "text/plain": [
       "q226\n",
       "전혀 그렇지 않다    1575\n",
       "별로 그렇지 않다    1463\n",
       "보통이다         1150\n",
       "조금 그렇다        798\n",
       "매우 그렇다        390\n",
       "Name: count, dtype: int64"
      ]
     },
     "metadata": {},
     "output_type": "display_data"
    },
    {
     "data": {
      "text/plain": [
       "q23\n",
       "대체로 행복한 편이다       3106\n",
       "매우 행복하다           1063\n",
       "별로 행복하지 않은 편이다     708\n",
       "모르겠다               388\n",
       "전혀 행복하지 않다         111\n",
       "Name: count, dtype: int64"
      ]
     },
     "metadata": {},
     "output_type": "display_data"
    },
    {
     "data": {
      "text/plain": [
       "q26\n",
       "보통이다       1865\n",
       "약간 행복하다    1450\n",
       "매우 행복하다    1340\n",
       "약간 불행하다     575\n",
       "매우 불행하다     146\n",
       "Name: count, dtype: int64"
      ]
     },
     "metadata": {},
     "output_type": "display_data"
    }
   ],
   "source": [
    "for i in emo.columns:\n",
    "    display(emo[i].value_counts())"
   ]
  },
  {
   "cell_type": "code",
   "execution_count": 144,
   "metadata": {},
   "outputs": [],
   "source": [
    "emo = encoding(emo, ['q221', 'q222', 'q223'], category5_map)\n",
    "emo = encoding(emo, ['q226'], reverse_category5_map)\n",
    "emo = encoding(emo, ['q23'], happy_map)\n",
    "emo = encoding(emo, ['q26'], how_happy_map)"
   ]
  },
  {
   "cell_type": "code",
   "execution_count": 145,
   "metadata": {},
   "outputs": [
    {
     "name": "stdout",
     "output_type": "stream",
     "text": [
      "<class 'pandas.core.frame.DataFrame'>\n",
      "RangeIndex: 5376 entries, 0 to 5375\n",
      "Data columns (total 6 columns):\n",
      " #   Column  Non-Null Count  Dtype   \n",
      "---  ------  --------------  -----   \n",
      " 0   q221    5376 non-null   category\n",
      " 1   q222    5376 non-null   category\n",
      " 2   q223    5376 non-null   category\n",
      " 3   q226    5376 non-null   category\n",
      " 4   q23     5376 non-null   category\n",
      " 5   q26     5376 non-null   category\n",
      "dtypes: category(6)\n",
      "memory usage: 32.9 KB\n"
     ]
    }
   ],
   "source": [
    "emo.info()"
   ]
  },
  {
   "cell_type": "code",
   "execution_count": 146,
   "metadata": {},
   "outputs": [],
   "source": [
    "scaler = MinMaxScaler()\n",
    "emo = pd.DataFrame(scaler.fit_transform(emo), columns=emo.columns)"
   ]
  },
  {
   "cell_type": "code",
   "execution_count": 147,
   "metadata": {},
   "outputs": [
    {
     "name": "stdout",
     "output_type": "stream",
     "text": [
      "<class 'pandas.core.frame.DataFrame'>\n",
      "RangeIndex: 5376 entries, 0 to 5375\n",
      "Data columns (total 6 columns):\n",
      " #   Column  Non-Null Count  Dtype  \n",
      "---  ------  --------------  -----  \n",
      " 0   q221    5376 non-null   float64\n",
      " 1   q222    5376 non-null   float64\n",
      " 2   q223    5376 non-null   float64\n",
      " 3   q226    5376 non-null   float64\n",
      " 4   q23     5376 non-null   float64\n",
      " 5   q26     5376 non-null   float64\n",
      "dtypes: float64(6)\n",
      "memory usage: 252.1 KB\n"
     ]
    }
   ],
   "source": [
    "emo.info()"
   ]
  },
  {
   "cell_type": "code",
   "execution_count": 148,
   "metadata": {},
   "outputs": [],
   "source": [
    "model_desc = \"\"\"\n",
    "emotional_state =~ q221 + q223 + q226 + q23\n",
    "\"\"\""
   ]
  },
  {
   "cell_type": "code",
   "execution_count": 149,
   "metadata": {},
   "outputs": [],
   "source": [
    "emo['wt'] = df['wt']\n",
    "observed_vars = ['q221', 'q223', 'q226', 'q23']\n",
    "w_cov_df = calculate_covariance(emo, observed_vars)"
   ]
  },
  {
   "cell_type": "code",
   "execution_count": 150,
   "metadata": {},
   "outputs": [
    {
     "name": "stdout",
     "output_type": "stream",
     "text": [
      "적합도 지표:\n",
      "                      Value\n",
      "DoF               2.000000\n",
      "DoF Baseline      6.000000\n",
      "chi2             22.569467\n",
      "chi2 p-value      0.000013\n",
      "chi2 Baseline  5595.678654\n",
      "CFI               0.996320\n",
      "GFI               0.995967\n",
      "AGFI              0.987900\n",
      "NFI               0.995967\n",
      "TLI               0.988960\n",
      "RMSEA             0.043743\n",
      "AIC              15.991604\n",
      "BIC              68.709203\n",
      "LogLik            0.004198 \n",
      "\n",
      "\n",
      "모수 추정치:\n",
      "               lval  op             rval  Estimate  Std. Err    z-value p-value\n",
      "0             q221   ~  emotional_state  1.000000         -          -       -\n",
      "1             q223   ~  emotional_state  1.542916  0.039907  38.662765     0.0\n",
      "2             q226   ~  emotional_state  0.957764  0.032574  29.403152     0.0\n",
      "3              q23   ~  emotional_state  1.093968  0.028468  38.427411     0.0\n",
      "4  emotional_state  ~~  emotional_state  0.025571  0.001206  21.202969     0.0\n",
      "5             q221  ~~             q221  0.049857   0.00109  45.754518     0.0\n",
      "6             q223  ~~             q223  0.020596  0.001125   18.29919     0.0\n",
      "7             q226  ~~             q226  0.071820  0.001492  48.147436     0.0\n",
      "8              q23  ~~              q23  0.026262  0.000744  35.314823     0.0\n"
     ]
    }
   ],
   "source": [
    "vif_df = compute_vif(emo, observed_vars)\n",
    "model = Model(model_desc)\n",
    "model = fit_sem_model(model, emo, w_cov_df)\n",
    "stats = calc_stats(model)\n",
    "estimates = model.inspect()\n",
    "print(\"적합도 지표:\\n\", stats.T, \"\\n\\n\")\n",
    "print(\"모수 추정치:\\n\", estimates)\n"
   ]
  },
  {
   "cell_type": "code",
   "execution_count": 151,
   "metadata": {},
   "outputs": [
    {
     "name": "stdout",
     "output_type": "stream",
     "text": [
      "        id sex  birthy birthm             area         size school grade  \\\n",
      "0  20001.0  여성  2003.0     4월  충청권(대전, 충남, 충북)  도서벽지 및 읍면지역   고등학생   3학년   \n",
      "1  20002.0  여성  2003.0     8월  충청권(대전, 충남, 충북)  도서벽지 및 읍면지역   고등학생   3학년   \n",
      "2  20003.0  여성  2003.0     9월  충청권(대전, 충남, 충북)  도서벽지 및 읍면지역   고등학생   3학년   \n",
      "3  20004.0  남성  2003.0     8월  충청권(대전, 충남, 충북)  도서벽지 및 읍면지역   고등학생   3학년   \n",
      "4  20005.0  남성  2003.0     2월  충청권(대전, 충남, 충북)  도서벽지 및 읍면지역   고등학생   3학년   \n",
      "\n",
      "  home1 home2  ...        wt academic_pressure academic_stress exam_anxiety  \\\n",
      "0   아니오   아니오  ...  0.250048         -0.374990       -0.473441     0.002692   \n",
      "1     예     예  ...  0.250048         -0.102685       -0.232045    -0.143317   \n",
      "2     예     예  ...  0.250048         -0.345626       -0.485064    -0.066025   \n",
      "3     예     예  ...  0.244036          0.020866        0.068232     0.058778   \n",
      "4   아니오     예  ...  0.244036         -0.289557       -0.158075     0.293986   \n",
      "\n",
      "  human_rel teacher_rel friend_rel parent_rel group_rel emotional_state  \n",
      "0 -0.045846   -0.115121   0.012501   0.203332 -0.182480       -0.167932  \n",
      "1  0.025775   -0.031395   0.062655   0.201655  0.045834        0.058954  \n",
      "2  0.021895    0.220415  -0.064081  -0.050576  0.074020       -0.085814  \n",
      "3 -0.020820   -0.016095  -0.097528  -0.073231 -0.022850        0.044651  \n",
      "4  0.055980    0.240144   0.021796   0.200948  0.124263        0.205492  \n",
      "\n",
      "[5 rows x 286 columns]\n"
     ]
    }
   ],
   "source": [
    "factor_scores = model.predict_factors(emo)\n",
    "\n",
    "df[\"emotional_state\"] = factor_scores[\"emotional_state\"]\n",
    "\n",
    "print(df.head())"
   ]
  },
  {
   "cell_type": "code",
   "execution_count": 152,
   "metadata": {},
   "outputs": [
    {
     "data": {
      "image/png": "[encoded data removed]",
      "text/plain": [
       "<Figure size 640x480 with 1 Axes>"
      ]
     },
     "metadata": {},
     "output_type": "display_data"
    }
   ],
   "source": [
    "plt.hist(df[\"emotional_state\"], bins=20, color='blue')\n",
    "plt.title(\"Distribution of Emotional State Factor\")\n",
    "plt.xlabel(\"Emotional State Factor\")\n",
    "plt.ylabel(\"Frequency\")\n",
    "plt.show()"
   ]
  },
  {
   "cell_type": "code",
   "execution_count": 153,
   "metadata": {},
   "outputs": [
    {
     "data": {
      "image/png": "[encoded data removed]",
      "text/plain": [
       "<Figure size 600x400 with 2 Axes>"
      ]
     },
     "metadata": {},
     "output_type": "display_data"
    }
   ],
   "source": [
    "\n",
    "\n",
    "# 문제된 변수만 추출\n",
    "emo_vars = ['q221', 'q223', 'q226', 'q23']\n",
    "emo_corr_df = emo[emo_vars].copy()\n",
    "\n",
    "# 상관행렬 계산\n",
    "corr_matrix = emo_corr_df.corr()\n",
    "\n",
    "# 상관계수 히트맵 시각화\n",
    "plt.figure(figsize=(6, 4))\n",
    "sns.heatmap(corr_matrix, annot=True, cmap='coolwarm', fmt='.2f')\n",
    "plt.title('Correlation matrix of emotional state variables')\n",
    "plt.show()\n"
   ]
  },
  {
   "cell_type": "code",
   "execution_count": 154,
   "metadata": {},
   "outputs": [
    {
     "name": "stdout",
     "output_type": "stream",
     "text": [
      "           id sex  birthy birthm                 area         size school  \\\n",
      "8     20009.0  남성  2003.0     7월      충청권(대전, 충남, 충북)  도서벽지 및 읍면지역   고등학생   \n",
      "25    20026.0  남성  2003.0     8월      충청권(대전, 충남, 충북)  도서벽지 및 읍면지역   고등학생   \n",
      "73    20074.0  여성  2008.0     5월      충청권(대전, 충남, 충북)         중소도시    중학생   \n",
      "94    20095.0  여성  2003.0     3월      충청권(대전, 충남, 충북)  도서벽지 및 읍면지역   고등학생   \n",
      "95    20096.0  남성  2008.0     4월      충청권(대전, 충남, 충북)         중소도시    중학생   \n",
      "...       ...  ..     ...    ...                  ...          ...    ...   \n",
      "5196  25197.0  남성  2006.0     8월      호남권(광주, 전남, 전북)         중소도시    중학생   \n",
      "5218  25219.0  남성  2007.0     6월  영남권(부산, 대구, 경남, 경북)         중소도시    중학생   \n",
      "5225  25226.0  남성  2007.0     2월  영남권(부산, 대구, 경남, 경북)         중소도시    중학생   \n",
      "5245  25246.0  여성  2007.0    11월  영남권(부산, 대구, 경남, 경북)         중소도시    중학생   \n",
      "5343  25344.0  남성  2003.0     5월      수도권(서울, 경기, 인천)          대도시   고등학생   \n",
      "\n",
      "     grade home1 home2  ...        wt academic_pressure academic_stress  \\\n",
      "8      3학년     예     예  ...  0.244036          0.088093        0.390805   \n",
      "25     3학년   아니오   아니오  ...  0.244036          0.045617        0.058435   \n",
      "73     1학년     예     예  ...  0.792973          0.153025        0.365103   \n",
      "94     3학년     예     예  ...  0.250048         -0.012259        0.168990   \n",
      "95     1학년     예     예  ...  0.915312         -0.136809       -0.218538   \n",
      "...    ...   ...   ...  ...       ...               ...             ...   \n",
      "5196   3학년   아니오   아니오  ...  0.082545          0.067789        0.049659   \n",
      "5218   2학년   아니오     예  ...  1.621444         -0.154592       -0.211499   \n",
      "5225   2학년     예     예  ...  1.621444         -0.033956       -0.259251   \n",
      "5245   2학년     예     예  ...  1.338963          0.192301        0.349556   \n",
      "5343   3학년     예     예  ...  0.104199          0.109834        0.294554   \n",
      "\n",
      "     exam_anxiety human_rel teacher_rel friend_rel parent_rel group_rel  \\\n",
      "8        0.392677 -0.135634   -0.421583  -0.243473   0.205435 -0.351450   \n",
      "25       0.000858 -0.077721   -0.006761  -0.233924  -0.567199 -0.106726   \n",
      "73       0.240728 -0.034465    0.018277  -0.043306   0.133048 -0.131797   \n",
      "94       0.259591 -0.138852   -0.253930  -0.245727  -0.051854 -0.356193   \n",
      "95      -0.063464 -0.010971   -0.010395  -0.057859  -0.043261 -0.008333   \n",
      "...           ...       ...         ...        ...        ...       ...   \n",
      "5196    -0.051028  0.017518    0.090636   0.025868  -0.102357  0.051970   \n",
      "5218    -0.021848 -0.133556   -0.293135  -0.176473  -0.246350 -0.330077   \n",
      "5225    -0.304152 -0.002700   -0.175123  -0.019295   0.202322  0.001148   \n",
      "5245     0.148817 -0.015939   -0.225056  -0.030333   0.202632 -0.033964   \n",
      "5343     0.218503 -0.019021   -0.142300  -0.030724   0.050601 -0.038508   \n",
      "\n",
      "     emotional_state  \n",
      "8          -0.357378  \n",
      "25         -0.087468  \n",
      "73         -0.277030  \n",
      "94         -0.380544  \n",
      "95          0.103487  \n",
      "...              ...  \n",
      "5196        0.191189  \n",
      "5218       -0.182379  \n",
      "5225        0.205492  \n",
      "5245       -0.283979  \n",
      "5343       -0.057209  \n",
      "\n",
      "[169 rows x 286 columns]\n"
     ]
    }
   ],
   "source": [
    "print(df[df['q35'] == '있다'])"
   ]
  },
  {
   "cell_type": "markdown",
   "metadata": {},
   "source": [
    "# 학교 폭력 노출도"
   ]
  },
  {
   "cell_type": "code",
   "execution_count": 155,
   "metadata": {},
   "outputs": [],
   "source": [
    "df_vio = df[['q33', 'q35', 'q351', 'q352']]"
   ]
  },
  {
   "cell_type": "code",
   "execution_count": 156,
   "metadata": {},
   "outputs": [
    {
     "data": {
      "text/plain": [
       "q33\n",
       "별로 심각하지 않다    1670\n",
       "전혀 심각하지 않다    1646\n",
       "보통이다          1313\n",
       "약간 심각한 편이다     458\n",
       "매우 심각하다        289\n",
       "Name: count, dtype: int64"
      ]
     },
     "metadata": {},
     "output_type": "display_data"
    },
    {
     "data": {
      "text/plain": [
       "q35\n",
       "없다    5207\n",
       "있다     169\n",
       "Name: count, dtype: int64"
      ]
     },
     "metadata": {},
     "output_type": "display_data"
    },
    {
     "data": {
      "text/plain": [
       "q351\n",
       "1.0       98\n",
       "2.0       24\n",
       "3.0       14\n",
       "5.0        9\n",
       "4.0        8\n",
       "모름/무응답     7\n",
       "10.0       3\n",
       "20.0       2\n",
       "6.0        2\n",
       "9.0        1\n",
       "50.0       1\n",
       "Name: count, dtype: int64"
      ]
     },
     "metadata": {},
     "output_type": "display_data"
    },
    {
     "data": {
      "text/plain": [
       "q352\n",
       "1.0       69\n",
       "2.0       31\n",
       "3.0       18\n",
       "4.0       14\n",
       "10.0       9\n",
       "모름/무응답     8\n",
       "5.0        7\n",
       "6.0        4\n",
       "8.0        3\n",
       "20.0       2\n",
       "9.0        1\n",
       "7.0        1\n",
       "17.0       1\n",
       "16.0       1\n",
       "Name: count, dtype: int64"
      ]
     },
     "metadata": {},
     "output_type": "display_data"
    }
   ],
   "source": [
    "display(df_vio['q33'].value_counts())\n",
    "display(df_vio['q35'].value_counts())\n",
    "display(df_vio['q351'].value_counts())\n",
    "display(df_vio['q352'].value_counts())"
   ]
  },
  {
   "cell_type": "code",
   "execution_count": 157,
   "metadata": {},
   "outputs": [
    {
     "name": "stdout",
     "output_type": "stream",
     "text": [
      "<class 'pandas.core.frame.DataFrame'>\n",
      "RangeIndex: 5376 entries, 0 to 5375\n",
      "Data columns (total 4 columns):\n",
      " #   Column  Non-Null Count  Dtype   \n",
      "---  ------  --------------  -----   \n",
      " 0   q33     5376 non-null   category\n",
      " 1   q35     5376 non-null   category\n",
      " 2   q351    169 non-null    category\n",
      " 3   q352    169 non-null    category\n",
      "dtypes: category(4)\n",
      "memory usage: 22.5 KB\n"
     ]
    }
   ],
   "source": [
    "df_vio.info()"
   ]
  },
  {
   "cell_type": "code",
   "execution_count": null,
   "metadata": {},
   "outputs": [],
   "source": []
  },
  {
   "cell_type": "code",
   "execution_count": 158,
   "metadata": {},
   "outputs": [
    {
     "data": {
      "text/html": [
       "<div>\n",
       "<style scoped>\n",
       "    .dataframe tbody tr th:only-of-type {\n",
       "        vertical-align: middle;\n",
       "    }\n",
       "\n",
       "    .dataframe tbody tr th {\n",
       "        vertical-align: top;\n",
       "    }\n",
       "\n",
       "    .dataframe thead th {\n",
       "        text-align: right;\n",
       "    }\n",
       "</style>\n",
       "<table border=\"1\" class=\"dataframe\">\n",
       "  <thead>\n",
       "    <tr style=\"text-align: right;\">\n",
       "      <th></th>\n",
       "      <th>q33</th>\n",
       "      <th>q35</th>\n",
       "      <th>q351</th>\n",
       "      <th>q352</th>\n",
       "    </tr>\n",
       "  </thead>\n",
       "  <tbody>\n",
       "    <tr>\n",
       "      <th>0</th>\n",
       "      <td>0</td>\n",
       "      <td>0</td>\n",
       "      <td>0.0</td>\n",
       "      <td>0.0</td>\n",
       "    </tr>\n",
       "    <tr>\n",
       "      <th>1</th>\n",
       "      <td>1</td>\n",
       "      <td>0</td>\n",
       "      <td>0.0</td>\n",
       "      <td>0.0</td>\n",
       "    </tr>\n",
       "    <tr>\n",
       "      <th>2</th>\n",
       "      <td>0</td>\n",
       "      <td>0</td>\n",
       "      <td>0.0</td>\n",
       "      <td>0.0</td>\n",
       "    </tr>\n",
       "    <tr>\n",
       "      <th>3</th>\n",
       "      <td>2</td>\n",
       "      <td>0</td>\n",
       "      <td>0.0</td>\n",
       "      <td>0.0</td>\n",
       "    </tr>\n",
       "    <tr>\n",
       "      <th>4</th>\n",
       "      <td>0</td>\n",
       "      <td>0</td>\n",
       "      <td>0.0</td>\n",
       "      <td>0.0</td>\n",
       "    </tr>\n",
       "    <tr>\n",
       "      <th>...</th>\n",
       "      <td>...</td>\n",
       "      <td>...</td>\n",
       "      <td>...</td>\n",
       "      <td>...</td>\n",
       "    </tr>\n",
       "    <tr>\n",
       "      <th>5371</th>\n",
       "      <td>0</td>\n",
       "      <td>0</td>\n",
       "      <td>0.0</td>\n",
       "      <td>0.0</td>\n",
       "    </tr>\n",
       "    <tr>\n",
       "      <th>5372</th>\n",
       "      <td>1</td>\n",
       "      <td>0</td>\n",
       "      <td>0.0</td>\n",
       "      <td>0.0</td>\n",
       "    </tr>\n",
       "    <tr>\n",
       "      <th>5373</th>\n",
       "      <td>3</td>\n",
       "      <td>0</td>\n",
       "      <td>0.0</td>\n",
       "      <td>0.0</td>\n",
       "    </tr>\n",
       "    <tr>\n",
       "      <th>5374</th>\n",
       "      <td>0</td>\n",
       "      <td>0</td>\n",
       "      <td>0.0</td>\n",
       "      <td>0.0</td>\n",
       "    </tr>\n",
       "    <tr>\n",
       "      <th>5375</th>\n",
       "      <td>2</td>\n",
       "      <td>0</td>\n",
       "      <td>0.0</td>\n",
       "      <td>0.0</td>\n",
       "    </tr>\n",
       "  </tbody>\n",
       "</table>\n",
       "<p>5376 rows × 4 columns</p>\n",
       "</div>"
      ],
      "text/plain": [
       "     q33 q35  q351  q352\n",
       "0      0   0   0.0   0.0\n",
       "1      1   0   0.0   0.0\n",
       "2      0   0   0.0   0.0\n",
       "3      2   0   0.0   0.0\n",
       "4      0   0   0.0   0.0\n",
       "...   ..  ..   ...   ...\n",
       "5371   0   0   0.0   0.0\n",
       "5372   1   0   0.0   0.0\n",
       "5373   3   0   0.0   0.0\n",
       "5374   0   0   0.0   0.0\n",
       "5375   2   0   0.0   0.0\n",
       "\n",
       "[5376 rows x 4 columns]"
      ]
     },
     "execution_count": 158,
     "metadata": {},
     "output_type": "execute_result"
    }
   ],
   "source": [
    "df_vio = encoding(df_vio, ['q33'], how_serious_map)\n",
    "df_vio = encoding(df_vio, ['q35'], is_or_not_map)\n",
    "df_vio['q351'] = df_vio['q351'].replace({'모름/무응답' : 2})\n",
    "df_vio['q351'] = df_vio['q351'].apply(lambda x: 2 if x >= 2 else (1 if x == 1 else 0))\n",
    "df_vio['q352'] = df_vio['q352'].replace({'모름/무응답' : 2})\n",
    "df_vio['q352'] = df_vio['q352'].apply(lambda x: 2 if x >= 2 else (1 if x == 1 else 0))\n",
    "df_vio = null0(df_vio)\n",
    "df_vio"
   ]
  },
  {
   "cell_type": "code",
   "execution_count": 159,
   "metadata": {},
   "outputs": [
    {
     "data": {
      "text/plain": [
       "q351\n",
       "0.0    5207\n",
       "1.0      98\n",
       "2.0      71\n",
       "Name: count, dtype: int64"
      ]
     },
     "metadata": {},
     "output_type": "display_data"
    },
    {
     "data": {
      "text/plain": [
       "q352\n",
       "0.0    5207\n",
       "2.0     100\n",
       "1.0      69\n",
       "Name: count, dtype: int64"
      ]
     },
     "metadata": {},
     "output_type": "display_data"
    }
   ],
   "source": [
    "display(df_vio['q351'].value_counts())\n",
    "display(df_vio['q352'].value_counts())"
   ]
  },
  {
   "cell_type": "code",
   "execution_count": 160,
   "metadata": {},
   "outputs": [],
   "source": [
    "model_desc = \"\"\"\n",
    "exposure_violence =~ q33 + q35 + q351 + q352\n",
    "\"\"\""
   ]
  },
  {
   "cell_type": "code",
   "execution_count": 161,
   "metadata": {},
   "outputs": [
    {
     "name": "stdout",
     "output_type": "stream",
     "text": [
      "적합도 지표:\n",
      "                       Value\n",
      "DoF                2.000000\n",
      "DoF Baseline       6.000000\n",
      "chi2              11.230035\n",
      "chi2 p-value       0.003643\n",
      "chi2 Baseline  25555.212192\n",
      "CFI                0.999639\n",
      "GFI                0.999561\n",
      "AGFI               0.998682\n",
      "NFI                0.999561\n",
      "TLI                0.998916\n",
      "RMSEA              0.029302\n",
      "AIC               15.995822\n",
      "BIC               68.713421\n",
      "LogLik             0.002089 \n",
      "\n",
      "\n",
      "모수 추정치:\n",
      "                 lval  op               rval  Estimate  Std. Err    z-value  \\\n",
      "0                q33   ~  exposure_violence  1.000000         -          -   \n",
      "1                q35   ~  exposure_violence  1.225419  0.143113   8.562601   \n",
      "2               q351   ~  exposure_violence  1.868277   0.21824   8.560674   \n",
      "3               q352   ~  exposure_violence  2.026795  0.236724   8.561832   \n",
      "4  exposure_violence  ~~  exposure_violence  0.017143  0.004017   4.268067   \n",
      "5                q33  ~~                q33  1.234066  0.023808   51.83299   \n",
      "6                q35  ~~                q35  0.001065   0.00004  26.675454   \n",
      "7               q351  ~~               q351  0.004489  0.000118  38.173419   \n",
      "8               q352  ~~               q352  0.003878   0.00012  32.360186   \n",
      "\n",
      "   p-value  \n",
      "0        -  \n",
      "1      0.0  \n",
      "2      0.0  \n",
      "3      0.0  \n",
      "4  0.00002  \n",
      "5      0.0  \n",
      "6      0.0  \n",
      "7      0.0  \n",
      "8      0.0  \n"
     ]
    }
   ],
   "source": [
    "\n",
    "df_vio['wt'] = df['wt']\n",
    "observed_vars = ['q33', 'q35', 'q351', 'q352']\n",
    "w_cov_df = calculate_covariance(df_vio, observed_vars)\n",
    "model = Model(model_desc)\n",
    "model = fit_sem_model(model, df_vio, w_cov_df)\n",
    "stats = calc_stats(model)\n",
    "estimates = model.inspect()\n",
    "print(\"적합도 지표:\\n\", stats.T, \"\\n\\n\")\n",
    "print(\"모수 추정치:\\n\", estimates)"
   ]
  },
  {
   "cell_type": "code",
   "execution_count": 162,
   "metadata": {},
   "outputs": [
    {
     "name": "stdout",
     "output_type": "stream",
     "text": [
      "        id sex  birthy birthm             area         size school grade  \\\n",
      "0  20001.0  여성  2003.0     4월  충청권(대전, 충남, 충북)  도서벽지 및 읍면지역   고등학생   3학년   \n",
      "1  20002.0  여성  2003.0     8월  충청권(대전, 충남, 충북)  도서벽지 및 읍면지역   고등학생   3학년   \n",
      "2  20003.0  여성  2003.0     9월  충청권(대전, 충남, 충북)  도서벽지 및 읍면지역   고등학생   3학년   \n",
      "3  20004.0  남성  2003.0     8월  충청권(대전, 충남, 충북)  도서벽지 및 읍면지역   고등학생   3학년   \n",
      "4  20005.0  남성  2003.0     2월  충청권(대전, 충남, 충북)  도서벽지 및 읍면지역   고등학생   3학년   \n",
      "\n",
      "  home1 home2  ... academic_pressure academic_stress exam_anxiety human_rel  \\\n",
      "0   아니오   아니오  ...         -0.374990       -0.473441     0.002692 -0.045846   \n",
      "1     예     예  ...         -0.102685       -0.232045    -0.143317  0.025775   \n",
      "2     예     예  ...         -0.345626       -0.485064    -0.066025  0.021895   \n",
      "3     예     예  ...          0.020866        0.068232     0.058778 -0.020820   \n",
      "4   아니오     예  ...         -0.289557       -0.158075     0.293986  0.055980   \n",
      "\n",
      "  teacher_rel friend_rel parent_rel group_rel emotional_state  \\\n",
      "0   -0.115121   0.012501   0.203332 -0.182480       -0.167932   \n",
      "1   -0.031395   0.062655   0.201655  0.045834        0.058954   \n",
      "2    0.220415  -0.064081  -0.050576  0.074020       -0.085814   \n",
      "3   -0.016095  -0.097528  -0.073231 -0.022850        0.044651   \n",
      "4    0.240144   0.021796   0.200948  0.124263        0.205492   \n",
      "\n",
      "  exposure_violence  \n",
      "0         -0.024783  \n",
      "1         -0.024538  \n",
      "2         -0.024783  \n",
      "3         -0.024293  \n",
      "4         -0.024783  \n",
      "\n",
      "[5 rows x 287 columns]\n"
     ]
    },
    {
     "data": {
      "image/png": "[encoded data removed]",
      "text/plain": [
       "<Figure size 640x480 with 1 Axes>"
      ]
     },
     "metadata": {},
     "output_type": "display_data"
    }
   ],
   "source": [
    "factor_scores = model.predict_factors(df_vio)\n",
    "\n",
    "df[\"exposure_violence\"] = factor_scores[\"exposure_violence\"]\n",
    "\n",
    "print(df.head())\n",
    "plt.hist(df[\"exposure_violence\"], bins=20, color='blue')\n",
    "plt.title(\"Distribution of exposure violence Factor\")\n",
    "plt.xlabel(\"exposure violence Factor\")\n",
    "plt.ylabel(\"Frequency\")\n",
    "plt.show()"
   ]
  },
  {
   "cell_type": "code",
   "execution_count": 163,
   "metadata": {},
   "outputs": [
    {
     "data": {
      "text/plain": [
       "exposure_violence\n",
       "-0.024538    1636\n",
       "-0.024783    1625\n",
       "-0.024293    1260\n",
       "-0.024048     418\n",
       "-0.023803     268\n",
       " 0.607752      20\n",
       " 0.891943      18\n",
       " 0.765818      16\n",
       " 0.607507      15\n",
       " 0.891698      14\n",
       " 0.892188      12\n",
       " 0.607997       9\n",
       " 0.607262       9\n",
       " 0.765573       9\n",
       " 0.766063       9\n",
       " 0.766308       8\n",
       " 0.891453       6\n",
       " 0.891208       6\n",
       " 0.733142       4\n",
       " 0.733878       4\n",
       " 0.733387       4\n",
       " 0.733633       3\n",
       " 0.765328       2\n",
       " 0.608242       1\n",
       "Name: count, dtype: int64"
      ]
     },
     "execution_count": 163,
     "metadata": {},
     "output_type": "execute_result"
    }
   ],
   "source": [
    "df['exposure_violence'].value_counts()"
   ]
  },
  {
   "cell_type": "markdown",
   "metadata": {},
   "source": [
    "# 외모 및 신체 이미지"
   ]
  },
  {
   "cell_type": "code",
   "execution_count": 164,
   "metadata": {},
   "outputs": [
    {
     "data": {
      "text/plain": [
       "q42      0\n",
       "q43      0\n",
       "q4812    0\n",
       "q4813    0\n",
       "q4814    0\n",
       "q4815    0\n",
       "dtype: int64"
      ]
     },
     "execution_count": 164,
     "metadata": {},
     "output_type": "execute_result"
    }
   ],
   "source": [
    "body = df[['q42', 'q43', 'q4812', 'q4813', 'q4814', 'q4815']]\n",
    "body.isnull().sum()"
   ]
  },
  {
   "cell_type": "code",
   "execution_count": 165,
   "metadata": {},
   "outputs": [
    {
     "data": {
      "text/plain": [
       "q42\n",
       "160.0    361\n",
       "170.0    315\n",
       "165.0    263\n",
       "158.0    246\n",
       "163.0    243\n",
       "        ... \n",
       "185.4      1\n",
       "193.0      1\n",
       "192.0      1\n",
       "194.0      1\n",
       "200.0      1\n",
       "Name: count, Length: 241, dtype: int64"
      ]
     },
     "metadata": {},
     "output_type": "display_data"
    },
    {
     "data": {
      "text/plain": [
       "q43\n",
       "60.0     269\n",
       "50.0     266\n",
       "55.0     238\n",
       "53.0     195\n",
       "70.0     191\n",
       "        ... \n",
       "150.0      1\n",
       "161.0      1\n",
       "165.0      1\n",
       "190.0      1\n",
       "200.0      1\n",
       "Name: count, Length: 229, dtype: int64"
      ]
     },
     "metadata": {},
     "output_type": "display_data"
    },
    {
     "data": {
      "text/plain": [
       "q4812\n",
       "전혀 그렇지 않다    1959\n",
       "조금 그렇다       1018\n",
       "보통이다          952\n",
       "별로 그렇지 않다     945\n",
       "매우 그렇다        502\n",
       "Name: count, dtype: int64"
      ]
     },
     "metadata": {},
     "output_type": "display_data"
    },
    {
     "data": {
      "text/plain": [
       "q4813\n",
       "전혀 그렇지 않다    2346\n",
       "별로 그렇지 않다    1112\n",
       "보통이다          885\n",
       "조금 그렇다        742\n",
       "매우 그렇다        291\n",
       "Name: count, dtype: int64"
      ]
     },
     "metadata": {},
     "output_type": "display_data"
    },
    {
     "data": {
      "text/plain": [
       "q4814\n",
       "전혀 그렇지 않다    1984\n",
       "별로 그렇지 않다    1168\n",
       "보통이다         1064\n",
       "조금 그렇다        825\n",
       "매우 그렇다        335\n",
       "Name: count, dtype: int64"
      ]
     },
     "metadata": {},
     "output_type": "display_data"
    },
    {
     "data": {
      "text/plain": [
       "q4815\n",
       "전혀 그렇지 않다    2532\n",
       "별로 그렇지 않다    1156\n",
       "보통이다          838\n",
       "조금 그렇다        597\n",
       "매우 그렇다        253\n",
       "Name: count, dtype: int64"
      ]
     },
     "metadata": {},
     "output_type": "display_data"
    }
   ],
   "source": [
    "for i in body.columns:\n",
    "    display(body[i].value_counts())"
   ]
  },
  {
   "cell_type": "code",
   "execution_count": 166,
   "metadata": {},
   "outputs": [],
   "source": [
    "body = encoding(body, ['q4812', 'q4813', 'q4814', 'q4815'], category5_map)\n",
    "body = calculate_bmi(body, 'q42', 'q43')\n",
    "body['obesity'] = body['bmi'].apply(lambda x: (\n",
    "    0 if x < 18.5 else\n",
    "    1 if x < 23 else\n",
    "    2 if x < 25 else\n",
    "    3 if x < 30 else\n",
    "    4 if x < 35 else\n",
    "    5\n",
    "))\n",
    "\n",
    "body['obesity'] = body['obesity'].astype('category')"
   ]
  },
  {
   "cell_type": "code",
   "execution_count": 167,
   "metadata": {},
   "outputs": [],
   "source": [
    "scaler = MinMaxScaler()\n",
    "body[['q42', 'q43']] = scaler.fit_transform(body[['q42', 'q43']])"
   ]
  },
  {
   "cell_type": "code",
   "execution_count": 168,
   "metadata": {},
   "outputs": [
    {
     "name": "stdout",
     "output_type": "stream",
     "text": [
      "<class 'pandas.core.frame.DataFrame'>\n",
      "RangeIndex: 5376 entries, 0 to 5375\n",
      "Data columns (total 8 columns):\n",
      " #   Column   Non-Null Count  Dtype   \n",
      "---  ------   --------------  -----   \n",
      " 0   q42      5317 non-null   float64 \n",
      " 1   q43      5283 non-null   float64 \n",
      " 2   q4812    5376 non-null   category\n",
      " 3   q4813    5376 non-null   category\n",
      " 4   q4814    5376 non-null   category\n",
      " 5   q4815    5376 non-null   category\n",
      " 6   bmi      5283 non-null   float64 \n",
      " 7   obesity  5376 non-null   category\n",
      "dtypes: category(5), float64(3)\n",
      "memory usage: 153.4 KB\n"
     ]
    }
   ],
   "source": [
    "body.info()"
   ]
  },
  {
   "cell_type": "code",
   "execution_count": 169,
   "metadata": {},
   "outputs": [
    {
     "data": {
      "text/html": [
       "<div>\n",
       "<style scoped>\n",
       "    .dataframe tbody tr th:only-of-type {\n",
       "        vertical-align: middle;\n",
       "    }\n",
       "\n",
       "    .dataframe tbody tr th {\n",
       "        vertical-align: top;\n",
       "    }\n",
       "\n",
       "    .dataframe thead th {\n",
       "        text-align: right;\n",
       "    }\n",
       "</style>\n",
       "<table border=\"1\" class=\"dataframe\">\n",
       "  <thead>\n",
       "    <tr style=\"text-align: right;\">\n",
       "      <th></th>\n",
       "      <th>q42</th>\n",
       "      <th>q43</th>\n",
       "      <th>q4812</th>\n",
       "      <th>q4813</th>\n",
       "      <th>q4814</th>\n",
       "      <th>q4815</th>\n",
       "      <th>bmi</th>\n",
       "      <th>obesity</th>\n",
       "    </tr>\n",
       "  </thead>\n",
       "  <tbody>\n",
       "    <tr>\n",
       "      <th>0</th>\n",
       "      <td>0.58</td>\n",
       "      <td>0.277778</td>\n",
       "      <td>0</td>\n",
       "      <td>0</td>\n",
       "      <td>0</td>\n",
       "      <td>0</td>\n",
       "      <td>28.04</td>\n",
       "      <td>3</td>\n",
       "    </tr>\n",
       "    <tr>\n",
       "      <th>1</th>\n",
       "      <td>0.60</td>\n",
       "      <td>0.194444</td>\n",
       "      <td>2</td>\n",
       "      <td>0</td>\n",
       "      <td>0</td>\n",
       "      <td>0</td>\n",
       "      <td>21.48</td>\n",
       "      <td>1</td>\n",
       "    </tr>\n",
       "    <tr>\n",
       "      <th>2</th>\n",
       "      <td>0.66</td>\n",
       "      <td>0.188889</td>\n",
       "      <td>2</td>\n",
       "      <td>2</td>\n",
       "      <td>1</td>\n",
       "      <td>1</td>\n",
       "      <td>19.60</td>\n",
       "      <td>1</td>\n",
       "    </tr>\n",
       "  </tbody>\n",
       "</table>\n",
       "</div>"
      ],
      "text/plain": [
       "    q42       q43 q4812 q4813 q4814 q4815    bmi obesity\n",
       "0  0.58  0.277778     0     0     0     0  28.04       3\n",
       "1  0.60  0.194444     2     0     0     0  21.48       1\n",
       "2  0.66  0.188889     2     2     1     1  19.60       1"
      ]
     },
     "execution_count": 169,
     "metadata": {},
     "output_type": "execute_result"
    }
   ],
   "source": [
    "body.head(3)"
   ]
  },
  {
   "cell_type": "code",
   "execution_count": 170,
   "metadata": {},
   "outputs": [],
   "source": [
    "model_desc = '''\n",
    "body_stress =~ q4812 + q4813 + q4814 + q4815\n",
    "body_info =~ obesity\n",
    "\n",
    "body_image_experience =~ body_stress + body_info\n",
    "\n",
    "q4812 ~~ q4813\n",
    "q4812 ~~ obesity\n",
    "'''"
   ]
  },
  {
   "cell_type": "code",
   "execution_count": 171,
   "metadata": {},
   "outputs": [
    {
     "name": "stderr",
     "output_type": "stream",
     "text": [
      "WARNING:root:Fisher Information Matrix is not PD.Moore-Penrose inverse will be used instead of Cholesky decomposition. See 10.1109/TSP.2012.2208105.\n"
     ]
    },
    {
     "name": "stdout",
     "output_type": "stream",
     "text": [
      "적합도 지표:\n",
      "                      Value\n",
      "DoF               1.000000\n",
      "DoF Baseline     10.000000\n",
      "chi2             19.450122\n",
      "chi2 p-value      0.000010\n",
      "chi2 Baseline  6457.187876\n",
      "CFI               0.997138\n",
      "GFI               0.996988\n",
      "AGFI              0.969878\n",
      "NFI               0.996988\n",
      "TLI               0.971383\n",
      "RMSEA             0.058588\n",
      "AIC              27.992764\n",
      "BIC             120.248562\n",
      "LogLik            0.003618 \n",
      "\n",
      "\n",
      "모수 추정치:\n",
      "                      lval  op                   rval  Estimate  Std. Err  \\\n",
      "0             body_stress   ~  body_image_experience  1.000000         -   \n",
      "1               body_info   ~  body_image_experience  0.153791  0.037631   \n",
      "2                   q4812   ~            body_stress  1.000000         -   \n",
      "3                   q4813   ~            body_stress  0.724073  0.021249   \n",
      "4                   q4814   ~            body_stress  1.149342  0.027202   \n",
      "5                   q4815   ~            body_stress  0.945319  0.022608   \n",
      "6                 obesity   ~              body_info  1.000000         -   \n",
      "7   body_image_experience  ~~  body_image_experience  0.409587  0.019963   \n",
      "8               body_info  ~~              body_info  0.377381  0.013825   \n",
      "9             body_stress  ~~            body_stress  0.434368  0.017536   \n",
      "10                  q4812  ~~                  q4813  0.072048  0.017954   \n",
      "11                  q4812  ~~                obesity  0.358223    0.0191   \n",
      "12                  q4812  ~~                  q4812  1.080455  0.026463   \n",
      "13                obesity  ~~                obesity  1.041843  0.013825   \n",
      "14                  q4813  ~~                  q4813  1.123679  0.024443   \n",
      "15                  q4814  ~~                  q4814  0.479181   0.02114   \n",
      "16                  q4815  ~~                  q4815  0.688194  0.018485   \n",
      "\n",
      "      z-value   p-value  \n",
      "0           -         -  \n",
      "1    4.086863  0.000044  \n",
      "2           -         -  \n",
      "3   34.074846       0.0  \n",
      "4   42.251795       0.0  \n",
      "5   41.814357       0.0  \n",
      "6           -         -  \n",
      "7   20.516973       0.0  \n",
      "8   27.297186       0.0  \n",
      "9   24.770499       0.0  \n",
      "10    4.01302   0.00006  \n",
      "11  18.754854       0.0  \n",
      "12  40.829155       0.0  \n",
      "13  75.359755       0.0  \n",
      "14  45.971543       0.0  \n",
      "15  22.667023       0.0  \n",
      "16  37.229607       0.0  \n"
     ]
    }
   ],
   "source": [
    "body['wt'] = df['wt']\n",
    "observed_vars = ['q4812', 'q4813', 'q4814','q4815', 'obesity', 'q42', 'q43']\n",
    "w_cov_df = calculate_covariance(body, observed_vars)\n",
    "vif_df = compute_vif(body, observed_vars)\n",
    "model = Model(model_desc)\n",
    "model = fit_sem_model(model, body, w_cov_df)\n",
    "stats = calc_stats(model)\n",
    "estimates = model.inspect()\n",
    "print(\"적합도 지표:\\n\", stats.T, \"\\n\\n\")\n",
    "print(\"모수 추정치:\\n\", estimates)"
   ]
  },
  {
   "cell_type": "code",
   "execution_count": 172,
   "metadata": {},
   "outputs": [
    {
     "name": "stdout",
     "output_type": "stream",
     "text": [
      "        id sex  birthy birthm             area         size school grade  \\\n",
      "0  20001.0  여성  2003.0     4월  충청권(대전, 충남, 충북)  도서벽지 및 읍면지역   고등학생   3학년   \n",
      "1  20002.0  여성  2003.0     8월  충청권(대전, 충남, 충북)  도서벽지 및 읍면지역   고등학생   3학년   \n",
      "2  20003.0  여성  2003.0     9월  충청권(대전, 충남, 충북)  도서벽지 및 읍면지역   고등학생   3학년   \n",
      "3  20004.0  남성  2003.0     8월  충청권(대전, 충남, 충북)  도서벽지 및 읍면지역   고등학생   3학년   \n",
      "4  20005.0  남성  2003.0     2월  충청권(대전, 충남, 충북)  도서벽지 및 읍면지역   고등학생   3학년   \n",
      "\n",
      "  home1 home2  ... academic_stress exam_anxiety human_rel teacher_rel  \\\n",
      "0   아니오   아니오  ...       -0.473441     0.002692 -0.045846   -0.115121   \n",
      "1     예     예  ...       -0.232045    -0.143317  0.025775   -0.031395   \n",
      "2     예     예  ...       -0.485064    -0.066025  0.021895    0.220415   \n",
      "3     예     예  ...        0.068232     0.058778 -0.020820   -0.016095   \n",
      "4   아니오     예  ...       -0.158075     0.293986  0.055980    0.240144   \n",
      "\n",
      "  friend_rel parent_rel group_rel emotional_state exposure_violence  \\\n",
      "0   0.012501   0.203332 -0.182480       -0.167932         -0.024783   \n",
      "1   0.062655   0.201655  0.045834        0.058954         -0.024538   \n",
      "2  -0.064081  -0.050576  0.074020       -0.085814         -0.024783   \n",
      "3  -0.097528  -0.073231 -0.022850        0.044651         -0.024293   \n",
      "4   0.021796   0.200948  0.124263        0.205492         -0.024783   \n",
      "\n",
      "  body_image_experience  \n",
      "0             -0.468777  \n",
      "1             -0.366024  \n",
      "2              0.002915  \n",
      "3              0.313212  \n",
      "4              0.203523  \n",
      "\n",
      "[5 rows x 288 columns]\n"
     ]
    }
   ],
   "source": [
    "factor_scores = model.predict_factors(body)\n",
    "\n",
    "df[\"body_image_experience\"] = factor_scores[\"body_image_experience\"]\n",
    "\n",
    "print(df.head())\n"
   ]
  },
  {
   "cell_type": "code",
   "execution_count": 173,
   "metadata": {},
   "outputs": [
    {
     "data": {
      "image/png": "[encoded data removed]",
      "text/plain": [
       "<Figure size 640x480 with 1 Axes>"
      ]
     },
     "metadata": {},
     "output_type": "display_data"
    },
    {
     "data": {
      "text/plain": [
       "body_image_experience\n",
       "-0.490741    554\n",
       "-0.501723    238\n",
       "-0.103438    145\n",
       " 0.283865    107\n",
       "-0.468777    104\n",
       "            ... \n",
       " 0.116204      1\n",
       " 0.619568      1\n",
       " 0.145550      1\n",
       " 0.448571      1\n",
       " 0.801771      1\n",
       "Name: count, Length: 1300, dtype: int64"
      ]
     },
     "execution_count": 173,
     "metadata": {},
     "output_type": "execute_result"
    }
   ],
   "source": [
    "plt.hist(df[\"body_image_experience\"], bins=20, color='blue')\n",
    "plt.title(\"Distribution of body image experience\")\n",
    "plt.xlabel(\"body experience\")\n",
    "plt.ylabel(\"Frequency\")\n",
    "plt.show()\n",
    "df['body_image_experience'].value_counts()"
   ]
  },
  {
   "cell_type": "markdown",
   "metadata": {},
   "source": [
    "# 부모의 경제적 지원"
   ]
  },
  {
   "cell_type": "code",
   "execution_count": 174,
   "metadata": {},
   "outputs": [
    {
     "data": {
      "text/html": [
       "<div>\n",
       "<style scoped>\n",
       "    .dataframe tbody tr th:only-of-type {\n",
       "        vertical-align: middle;\n",
       "    }\n",
       "\n",
       "    .dataframe tbody tr th {\n",
       "        vertical-align: top;\n",
       "    }\n",
       "\n",
       "    .dataframe thead th {\n",
       "        text-align: right;\n",
       "    }\n",
       "</style>\n",
       "<table border=\"1\" class=\"dataframe\">\n",
       "  <thead>\n",
       "    <tr style=\"text-align: right;\">\n",
       "      <th></th>\n",
       "      <th>q38</th>\n",
       "      <th>q4816</th>\n",
       "      <th>q4817</th>\n",
       "      <th>q162</th>\n",
       "      <th>q172</th>\n",
       "      <th>need_money</th>\n",
       "    </tr>\n",
       "  </thead>\n",
       "  <tbody>\n",
       "    <tr>\n",
       "      <th>0</th>\n",
       "      <td>중의 하</td>\n",
       "      <td>전혀 그렇지 않다</td>\n",
       "      <td>전혀 그렇지 않다</td>\n",
       "      <td>매우 그렇다</td>\n",
       "      <td>매우 그렇다</td>\n",
       "      <td>1</td>\n",
       "    </tr>\n",
       "    <tr>\n",
       "      <th>1</th>\n",
       "      <td>중의 하</td>\n",
       "      <td>전혀 그렇지 않다</td>\n",
       "      <td>전혀 그렇지 않다</td>\n",
       "      <td>매우 그렇다</td>\n",
       "      <td>매우 그렇다</td>\n",
       "      <td>1</td>\n",
       "    </tr>\n",
       "    <tr>\n",
       "      <th>2</th>\n",
       "      <td>중의 상</td>\n",
       "      <td>별로 그렇지 않다</td>\n",
       "      <td>별로 그렇지 않다</td>\n",
       "      <td>매우 그렇다</td>\n",
       "      <td>보통이다</td>\n",
       "      <td>1</td>\n",
       "    </tr>\n",
       "  </tbody>\n",
       "</table>\n",
       "</div>"
      ],
      "text/plain": [
       "    q38      q4816      q4817    q162    q172  need_money\n",
       "0  중의 하  전혀 그렇지 않다  전혀 그렇지 않다  매우 그렇다  매우 그렇다           1\n",
       "1  중의 하  전혀 그렇지 않다  전혀 그렇지 않다  매우 그렇다  매우 그렇다           1\n",
       "2  중의 상  별로 그렇지 않다  별로 그렇지 않다  매우 그렇다    보통이다           1"
      ]
     },
     "execution_count": 174,
     "metadata": {},
     "output_type": "execute_result"
    }
   ],
   "source": [
    "# 재정적 지원\n",
    "financial_support = ['q38', 'q4816', 'q4817']\n",
    "time_support = ['q162', 'q172']\n",
    "support = pd.concat([df[financial_support], df[time_support]], axis=1)\n",
    "support['need_money'] = df['q27'].apply(lambda x: 0 if x == '돈' else 1)\n",
    "support.head(3)"
   ]
  },
  {
   "cell_type": "code",
   "execution_count": 175,
   "metadata": {},
   "outputs": [
    {
     "data": {
      "text/plain": [
       "q38\n",
       "중의 상    2655\n",
       "중의 하    1524\n",
       "상의 하     623\n",
       "상의 상     283\n",
       "하의 상     230\n",
       "하의 하      61\n",
       "Name: count, dtype: int64"
      ]
     },
     "metadata": {},
     "output_type": "display_data"
    },
    {
     "data": {
      "text/plain": [
       "q4816\n",
       "전혀 그렇지 않다    2779\n",
       "별로 그렇지 않다    1193\n",
       "보통이다          715\n",
       "조금 그렇다        460\n",
       "매우 그렇다        210\n",
       "해당사항 없음        19\n",
       "Name: count, dtype: int64"
      ]
     },
     "metadata": {},
     "output_type": "display_data"
    },
    {
     "data": {
      "text/plain": [
       "q4817\n",
       "전혀 그렇지 않다    2549\n",
       "별로 그렇지 않다    1263\n",
       "보통이다          863\n",
       "조금 그렇다        492\n",
       "매우 그렇다        209\n",
       "Name: count, dtype: int64"
      ]
     },
     "metadata": {},
     "output_type": "display_data"
    },
    {
     "data": {
      "text/plain": [
       "q162\n",
       "매우 그렇다       2244\n",
       "조금 그렇다       1190\n",
       "보통이다         1130\n",
       "별로 그렇지 않다     425\n",
       "해당사항 없음       215\n",
       "전혀 그렇지 않다     172\n",
       "Name: count, dtype: int64"
      ]
     },
     "metadata": {},
     "output_type": "display_data"
    },
    {
     "data": {
      "text/plain": [
       "q172\n",
       "매우 그렇다       2975\n",
       "조금 그렇다       1241\n",
       "보통이다          783\n",
       "별로 그렇지 않다     164\n",
       "해당사항 없음       146\n",
       "전혀 그렇지 않다      67\n",
       "Name: count, dtype: int64"
      ]
     },
     "metadata": {},
     "output_type": "display_data"
    },
    {
     "data": {
      "text/plain": [
       "need_money\n",
       "1    3752\n",
       "0    1624\n",
       "Name: count, dtype: int64"
      ]
     },
     "metadata": {},
     "output_type": "display_data"
    }
   ],
   "source": [
    "for i in support.columns:\n",
    "    display(support[i].value_counts())"
   ]
  },
  {
   "cell_type": "code",
   "execution_count": 176,
   "metadata": {},
   "outputs": [
    {
     "data": {
      "text/html": [
       "<div>\n",
       "<style scoped>\n",
       "    .dataframe tbody tr th:only-of-type {\n",
       "        vertical-align: middle;\n",
       "    }\n",
       "\n",
       "    .dataframe tbody tr th {\n",
       "        vertical-align: top;\n",
       "    }\n",
       "\n",
       "    .dataframe thead th {\n",
       "        text-align: right;\n",
       "    }\n",
       "</style>\n",
       "<table border=\"1\" class=\"dataframe\">\n",
       "  <thead>\n",
       "    <tr style=\"text-align: right;\">\n",
       "      <th></th>\n",
       "      <th>q38</th>\n",
       "      <th>q4816</th>\n",
       "      <th>q4817</th>\n",
       "      <th>q162</th>\n",
       "      <th>q172</th>\n",
       "      <th>need_money</th>\n",
       "    </tr>\n",
       "  </thead>\n",
       "  <tbody>\n",
       "    <tr>\n",
       "      <th>0</th>\n",
       "      <td>1</td>\n",
       "      <td>4</td>\n",
       "      <td>4</td>\n",
       "      <td>4</td>\n",
       "      <td>4</td>\n",
       "      <td>1</td>\n",
       "    </tr>\n",
       "    <tr>\n",
       "      <th>1</th>\n",
       "      <td>1</td>\n",
       "      <td>4</td>\n",
       "      <td>4</td>\n",
       "      <td>4</td>\n",
       "      <td>4</td>\n",
       "      <td>1</td>\n",
       "    </tr>\n",
       "    <tr>\n",
       "      <th>2</th>\n",
       "      <td>1</td>\n",
       "      <td>3</td>\n",
       "      <td>3</td>\n",
       "      <td>4</td>\n",
       "      <td>2</td>\n",
       "      <td>1</td>\n",
       "    </tr>\n",
       "  </tbody>\n",
       "</table>\n",
       "</div>"
      ],
      "text/plain": [
       "  q38 q4816 q4817 q162 q172  need_money\n",
       "0   1     4     4    4    4           1\n",
       "1   1     4     4    4    4           1\n",
       "2   1     3     3    4    2           1"
      ]
     },
     "execution_count": 176,
     "metadata": {},
     "output_type": "execute_result"
    }
   ],
   "source": [
    "support = encoding(support, ['q38'], how_high_map)\n",
    "support = not_applicable(support, ['q4816', 'q162','q172'])\n",
    "support = encoding(support, ['q4816', 'q4817'], reverse_category5_map)\n",
    "support = encoding(support, ['q162', 'q172'], category5_map)\n",
    "support['need_money'].astype('category')\n",
    "support.head(3)"
   ]
  },
  {
   "cell_type": "code",
   "execution_count": 177,
   "metadata": {},
   "outputs": [],
   "source": [
    "scaler = MinMaxScaler()\n",
    "support[['q4816', 'q4817', 'q162', 'q172']] = scaler.fit_transform(support[['q4816', 'q4817', 'q162', 'q172']])"
   ]
  },
  {
   "cell_type": "code",
   "execution_count": 178,
   "metadata": {},
   "outputs": [],
   "source": [
    "support['q38'] = pd.Categorical(support['q38'], categories=[0, 1, 2], ordered=True)"
   ]
  },
  {
   "cell_type": "code",
   "execution_count": 179,
   "metadata": {},
   "outputs": [
    {
     "name": "stdout",
     "output_type": "stream",
     "text": [
      "<class 'pandas.core.frame.DataFrame'>\n",
      "RangeIndex: 5376 entries, 0 to 5375\n",
      "Data columns (total 6 columns):\n",
      " #   Column      Non-Null Count  Dtype   \n",
      "---  ------      --------------  -----   \n",
      " 0   q38         5376 non-null   category\n",
      " 1   q4816       5376 non-null   float64 \n",
      " 2   q4817       5376 non-null   float64 \n",
      " 3   q162        5376 non-null   float64 \n",
      " 4   q172        5376 non-null   float64 \n",
      " 5   need_money  5376 non-null   int64   \n",
      "dtypes: category(1), float64(4), int64(1)\n",
      "memory usage: 215.5 KB\n"
     ]
    }
   ],
   "source": [
    "support.info()"
   ]
  },
  {
   "cell_type": "code",
   "execution_count": 180,
   "metadata": {},
   "outputs": [],
   "source": [
    "model_desc = \"\"\"\n",
    "    financial_support =~ q4816 + q4817\n",
    "    financial_environment =~ q38 + need_money\n",
    "    time_support =~ q162 + q172\n",
    "    support =~ financial_support + time_support\n",
    "    financial_support ~~ financial_environment\n",
    "    q4816 ~~ q4817\n",
    "    financial_support ~~ financial_environment\n",
    "\"\"\"\n"
   ]
  },
  {
   "cell_type": "code",
   "execution_count": 181,
   "metadata": {},
   "outputs": [],
   "source": [
    "support['wt'] = df['wt']\n",
    "observed_vars = ['q38', 'q4816', 'q4817', 'q162', 'q172', 'need_money']\n",
    "w_cov_df = calculate_covariance(support, observed_vars)"
   ]
  },
  {
   "cell_type": "code",
   "execution_count": 182,
   "metadata": {},
   "outputs": [
    {
     "name": "stderr",
     "output_type": "stream",
     "text": [
      "WARNING:root:Fisher Information Matrix is not PD.Moore-Penrose inverse will be used instead of Cholesky decomposition. See 10.1109/TSP.2012.2208105.\n"
     ]
    },
    {
     "name": "stdout",
     "output_type": "stream",
     "text": [
      "적합도 지표:\n",
      "                       Value\n",
      "DoF            4.000000e+00\n",
      "DoF Baseline   1.500000e+01\n",
      "chi2           4.637538e+01\n",
      "chi2 p-value   2.057351e-09\n",
      "chi2 Baseline  6.668183e+03\n",
      "CFI            9.936308e-01\n",
      "GFI            9.930453e-01\n",
      "AGFI           9.739198e-01\n",
      "NFI            9.930453e-01\n",
      "TLI            9.761155e-01\n",
      "RMSEA          4.439536e-02\n",
      "AIC            3.398275e+01\n",
      "BIC            1.460076e+02\n",
      "LogLik         8.626373e-03 \n",
      "\n",
      "\n",
      "모수 추정치:\n",
      "                      lval  op                   rval  Estimate  Std. Err  \\\n",
      "0       financial_support   ~                support  1.000000         -   \n",
      "1            time_support   ~                support  0.494331  0.000442   \n",
      "2                   q4816   ~      financial_support  1.000000         -   \n",
      "3                   q4817   ~      financial_support  1.025746  0.034338   \n",
      "4                     q38   ~  financial_environment  1.000000         -   \n",
      "5              need_money   ~  financial_environment  0.997035   0.07612   \n",
      "6                    q162   ~           time_support  1.000000         -   \n",
      "7                    q172   ~           time_support  0.864558  0.054389   \n",
      "8       financial_support  ~~  financial_environment -0.006684  0.002543   \n",
      "9       financial_support  ~~      financial_support  0.014251  0.001669   \n",
      "10  financial_environment  ~~  financial_environment  0.031522  0.003751   \n",
      "11  financial_environment  ~~                support  0.031140   0.00276   \n",
      "12                support  ~~                support  0.027705  0.001979   \n",
      "13           time_support  ~~           time_support  0.027721  0.002238   \n",
      "14                  q4816  ~~                  q4817  0.012442  0.000589   \n",
      "15                  q4816  ~~                  q4816  0.034901  0.001306   \n",
      "16             need_money  ~~             need_money  0.172672  0.004526   \n",
      "17                   q162  ~~                   q162  0.044321  0.002285   \n",
      "18                   q172  ~~                   q172  0.027988  0.001674   \n",
      "19                    q38  ~~                    q38  0.178841  0.004626   \n",
      "20                  q4817  ~~                  q4817  0.033851  0.001667   \n",
      "\n",
      "       z-value   p-value  \n",
      "0            -         -  \n",
      "1   1118.75143       0.0  \n",
      "2            -         -  \n",
      "3     29.87164       0.0  \n",
      "4            -         -  \n",
      "5    13.098189       0.0  \n",
      "6            -         -  \n",
      "7    15.895811       0.0  \n",
      "8    -2.628644  0.008573  \n",
      "9     8.539789       0.0  \n",
      "10    8.404513       0.0  \n",
      "11   11.283202       0.0  \n",
      "12   14.002545       0.0  \n",
      "13   12.387805       0.0  \n",
      "14   21.138338       0.0  \n",
      "15   26.728768       0.0  \n",
      "16   38.152679       0.0  \n",
      "17   19.393183       0.0  \n",
      "18   16.722525       0.0  \n",
      "19   38.658128       0.0  \n",
      "20   20.307171       0.0  \n"
     ]
    }
   ],
   "source": [
    "model = Model(model_desc)\n",
    "model = fit_sem_model(model, support, w_cov_df)\n",
    "stats = calc_stats(model)\n",
    "estimates = model.inspect()\n",
    "print(\"적합도 지표:\\n\", stats.T, \"\\n\\n\")\n",
    "print(\"모수 추정치:\\n\", estimates)\n"
   ]
  },
  {
   "cell_type": "code",
   "execution_count": 183,
   "metadata": {},
   "outputs": [
    {
     "name": "stdout",
     "output_type": "stream",
     "text": [
      "        id sex  birthy birthm             area         size school grade  \\\n",
      "0  20001.0  여성  2003.0     4월  충청권(대전, 충남, 충북)  도서벽지 및 읍면지역   고등학생   3학년   \n",
      "1  20002.0  여성  2003.0     8월  충청권(대전, 충남, 충북)  도서벽지 및 읍면지역   고등학생   3학년   \n",
      "2  20003.0  여성  2003.0     9월  충청권(대전, 충남, 충북)  도서벽지 및 읍면지역   고등학생   3학년   \n",
      "3  20004.0  남성  2003.0     8월  충청권(대전, 충남, 충북)  도서벽지 및 읍면지역   고등학생   3학년   \n",
      "4  20005.0  남성  2003.0     2월  충청권(대전, 충남, 충북)  도서벽지 및 읍면지역   고등학생   3학년   \n",
      "\n",
      "  home1 home2  ... friend_rel parent_rel group_rel emotional_state  \\\n",
      "0   아니오   아니오  ...   0.012501   0.203332 -0.182480       -0.167932   \n",
      "1     예     예  ...   0.062655   0.201655  0.045834        0.058954   \n",
      "2     예     예  ...  -0.064081  -0.050576  0.074020       -0.085814   \n",
      "3     예     예  ...  -0.097528  -0.073231 -0.022850        0.044651   \n",
      "4   아니오     예  ...   0.021796   0.200948  0.124263        0.205492   \n",
      "\n",
      "  exposure_violence body_image_experience   support time_support  \\\n",
      "0         -0.024783             -0.468777  0.123521     0.162600   \n",
      "1         -0.024538             -0.366024  0.123521     0.162600   \n",
      "2         -0.024783              0.002915  0.004049    -0.043341   \n",
      "3         -0.024293              0.313212 -0.142706    -0.140100   \n",
      "4         -0.024783              0.203523  0.123521     0.162600   \n",
      "\n",
      "  financial_support financial_environment  \n",
      "0          0.167118              0.120097  \n",
      "1          0.167118              0.120097  \n",
      "2         -0.006776              0.002511  \n",
      "3         -0.130146             -0.146397  \n",
      "4          0.167118              0.120097  \n",
      "\n",
      "[5 rows x 292 columns]\n"
     ]
    },
    {
     "data": {
      "image/png": "[encoded data removed]",
      "text/plain": [
       "<Figure size 640x480 with 1 Axes>"
      ]
     },
     "metadata": {},
     "output_type": "display_data"
    },
    {
     "data": {
      "text/plain": [
       "support\n",
       " 0.123521    591\n",
       " 0.210491    240\n",
       " 0.033711    164\n",
       " 0.110215    140\n",
       " 0.040483    130\n",
       "            ... \n",
       "-0.119270      1\n",
       " 0.054670      1\n",
       "-0.295475      1\n",
       "-0.096898      1\n",
       "-0.139876      1\n",
       "Name: count, Length: 939, dtype: int64"
      ]
     },
     "execution_count": 183,
     "metadata": {},
     "output_type": "execute_result"
    }
   ],
   "source": [
    "factor_scores = model.predict_factors(support)\n",
    "\n",
    "df[\"support\"] = factor_scores[\"support\"]\n",
    "df['time_support'] = factor_scores[\"time_support\"]\n",
    "df['financial_support'] = factor_scores[\"financial_support\"]\n",
    "df['financial_environment'] = factor_scores[\"financial_environment\"]\n",
    "print(df.head())\n",
    "\n",
    "plt.hist(df[\"support\"], bins=20, color='blue')\n",
    "plt.title(\"Distribution of support\")\n",
    "plt.xlabel(\"support\")\n",
    "plt.ylabel(\"Frequency\")\n",
    "plt.show()\n",
    "df['support'].value_counts()"
   ]
  },
  {
   "cell_type": "markdown",
   "metadata": {},
   "source": [
    "# 위험행동"
   ]
  },
  {
   "cell_type": "code",
   "execution_count": 184,
   "metadata": {},
   "outputs": [
    {
     "data": {
      "text/plain": [
       "q302\n",
       "없다    1611\n",
       "있다     316\n",
       "Name: count, dtype: int64"
      ]
     },
     "execution_count": 184,
     "metadata": {},
     "output_type": "execute_result"
    }
   ],
   "source": [
    "df['q302'].value_counts()"
   ]
  },
  {
   "cell_type": "code",
   "execution_count": 185,
   "metadata": {},
   "outputs": [
    {
     "data": {
      "text/plain": [
       "q287     0\n",
       "q288     0\n",
       "q289     0\n",
       "q2810    0\n",
       "q29      0\n",
       "q31      0\n",
       "dtype: int64"
      ]
     },
     "execution_count": 185,
     "metadata": {},
     "output_type": "execute_result"
    }
   ],
   "source": [
    "crisis = df[['q287', 'q288', 'q289', 'q2810','q29', 'q31']]\n",
    "crisis.isnull().sum()"
   ]
  },
  {
   "cell_type": "code",
   "execution_count": 186,
   "metadata": {},
   "outputs": [
    {
     "name": "stdout",
     "output_type": "stream",
     "text": [
      "<class 'pandas.core.frame.DataFrame'>\n",
      "RangeIndex: 5376 entries, 0 to 5375\n",
      "Data columns (total 6 columns):\n",
      " #   Column  Non-Null Count  Dtype   \n",
      "---  ------  --------------  -----   \n",
      " 0   q287    5376 non-null   category\n",
      " 1   q288    5376 non-null   category\n",
      " 2   q289    5376 non-null   category\n",
      " 3   q2810   5376 non-null   category\n",
      " 4   q29     5376 non-null   category\n",
      " 5   q31     5376 non-null   category\n",
      "dtypes: category(6)\n",
      "memory usage: 32.5 KB\n"
     ]
    }
   ],
   "source": [
    "crisis.info()"
   ]
  },
  {
   "cell_type": "code",
   "execution_count": 187,
   "metadata": {},
   "outputs": [],
   "source": [
    "crisis = encoding(crisis, ['q287', 'q288', 'q289', 'q2810'], yes_or_no_map)\n",
    "crisis = encoding(crisis, ['q29', 'q31'], how_much_is_map)\n",
    "# crisis = encoding(crisis, ['q302'], is_or_not_map)\n",
    "\n",
    "crisis = null0(crisis)"
   ]
  },
  {
   "cell_type": "code",
   "execution_count": 188,
   "metadata": {},
   "outputs": [],
   "source": [
    "model_desc = \"\"\"\n",
    "    substance =~  q287 + q288 + q289\n",
    "    impulse =~ q29 + q31\n",
    "    crisis_behavior =~ substance + q2810 + impulse\n",
    "\"\"\""
   ]
  },
  {
   "cell_type": "code",
   "execution_count": 189,
   "metadata": {},
   "outputs": [],
   "source": [
    "crisis['wt'] = df['wt']\n",
    "observed_vars = ['q287', 'q288', 'q289', 'q2810', 'q29', 'q31']\n",
    "w_cov_df = calculate_covariance(crisis, observed_vars)"
   ]
  },
  {
   "cell_type": "code",
   "execution_count": 190,
   "metadata": {},
   "outputs": [
    {
     "name": "stdout",
     "output_type": "stream",
     "text": [
      "적합도 지표:\n",
      "                      Value\n",
      "DoF               7.000000\n",
      "DoF Baseline     15.000000\n",
      "chi2            105.541518\n",
      "chi2 p-value      0.000000\n",
      "chi2 Baseline  3487.132623\n",
      "CFI               0.971619\n",
      "GFI               0.969734\n",
      "AGFI              0.935144\n",
      "NFI               0.969734\n",
      "TLI               0.939184\n",
      "RMSEA             0.051177\n",
      "AIC              27.960736\n",
      "BIC             120.216534\n",
      "LogLik            0.019632 \n",
      "\n",
      "\n",
      "모수 추정치:\n",
      "                lval  op             rval  Estimate  Std. Err    z-value  \\\n",
      "0         substance   ~  crisis_behavior  1.000000         -          -   \n",
      "1           impulse   ~  crisis_behavior  4.635411  0.596668   7.768834   \n",
      "2              q287   ~        substance  1.000000         -          -   \n",
      "3              q288   ~        substance  1.782693  0.122343  14.571281   \n",
      "4              q289   ~        substance  0.511073  0.035059  14.577701   \n",
      "5               q29   ~          impulse  1.000000         -          -   \n",
      "6               q31   ~          impulse  0.716321  0.059897  11.959128   \n",
      "7             q2810   ~  crisis_behavior  1.617568  0.203271     7.9577   \n",
      "8   crisis_behavior  ~~  crisis_behavior  0.002729  0.000426   6.398817   \n",
      "9           impulse  ~~          impulse  0.292056  0.029486   9.905059   \n",
      "10        substance  ~~        substance  0.003205  0.000489   6.548749   \n",
      "11            q2810  ~~            q2810  0.054154  0.001415  38.274828   \n",
      "12             q287  ~~             q287  0.012970  0.000477  27.193417   \n",
      "13             q288  ~~             q288  0.083833  0.002127  39.406314   \n",
      "14             q289  ~~             q289  0.006835  0.000174  39.294885   \n",
      "15              q29  ~~              q29  0.080991   0.02879   2.813185   \n",
      "16              q31  ~~              q31  0.288606  0.015766  18.305406   \n",
      "\n",
      "     p-value  \n",
      "0          -  \n",
      "1        0.0  \n",
      "2          -  \n",
      "3        0.0  \n",
      "4        0.0  \n",
      "5          -  \n",
      "6        0.0  \n",
      "7        0.0  \n",
      "8        0.0  \n",
      "9        0.0  \n",
      "10       0.0  \n",
      "11       0.0  \n",
      "12       0.0  \n",
      "13       0.0  \n",
      "14       0.0  \n",
      "15  0.004905  \n",
      "16       0.0  \n"
     ]
    }
   ],
   "source": [
    "model = Model(model_desc)\n",
    "model = fit_sem_model(model, crisis, w_cov_df)\n",
    "stats = calc_stats(model)\n",
    "estimates = model.inspect()\n",
    "print(\"적합도 지표:\\n\", stats.T, \"\\n\\n\")\n",
    "print(\"모수 추정치:\\n\", estimates)\n"
   ]
  },
  {
   "cell_type": "code",
   "execution_count": 191,
   "metadata": {},
   "outputs": [
    {
     "name": "stdout",
     "output_type": "stream",
     "text": [
      "        id sex  birthy birthm             area         size school grade  \\\n",
      "0  20001.0  여성  2003.0     4월  충청권(대전, 충남, 충북)  도서벽지 및 읍면지역   고등학생   3학년   \n",
      "1  20002.0  여성  2003.0     8월  충청권(대전, 충남, 충북)  도서벽지 및 읍면지역   고등학생   3학년   \n",
      "2  20003.0  여성  2003.0     9월  충청권(대전, 충남, 충북)  도서벽지 및 읍면지역   고등학생   3학년   \n",
      "3  20004.0  남성  2003.0     8월  충청권(대전, 충남, 충북)  도서벽지 및 읍면지역   고등학생   3학년   \n",
      "4  20005.0  남성  2003.0     2월  충청권(대전, 충남, 충북)  도서벽지 및 읍면지역   고등학생   3학년   \n",
      "\n",
      "  home1 home2  ... emotional_state exposure_violence body_image_experience  \\\n",
      "0   아니오   아니오  ...       -0.167932         -0.024783             -0.468777   \n",
      "1     예     예  ...        0.058954         -0.024538             -0.366024   \n",
      "2     예     예  ...       -0.085814         -0.024783              0.002915   \n",
      "3     예     예  ...        0.044651         -0.024293              0.313212   \n",
      "4   아니오     예  ...        0.205492         -0.024783              0.203523   \n",
      "\n",
      "    support time_support financial_support financial_environment  \\\n",
      "0  0.123521     0.162600          0.167118              0.120097   \n",
      "1  0.123521     0.162600          0.167118              0.120097   \n",
      "2  0.004049    -0.043341         -0.006776              0.002511   \n",
      "3 -0.142706    -0.140100         -0.130146             -0.146397   \n",
      "4  0.123521     0.162600          0.167118              0.120097   \n",
      "\n",
      "  crisis_behavior   impulse substance  \n",
      "0       -0.019439 -0.397509 -0.023640  \n",
      "1       -0.019439 -0.397509 -0.023640  \n",
      "2       -0.000076  0.323579 -0.010654  \n",
      "3       -0.019439 -0.397509 -0.023640  \n",
      "4       -0.019439 -0.397509 -0.023640  \n",
      "\n",
      "[5 rows x 295 columns]\n"
     ]
    },
    {
     "data": {
      "image/png": "[encoded data removed]",
      "text/plain": [
       "<Figure size 640x480 with 1 Axes>"
      ]
     },
     "metadata": {},
     "output_type": "display_data"
    },
    {
     "data": {
      "text/plain": [
       "crisis_behavior\n",
       "-0.019439    2599\n",
       " 0.003816     482\n",
       "-0.000076     473\n",
       "-0.015546     352\n",
       " 0.027071     170\n",
       "             ... \n",
       " 0.168520       1\n",
       " 0.095805       1\n",
       " 0.186648       1\n",
       " 0.094659       1\n",
       " 0.164954       1\n",
       "Name: count, Length: 83, dtype: int64"
      ]
     },
     "execution_count": 191,
     "metadata": {},
     "output_type": "execute_result"
    }
   ],
   "source": [
    "factor_scores = model.predict_factors(crisis)\n",
    "\n",
    "df[\"crisis_behavior\"] = factor_scores[\"crisis_behavior\"]\n",
    "df['impulse'] = factor_scores[\"impulse\"]\n",
    "df['substance'] = factor_scores[\"substance\"]\n",
    "\n",
    "print(df.head())\n",
    "\n",
    "plt.hist(df[\"crisis_behavior\"], bins=20, color='blue')\n",
    "plt.title(\"Distribution of crisis_behavior\")\n",
    "plt.xlabel(\"crisis_behavior\")\n",
    "plt.ylabel(\"Frequency\")\n",
    "plt.show()\n",
    "df['crisis_behavior'].value_counts()"
   ]
  },
  {
   "cell_type": "markdown",
   "metadata": {},
   "source": [
    "# 고등학생만 고르기"
   ]
  },
  {
   "cell_type": "code",
   "execution_count": 192,
   "metadata": {},
   "outputs": [
    {
     "data": {
      "text/html": [
       "<div>\n",
       "<style scoped>\n",
       "    .dataframe tbody tr th:only-of-type {\n",
       "        vertical-align: middle;\n",
       "    }\n",
       "\n",
       "    .dataframe tbody tr th {\n",
       "        vertical-align: top;\n",
       "    }\n",
       "\n",
       "    .dataframe thead th {\n",
       "        text-align: right;\n",
       "    }\n",
       "</style>\n",
       "<table border=\"1\" class=\"dataframe\">\n",
       "  <thead>\n",
       "    <tr style=\"text-align: right;\">\n",
       "      <th></th>\n",
       "      <th>id</th>\n",
       "      <th>sex</th>\n",
       "      <th>birthy</th>\n",
       "      <th>birthm</th>\n",
       "      <th>area</th>\n",
       "      <th>size</th>\n",
       "      <th>school</th>\n",
       "      <th>grade</th>\n",
       "      <th>home1</th>\n",
       "      <th>home2</th>\n",
       "      <th>...</th>\n",
       "      <th>emotional_state</th>\n",
       "      <th>exposure_violence</th>\n",
       "      <th>body_image_experience</th>\n",
       "      <th>support</th>\n",
       "      <th>time_support</th>\n",
       "      <th>financial_support</th>\n",
       "      <th>financial_environment</th>\n",
       "      <th>crisis_behavior</th>\n",
       "      <th>impulse</th>\n",
       "      <th>substance</th>\n",
       "    </tr>\n",
       "  </thead>\n",
       "  <tbody>\n",
       "    <tr>\n",
       "      <th>0</th>\n",
       "      <td>20001.0</td>\n",
       "      <td>여성</td>\n",
       "      <td>2003.0</td>\n",
       "      <td>4월</td>\n",
       "      <td>충청권(대전, 충남, 충북)</td>\n",
       "      <td>도서벽지 및 읍면지역</td>\n",
       "      <td>고등학생</td>\n",
       "      <td>3학년</td>\n",
       "      <td>아니오</td>\n",
       "      <td>아니오</td>\n",
       "      <td>...</td>\n",
       "      <td>-0.167932</td>\n",
       "      <td>-0.024783</td>\n",
       "      <td>-0.468777</td>\n",
       "      <td>0.123521</td>\n",
       "      <td>0.162600</td>\n",
       "      <td>0.167118</td>\n",
       "      <td>0.120097</td>\n",
       "      <td>-0.019439</td>\n",
       "      <td>-0.397509</td>\n",
       "      <td>-0.023640</td>\n",
       "    </tr>\n",
       "    <tr>\n",
       "      <th>1</th>\n",
       "      <td>20002.0</td>\n",
       "      <td>여성</td>\n",
       "      <td>2003.0</td>\n",
       "      <td>8월</td>\n",
       "      <td>충청권(대전, 충남, 충북)</td>\n",
       "      <td>도서벽지 및 읍면지역</td>\n",
       "      <td>고등학생</td>\n",
       "      <td>3학년</td>\n",
       "      <td>예</td>\n",
       "      <td>예</td>\n",
       "      <td>...</td>\n",
       "      <td>0.058954</td>\n",
       "      <td>-0.024538</td>\n",
       "      <td>-0.366024</td>\n",
       "      <td>0.123521</td>\n",
       "      <td>0.162600</td>\n",
       "      <td>0.167118</td>\n",
       "      <td>0.120097</td>\n",
       "      <td>-0.019439</td>\n",
       "      <td>-0.397509</td>\n",
       "      <td>-0.023640</td>\n",
       "    </tr>\n",
       "    <tr>\n",
       "      <th>2</th>\n",
       "      <td>20003.0</td>\n",
       "      <td>여성</td>\n",
       "      <td>2003.0</td>\n",
       "      <td>9월</td>\n",
       "      <td>충청권(대전, 충남, 충북)</td>\n",
       "      <td>도서벽지 및 읍면지역</td>\n",
       "      <td>고등학생</td>\n",
       "      <td>3학년</td>\n",
       "      <td>예</td>\n",
       "      <td>예</td>\n",
       "      <td>...</td>\n",
       "      <td>-0.085814</td>\n",
       "      <td>-0.024783</td>\n",
       "      <td>0.002915</td>\n",
       "      <td>0.004049</td>\n",
       "      <td>-0.043341</td>\n",
       "      <td>-0.006776</td>\n",
       "      <td>0.002511</td>\n",
       "      <td>-0.000076</td>\n",
       "      <td>0.323579</td>\n",
       "      <td>-0.010654</td>\n",
       "    </tr>\n",
       "  </tbody>\n",
       "</table>\n",
       "<p>3 rows × 295 columns</p>\n",
       "</div>"
      ],
      "text/plain": [
       "        id sex  birthy birthm             area         size school grade  \\\n",
       "0  20001.0  여성  2003.0     4월  충청권(대전, 충남, 충북)  도서벽지 및 읍면지역   고등학생   3학년   \n",
       "1  20002.0  여성  2003.0     8월  충청권(대전, 충남, 충북)  도서벽지 및 읍면지역   고등학생   3학년   \n",
       "2  20003.0  여성  2003.0     9월  충청권(대전, 충남, 충북)  도서벽지 및 읍면지역   고등학생   3학년   \n",
       "\n",
       "  home1 home2  ... emotional_state exposure_violence body_image_experience  \\\n",
       "0   아니오   아니오  ...       -0.167932         -0.024783             -0.468777   \n",
       "1     예     예  ...        0.058954         -0.024538             -0.366024   \n",
       "2     예     예  ...       -0.085814         -0.024783              0.002915   \n",
       "\n",
       "    support time_support financial_support financial_environment  \\\n",
       "0  0.123521     0.162600          0.167118              0.120097   \n",
       "1  0.123521     0.162600          0.167118              0.120097   \n",
       "2  0.004049    -0.043341         -0.006776              0.002511   \n",
       "\n",
       "  crisis_behavior   impulse substance  \n",
       "0       -0.019439 -0.397509 -0.023640  \n",
       "1       -0.019439 -0.397509 -0.023640  \n",
       "2       -0.000076  0.323579 -0.010654  \n",
       "\n",
       "[3 rows x 295 columns]"
      ]
     },
     "execution_count": 192,
     "metadata": {},
     "output_type": "execute_result"
    }
   ],
   "source": [
    "df_high = df[df['school'] == '고등학생']\n",
    "df_high.head(3)"
   ]
  },
  {
   "cell_type": "markdown",
   "metadata": {},
   "source": [
    "# 조절효과 회귀분석 (OLS)"
   ]
  },
  {
   "cell_type": "markdown",
   "metadata": {},
   "source": [
    "### emotional_state ~ academic_pressure + rel"
   ]
  },
  {
   "cell_type": "code",
   "execution_count": 193,
   "metadata": {},
   "outputs": [
    {
     "name": "stdout",
     "output_type": "stream",
     "text": [
      "                            OLS Regression Results                            \n",
      "==============================================================================\n",
      "Dep. Variable:        emotional_state   R-squared:                       0.384\n",
      "Model:                            OLS   Adj. R-squared:                  0.384\n",
      "Method:                 Least Squares   F-statistic:                     472.1\n",
      "Date:                Thu, 24 Apr 2025   Prob (F-statistic):          2.68e-238\n",
      "Time:                        15:12:29   Log-Likelihood:                 1681.6\n",
      "No. Observations:                2272   AIC:                            -3355.\n",
      "Df Residuals:                    2268   BIC:                            -3332.\n",
      "Df Model:                           3                                         \n",
      "Covariance Type:            nonrobust                                         \n",
      "=====================================================================================\n",
      "                        coef    std err          t      P>|t|      [0.025      0.975]\n",
      "-------------------------------------------------------------------------------------\n",
      "Intercept            -0.0159      0.002     -6.514      0.000      -0.021      -0.011\n",
      "academic_pressure    -0.0930      0.018     -5.087      0.000      -0.129      -0.057\n",
      "group_rel             0.6030      0.016     36.569      0.000       0.571       0.635\n",
      "interaction           0.0091      0.115      0.079      0.937      -0.217       0.235\n",
      "==============================================================================\n",
      "Omnibus:                      136.347   Durbin-Watson:                   1.950\n",
      "Prob(Omnibus):                  0.000   Jarque-Bera (JB):              164.607\n",
      "Skew:                          -0.598   Prob(JB):                     1.80e-36\n",
      "Kurtosis:                       3.557   Cond. No.                         47.6\n",
      "==============================================================================\n",
      "\n",
      "Notes:\n",
      "[1] Standard Errors assume that the covariance matrix of the errors is correctly specified.\n"
     ]
    }
   ],
   "source": [
    "df_high['interaction'] = df_high['academic_pressure'] * df_high['group_rel']\n",
    "\n",
    "model = smf.ols('emotional_state ~ academic_pressure + group_rel + interaction', data=df_high).fit()\n",
    "print(model.summary())"
   ]
  },
  {
   "cell_type": "code",
   "execution_count": 194,
   "metadata": {},
   "outputs": [
    {
     "name": "stdout",
     "output_type": "stream",
     "text": [
      "                            OLS Regression Results                            \n",
      "==============================================================================\n",
      "Dep. Variable:        emotional_state   R-squared:                       0.168\n",
      "Model:                            OLS   Adj. R-squared:                  0.167\n",
      "Method:                 Least Squares   F-statistic:                     152.6\n",
      "Date:                Thu, 24 Apr 2025   Prob (F-statistic):           4.33e-90\n",
      "Time:                        15:12:29   Log-Likelihood:                 1339.3\n",
      "No. Observations:                2272   AIC:                            -2671.\n",
      "Df Residuals:                    2268   BIC:                            -2648.\n",
      "Df Model:                           3                                         \n",
      "Covariance Type:            nonrobust                                         \n",
      "=====================================================================================\n",
      "                        coef    std err          t      P>|t|      [0.025      0.975]\n",
      "-------------------------------------------------------------------------------------\n",
      "Intercept            -0.0179      0.003     -6.258      0.000      -0.023      -0.012\n",
      "academic_pressure    -0.0845      0.021     -3.967      0.000      -0.126      -0.043\n",
      "teacher_rel           0.3240      0.016     20.194      0.000       0.292       0.355\n",
      "interaction          -0.2325      0.109     -2.138      0.033      -0.446      -0.019\n",
      "==============================================================================\n",
      "Omnibus:                       85.492   Durbin-Watson:                   1.940\n",
      "Prob(Omnibus):                  0.000   Jarque-Bera (JB):               94.718\n",
      "Skew:                          -0.500   Prob(JB):                     2.71e-21\n",
      "Kurtosis:                       3.030   Cond. No.                         38.6\n",
      "==============================================================================\n",
      "\n",
      "Notes:\n",
      "[1] Standard Errors assume that the covariance matrix of the errors is correctly specified.\n"
     ]
    }
   ],
   "source": [
    "df_high['interaction'] = df_high['academic_pressure'] * df_high['teacher_rel']\n",
    "\n",
    "model = smf.ols('emotional_state ~ academic_pressure + teacher_rel + interaction', data=df_high).fit()\n",
    "print(model.summary())"
   ]
  },
  {
   "cell_type": "code",
   "execution_count": 195,
   "metadata": {},
   "outputs": [
    {
     "name": "stdout",
     "output_type": "stream",
     "text": [
      "                            OLS Regression Results                            \n",
      "==============================================================================\n",
      "Dep. Variable:        emotional_state   R-squared:                       0.225\n",
      "Model:                            OLS   Adj. R-squared:                  0.224\n",
      "Method:                 Least Squares   F-statistic:                     219.0\n",
      "Date:                Thu, 24 Apr 2025   Prob (F-statistic):          8.96e-125\n",
      "Time:                        15:12:29   Log-Likelihood:                 1419.4\n",
      "No. Observations:                2272   AIC:                            -2831.\n",
      "Df Residuals:                    2268   BIC:                            -2808.\n",
      "Df Model:                           3                                         \n",
      "Covariance Type:            nonrobust                                         \n",
      "=====================================================================================\n",
      "                        coef    std err          t      P>|t|      [0.025      0.975]\n",
      "-------------------------------------------------------------------------------------\n",
      "Intercept            -0.0084      0.003     -3.051      0.002      -0.014      -0.003\n",
      "academic_pressure    -0.0844      0.020     -4.117      0.000      -0.125      -0.044\n",
      "parent_rel            0.3648      0.015     24.776      0.000       0.336       0.394\n",
      "interaction          -0.1872      0.104     -1.795      0.073      -0.392       0.017\n",
      "==============================================================================\n",
      "Omnibus:                       84.155   Durbin-Watson:                   1.991\n",
      "Prob(Omnibus):                  0.000   Jarque-Bera (JB):               92.949\n",
      "Skew:                          -0.494   Prob(JB):                     6.55e-21\n",
      "Kurtosis:                       3.071   Cond. No.                         38.4\n",
      "==============================================================================\n",
      "\n",
      "Notes:\n",
      "[1] Standard Errors assume that the covariance matrix of the errors is correctly specified.\n"
     ]
    }
   ],
   "source": [
    "df_high[\"interaction\"] = df_high[\"academic_pressure\"] * df_high[\"parent_rel\"]\n",
    "\n",
    "model = smf.ols(\"emotional_state ~ academic_pressure + parent_rel + interaction\", data=df_high).fit()\n",
    "print(model.summary())"
   ]
  },
  {
   "cell_type": "code",
   "execution_count": 196,
   "metadata": {},
   "outputs": [
    {
     "name": "stdout",
     "output_type": "stream",
     "text": [
      "                            OLS Regression Results                            \n",
      "==============================================================================\n",
      "Dep. Variable:        emotional_state   R-squared:                       0.251\n",
      "Model:                            OLS   Adj. R-squared:                  0.250\n",
      "Method:                 Least Squares   F-statistic:                     253.6\n",
      "Date:                Thu, 24 Apr 2025   Prob (F-statistic):          6.78e-142\n",
      "Time:                        15:12:29   Log-Likelihood:                 1459.0\n",
      "No. Observations:                2272   AIC:                            -2910.\n",
      "Df Residuals:                    2268   BIC:                            -2887.\n",
      "Df Model:                           3                                         \n",
      "Covariance Type:            nonrobust                                         \n",
      "=====================================================================================\n",
      "                        coef    std err          t      P>|t|      [0.025      0.975]\n",
      "-------------------------------------------------------------------------------------\n",
      "Intercept            -0.0168      0.003     -6.237      0.000      -0.022      -0.012\n",
      "academic_pressure    -0.0861      0.020     -4.278      0.000      -0.126      -0.047\n",
      "friend_rel            0.9114      0.034     26.837      0.000       0.845       0.978\n",
      "interaction          -0.0707      0.238     -0.297      0.767      -0.538       0.396\n",
      "==============================================================================\n",
      "Omnibus:                      104.846   Durbin-Watson:                   1.929\n",
      "Prob(Omnibus):                  0.000   Jarque-Bera (JB):              118.662\n",
      "Skew:                          -0.542   Prob(JB):                     1.71e-26\n",
      "Kurtosis:                       3.279   Cond. No.                         89.1\n",
      "==============================================================================\n",
      "\n",
      "Notes:\n",
      "[1] Standard Errors assume that the covariance matrix of the errors is correctly specified.\n"
     ]
    }
   ],
   "source": [
    "df_high['interaction'] = df_high['academic_pressure'] * df_high['friend_rel']\n",
    "\n",
    "model = smf.ols('emotional_state ~ academic_pressure + friend_rel + interaction', data=df_high).fit()\n",
    "print(model.summary())"
   ]
  },
  {
   "cell_type": "markdown",
   "metadata": {},
   "source": [
    "### impulse ~ violence + rel"
   ]
  },
  {
   "cell_type": "code",
   "execution_count": 197,
   "metadata": {},
   "outputs": [
    {
     "name": "stdout",
     "output_type": "stream",
     "text": [
      "                            OLS Regression Results                            \n",
      "==============================================================================\n",
      "Dep. Variable:                impulse   R-squared:                       0.070\n",
      "Model:                            OLS   Adj. R-squared:                  0.069\n",
      "Method:                 Least Squares   F-statistic:                     57.25\n",
      "Date:                Thu, 24 Apr 2025   Prob (F-statistic):           1.14e-35\n",
      "Time:                        15:12:29   Log-Likelihood:                -1769.8\n",
      "No. Observations:                2272   AIC:                             3548.\n",
      "Df Residuals:                    2268   BIC:                             3570.\n",
      "Df Model:                           3                                         \n",
      "Covariance Type:            nonrobust                                         \n",
      "=====================================================================================\n",
      "                        coef    std err          t      P>|t|      [0.025      0.975]\n",
      "-------------------------------------------------------------------------------------\n",
      "Intercept             0.0210      0.011      1.867      0.062      -0.001       0.043\n",
      "exposure_violence     0.5680      0.122      4.659      0.000       0.329       0.807\n",
      "group_rel            -0.8554      0.074    -11.595      0.000      -1.000      -0.711\n",
      "interaction           1.0682      0.652      1.637      0.102      -0.211       2.348\n",
      "==============================================================================\n",
      "Omnibus:                      269.229   Durbin-Watson:                   2.017\n",
      "Prob(Omnibus):                  0.000   Jarque-Bera (JB):              374.870\n",
      "Skew:                           0.995   Prob(JB):                     3.96e-82\n",
      "Kurtosis:                       3.042   Cond. No.                         59.2\n",
      "==============================================================================\n",
      "\n",
      "Notes:\n",
      "[1] Standard Errors assume that the covariance matrix of the errors is correctly specified.\n"
     ]
    }
   ],
   "source": [
    "df_high['interaction'] = df_high['exposure_violence'] * df_high['group_rel']\n",
    "\n",
    "model = smf.ols('impulse ~ exposure_violence + group_rel + interaction', data=df_high).fit()\n",
    "print(model.summary())"
   ]
  },
  {
   "cell_type": "code",
   "execution_count": 198,
   "metadata": {},
   "outputs": [
    {
     "name": "stdout",
     "output_type": "stream",
     "text": [
      "                            OLS Regression Results                            \n",
      "==============================================================================\n",
      "Dep. Variable:                impulse   R-squared:                       0.037\n",
      "Model:                            OLS   Adj. R-squared:                  0.036\n",
      "Method:                 Least Squares   F-statistic:                     28.98\n",
      "Date:                Thu, 24 Apr 2025   Prob (F-statistic):           2.19e-18\n",
      "Time:                        15:12:29   Log-Likelihood:                -1809.9\n",
      "No. Observations:                2272   AIC:                             3628.\n",
      "Df Residuals:                    2268   BIC:                             3651.\n",
      "Df Model:                           3                                         \n",
      "Covariance Type:            nonrobust                                         \n",
      "=====================================================================================\n",
      "                        coef    std err          t      P>|t|      [0.025      0.975]\n",
      "-------------------------------------------------------------------------------------\n",
      "Intercept             0.0211      0.011      1.847      0.065      -0.001       0.043\n",
      "exposure_violence     0.4641      0.116      4.016      0.000       0.237       0.691\n",
      "teacher_rel          -0.4726      0.063     -7.525      0.000      -0.596      -0.349\n",
      "interaction          -0.5592      0.533     -1.049      0.294      -1.605       0.486\n",
      "==============================================================================\n",
      "Omnibus:                      301.834   Durbin-Watson:                   2.008\n",
      "Prob(Omnibus):                  0.000   Jarque-Bera (JB):              436.397\n",
      "Skew:                           1.072   Prob(JB):                     1.73e-95\n",
      "Kurtosis:                       3.103   Cond. No.                         47.5\n",
      "==============================================================================\n",
      "\n",
      "Notes:\n",
      "[1] Standard Errors assume that the covariance matrix of the errors is correctly specified.\n"
     ]
    }
   ],
   "source": [
    "df_high['interaction'] = df_high['exposure_violence'] * df_high['teacher_rel']\n",
    "\n",
    "model = smf.ols('impulse ~ exposure_violence + teacher_rel + interaction', data=df_high).fit()\n",
    "print(model.summary())"
   ]
  },
  {
   "cell_type": "code",
   "execution_count": 199,
   "metadata": {},
   "outputs": [
    {
     "name": "stdout",
     "output_type": "stream",
     "text": [
      "                            OLS Regression Results                            \n",
      "==============================================================================\n",
      "Dep. Variable:                impulse   R-squared:                       0.160\n",
      "Model:                            OLS   Adj. R-squared:                  0.159\n",
      "Method:                 Least Squares   F-statistic:                     143.7\n",
      "Date:                Thu, 24 Apr 2025   Prob (F-statistic):           2.92e-85\n",
      "Time:                        15:12:29   Log-Likelihood:                -1655.0\n",
      "No. Observations:                2272   AIC:                             3318.\n",
      "Df Residuals:                    2268   BIC:                             3341.\n",
      "Df Model:                           3                                         \n",
      "Covariance Type:            nonrobust                                         \n",
      "=====================================================================================\n",
      "                        coef    std err          t      P>|t|      [0.025      0.975]\n",
      "-------------------------------------------------------------------------------------\n",
      "Intercept             0.0004      0.011      0.033      0.973      -0.020       0.021\n",
      "exposure_violence     0.5336      0.103      5.180      0.000       0.332       0.736\n",
      "parent_rel           -1.1134      0.056    -19.817      0.000      -1.224      -1.003\n",
      "interaction           0.5007      0.455      1.101      0.271      -0.391       1.392\n",
      "==============================================================================\n",
      "Omnibus:                      213.110   Durbin-Watson:                   2.025\n",
      "Prob(Omnibus):                  0.000   Jarque-Bera (JB):              276.609\n",
      "Skew:                           0.854   Prob(JB):                     8.61e-61\n",
      "Kurtosis:                       3.089   Cond. No.                         43.3\n",
      "==============================================================================\n",
      "\n",
      "Notes:\n",
      "[1] Standard Errors assume that the covariance matrix of the errors is correctly specified.\n"
     ]
    }
   ],
   "source": [
    "df_high['interaction'] = df_high['exposure_violence'] * df_high['parent_rel']\n",
    "\n",
    "model = smf.ols('impulse ~ exposure_violence + parent_rel + interaction', data=df_high).fit()\n",
    "print(model.summary())"
   ]
  },
  {
   "cell_type": "code",
   "execution_count": 200,
   "metadata": {},
   "outputs": [
    {
     "name": "stdout",
     "output_type": "stream",
     "text": [
      "                            OLS Regression Results                            \n",
      "==============================================================================\n",
      "Dep. Variable:                impulse   R-squared:                       0.046\n",
      "Model:                            OLS   Adj. R-squared:                  0.045\n",
      "Method:                 Least Squares   F-statistic:                     36.49\n",
      "Date:                Thu, 24 Apr 2025   Prob (F-statistic):           5.01e-23\n",
      "Time:                        15:12:29   Log-Likelihood:                -1799.1\n",
      "No. Observations:                2272   AIC:                             3606.\n",
      "Df Residuals:                    2268   BIC:                             3629.\n",
      "Df Model:                           3                                         \n",
      "Covariance Type:            nonrobust                                         \n",
      "=====================================================================================\n",
      "                        coef    std err          t      P>|t|      [0.025      0.975]\n",
      "-------------------------------------------------------------------------------------\n",
      "Intercept             0.0204      0.011      1.788      0.074      -0.002       0.043\n",
      "exposure_violence     0.4900      0.123      3.978      0.000       0.248       0.732\n",
      "friend_rel           -1.2485      0.140     -8.894      0.000      -1.524      -0.973\n",
      "interaction           0.3888      0.971      0.400      0.689      -1.515       2.293\n",
      "==============================================================================\n",
      "Omnibus:                      286.407   Durbin-Watson:                   2.021\n",
      "Prob(Omnibus):                  0.000   Jarque-Bera (JB):              407.132\n",
      "Skew:                           1.037   Prob(JB):                     3.91e-89\n",
      "Kurtosis:                       3.049   Cond. No.                         86.8\n",
      "==============================================================================\n",
      "\n",
      "Notes:\n",
      "[1] Standard Errors assume that the covariance matrix of the errors is correctly specified.\n"
     ]
    }
   ],
   "source": [
    "df_high['interaction'] = df_high['exposure_violence'] * df_high['friend_rel']\n",
    "\n",
    "model = smf.ols('impulse ~ exposure_violence + friend_rel + interaction', data=df_high).fit()\n",
    "print(model.summary())"
   ]
  },
  {
   "cell_type": "markdown",
   "metadata": {},
   "source": [
    "### impulse ~ emotional_state + rel"
   ]
  },
  {
   "cell_type": "code",
   "execution_count": 201,
   "metadata": {},
   "outputs": [
    {
     "name": "stdout",
     "output_type": "stream",
     "text": [
      "                            OLS Regression Results                            \n",
      "==============================================================================\n",
      "Dep. Variable:                impulse   R-squared:                       0.184\n",
      "Model:                            OLS   Adj. R-squared:                  0.183\n",
      "Method:                 Least Squares   F-statistic:                     170.8\n",
      "Date:                Thu, 24 Apr 2025   Prob (F-statistic):          8.09e-100\n",
      "Time:                        15:12:29   Log-Likelihood:                -1621.3\n",
      "No. Observations:                2272   AIC:                             3251.\n",
      "Df Residuals:                    2268   BIC:                             3274.\n",
      "Df Model:                           3                                         \n",
      "Covariance Type:            nonrobust                                         \n",
      "===================================================================================\n",
      "                      coef    std err          t      P>|t|      [0.025      0.975]\n",
      "-----------------------------------------------------------------------------------\n",
      "Intercept          -0.0326      0.012     -2.733      0.006      -0.056      -0.009\n",
      "emotional_state    -1.5966      0.089    -17.851      0.000      -1.772      -1.421\n",
      "group_rel           0.1629      0.090      1.811      0.070      -0.014       0.339\n",
      "interaction         1.6931      0.421      4.023      0.000       0.868       2.518\n",
      "==============================================================================\n",
      "Omnibus:                      254.842   Durbin-Watson:                   1.988\n",
      "Prob(Omnibus):                  0.000   Jarque-Bera (JB):              344.035\n",
      "Skew:                           0.931   Prob(JB):                     1.97e-75\n",
      "Kurtosis:                       3.408   Cond. No.                         40.6\n",
      "==============================================================================\n",
      "\n",
      "Notes:\n",
      "[1] Standard Errors assume that the covariance matrix of the errors is correctly specified.\n"
     ]
    }
   ],
   "source": [
    "df_high['interaction'] = df_high['emotional_state'] * df_high['group_rel']\n",
    "\n",
    "model = smf.ols('impulse ~ emotional_state + group_rel + interaction', data=df_high).fit()\n",
    "print(model.summary())"
   ]
  },
  {
   "cell_type": "code",
   "execution_count": 202,
   "metadata": {},
   "outputs": [
    {
     "name": "stdout",
     "output_type": "stream",
     "text": [
      "                            OLS Regression Results                            \n",
      "==============================================================================\n",
      "Dep. Variable:                impulse   R-squared:                       0.180\n",
      "Model:                            OLS   Adj. R-squared:                  0.179\n",
      "Method:                 Least Squares   F-statistic:                     166.3\n",
      "Date:                Thu, 24 Apr 2025   Prob (F-statistic):           1.95e-97\n",
      "Time:                        15:12:29   Log-Likelihood:                -1626.8\n",
      "No. Observations:                2272   AIC:                             3262.\n",
      "Df Residuals:                    2268   BIC:                             3285.\n",
      "Df Model:                           3                                         \n",
      "Covariance Type:            nonrobust                                         \n",
      "===================================================================================\n",
      "                      coef    std err          t      P>|t|      [0.025      0.975]\n",
      "-----------------------------------------------------------------------------------\n",
      "Intercept          -0.0184      0.011     -1.645      0.100      -0.040       0.004\n",
      "emotional_state    -1.5732      0.077    -20.388      0.000      -1.725      -1.422\n",
      "teacher_rel         0.0438      0.063      0.690      0.490      -0.081       0.168\n",
      "interaction         0.8701      0.366      2.378      0.017       0.153       1.588\n",
      "==============================================================================\n",
      "Omnibus:                      248.862   Durbin-Watson:                   1.995\n",
      "Prob(Omnibus):                  0.000   Jarque-Bera (JB):              333.922\n",
      "Skew:                           0.922   Prob(JB):                     3.09e-73\n",
      "Kurtosis:                       3.359   Cond. No.                         35.2\n",
      "==============================================================================\n",
      "\n",
      "Notes:\n",
      "[1] Standard Errors assume that the covariance matrix of the errors is correctly specified.\n"
     ]
    }
   ],
   "source": [
    "df_high['interaction'] = df_high['emotional_state'] * df_high['teacher_rel']\n",
    "\n",
    "model = smf.ols('impulse ~ emotional_state + teacher_rel + interaction', data=df_high).fit()\n",
    "print(model.summary())"
   ]
  },
  {
   "cell_type": "code",
   "execution_count": 203,
   "metadata": {},
   "outputs": [
    {
     "name": "stdout",
     "output_type": "stream",
     "text": [
      "                            OLS Regression Results                            \n",
      "==============================================================================\n",
      "Dep. Variable:                impulse   R-squared:                       0.231\n",
      "Model:                            OLS   Adj. R-squared:                  0.230\n",
      "Method:                 Least Squares   F-statistic:                     227.6\n",
      "Date:                Thu, 24 Apr 2025   Prob (F-statistic):          4.41e-129\n",
      "Time:                        15:12:29   Log-Likelihood:                -1553.7\n",
      "No. Observations:                2272   AIC:                             3115.\n",
      "Df Residuals:                    2268   BIC:                             3138.\n",
      "Df Model:                           3                                         \n",
      "Covariance Type:            nonrobust                                         \n",
      "===================================================================================\n",
      "                      coef    std err          t      P>|t|      [0.025      0.975]\n",
      "-----------------------------------------------------------------------------------\n",
      "Intercept          -0.0322      0.011     -2.960      0.003      -0.054      -0.011\n",
      "emotional_state    -1.0906      0.078    -13.913      0.000      -1.244      -0.937\n",
      "parent_rel         -0.6371      0.063    -10.184      0.000      -0.760      -0.514\n",
      "interaction         1.5371      0.335      4.582      0.000       0.879       2.195\n",
      "==============================================================================\n",
      "Omnibus:                      217.577   Durbin-Watson:                   1.987\n",
      "Prob(Omnibus):                  0.000   Jarque-Bera (JB):              281.373\n",
      "Skew:                           0.844   Prob(JB):                     7.95e-62\n",
      "Kurtosis:                       3.349   Cond. No.                         33.4\n",
      "==============================================================================\n",
      "\n",
      "Notes:\n",
      "[1] Standard Errors assume that the covariance matrix of the errors is correctly specified.\n"
     ]
    }
   ],
   "source": [
    "df_high['interaction'] = df_high['emotional_state'] * df_high['parent_rel']\n",
    "\n",
    "model = smf.ols('impulse ~ emotional_state + parent_rel + interaction', data=df_high).fit()\n",
    "print(model.summary())"
   ]
  },
  {
   "cell_type": "code",
   "execution_count": 204,
   "metadata": {},
   "outputs": [
    {
     "name": "stdout",
     "output_type": "stream",
     "text": [
      "                            OLS Regression Results                            \n",
      "==============================================================================\n",
      "Dep. Variable:                impulse   R-squared:                       0.183\n",
      "Model:                            OLS   Adj. R-squared:                  0.182\n",
      "Method:                 Least Squares   F-statistic:                     169.0\n",
      "Date:                Thu, 24 Apr 2025   Prob (F-statistic):           7.05e-99\n",
      "Time:                        15:12:29   Log-Likelihood:                -1623.5\n",
      "No. Observations:                2272   AIC:                             3255.\n",
      "Df Residuals:                    2268   BIC:                             3278.\n",
      "Df Model:                           3                                         \n",
      "Covariance Type:            nonrobust                                         \n",
      "===================================================================================\n",
      "                      coef    std err          t      P>|t|      [0.025      0.975]\n",
      "-----------------------------------------------------------------------------------\n",
      "Intercept          -0.0257      0.011     -2.239      0.025      -0.048      -0.003\n",
      "emotional_state    -1.5966      0.081    -19.651      0.000      -1.756      -1.437\n",
      "friend_rel          0.2855      0.155      1.840      0.066      -0.019       0.590\n",
      "interaction         2.7071      0.792      3.420      0.001       1.155       4.259\n",
      "==============================================================================\n",
      "Omnibus:                      252.041   Durbin-Watson:                   1.992\n",
      "Prob(Omnibus):                  0.000   Jarque-Bera (JB):              339.221\n",
      "Skew:                           0.926   Prob(JB):                     2.18e-74\n",
      "Kurtosis:                       3.393   Cond. No.                         76.4\n",
      "==============================================================================\n",
      "\n",
      "Notes:\n",
      "[1] Standard Errors assume that the covariance matrix of the errors is correctly specified.\n"
     ]
    }
   ],
   "source": [
    "df_high['interaction'] = df_high['emotional_state'] * df_high['friend_rel']\n",
    "\n",
    "model = smf.ols('impulse ~ emotional_state + friend_rel + interaction', data=df_high).fit()\n",
    "print(model.summary())"
   ]
  },
  {
   "cell_type": "code",
   "execution_count": 205,
   "metadata": {},
   "outputs": [
    {
     "name": "stdout",
     "output_type": "stream",
     "text": [
      "                            OLS Regression Results                            \n",
      "==============================================================================\n",
      "Dep. Variable:                impulse   R-squared:                       0.185\n",
      "Model:                            OLS   Adj. R-squared:                  0.184\n",
      "Method:                 Least Squares   F-statistic:                     171.2\n",
      "Date:                Thu, 24 Apr 2025   Prob (F-statistic):          4.88e-100\n",
      "Time:                        15:12:29   Log-Likelihood:                -1620.8\n",
      "No. Observations:                2272   AIC:                             3250.\n",
      "Df Residuals:                    2268   BIC:                             3273.\n",
      "Df Model:                           3                                         \n",
      "Covariance Type:            nonrobust                                         \n",
      "===================================================================================\n",
      "                      coef    std err          t      P>|t|      [0.025      0.975]\n",
      "-----------------------------------------------------------------------------------\n",
      "Intercept          -0.0319      0.012     -2.672      0.008      -0.055      -0.008\n",
      "emotional_state    -1.5035      0.090    -16.681      0.000      -1.680      -1.327\n",
      "human_rel           0.0521      0.232      0.225      0.822      -0.402       0.506\n",
      "interaction         4.4579      1.075      4.148      0.000       2.351       6.565\n",
      "==============================================================================\n",
      "Omnibus:                      252.141   Durbin-Watson:                   1.990\n",
      "Prob(Omnibus):                  0.000   Jarque-Bera (JB):              339.371\n",
      "Skew:                           0.926   Prob(JB):                     2.03e-74\n",
      "Kurtosis:                       3.397   Cond. No.                         104.\n",
      "==============================================================================\n",
      "\n",
      "Notes:\n",
      "[1] Standard Errors assume that the covariance matrix of the errors is correctly specified.\n"
     ]
    }
   ],
   "source": [
    "df_high['interaction'] = df_high['emotional_state'] * df_high['human_rel']\n",
    "\n",
    "model = smf.ols('impulse ~ emotional_state + human_rel + interaction', data=df_high).fit()\n",
    "print(model.summary())"
   ]
  },
  {
   "cell_type": "markdown",
   "metadata": {},
   "source": [
    "### Y ~ X + support"
   ]
  },
  {
   "cell_type": "code",
   "execution_count": 206,
   "metadata": {},
   "outputs": [
    {
     "name": "stdout",
     "output_type": "stream",
     "text": [
      "                            OLS Regression Results                            \n",
      "==============================================================================\n",
      "Dep. Variable:        emotional_state   R-squared:                       0.144\n",
      "Model:                            OLS   Adj. R-squared:                  0.143\n",
      "Method:                 Least Squares   F-statistic:                     127.2\n",
      "Date:                Thu, 24 Apr 2025   Prob (F-statistic):           3.61e-76\n",
      "Time:                        15:12:29   Log-Likelihood:                 1307.1\n",
      "No. Observations:                2272   AIC:                            -2606.\n",
      "Df Residuals:                    2268   BIC:                            -2583.\n",
      "Df Model:                           3                                         \n",
      "Covariance Type:            nonrobust                                         \n",
      "=====================================================================================\n",
      "                        coef    std err          t      P>|t|      [0.025      0.975]\n",
      "-------------------------------------------------------------------------------------\n",
      "Intercept            -0.0092      0.003     -3.202      0.001      -0.015      -0.004\n",
      "academic_pressure    -0.0683      0.021     -3.178      0.002      -0.110      -0.026\n",
      "support               0.4204      0.022     18.971      0.000       0.377       0.464\n",
      "interaction          -0.2372      0.162     -1.465      0.143      -0.555       0.080\n",
      "==============================================================================\n",
      "Omnibus:                      114.007   Durbin-Watson:                   1.916\n",
      "Prob(Omnibus):                  0.000   Jarque-Bera (JB):              130.647\n",
      "Skew:                          -0.585   Prob(JB):                     4.27e-29\n",
      "Kurtosis:                       3.106   Cond. No.                         56.7\n",
      "==============================================================================\n",
      "\n",
      "Notes:\n",
      "[1] Standard Errors assume that the covariance matrix of the errors is correctly specified.\n"
     ]
    }
   ],
   "source": [
    "df_high['interaction'] = df_high['academic_pressure'] * df_high['support']\n",
    "\n",
    "model = smf.ols('emotional_state ~ academic_pressure + support + interaction', data=df_high).fit()\n",
    "print(model.summary())"
   ]
  },
  {
   "cell_type": "code",
   "execution_count": 207,
   "metadata": {},
   "outputs": [
    {
     "name": "stdout",
     "output_type": "stream",
     "text": [
      "                            OLS Regression Results                            \n",
      "==============================================================================\n",
      "Dep. Variable:                impulse   R-squared:                       0.113\n",
      "Model:                            OLS   Adj. R-squared:                  0.111\n",
      "Method:                 Least Squares   F-statistic:                     95.94\n",
      "Date:                Thu, 24 Apr 2025   Prob (F-statistic):           1.84e-58\n",
      "Time:                        15:12:29   Log-Likelihood:                -1717.0\n",
      "No. Observations:                2272   AIC:                             3442.\n",
      "Df Residuals:                    2268   BIC:                             3465.\n",
      "Df Model:                           3                                         \n",
      "Covariance Type:            nonrobust                                         \n",
      "=====================================================================================\n",
      "                        coef    std err          t      P>|t|      [0.025      0.975]\n",
      "-------------------------------------------------------------------------------------\n",
      "Intercept            -0.0049      0.011     -0.447      0.655      -0.026       0.017\n",
      "academic_pressure    -0.0875      0.081     -1.076      0.282      -0.247       0.072\n",
      "support              -1.4019      0.084    -16.716      0.000      -1.566      -1.237\n",
      "interaction           0.1292      0.613      0.211      0.833      -1.073       1.331\n",
      "==============================================================================\n",
      "Omnibus:                      285.365   Durbin-Watson:                   2.022\n",
      "Prob(Omnibus):                  0.000   Jarque-Bera (JB):              400.345\n",
      "Skew:                           1.015   Prob(JB):                     1.16e-87\n",
      "Kurtosis:                       3.326   Cond. No.                         56.7\n",
      "==============================================================================\n",
      "\n",
      "Notes:\n",
      "[1] Standard Errors assume that the covariance matrix of the errors is correctly specified.\n"
     ]
    }
   ],
   "source": [
    "df_high['interaction'] = df_high['academic_pressure'] * df_high['support']\n",
    "\n",
    "model = smf.ols('impulse ~ academic_pressure + support + interaction', data=df_high).fit()\n",
    "print(model.summary())"
   ]
  },
  {
   "cell_type": "code",
   "execution_count": 208,
   "metadata": {},
   "outputs": [
    {
     "name": "stdout",
     "output_type": "stream",
     "text": [
      "                            OLS Regression Results                            \n",
      "==============================================================================\n",
      "Dep. Variable:             parent_rel   R-squared:                       0.221\n",
      "Model:                            OLS   Adj. R-squared:                  0.220\n",
      "Method:                 Least Squares   F-statistic:                     214.7\n",
      "Date:                Thu, 24 Apr 2025   Prob (F-statistic):          1.32e-122\n",
      "Time:                        15:12:29   Log-Likelihood:                 860.96\n",
      "No. Observations:                2272   AIC:                            -1714.\n",
      "Df Residuals:                    2268   BIC:                            -1691.\n",
      "Df Model:                           3                                         \n",
      "Covariance Type:            nonrobust                                         \n",
      "=====================================================================================\n",
      "                        coef    std err          t      P>|t|      [0.025      0.975]\n",
      "-------------------------------------------------------------------------------------\n",
      "Intercept            -0.0068      0.004     -1.933      0.053      -0.014    9.71e-05\n",
      "academic_pressure     0.0550      0.026      2.104      0.035       0.004       0.106\n",
      "support               0.6684      0.027     24.785      0.000       0.615       0.721\n",
      "interaction          -0.2632      0.197     -1.336      0.182      -0.650       0.123\n",
      "==============================================================================\n",
      "Omnibus:                      104.677   Durbin-Watson:                   2.035\n",
      "Prob(Omnibus):                  0.000   Jarque-Bera (JB):              118.291\n",
      "Skew:                          -0.548   Prob(JB):                     2.06e-26\n",
      "Kurtosis:                       3.222   Cond. No.                         56.7\n",
      "==============================================================================\n",
      "\n",
      "Notes:\n",
      "[1] Standard Errors assume that the covariance matrix of the errors is correctly specified.\n"
     ]
    }
   ],
   "source": [
    "df_high['interaction'] = df_high['academic_pressure'] * df_high['support']\n",
    "\n",
    "model = smf.ols('parent_rel ~ academic_pressure + support + interaction', data=df_high).fit()\n",
    "print(model.summary())"
   ]
  },
  {
   "cell_type": "code",
   "execution_count": 209,
   "metadata": {},
   "outputs": [
    {
     "name": "stdout",
     "output_type": "stream",
     "text": [
      "                            OLS Regression Results                            \n",
      "==============================================================================\n",
      "Dep. Variable:             parent_rel   R-squared:                       0.319\n",
      "Model:                            OLS   Adj. R-squared:                  0.318\n",
      "Method:                 Least Squares   F-statistic:                     353.8\n",
      "Date:                Thu, 24 Apr 2025   Prob (F-statistic):          1.86e-188\n",
      "Time:                        15:12:29   Log-Likelihood:                 1013.0\n",
      "No. Observations:                2272   AIC:                            -2018.\n",
      "Df Residuals:                    2268   BIC:                            -1995.\n",
      "Df Model:                           3                                         \n",
      "Covariance Type:            nonrobust                                         \n",
      "===================================================================================\n",
      "                      coef    std err          t      P>|t|      [0.025      0.975]\n",
      "-----------------------------------------------------------------------------------\n",
      "Intercept          -0.0057      0.003     -1.654      0.098      -0.012       0.001\n",
      "emotional_state     0.4368      0.024     18.221      0.000       0.390       0.484\n",
      "support             0.5015      0.028     18.085      0.000       0.447       0.556\n",
      "interaction         0.2366      0.163      1.453      0.146      -0.083       0.556\n",
      "==============================================================================\n",
      "Omnibus:                       63.542   Durbin-Watson:                   2.079\n",
      "Prob(Omnibus):                  0.000   Jarque-Bera (JB):               68.571\n",
      "Skew:                          -0.406   Prob(JB):                     1.29e-15\n",
      "Kurtosis:                       3.255   Cond. No.                         50.1\n",
      "==============================================================================\n",
      "\n",
      "Notes:\n",
      "[1] Standard Errors assume that the covariance matrix of the errors is correctly specified.\n"
     ]
    }
   ],
   "source": [
    "df_high['interaction'] = df_high['emotional_state'] * df_high['support']\n",
    "\n",
    "model = smf.ols('parent_rel ~ emotional_state + support + interaction', data=df_high).fit()\n",
    "print(model.summary())"
   ]
  },
  {
   "cell_type": "code",
   "execution_count": 210,
   "metadata": {},
   "outputs": [
    {
     "name": "stdout",
     "output_type": "stream",
     "text": [
      "                            OLS Regression Results                            \n",
      "==============================================================================\n",
      "Dep. Variable:                impulse   R-squared:                       0.218\n",
      "Model:                            OLS   Adj. R-squared:                  0.217\n",
      "Method:                 Least Squares   F-statistic:                     211.0\n",
      "Date:                Thu, 24 Apr 2025   Prob (F-statistic):          1.03e-120\n",
      "Time:                        15:12:29   Log-Likelihood:                -1573.0\n",
      "No. Observations:                2272   AIC:                             3154.\n",
      "Df Residuals:                    2268   BIC:                             3177.\n",
      "Df Model:                           3                                         \n",
      "Covariance Type:            nonrobust                                         \n",
      "===================================================================================\n",
      "                      coef    std err          t      P>|t|      [0.025      0.975]\n",
      "-----------------------------------------------------------------------------------\n",
      "Intercept          -0.0251      0.011     -2.332      0.020      -0.046      -0.004\n",
      "emotional_state    -1.2578      0.075    -16.809      0.000      -1.405      -1.111\n",
      "support            -0.7997      0.087     -9.240      0.000      -0.969      -0.630\n",
      "interaction         1.6253      0.508      3.199      0.001       0.629       2.622\n",
      "==============================================================================\n",
      "Omnibus:                      237.281   Durbin-Watson:                   2.006\n",
      "Prob(Omnibus):                  0.000   Jarque-Bera (JB):              313.829\n",
      "Skew:                           0.885   Prob(JB):                     7.13e-69\n",
      "Kurtosis:                       3.423   Cond. No.                         50.1\n",
      "==============================================================================\n",
      "\n",
      "Notes:\n",
      "[1] Standard Errors assume that the covariance matrix of the errors is correctly specified.\n"
     ]
    }
   ],
   "source": [
    "df_high['interaction'] = df_high['emotional_state'] * df_high['support']\n",
    "\n",
    "model = smf.ols('impulse ~ emotional_state + support + interaction', data=df_high).fit()\n",
    "print(model.summary())"
   ]
  },
  {
   "cell_type": "code",
   "execution_count": 211,
   "metadata": {},
   "outputs": [
    {
     "name": "stdout",
     "output_type": "stream",
     "text": [
      "                            OLS Regression Results                            \n",
      "==============================================================================\n",
      "Dep. Variable:        crisis_behavior   R-squared:                       0.076\n",
      "Model:                            OLS   Adj. R-squared:                  0.075\n",
      "Method:                 Least Squares   F-statistic:                     62.48\n",
      "Date:                Thu, 24 Apr 2025   Prob (F-statistic):           8.30e-39\n",
      "Time:                        15:12:30   Log-Likelihood:                 4512.4\n",
      "No. Observations:                2272   AIC:                            -9017.\n",
      "Df Residuals:                    2268   BIC:                            -8994.\n",
      "Df Model:                           3                                         \n",
      "Covariance Type:            nonrobust                                         \n",
      "===================================================================================\n",
      "                      coef    std err          t      P>|t|      [0.025      0.975]\n",
      "-----------------------------------------------------------------------------------\n",
      "Intercept           0.0001      0.001      0.203      0.839      -0.001       0.002\n",
      "emotional_state    -0.0383      0.005     -7.452      0.000      -0.048      -0.028\n",
      "support            -0.0403      0.006     -6.787      0.000      -0.052      -0.029\n",
      "interaction         0.0683      0.035      1.958      0.050   -8.82e-05       0.137\n",
      "==============================================================================\n",
      "Omnibus:                     1686.703   Durbin-Watson:                   1.937\n",
      "Prob(Omnibus):                  0.000   Jarque-Bera (JB):            31345.279\n",
      "Skew:                           3.381   Prob(JB):                         0.00\n",
      "Kurtosis:                      19.894   Cond. No.                         50.1\n",
      "==============================================================================\n",
      "\n",
      "Notes:\n",
      "[1] Standard Errors assume that the covariance matrix of the errors is correctly specified.\n"
     ]
    }
   ],
   "source": [
    "df_high['interaction'] = df_high['emotional_state'] * df_high['support']\n",
    "\n",
    "model = smf.ols('crisis_behavior ~ emotional_state + support + interaction', data=df_high).fit()\n",
    "print(model.summary())"
   ]
  },
  {
   "cell_type": "code",
   "execution_count": 212,
   "metadata": {},
   "outputs": [
    {
     "name": "stdout",
     "output_type": "stream",
     "text": [
      "                            OLS Regression Results                            \n",
      "==============================================================================\n",
      "Dep. Variable:      academic_pressure   R-squared:                       0.007\n",
      "Model:                            OLS   Adj. R-squared:                  0.005\n",
      "Method:                 Least Squares   F-statistic:                     4.972\n",
      "Date:                Thu, 24 Apr 2025   Prob (F-statistic):            0.00193\n",
      "Time:                        15:12:30   Log-Likelihood:                 1363.9\n",
      "No. Observations:                2272   AIC:                            -2720.\n",
      "Df Residuals:                    2268   BIC:                            -2697.\n",
      "Df Model:                           3                                         \n",
      "Covariance Type:            nonrobust                                         \n",
      "===============================================================================\n",
      "                  coef    std err          t      P>|t|      [0.025      0.975]\n",
      "-------------------------------------------------------------------------------\n",
      "Intercept      -0.0131      0.003     -4.379      0.000      -0.019      -0.007\n",
      "human_rel       0.1351      0.051      2.638      0.008       0.035       0.235\n",
      "support         0.0045      0.023      0.194      0.846      -0.041       0.050\n",
      "interaction    -0.7549      0.369     -2.045      0.041      -1.479      -0.031\n",
      "==============================================================================\n",
      "Omnibus:                       43.155   Durbin-Watson:                   1.981\n",
      "Prob(Omnibus):                  0.000   Jarque-Bera (JB):               50.173\n",
      "Skew:                          -0.279   Prob(JB):                     1.27e-11\n",
      "Kurtosis:                       3.466   Cond. No.                         132.\n",
      "==============================================================================\n",
      "\n",
      "Notes:\n",
      "[1] Standard Errors assume that the covariance matrix of the errors is correctly specified.\n"
     ]
    }
   ],
   "source": [
    "df_high['interaction'] = df_high['human_rel'] * df_high['support']\n",
    "\n",
    "model = smf.ols('academic_pressure ~ human_rel + support + interaction', data=df_high).fit()\n",
    "print(model.summary())"
   ]
  },
  {
   "cell_type": "code",
   "execution_count": 213,
   "metadata": {},
   "outputs": [
    {
     "name": "stdout",
     "output_type": "stream",
     "text": [
      "                            OLS Regression Results                            \n",
      "==============================================================================\n",
      "Dep. Variable:        emotional_state   R-squared:                       0.156\n",
      "Model:                            OLS   Adj. R-squared:                  0.155\n",
      "Method:                 Least Squares   F-statistic:                     139.4\n",
      "Date:                Thu, 24 Apr 2025   Prob (F-statistic):           7.14e-83\n",
      "Time:                        15:12:30   Log-Likelihood:                 1322.6\n",
      "No. Observations:                2272   AIC:                            -2637.\n",
      "Df Residuals:                    2268   BIC:                            -2614.\n",
      "Df Model:                           3                                         \n",
      "Covariance Type:            nonrobust                                         \n",
      "=========================================================================================\n",
      "                            coef    std err          t      P>|t|      [0.025      0.975]\n",
      "-----------------------------------------------------------------------------------------\n",
      "Intercept                -0.0097      0.004     -2.744      0.006      -0.017      -0.003\n",
      "financial_environment     1.0926      0.178      6.130      0.000       0.743       1.442\n",
      "support                  -0.5913      0.173     -3.421      0.001      -0.930      -0.252\n",
      "interaction               0.2039      0.137      1.492      0.136      -0.064       0.472\n",
      "==============================================================================\n",
      "Omnibus:                      102.508   Durbin-Watson:                   1.926\n",
      "Prob(Omnibus):                  0.000   Jarque-Bera (JB):              116.026\n",
      "Skew:                          -0.553   Prob(JB):                     6.39e-26\n",
      "Kurtosis:                       3.039   Cond. No.                         87.8\n",
      "==============================================================================\n",
      "\n",
      "Notes:\n",
      "[1] Standard Errors assume that the covariance matrix of the errors is correctly specified.\n"
     ]
    }
   ],
   "source": [
    "df_high['interaction'] = df_high['financial_environment'] * df_high['support']\n",
    "\n",
    "model = smf.ols('emotional_state ~ financial_environment + support + interaction', data=df_high).fit()\n",
    "print(model.summary())"
   ]
  },
  {
   "cell_type": "code",
   "execution_count": 214,
   "metadata": {},
   "outputs": [
    {
     "name": "stdout",
     "output_type": "stream",
     "text": [
      "                            OLS Regression Results                            \n",
      "==============================================================================\n",
      "Dep. Variable:        crisis_behavior   R-squared:                       0.056\n",
      "Model:                            OLS   Adj. R-squared:                  0.055\n",
      "Method:                 Least Squares   F-statistic:                     44.81\n",
      "Date:                Thu, 24 Apr 2025   Prob (F-statistic):           3.95e-28\n",
      "Time:                        15:12:30   Log-Likelihood:                 4487.6\n",
      "No. Observations:                2272   AIC:                            -8967.\n",
      "Df Residuals:                    2268   BIC:                            -8944.\n",
      "Df Model:                           3                                         \n",
      "Covariance Type:            nonrobust                                         \n",
      "===================================================================================\n",
      "                      coef    std err          t      P>|t|      [0.025      0.975]\n",
      "-----------------------------------------------------------------------------------\n",
      "Intercept           0.0011      0.001      1.594      0.111      -0.000       0.003\n",
      "academic_stress    -0.0083      0.003     -3.122      0.002      -0.013      -0.003\n",
      "support            -0.0625      0.005    -11.408      0.000      -0.073      -0.052\n",
      "interaction         0.0328      0.020      1.662      0.097      -0.006       0.071\n",
      "==============================================================================\n",
      "Omnibus:                     1637.355   Durbin-Watson:                   1.962\n",
      "Prob(Omnibus):                  0.000   Jarque-Bera (JB):            28772.055\n",
      "Skew:                           3.257   Prob(JB):                         0.00\n",
      "Kurtosis:                      19.171   Cond. No.                         28.0\n",
      "==============================================================================\n",
      "\n",
      "Notes:\n",
      "[1] Standard Errors assume that the covariance matrix of the errors is correctly specified.\n"
     ]
    }
   ],
   "source": [
    "df_high['interaction'] = df_high['academic_stress'] * df_high['support']\n",
    "\n",
    "model = smf.ols('crisis_behavior ~ academic_stress + support + interaction', data=df_high).fit()\n",
    "print(model.summary())"
   ]
  },
  {
   "cell_type": "markdown",
   "metadata": {},
   "source": [
    "# 종합"
   ]
  },
  {
   "cell_type": "code",
   "execution_count": 215,
   "metadata": {},
   "outputs": [],
   "source": [
    "everything = pd.concat([df_edu, df_rel, emo, body, df_vio, crisis, support], axis=1)"
   ]
  },
  {
   "cell_type": "code",
   "execution_count": 216,
   "metadata": {},
   "outputs": [],
   "source": [
    "everything = everything.loc[:, ~everything.columns.duplicated()]"
   ]
  },
  {
   "cell_type": "code",
   "execution_count": 217,
   "metadata": {},
   "outputs": [
    {
     "data": {
      "text/plain": [
       "2272"
      ]
     },
     "metadata": {},
     "output_type": "display_data"
    },
    {
     "data": {
      "text/html": [
       "<div>\n",
       "<style scoped>\n",
       "    .dataframe tbody tr th:only-of-type {\n",
       "        vertical-align: middle;\n",
       "    }\n",
       "\n",
       "    .dataframe tbody tr th {\n",
       "        vertical-align: top;\n",
       "    }\n",
       "\n",
       "    .dataframe thead th {\n",
       "        text-align: right;\n",
       "    }\n",
       "</style>\n",
       "<table border=\"1\" class=\"dataframe\">\n",
       "  <thead>\n",
       "    <tr style=\"text-align: right;\">\n",
       "      <th></th>\n",
       "      <th>q071</th>\n",
       "      <th>q072</th>\n",
       "      <th>q073</th>\n",
       "      <th>q074</th>\n",
       "      <th>q485</th>\n",
       "      <th>q486</th>\n",
       "      <th>q487</th>\n",
       "      <th>q488</th>\n",
       "      <th>wt</th>\n",
       "      <th>q05</th>\n",
       "      <th>...</th>\n",
       "      <th>q288</th>\n",
       "      <th>q289</th>\n",
       "      <th>q2810</th>\n",
       "      <th>q29</th>\n",
       "      <th>q31</th>\n",
       "      <th>q38</th>\n",
       "      <th>q4816</th>\n",
       "      <th>q4817</th>\n",
       "      <th>need_money</th>\n",
       "      <th>school</th>\n",
       "    </tr>\n",
       "  </thead>\n",
       "  <tbody>\n",
       "    <tr>\n",
       "      <th>0</th>\n",
       "      <td>0.000000</td>\n",
       "      <td>0.000000</td>\n",
       "      <td>0.000000</td>\n",
       "      <td>0.666667</td>\n",
       "      <td>0.75</td>\n",
       "      <td>0.50</td>\n",
       "      <td>1.0</td>\n",
       "      <td>0.0</td>\n",
       "      <td>0.250048</td>\n",
       "      <td>1.00</td>\n",
       "      <td>...</td>\n",
       "      <td>0</td>\n",
       "      <td>0</td>\n",
       "      <td>0</td>\n",
       "      <td>0</td>\n",
       "      <td>0</td>\n",
       "      <td>1</td>\n",
       "      <td>1.00</td>\n",
       "      <td>1.00</td>\n",
       "      <td>1</td>\n",
       "      <td>고등학생</td>\n",
       "    </tr>\n",
       "    <tr>\n",
       "      <th>1</th>\n",
       "      <td>0.333333</td>\n",
       "      <td>0.333333</td>\n",
       "      <td>0.333333</td>\n",
       "      <td>0.333333</td>\n",
       "      <td>0.25</td>\n",
       "      <td>0.25</td>\n",
       "      <td>0.5</td>\n",
       "      <td>0.5</td>\n",
       "      <td>0.250048</td>\n",
       "      <td>0.75</td>\n",
       "      <td>...</td>\n",
       "      <td>0</td>\n",
       "      <td>0</td>\n",
       "      <td>0</td>\n",
       "      <td>0</td>\n",
       "      <td>0</td>\n",
       "      <td>1</td>\n",
       "      <td>1.00</td>\n",
       "      <td>1.00</td>\n",
       "      <td>1</td>\n",
       "      <td>고등학생</td>\n",
       "    </tr>\n",
       "    <tr>\n",
       "      <th>2</th>\n",
       "      <td>0.000000</td>\n",
       "      <td>0.000000</td>\n",
       "      <td>0.000000</td>\n",
       "      <td>0.000000</td>\n",
       "      <td>0.50</td>\n",
       "      <td>0.50</td>\n",
       "      <td>0.5</td>\n",
       "      <td>0.5</td>\n",
       "      <td>0.250048</td>\n",
       "      <td>1.00</td>\n",
       "      <td>...</td>\n",
       "      <td>0</td>\n",
       "      <td>0</td>\n",
       "      <td>0</td>\n",
       "      <td>1</td>\n",
       "      <td>0</td>\n",
       "      <td>1</td>\n",
       "      <td>0.75</td>\n",
       "      <td>0.75</td>\n",
       "      <td>1</td>\n",
       "      <td>고등학생</td>\n",
       "    </tr>\n",
       "  </tbody>\n",
       "</table>\n",
       "<p>3 rows × 53 columns</p>\n",
       "</div>"
      ],
      "text/plain": [
       "       q071      q072      q073      q074  q485  q486  q487  q488        wt  \\\n",
       "0  0.000000  0.000000  0.000000  0.666667  0.75  0.50   1.0   0.0  0.250048   \n",
       "1  0.333333  0.333333  0.333333  0.333333  0.25  0.25   0.5   0.5  0.250048   \n",
       "2  0.000000  0.000000  0.000000  0.000000  0.50  0.50   0.5   0.5  0.250048   \n",
       "\n",
       "    q05  ...  q288  q289  q2810  q29  q31  q38  q4816  q4817  need_money  \\\n",
       "0  1.00  ...     0     0      0    0    0    1   1.00   1.00           1   \n",
       "1  0.75  ...     0     0      0    0    0    1   1.00   1.00           1   \n",
       "2  1.00  ...     0     0      0    1    0    1   0.75   0.75           1   \n",
       "\n",
       "   school  \n",
       "0    고등학생  \n",
       "1    고등학생  \n",
       "2    고등학생  \n",
       "\n",
       "[3 rows x 53 columns]"
      ]
     },
     "metadata": {},
     "output_type": "display_data"
    }
   ],
   "source": [
    "everything = pd.concat([everything, df[['school']]], axis=1)\n",
    "everything = everything[everything['school'] == '고등학생']\n",
    "len(everything)\n",
    "display(len(everything))\n",
    "display(everything.head(3))"
   ]
  },
  {
   "cell_type": "code",
   "execution_count": 218,
   "metadata": {},
   "outputs": [
    {
     "name": "stderr",
     "output_type": "stream",
     "text": [
      "WARNING:root:Fisher Information Matrix is not PD.Moore-Penrose inverse will be used instead of Cholesky decomposition. See 10.1109/TSP.2012.2208105.\n"
     ]
    },
    {
     "name": "stdout",
     "output_type": "stream",
     "text": [
      "적합도 지표:\n",
      "                       Value\n",
      "DoF              615.000000\n",
      "DoF Baseline     703.000000\n",
      "chi2            3490.817326\n",
      "chi2 p-value       0.000000\n",
      "chi2 Baseline  39922.596311\n",
      "CFI                0.926674\n",
      "GFI                0.912560\n",
      "AGFI               0.900049\n",
      "NFI                0.912560\n",
      "TLI                0.916182\n",
      "RMSEA              0.045377\n",
      "AIC              248.927097\n",
      "BIC              970.707486\n",
      "LogLik             1.536451 \n",
      "\n",
      "\n",
      "모수 추정치:\n",
      "                 lval  op               rval  Estimate  Std. Err    z-value  \\\n",
      "0    academic_stress   ~  academic_pressure  1.000000         -          -   \n",
      "1       exam_anxiety   ~  academic_pressure -0.027025   0.00343  -7.879594   \n",
      "2         father_rel   ~         parent_rel  1.000000         -          -   \n",
      "3         mother_rel   ~         parent_rel  0.802694  0.044686   17.96287   \n",
      "4         friend_rel   ~          human_rel  1.000000         -          -   \n",
      "..               ...  ..                ...       ...       ...        ...   \n",
      "142            q4817  ~~              q4817  0.018205  0.001601  11.368979   \n",
      "143             q485  ~~               q485  0.038939   0.00156  24.958165   \n",
      "144             q486  ~~               q486  0.035289  0.001469  24.019649   \n",
      "145             q487  ~~               q487  0.044070  0.001655   26.62337   \n",
      "146             q488  ~~               q488  0.060094  0.002004  29.984976   \n",
      "\n",
      "    p-value  \n",
      "0         -  \n",
      "1       0.0  \n",
      "2         -  \n",
      "3       0.0  \n",
      "4         -  \n",
      "..      ...  \n",
      "142     0.0  \n",
      "143     0.0  \n",
      "144     0.0  \n",
      "145     0.0  \n",
      "146     0.0  \n",
      "\n",
      "[147 rows x 7 columns]\n"
     ]
    }
   ],
   "source": [
    "model_desc = \"\"\"\n",
    "academic_stress =~ q072 + q073\n",
    "exam_anxiety =~ q485 + q486 + q487 + q488\n",
    "academic_pressure =~  academic_stress + exam_anxiety\n",
    "\n",
    "friend_rel =~ q132 + q136\n",
    "teacher_rel =~ q061 + q062\n",
    "father_rel =~ q161 + q163\n",
    "mother_rel =~ q171 + q173\n",
    "parent_rel =~ father_rel + mother_rel\n",
    "group_rel =~ q224 + q225\n",
    "human_rel =~ friend_rel + teacher_rel + parent_rel + group_rel\n",
    "father_rel ~~ mother_rel\n",
    "\n",
    "emotional_state =~ q221 + q223 + q226 + q23\n",
    "\n",
    "body_image_stress =~ q4812 + q4813 + q4814 + q4815\n",
    "body_info =~ obesity\n",
    "\n",
    "body_image_experience =~ body_image_stress\n",
    "body_image_experience ~~ body_info\n",
    "\n",
    "exposure_violence =~ q35 + q351 + q352\n",
    "\n",
    "substance =~  q287 + q288 + q289\n",
    "impulse =~ q29 + q31\n",
    "crisis_behavior =~ substance + q2810 + impulse\n",
    "\n",
    "financial_support =~ q4816 + q4817 + need_money\n",
    "financial_environment =~ q38\n",
    "support =~ financial_support\n",
    "financial_support ~~ financial_environment\n",
    "\n",
    "# [1] 정서 상태(emotional_state)에 영향을 주는 요인들\n",
    "emotional_state ~ academic_pressure          # 학업 압박이 정서 상태에 영향\n",
    "emotional_state ~ human_rel                  # 인간 관계 → 정서 안정\n",
    "emotional_state ~ body_image_experience      # 신체 이미지 경험 → 정서 상태\n",
    "emotional_state ~ academic_stress            # 학업 스트레스 → 정서 상태\n",
    "emotional_state ~ exposure_violence          # 폭력 노출 → 정서 상태\n",
    "emotional_state ~ parent_rel                 # 부모와의 관계 → 정서 상태\n",
    "emotional_state ~ friend_rel                 # 친구 관계 → 정서 상태\n",
    "\n",
    "# [2] 충동성과 위기행동에 영향을 주는 정서 상태\n",
    "impulse ~ emotional_state                    # 감정 상태 → 충동성\n",
    "crisis_behavior ~ emotional_state            # 정서 상태 → 위기 행동\n",
    "\n",
    "# [3] 폭력 노출의 영향\n",
    "impulse ~ exposure_violence                  # 폭력 경험 → 충동성\n",
    "human_rel ~ exposure_violence                # 폭력 경험 → 인간관계 악화\n",
    "\n",
    "# [4] 학업 압박 관련 경로들\n",
    "academic_pressure ~ emotional_state          # 정서 상태 → 학업 압박\n",
    "academic_pressure ~ exam_anxiety             # 시험 불안 → 학업 압박\n",
    "academic_pressure ~ teacher_rel              # 교사 관계 → 학업 압박\n",
    "academic_pressure ~ human_rel                # 인간 관계 악화 → 학업 압박 증가\n",
    "\n",
    "# [5] 학업 스트레스 관련 경로\n",
    "academic_stress ~ human_rel                  # 좋은 인간 관계 → 학업 스트레스 완충\n",
    "academic_stress ~ parent_rel                 # 부모 관계 → 학업 스트레스\n",
    "\n",
    "# [6] 인간 관계에 영향을 주는 경로\n",
    "human_rel ~ academic_pressure                # 학업 압박 → 인간 관계 악화\n",
    "parent_rel ~ substance                       # 물질 사용 → 부모 관계 악화\n",
    "\n",
    "# [7] 충동성과 위기행동\n",
    "impulse ~ academic_pressure                  # 학업 압박 → 충동성\n",
    "impulse ~ friend_rel                         # 친구 관계 → 충동 억제\n",
    "crisis_behavior ~ academic_pressure          # 학업 압박 → 위기 행동\n",
    "\n",
    "# [8] 정서 ↔ 신체 이미지 경험 간 상호작용\n",
    "body_image_experience ~ emotional_state      # 정서 상태 → 신체 이미지 인식\n",
    "\n",
    "# [9] 가족의 지원(support)의 영향\n",
    "emotional_state ~ support                   # 가족 지원 → 정서 안정\n",
    "human_rel ~ support                         # 가족 지원 → 인간관계 향상\n",
    "academic_stress ~ support                   # 가족 지원 → 학업 스트레스 완충\n",
    "impulse ~ support                           # 가족 지원 → 충동성 억제\n",
    "crisis_behavior ~ support                   # 가족 지원 → 위기 행동 완화\n",
    "emotional_state ~ financial_environment     # 경제 환경 → 정서 안정\n",
    "\n",
    "\"\"\"\n",
    "\n",
    "observed_vars = [\n",
    "    'q072', 'q073', 'q485', 'q486', 'q487', 'q488', 'q221', 'q223', 'q226', 'q23',\n",
    "    'q132', 'q136', 'q061', 'q062', 'q161', 'q163', 'q171', 'q173', 'q224', 'q225',\n",
    "    'q4812', 'q4813', 'q4814', 'q4815', 'obesity', 'q42', 'q43',\n",
    "    'q33', 'q35', 'q351', 'q352', \n",
    "    'q287', 'q288', 'q289', 'q2810','q29', 'q31',\n",
    "    'q4816', 'q4817', 'q38', 'need_money', 'q162', 'q172'\n",
    "                ]\n",
    "w_cov_df = calculate_covariance(everything, observed_vars)\n",
    "vif_df = compute_vif(everything, observed_vars)\n",
    "model = Model(model_desc)\n",
    "model = fit_sem_model(model, everything, w_cov_df)\n",
    "stats = calc_stats(model)\n",
    "estimates = model.inspect()\n",
    "print(\"적합도 지표:\\n\", stats.T, \"\\n\\n\")\n",
    "print(\"모수 추정치:\\n\", estimates)"
   ]
  }
 ],
 "metadata": {
  "kernelspec": {
   "display_name": "kernel",
   "language": "python",
   "name": "kernel"
  },
  "language_info": {
   "codemirror_mode": {
    "name": "ipython",
    "version": 3
   },
   "file_extension": ".py",
   "mimetype": "text/x-python",
   "name": "python",
   "nbconvert_exporter": "python",
   "pygments_lexer": "ipython3",
   "version": "3.11.2"
  }
 },
 "nbformat": 4,
 "nbformat_minor": 2
}
