{
 "cells": [
  {
   "cell_type": "code",
   "execution_count": 1,
   "metadata": {},
   "outputs": [],
   "source": [
    "import pandas as pd\n",
    "import numpy as np\n",
    "from IPython.display import display\n",
    "import warnings\n",
    "warnings.filterwarnings(\"ignore\", category=FutureWarning)"
   ]
  },
  {
   "cell_type": "code",
   "execution_count": 2,
   "metadata": {},
   "outputs": [
    {
     "data": {
      "text/html": [
       "<div>\n",
       "<style scoped>\n",
       "    .dataframe tbody tr th:only-of-type {\n",
       "        vertical-align: middle;\n",
       "    }\n",
       "\n",
       "    .dataframe tbody tr th {\n",
       "        vertical-align: top;\n",
       "    }\n",
       "\n",
       "    .dataframe thead th {\n",
       "        text-align: right;\n",
       "    }\n",
       "</style>\n",
       "<table border=\"1\" class=\"dataframe\">\n",
       "  <thead>\n",
       "    <tr style=\"text-align: right;\">\n",
       "      <th></th>\n",
       "      <th>id</th>\n",
       "      <th>sex</th>\n",
       "      <th>birthy</th>\n",
       "      <th>birthm</th>\n",
       "      <th>area</th>\n",
       "      <th>size</th>\n",
       "      <th>school</th>\n",
       "      <th>grade</th>\n",
       "      <th>home1</th>\n",
       "      <th>home2</th>\n",
       "      <th>...</th>\n",
       "      <th>q512</th>\n",
       "      <th>q513</th>\n",
       "      <th>q514</th>\n",
       "      <th>q52</th>\n",
       "      <th>q53</th>\n",
       "      <th>q5411</th>\n",
       "      <th>q5412</th>\n",
       "      <th>q5421</th>\n",
       "      <th>q5422</th>\n",
       "      <th>wt</th>\n",
       "    </tr>\n",
       "  </thead>\n",
       "  <tbody>\n",
       "    <tr>\n",
       "      <th>0</th>\n",
       "      <td>20001.0</td>\n",
       "      <td>여성</td>\n",
       "      <td>2003.0</td>\n",
       "      <td>4월</td>\n",
       "      <td>충청권(대전, 충남, 충북)</td>\n",
       "      <td>도서벽지 및 읍면지역</td>\n",
       "      <td>고등학생</td>\n",
       "      <td>3학년</td>\n",
       "      <td>아니오</td>\n",
       "      <td>아니오</td>\n",
       "      <td>...</td>\n",
       "      <td>해당 없음</td>\n",
       "      <td>차이 없음</td>\n",
       "      <td>차이 없음</td>\n",
       "      <td>28.0</td>\n",
       "      <td>그대로다</td>\n",
       "      <td>NaN</td>\n",
       "      <td>NaN</td>\n",
       "      <td>NaN</td>\n",
       "      <td>NaN</td>\n",
       "      <td>0.250048</td>\n",
       "    </tr>\n",
       "    <tr>\n",
       "      <th>1</th>\n",
       "      <td>20002.0</td>\n",
       "      <td>여성</td>\n",
       "      <td>2003.0</td>\n",
       "      <td>8월</td>\n",
       "      <td>충청권(대전, 충남, 충북)</td>\n",
       "      <td>도서벽지 및 읍면지역</td>\n",
       "      <td>고등학생</td>\n",
       "      <td>3학년</td>\n",
       "      <td>예</td>\n",
       "      <td>예</td>\n",
       "      <td>...</td>\n",
       "      <td>차이 없음</td>\n",
       "      <td>차이 없음</td>\n",
       "      <td>차이 없음</td>\n",
       "      <td>20.0</td>\n",
       "      <td>그대로다</td>\n",
       "      <td>NaN</td>\n",
       "      <td>NaN</td>\n",
       "      <td>NaN</td>\n",
       "      <td>NaN</td>\n",
       "      <td>0.250048</td>\n",
       "    </tr>\n",
       "    <tr>\n",
       "      <th>2</th>\n",
       "      <td>20003.0</td>\n",
       "      <td>여성</td>\n",
       "      <td>2003.0</td>\n",
       "      <td>9월</td>\n",
       "      <td>충청권(대전, 충남, 충북)</td>\n",
       "      <td>도서벽지 및 읍면지역</td>\n",
       "      <td>고등학생</td>\n",
       "      <td>3학년</td>\n",
       "      <td>예</td>\n",
       "      <td>예</td>\n",
       "      <td>...</td>\n",
       "      <td>차이 없음</td>\n",
       "      <td>차이 없음</td>\n",
       "      <td>차이 없음</td>\n",
       "      <td>30.0</td>\n",
       "      <td>그대로다</td>\n",
       "      <td>NaN</td>\n",
       "      <td>NaN</td>\n",
       "      <td>NaN</td>\n",
       "      <td>NaN</td>\n",
       "      <td>0.250048</td>\n",
       "    </tr>\n",
       "  </tbody>\n",
       "</table>\n",
       "<p>3 rows × 277 columns</p>\n",
       "</div>"
      ],
      "text/plain": [
       "        id sex  birthy birthm             area         size school grade  \\\n",
       "0  20001.0  여성  2003.0     4월  충청권(대전, 충남, 충북)  도서벽지 및 읍면지역   고등학생   3학년   \n",
       "1  20002.0  여성  2003.0     8월  충청권(대전, 충남, 충북)  도서벽지 및 읍면지역   고등학생   3학년   \n",
       "2  20003.0  여성  2003.0     9월  충청권(대전, 충남, 충북)  도서벽지 및 읍면지역   고등학생   3학년   \n",
       "\n",
       "  home1 home2  ...   q512   q513   q514   q52   q53 q5411 q5412 q5421 q5422  \\\n",
       "0   아니오   아니오  ...  해당 없음  차이 없음  차이 없음  28.0  그대로다   NaN   NaN   NaN   NaN   \n",
       "1     예     예  ...  차이 없음  차이 없음  차이 없음  20.0  그대로다   NaN   NaN   NaN   NaN   \n",
       "2     예     예  ...  차이 없음  차이 없음  차이 없음  30.0  그대로다   NaN   NaN   NaN   NaN   \n",
       "\n",
       "         wt  \n",
       "0  0.250048  \n",
       "1  0.250048  \n",
       "2  0.250048  \n",
       "\n",
       "[3 rows x 277 columns]"
      ]
     },
     "execution_count": 2,
     "metadata": {},
     "output_type": "execute_result"
    }
   ],
   "source": [
    "df = pd.read_spss('C:\\\\data\\\\education\\\\한국아동청소년행복지수조사\\\\kor_data_20210010.sav')\n",
    "df.head(3)"
   ]
  },
  {
   "cell_type": "code",
   "execution_count": 3,
   "metadata": {},
   "outputs": [],
   "source": [
    "# for i in range(1, 8):\n",
    "#     print(f\"'q12{i}1','q12{i}2','q12{i}3','q12{i}4','q12{i}5', \")"
   ]
  },
  {
   "cell_type": "code",
   "execution_count": 4,
   "metadata": {},
   "outputs": [],
   "source": [
    "# 기본 정보\n",
    "basic_info = ['id', 'sex', 'school', 'grade']\n",
    "# 친구 관계\n",
    "friend = ['q05', 'q11']\n",
    "about_friend = [\n",
    "          'q1211', 'q1212', 'q1213', 'q1214', 'q1215', \n",
    "          'q1221', 'q1222', 'q1223', 'q1224', 'q1225', \n",
    "          'q1231', 'q1232', 'q1233', 'q1234', 'q1235', \n",
    "          'q1241', 'q1242', 'q1243', 'q1244', 'q1245', \n",
    "          'q1251', 'q1252', 'q1253', 'q1254', 'q1255', \n",
    "          'q1261', 'q1262', 'q1263', 'q1264', 'q1265', \n",
    "          'q1271', 'q1272', 'q1273', 'q1274', 'q1275'\n",
    "          ]\n",
    "\n",
    "# 교사 관계\n",
    "teacher = ['q061', 'q062']\n",
    "\n",
    "# 신뢰할 수 있는 사람\n",
    "trust_person = ['q10']\n",
    "\n",
    "# 학업 관련\n",
    "study = ['q072', 'q073', 'q074']\n",
    "\n",
    "# 사교육 관련\n",
    "pri_edu = ['q09', 'q0911', 'q0912', 'q0921', 'q0922', 'q0923', 'q0924']\n",
    "\n",
    "# 학교폭력 및 외부 폭력\n",
    "school_violence = ['q33', 'q34', 'q35', 'q351', 'q352', 'q3531', 'q3532', 'q3533', 'q3534', \n",
    "                   'q3535', 'q3536', 'q3537', 'q3541', 'q3542', 'q3543', 'q3544', 'q3545', \n",
    "                   'q3546', 'q3547', 'q3551', 'q3552', 'q3553', 'q3554', 'q3555', 'q3556', \n",
    "                   'q3557', 'q36', 'q371', 'q372']\n",
    "\n",
    "# 경제적 스트레스 및 불안\n",
    "economic_stress = ['q481', 'q482', 'q483', 'q484', 'q485', 'q486', 'q487', 'q488', 'q489', \n",
    "                   'q4810', 'q4811', 'q4812', 'q4813', 'q4814', 'q4815', 'q4816', 'q4817']\n",
    "\n",
    "# 가정 내 관계\n",
    "family_rel = ['q141', 'q142', 'q143', 'q144', 'q145', 'q146', 'q147', 'q148', 'q149', 'q1410', \n",
    "              'q1411', 'q1412', 'q151', 'q152', 'q153', 'q154', 'q155', 'q161', 'q162', 'q163', \n",
    "              'q164', 'q165', 'q166', 'q167', 'q168']\n",
    "\n",
    "# 정서적 및 사회적 삶\n",
    "emotional_social = ['q221', 'q222', 'q223', 'q224', 'q225', 'q226', 'q23', 'q241', 'q242', 'q25', \n",
    "                    'q26', 'q27']\n",
    "\n",
    "# 학교 생활과 잠, 휴식\n",
    "sleep_lifestyle = ['q42', 'q43', 'q44', 'q45', 'q46', 'q391', 'q392', 'q401', 'q402', 'q41', 'q411']\n",
    "\n",
    "# 자살, 가출 관련\n",
    "suicide_runaway = ['q29', 'q301', 'q302', 'q31', 'q32']\n"
   ]
  },
  {
   "cell_type": "code",
   "execution_count": 5,
   "metadata": {},
   "outputs": [],
   "source": [
    "def null0(df):\n",
    "    \"\"\"\n",
    "    결측치가 있는 열을 0으로 채우는 함수\n",
    "    \"\"\"\n",
    "    for col in df.columns:\n",
    "        if df[col].isnull().sum() > 0:\n",
    "            df[col] = df[col].fillna(0)\n",
    "    return df\n"
   ]
  },
  {
   "cell_type": "code",
   "execution_count": 6,
   "metadata": {},
   "outputs": [],
   "source": [
    "def encoding(df, columns, category_map): \n",
    "    df[columns] = df[columns].replace(category_map)\n",
    "    return df\n",
    "category4_map = {\n",
    "    '전혀 그렇지 않다': 0,\n",
    "    '그렇지 않다': 1,\n",
    "    '그렇다': 2,\n",
    "    '매우 그렇다': 3\n",
    "}\n",
    "category5_map = {\n",
    "    '전혀 그렇지 않다': 0,\n",
    "    '별로 그렇지 않다': 1,\n",
    "    '보통이다' : 2,\n",
    "    '조금 그렇다': 3,\n",
    "    '매우 그렇다': 4\n",
    "}"
   ]
  },
  {
   "cell_type": "code",
   "execution_count": 7,
   "metadata": {},
   "outputs": [],
   "source": [
    "def time_min(df, hour_column, minute_column):\n",
    "    # 시간과 분 열의 결측값을 0으로 채움\n",
    "    df[hour_column] = df[hour_column].fillna(0)\n",
    "    df[minute_column] = df[minute_column].fillna(0)\n",
    "    \n",
    "    # 데이터 타입을 float로 변환\n",
    "    df[hour_column] = df[hour_column].astype(float)\n",
    "    df[minute_column] = df[minute_column].astype(float)\n",
    "\n",
    "    # 총 분 계산\n",
    "    df['pri_edu_time'] = df[hour_column] * 60 + df[minute_column]\n",
    "    return df\n"
   ]
  },
  {
   "cell_type": "code",
   "execution_count": 8,
   "metadata": {},
   "outputs": [
    {
     "name": "stderr",
     "output_type": "stream",
     "text": [
      "C:\\Users\\User\\AppData\\Local\\Temp\\ipykernel_23592\\2448768107.py:2: SettingWithCopyWarning: \n",
      "A value is trying to be set on a copy of a slice from a DataFrame.\n",
      "Try using .loc[row_indexer,col_indexer] = value instead\n",
      "\n",
      "See the caveats in the documentation: https://pandas.pydata.org/pandas-docs/stable/user_guide/indexing.html#returning-a-view-versus-a-copy\n",
      "  df[columns] = df[columns].replace(category_map)\n",
      "C:\\Users\\User\\AppData\\Local\\Temp\\ipykernel_23592\\2448768107.py:2: SettingWithCopyWarning: \n",
      "A value is trying to be set on a copy of a slice from a DataFrame.\n",
      "Try using .loc[row_indexer,col_indexer] = value instead\n",
      "\n",
      "See the caveats in the documentation: https://pandas.pydata.org/pandas-docs/stable/user_guide/indexing.html#returning-a-view-versus-a-copy\n",
      "  df[columns] = df[columns].replace(category_map)\n"
     ]
    }
   ],
   "source": [
    "df_edu = df[study + ['q485', 'q486', 'q487', 'q488']]\n",
    "df_edu = null0(df_edu)\n",
    "\n",
    "edu_stress = ['q485','q486','q487','q488']\n",
    "df_edu = encoding(df_edu, study, category4_map)\n",
    "df_edu = encoding(df_edu, edu_stress, category5_map)"
   ]
  },
  {
   "cell_type": "code",
   "execution_count": 9,
   "metadata": {},
   "outputs": [],
   "source": [
    "from sklearn.preprocessing import MinMaxScaler\n",
    "\n",
    "scaler = MinMaxScaler()\n",
    "df_scaled = pd.DataFrame(scaler.fit_transform(df_edu), columns=df_edu.columns)"
   ]
  },
  {
   "cell_type": "code",
   "execution_count": 10,
   "metadata": {},
   "outputs": [],
   "source": [
    "def weighted_cov(X, weights):\n",
    "    average = np.average(X, axis=0, weights=weights)\n",
    "    X_centered = X - average\n",
    "    cov_matrix = np.dot((X_centered * weights[:, None]).T, X_centered) / (weights.sum() - 1)\n",
    "    return cov_matrix"
   ]
  },
  {
   "cell_type": "code",
   "execution_count": 11,
   "metadata": {},
   "outputs": [],
   "source": [
    "def calculate_covariance(df, observed_vars):\n",
    "    data_for_cov = df[observed_vars].apply(pd.to_numeric, errors='coerce')\n",
    "    weights = df['wt'].to_numpy()\n",
    "    w_cov = weighted_cov(data_for_cov.to_numpy(), weights)\n",
    "    return pd.DataFrame(w_cov, index=observed_vars, columns=observed_vars)"
   ]
  },
  {
   "cell_type": "code",
   "execution_count": 12,
   "metadata": {},
   "outputs": [],
   "source": [
    "def compute_vif(df, observed_vars):\n",
    "    X = df[observed_vars].apply(pd.to_numeric, errors='coerce').dropna()\n",
    "    vif_data = pd.DataFrame()\n",
    "    vif_data[\"Feature\"] = X.columns\n",
    "    vif_data[\"VIF\"] = [variance_inflation_factor(X.values, i) for i in range(X.shape[1])]\n",
    "    return vif_data"
   ]
  },
  {
   "cell_type": "code",
   "execution_count": 13,
   "metadata": {},
   "outputs": [],
   "source": [
    "def fit_sem_model(model, df, w_cov_df):\n",
    "    model.fit(df, cov=w_cov_df, )\n",
    "    return model"
   ]
  },
  {
   "cell_type": "code",
   "execution_count": 14,
   "metadata": {},
   "outputs": [],
   "source": [
    "from semopy import Model, calc_stats\n",
    "model_desc = \"\"\"\n",
    "exam_anxiety =~ q072 + q073 + q074\n",
    "academic_stress =~ q485 + q486 + q487 + q488\n",
    "\n",
    "study_engagement =~ exam_anxiety + academic_stress \n",
    "\n",
    "exam_anxiety ~~ academic_stress\n",
    "\"\"\""
   ]
  },
  {
   "cell_type": "code",
   "execution_count": 15,
   "metadata": {},
   "outputs": [
    {
     "name": "stderr",
     "output_type": "stream",
     "text": [
      "C:\\Users\\User\\AppData\\Local\\Temp\\ipykernel_23592\\2273250911.py:1: SettingWithCopyWarning: \n",
      "A value is trying to be set on a copy of a slice from a DataFrame.\n",
      "Try using .loc[row_indexer,col_indexer] = value instead\n",
      "\n",
      "See the caveats in the documentation: https://pandas.pydata.org/pandas-docs/stable/user_guide/indexing.html#returning-a-view-versus-a-copy\n",
      "  df_edu['wt'] = df['wt']\n"
     ]
    }
   ],
   "source": [
    "df_edu['wt'] = df['wt']\n",
    "observed_vars = ['q072', 'q073', 'q074', 'q485', 'q486', 'q487', 'q488']\n",
    "w_cov_df = calculate_covariance(df_edu, observed_vars)"
   ]
  },
  {
   "cell_type": "code",
   "execution_count": 16,
   "metadata": {},
   "outputs": [],
   "source": [
    "from statsmodels.stats.outliers_influence import variance_inflation_factor\n",
    "vif_df = compute_vif(df_edu, observed_vars)"
   ]
  },
  {
   "cell_type": "code",
   "execution_count": 17,
   "metadata": {},
   "outputs": [
    {
     "name": "stderr",
     "output_type": "stream",
     "text": [
      "WARNING:root:Fisher Information Matrix is not PD.Moore-Penrose inverse will be used instead of Cholesky decomposition. See 10.1109/TSP.2012.2208105.\n"
     ]
    },
    {
     "name": "stdout",
     "output_type": "stream",
     "text": [
      "적합도 지표:\n",
      "                       Value\n",
      "DoF               11.000000\n",
      "DoF Baseline      21.000000\n",
      "chi2             387.765485\n",
      "chi2 p-value       0.000000\n",
      "chi2 Baseline  18108.106711\n",
      "CFI                0.979169\n",
      "GFI                0.978586\n",
      "AGFI               0.959119\n",
      "NFI                0.978586\n",
      "TLI                0.960232\n",
      "RMSEA              0.079827\n",
      "AIC               33.855742\n",
      "BIC              145.880640\n",
      "LogLik             0.072129 \n",
      "\n",
      "\n",
      "모수 추정치:\n",
      "                 lval  op              rval  Estimate  Std. Err    z-value  \\\n",
      "0       exam_anxiety   ~  study_engagement  1.000000         -          -   \n",
      "1    academic_stress   ~  study_engagement -0.041289  0.003622 -11.399127   \n",
      "2               q072   ~      exam_anxiety  1.000000         -          -   \n",
      "3               q073   ~      exam_anxiety  0.959061  0.015261  62.844295   \n",
      "4               q074   ~      exam_anxiety  0.879349  0.015343  57.311312   \n",
      "5               q485   ~   academic_stress  1.000000         -          -   \n",
      "6               q486   ~   academic_stress  1.010890  0.016687  60.580682   \n",
      "7               q487   ~   academic_stress  0.976055  0.017687  55.185838   \n",
      "8               q488   ~   academic_stress  0.863509   0.01675  51.553275   \n",
      "9       exam_anxiety  ~~   academic_stress  0.626861  0.017616  35.584476   \n",
      "10      exam_anxiety  ~~      exam_anxiety  0.415762  0.009274  44.830673   \n",
      "11   academic_stress  ~~   academic_stress  1.210758  0.036516  33.156603   \n",
      "12  study_engagement  ~~  study_engagement  0.231920  0.008785  26.398774   \n",
      "13              q072  ~~              q072  0.251221  0.008501  29.552939   \n",
      "14              q073  ~~              q073  0.304724  0.008811   34.58572   \n",
      "15              q074  ~~              q074  0.407586  0.009842  41.412896   \n",
      "16              q485  ~~              q485  0.689818  0.018446  37.396707   \n",
      "17              q486  ~~              q486  0.642234  0.017839  36.000775   \n",
      "18              q487  ~~              q487  0.939471  0.022456  41.835168   \n",
      "19              q488  ~~              q488  0.945449   0.02143  44.117466   \n",
      "\n",
      "   p-value  \n",
      "0        -  \n",
      "1      0.0  \n",
      "2        -  \n",
      "3      0.0  \n",
      "4      0.0  \n",
      "5        -  \n",
      "6      0.0  \n",
      "7      0.0  \n",
      "8      0.0  \n",
      "9      0.0  \n",
      "10     0.0  \n",
      "11     0.0  \n",
      "12     0.0  \n",
      "13     0.0  \n",
      "14     0.0  \n",
      "15     0.0  \n",
      "16     0.0  \n",
      "17     0.0  \n",
      "18     0.0  \n",
      "19     0.0  \n"
     ]
    }
   ],
   "source": [
    "model = Model(model_desc)\n",
    "model = fit_sem_model(model, df_edu, w_cov_df)\n",
    "stats = calc_stats(model)\n",
    "estimates = model.inspect()\n",
    "print(\"적합도 지표:\\n\", stats.T, \"\\n\\n\")\n",
    "print(\"모수 추정치:\\n\", estimates)"
   ]
  },
  {
   "cell_type": "code",
   "execution_count": 18,
   "metadata": {},
   "outputs": [
    {
     "name": "stdout",
     "output_type": "stream",
     "text": [
      "        id sex  birthy birthm             area         size school grade  \\\n",
      "0  20001.0  여성  2003.0     4월  충청권(대전, 충남, 충북)  도서벽지 및 읍면지역   고등학생   3학년   \n",
      "1  20002.0  여성  2003.0     8월  충청권(대전, 충남, 충북)  도서벽지 및 읍면지역   고등학생   3학년   \n",
      "2  20003.0  여성  2003.0     9월  충청권(대전, 충남, 충북)  도서벽지 및 읍면지역   고등학생   3학년   \n",
      "3  20004.0  남성  2003.0     8월  충청권(대전, 충남, 충북)  도서벽지 및 읍면지역   고등학생   3학년   \n",
      "4  20005.0  남성  2003.0     2월  충청권(대전, 충남, 충북)  도서벽지 및 읍면지역   고등학생   3학년   \n",
      "\n",
      "  home1 home2  ...   q513   q514   q52   q53 q5411 q5412 q5421 q5422  \\\n",
      "0   아니오   아니오  ...  차이 없음  차이 없음  28.0  그대로다   NaN   NaN   NaN   NaN   \n",
      "1     예     예  ...  차이 없음  차이 없음  20.0  그대로다   NaN   NaN   NaN   NaN   \n",
      "2     예     예  ...  차이 없음  차이 없음  30.0  그대로다   NaN   NaN   NaN   NaN   \n",
      "3     예     예  ...  차이 없음  차이 없음  30.0  그대로다   NaN   NaN   NaN   NaN   \n",
      "4   아니오     예  ...  차이 없음  차이 없음  30.0  그대로다   NaN   NaN   NaN   NaN   \n",
      "\n",
      "         wt study_engagement  \n",
      "0  0.250048        -0.698716  \n",
      "1  0.250048        -0.219536  \n",
      "2  0.250048        -0.855941  \n",
      "3  0.244036         0.106452  \n",
      "4  0.244036        -0.705527  \n",
      "\n",
      "[5 rows x 278 columns]\n"
     ]
    }
   ],
   "source": [
    "factor_scores = model.predict_factors(df_edu)\n",
    "\n",
    "df[\"study_engagement\"] = factor_scores[\"study_engagement\"]\n",
    "\n",
    "print(df.head())"
   ]
  },
  {
   "cell_type": "code",
   "execution_count": null,
   "metadata": {},
   "outputs": [],
   "source": []
  },
  {
   "cell_type": "code",
   "execution_count": null,
   "metadata": {},
   "outputs": [],
   "source": []
  }
 ],
 "metadata": {
  "kernelspec": {
   "display_name": "kernel",
   "language": "python",
   "name": "kernel"
  },
  "language_info": {
   "codemirror_mode": {
    "name": "ipython",
    "version": 3
   },
   "file_extension": ".py",
   "mimetype": "text/x-python",
   "name": "python",
   "nbconvert_exporter": "python",
   "pygments_lexer": "ipython3",
   "version": "3.11.2"
  }
 },
 "nbformat": 4,
 "nbformat_minor": 2
}
