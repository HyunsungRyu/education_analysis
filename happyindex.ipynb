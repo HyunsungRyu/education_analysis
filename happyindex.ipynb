{
 "cells": [
  {
   "cell_type": "code",
   "execution_count": 179,
   "metadata": {},
   "outputs": [],
   "source": [
    "import pandas as pd\n",
    "import numpy as np\n",
    "from IPython.display import display\n",
    "from sklearn.preprocessing import MinMaxScaler\n",
    "from semopy import Model, calc_stats, semplot\n",
    "from statsmodels.stats.outliers_influence import variance_inflation_factor\n",
    "import warnings\n",
    "warnings.filterwarnings(\"ignore\")\n",
    "import matplotlib.pyplot as plt\n",
    "import statsmodels.formula.api as smf"
   ]
  },
  {
   "cell_type": "code",
   "execution_count": 180,
   "metadata": {},
   "outputs": [
    {
     "data": {
      "text/html": [
       "<div>\n",
       "<style scoped>\n",
       "    .dataframe tbody tr th:only-of-type {\n",
       "        vertical-align: middle;\n",
       "    }\n",
       "\n",
       "    .dataframe tbody tr th {\n",
       "        vertical-align: top;\n",
       "    }\n",
       "\n",
       "    .dataframe thead th {\n",
       "        text-align: right;\n",
       "    }\n",
       "</style>\n",
       "<table border=\"1\" class=\"dataframe\">\n",
       "  <thead>\n",
       "    <tr style=\"text-align: right;\">\n",
       "      <th></th>\n",
       "      <th>id</th>\n",
       "      <th>sex</th>\n",
       "      <th>birthy</th>\n",
       "      <th>birthm</th>\n",
       "      <th>area</th>\n",
       "      <th>size</th>\n",
       "      <th>school</th>\n",
       "      <th>grade</th>\n",
       "      <th>home1</th>\n",
       "      <th>home2</th>\n",
       "      <th>...</th>\n",
       "      <th>q512</th>\n",
       "      <th>q513</th>\n",
       "      <th>q514</th>\n",
       "      <th>q52</th>\n",
       "      <th>q53</th>\n",
       "      <th>q5411</th>\n",
       "      <th>q5412</th>\n",
       "      <th>q5421</th>\n",
       "      <th>q5422</th>\n",
       "      <th>wt</th>\n",
       "    </tr>\n",
       "  </thead>\n",
       "  <tbody>\n",
       "    <tr>\n",
       "      <th>0</th>\n",
       "      <td>20001.0</td>\n",
       "      <td>여성</td>\n",
       "      <td>2003.0</td>\n",
       "      <td>4월</td>\n",
       "      <td>충청권(대전, 충남, 충북)</td>\n",
       "      <td>도서벽지 및 읍면지역</td>\n",
       "      <td>고등학생</td>\n",
       "      <td>3학년</td>\n",
       "      <td>아니오</td>\n",
       "      <td>아니오</td>\n",
       "      <td>...</td>\n",
       "      <td>해당 없음</td>\n",
       "      <td>차이 없음</td>\n",
       "      <td>차이 없음</td>\n",
       "      <td>28.0</td>\n",
       "      <td>그대로다</td>\n",
       "      <td>NaN</td>\n",
       "      <td>NaN</td>\n",
       "      <td>NaN</td>\n",
       "      <td>NaN</td>\n",
       "      <td>0.250048</td>\n",
       "    </tr>\n",
       "    <tr>\n",
       "      <th>1</th>\n",
       "      <td>20002.0</td>\n",
       "      <td>여성</td>\n",
       "      <td>2003.0</td>\n",
       "      <td>8월</td>\n",
       "      <td>충청권(대전, 충남, 충북)</td>\n",
       "      <td>도서벽지 및 읍면지역</td>\n",
       "      <td>고등학생</td>\n",
       "      <td>3학년</td>\n",
       "      <td>예</td>\n",
       "      <td>예</td>\n",
       "      <td>...</td>\n",
       "      <td>차이 없음</td>\n",
       "      <td>차이 없음</td>\n",
       "      <td>차이 없음</td>\n",
       "      <td>20.0</td>\n",
       "      <td>그대로다</td>\n",
       "      <td>NaN</td>\n",
       "      <td>NaN</td>\n",
       "      <td>NaN</td>\n",
       "      <td>NaN</td>\n",
       "      <td>0.250048</td>\n",
       "    </tr>\n",
       "    <tr>\n",
       "      <th>2</th>\n",
       "      <td>20003.0</td>\n",
       "      <td>여성</td>\n",
       "      <td>2003.0</td>\n",
       "      <td>9월</td>\n",
       "      <td>충청권(대전, 충남, 충북)</td>\n",
       "      <td>도서벽지 및 읍면지역</td>\n",
       "      <td>고등학생</td>\n",
       "      <td>3학년</td>\n",
       "      <td>예</td>\n",
       "      <td>예</td>\n",
       "      <td>...</td>\n",
       "      <td>차이 없음</td>\n",
       "      <td>차이 없음</td>\n",
       "      <td>차이 없음</td>\n",
       "      <td>30.0</td>\n",
       "      <td>그대로다</td>\n",
       "      <td>NaN</td>\n",
       "      <td>NaN</td>\n",
       "      <td>NaN</td>\n",
       "      <td>NaN</td>\n",
       "      <td>0.250048</td>\n",
       "    </tr>\n",
       "  </tbody>\n",
       "</table>\n",
       "<p>3 rows × 277 columns</p>\n",
       "</div>"
      ],
      "text/plain": [
       "        id sex  birthy birthm             area         size school grade  \\\n",
       "0  20001.0  여성  2003.0     4월  충청권(대전, 충남, 충북)  도서벽지 및 읍면지역   고등학생   3학년   \n",
       "1  20002.0  여성  2003.0     8월  충청권(대전, 충남, 충북)  도서벽지 및 읍면지역   고등학생   3학년   \n",
       "2  20003.0  여성  2003.0     9월  충청권(대전, 충남, 충북)  도서벽지 및 읍면지역   고등학생   3학년   \n",
       "\n",
       "  home1 home2  ...   q512   q513   q514   q52   q53 q5411 q5412 q5421 q5422  \\\n",
       "0   아니오   아니오  ...  해당 없음  차이 없음  차이 없음  28.0  그대로다   NaN   NaN   NaN   NaN   \n",
       "1     예     예  ...  차이 없음  차이 없음  차이 없음  20.0  그대로다   NaN   NaN   NaN   NaN   \n",
       "2     예     예  ...  차이 없음  차이 없음  차이 없음  30.0  그대로다   NaN   NaN   NaN   NaN   \n",
       "\n",
       "         wt  \n",
       "0  0.250048  \n",
       "1  0.250048  \n",
       "2  0.250048  \n",
       "\n",
       "[3 rows x 277 columns]"
      ]
     },
     "execution_count": 180,
     "metadata": {},
     "output_type": "execute_result"
    }
   ],
   "source": [
    "df = pd.read_spss('C:\\\\data\\\\education\\\\한국아동청소년행복지수조사\\\\kor_data_20210010.sav')\n",
    "df.head(3)"
   ]
  },
  {
   "cell_type": "code",
   "execution_count": 181,
   "metadata": {},
   "outputs": [],
   "source": [
    "def null0(df):\n",
    "    \"\"\"\n",
    "    결측치가 있는 열을 0으로 채우는 함수\n",
    "    \"\"\"\n",
    "    for col in df.columns:\n",
    "        if df[col].isnull().sum() > 0:\n",
    "            df[col] = df[col].fillna(0)\n",
    "    return df\n"
   ]
  },
  {
   "cell_type": "code",
   "execution_count": 182,
   "metadata": {},
   "outputs": [],
   "source": [
    "def encoding(df, columns, category_map): \n",
    "    df[columns] = df[columns].replace(category_map)\n",
    "    return df\n",
    "\n",
    "category4_map = {\n",
    "    '전혀 그렇지 않다': 0,\n",
    "    '그렇지 않다': 1,\n",
    "    '그렇다': 2,\n",
    "    '매우 그렇다': 3\n",
    "}\n",
    "category5_map = {\n",
    "    '전혀 그렇지 않다': 0,\n",
    "    '별로 그렇지 않다': 1,\n",
    "    '보통이다' : 2,\n",
    "    '조금 그렇다': 3,\n",
    "    '매우 그렇다': 4\n",
    "}\n",
    "reverse_category5_map = {\n",
    "    '전혀 그렇지 않다': 4,\n",
    "    '별로 그렇지 않다': 3,\n",
    "    '보통이다' : 2,\n",
    "    '조금 그렇다': 1,\n",
    "    '매우 그렇다': 0\n",
    "}\n",
    "how_serious_map = {\n",
    "    '전혀 심각하지 않다' : 0,\n",
    "    '별로 심각하지 않다' : 1,\n",
    "    '보통이다' : 2,\n",
    "    '약간 심각한 편이다' : 3,\n",
    "    '매우 심각하다' : 4\n",
    "}\n",
    "how_often_map = {\n",
    "'경험이 전혀 없거나 거의 없었다' : 2,\n",
    "'1년에 몇 번 있었다' : 1,\n",
    "'한 달에 몇 번 있었다' : 0,\n",
    "'일주일에 한번 이상 있었다' : 0 \n",
    "}\n",
    "happy_map = {\n",
    "'매우 행복하다' : 4,\n",
    "'대체로 행복한 편이다' : 3,\n",
    "'모르겠다' : 2,\n",
    "'별로 행복하지 않은 편이다' : 1,\n",
    "'전혀 행복하지 않다' : 0\n",
    "}\n",
    "how_happy_map = {\n",
    "'매우 행복하다' : 4,\n",
    "'약간 행복하다' : 3,\n",
    "'보통이다' : 2,\n",
    "'약간 불행하다' : 1,\n",
    "'매우 불행하다' : 0\n",
    "}\n",
    "yes_or_no_map = {\n",
    "'예' : 1,\n",
    "'아니오' : 0\n",
    "}\n",
    "is_or_not_map = {\n",
    "    '있다' : 1,\n",
    "    '없다' : 0\n",
    "}"
   ]
  },
  {
   "cell_type": "code",
   "execution_count": 183,
   "metadata": {},
   "outputs": [],
   "source": [
    "def time_min(df, hour_column, minute_column):\n",
    "    # 시간과 분 열의 결측값을 0으로 채움\n",
    "    df[hour_column] = df[hour_column].fillna(0)\n",
    "    df[minute_column] = df[minute_column].fillna(0)\n",
    "    \n",
    "    # 데이터 타입을 float로 변환\n",
    "    df[hour_column] = df[hour_column].astype(float)\n",
    "    df[minute_column] = df[minute_column].astype(float)\n",
    "\n",
    "    # 총 분 계산\n",
    "    df['pri_edu_time'] = df[hour_column] * 60 + df[minute_column]\n",
    "    return df"
   ]
  },
  {
   "cell_type": "code",
   "execution_count": 184,
   "metadata": {},
   "outputs": [],
   "source": [
    "def not_applicable(df, columns):\n",
    "    for col in columns:\n",
    "        df[col] = df[col].replace({'해당사항 없음': '보통이다'})\n",
    "    return df"
   ]
  },
  {
   "cell_type": "code",
   "execution_count": 185,
   "metadata": {},
   "outputs": [],
   "source": [
    "def weighted_cov(X, weights):\n",
    "    average = np.average(X, axis=0, weights=weights)\n",
    "    X_centered = X - average\n",
    "    cov_matrix = np.dot((X_centered * weights[:, None]).T, X_centered) / (weights.sum() - 1)\n",
    "    return cov_matrix"
   ]
  },
  {
   "cell_type": "code",
   "execution_count": 186,
   "metadata": {},
   "outputs": [],
   "source": [
    "def calculate_covariance(df, observed_vars):\n",
    "    data_for_cov = df[observed_vars].apply(pd.to_numeric, errors='coerce')\n",
    "    weights = df['wt'].to_numpy()\n",
    "    w_cov = weighted_cov(data_for_cov.to_numpy(), weights)\n",
    "    return pd.DataFrame(w_cov, index=observed_vars, columns=observed_vars)"
   ]
  },
  {
   "cell_type": "code",
   "execution_count": 187,
   "metadata": {},
   "outputs": [],
   "source": [
    "def compute_vif(df, observed_vars):\n",
    "    X = df[observed_vars].apply(pd.to_numeric, errors='coerce').dropna()\n",
    "    vif_data = pd.DataFrame()\n",
    "    vif_data[\"Feature\"] = X.columns\n",
    "    vif_data[\"VIF\"] = [variance_inflation_factor(X.values, i) for i in range(X.shape[1])]\n",
    "    return vif_data"
   ]
  },
  {
   "cell_type": "code",
   "execution_count": 188,
   "metadata": {},
   "outputs": [],
   "source": [
    "def fit_sem_model(model, df, w_cov_df):\n",
    "    model.fit(df, cov=w_cov_df)\n",
    "    return model"
   ]
  },
  {
   "cell_type": "code",
   "execution_count": 189,
   "metadata": {},
   "outputs": [],
   "source": [
    "def calculate_bmi(df, height, weight):\n",
    "    df[height] = pd.to_numeric(df[height], errors='coerce')\n",
    "    df[weight] = pd.to_numeric(df[weight], errors='coerce')\n",
    "    \n",
    "    df['bmi'] = df[weight] / ((df[height] / 100) ** 2)\n",
    "    df['bmi'] = df['bmi'].round(2)\n",
    "    return df"
   ]
  },
  {
   "cell_type": "markdown",
   "metadata": {},
   "source": [
    "# 학업압박"
   ]
  },
  {
   "cell_type": "code",
   "execution_count": 190,
   "metadata": {},
   "outputs": [],
   "source": [
    "df_edu = df[['q071','q072', 'q073', 'q074'] + ['q485', 'q486', 'q487', 'q488']]\n",
    "df_edu = null0(df_edu)\n",
    "\n",
    "df_edu = encoding(df_edu, ['q071', 'q072', 'q073', 'q074'], category4_map)\n",
    "df_edu = encoding(df_edu, ['q485', 'q486','q487', 'q488'], category5_map)"
   ]
  },
  {
   "cell_type": "code",
   "execution_count": 191,
   "metadata": {},
   "outputs": [
    {
     "data": {
      "text/html": [
       "<div>\n",
       "<style scoped>\n",
       "    .dataframe tbody tr th:only-of-type {\n",
       "        vertical-align: middle;\n",
       "    }\n",
       "\n",
       "    .dataframe tbody tr th {\n",
       "        vertical-align: top;\n",
       "    }\n",
       "\n",
       "    .dataframe thead th {\n",
       "        text-align: right;\n",
       "    }\n",
       "</style>\n",
       "<table border=\"1\" class=\"dataframe\">\n",
       "  <thead>\n",
       "    <tr style=\"text-align: right;\">\n",
       "      <th></th>\n",
       "      <th>q071</th>\n",
       "      <th>q072</th>\n",
       "      <th>q073</th>\n",
       "      <th>q074</th>\n",
       "      <th>q485</th>\n",
       "      <th>q486</th>\n",
       "      <th>q487</th>\n",
       "      <th>q488</th>\n",
       "    </tr>\n",
       "  </thead>\n",
       "  <tbody>\n",
       "    <tr>\n",
       "      <th>0</th>\n",
       "      <td>0.000000</td>\n",
       "      <td>0.000000</td>\n",
       "      <td>0.000000</td>\n",
       "      <td>0.666667</td>\n",
       "      <td>0.75</td>\n",
       "      <td>0.50</td>\n",
       "      <td>1.00</td>\n",
       "      <td>0.00</td>\n",
       "    </tr>\n",
       "    <tr>\n",
       "      <th>1</th>\n",
       "      <td>0.333333</td>\n",
       "      <td>0.333333</td>\n",
       "      <td>0.333333</td>\n",
       "      <td>0.333333</td>\n",
       "      <td>0.25</td>\n",
       "      <td>0.25</td>\n",
       "      <td>0.50</td>\n",
       "      <td>0.50</td>\n",
       "    </tr>\n",
       "    <tr>\n",
       "      <th>2</th>\n",
       "      <td>0.000000</td>\n",
       "      <td>0.000000</td>\n",
       "      <td>0.000000</td>\n",
       "      <td>0.000000</td>\n",
       "      <td>0.50</td>\n",
       "      <td>0.50</td>\n",
       "      <td>0.50</td>\n",
       "      <td>0.50</td>\n",
       "    </tr>\n",
       "    <tr>\n",
       "      <th>3</th>\n",
       "      <td>0.666667</td>\n",
       "      <td>0.666667</td>\n",
       "      <td>0.666667</td>\n",
       "      <td>0.666667</td>\n",
       "      <td>0.50</td>\n",
       "      <td>0.50</td>\n",
       "      <td>0.50</td>\n",
       "      <td>0.75</td>\n",
       "    </tr>\n",
       "    <tr>\n",
       "      <th>4</th>\n",
       "      <td>0.333333</td>\n",
       "      <td>0.333333</td>\n",
       "      <td>0.333333</td>\n",
       "      <td>0.333333</td>\n",
       "      <td>1.00</td>\n",
       "      <td>1.00</td>\n",
       "      <td>0.50</td>\n",
       "      <td>1.00</td>\n",
       "    </tr>\n",
       "    <tr>\n",
       "      <th>...</th>\n",
       "      <td>...</td>\n",
       "      <td>...</td>\n",
       "      <td>...</td>\n",
       "      <td>...</td>\n",
       "      <td>...</td>\n",
       "      <td>...</td>\n",
       "      <td>...</td>\n",
       "      <td>...</td>\n",
       "    </tr>\n",
       "    <tr>\n",
       "      <th>5371</th>\n",
       "      <td>0.000000</td>\n",
       "      <td>0.000000</td>\n",
       "      <td>0.000000</td>\n",
       "      <td>0.000000</td>\n",
       "      <td>0.00</td>\n",
       "      <td>0.00</td>\n",
       "      <td>0.00</td>\n",
       "      <td>0.00</td>\n",
       "    </tr>\n",
       "    <tr>\n",
       "      <th>5372</th>\n",
       "      <td>0.333333</td>\n",
       "      <td>0.000000</td>\n",
       "      <td>0.333333</td>\n",
       "      <td>0.333333</td>\n",
       "      <td>0.00</td>\n",
       "      <td>0.50</td>\n",
       "      <td>0.25</td>\n",
       "      <td>0.25</td>\n",
       "    </tr>\n",
       "    <tr>\n",
       "      <th>5373</th>\n",
       "      <td>0.666667</td>\n",
       "      <td>1.000000</td>\n",
       "      <td>0.000000</td>\n",
       "      <td>0.000000</td>\n",
       "      <td>0.00</td>\n",
       "      <td>0.00</td>\n",
       "      <td>0.75</td>\n",
       "      <td>0.00</td>\n",
       "    </tr>\n",
       "    <tr>\n",
       "      <th>5374</th>\n",
       "      <td>0.000000</td>\n",
       "      <td>0.000000</td>\n",
       "      <td>0.000000</td>\n",
       "      <td>0.000000</td>\n",
       "      <td>0.50</td>\n",
       "      <td>0.50</td>\n",
       "      <td>0.50</td>\n",
       "      <td>0.50</td>\n",
       "    </tr>\n",
       "    <tr>\n",
       "      <th>5375</th>\n",
       "      <td>0.666667</td>\n",
       "      <td>0.666667</td>\n",
       "      <td>0.666667</td>\n",
       "      <td>0.666667</td>\n",
       "      <td>0.75</td>\n",
       "      <td>0.50</td>\n",
       "      <td>1.00</td>\n",
       "      <td>0.50</td>\n",
       "    </tr>\n",
       "  </tbody>\n",
       "</table>\n",
       "<p>5376 rows × 8 columns</p>\n",
       "</div>"
      ],
      "text/plain": [
       "          q071      q072      q073      q074  q485  q486  q487  q488\n",
       "0     0.000000  0.000000  0.000000  0.666667  0.75  0.50  1.00  0.00\n",
       "1     0.333333  0.333333  0.333333  0.333333  0.25  0.25  0.50  0.50\n",
       "2     0.000000  0.000000  0.000000  0.000000  0.50  0.50  0.50  0.50\n",
       "3     0.666667  0.666667  0.666667  0.666667  0.50  0.50  0.50  0.75\n",
       "4     0.333333  0.333333  0.333333  0.333333  1.00  1.00  0.50  1.00\n",
       "...        ...       ...       ...       ...   ...   ...   ...   ...\n",
       "5371  0.000000  0.000000  0.000000  0.000000  0.00  0.00  0.00  0.00\n",
       "5372  0.333333  0.000000  0.333333  0.333333  0.00  0.50  0.25  0.25\n",
       "5373  0.666667  1.000000  0.000000  0.000000  0.00  0.00  0.75  0.00\n",
       "5374  0.000000  0.000000  0.000000  0.000000  0.50  0.50  0.50  0.50\n",
       "5375  0.666667  0.666667  0.666667  0.666667  0.75  0.50  1.00  0.50\n",
       "\n",
       "[5376 rows x 8 columns]"
      ]
     },
     "execution_count": 191,
     "metadata": {},
     "output_type": "execute_result"
    }
   ],
   "source": [
    "scaler = MinMaxScaler()\n",
    "df_edu = pd.DataFrame(scaler.fit_transform(df_edu), columns=df_edu.columns)\n",
    "df_edu"
   ]
  },
  {
   "cell_type": "code",
   "execution_count": 192,
   "metadata": {},
   "outputs": [],
   "source": [
    "model_desc = \"\"\"\n",
    "academic_stress =~ q072 + q073\n",
    "exam_anxiety =~ q485 + q486 + q487 + q488\n",
    "academic_pressure =~  academic_stress + exam_anxiety\n",
    "academic_stress ~~ exam_anxiety\n",
    "\"\"\""
   ]
  },
  {
   "cell_type": "code",
   "execution_count": 193,
   "metadata": {},
   "outputs": [],
   "source": [
    "df_edu['wt'] = df['wt']\n",
    "observed_vars = ['q072', 'q073', 'q485', 'q486', 'q487', 'q488']\n",
    "w_cov_df = calculate_covariance(df_edu, observed_vars)"
   ]
  },
  {
   "cell_type": "code",
   "execution_count": 194,
   "metadata": {},
   "outputs": [
    {
     "name": "stderr",
     "output_type": "stream",
     "text": [
      "WARNING:root:Fisher Information Matrix is not PD.Moore-Penrose inverse will be used instead of Cholesky decomposition. See 10.1109/TSP.2012.2208105.\n",
      "WARNING:root:Fisher Information Matrix is not PD.Moore-Penrose inverse will be used instead of Cholesky decomposition. See 10.1109/TSP.2012.2208105.\n"
     ]
    },
    {
     "name": "stdout",
     "output_type": "stream",
     "text": [
      "적합도 지표:\n",
      "                       Value\n",
      "DoF                6.000000\n",
      "DoF Baseline      15.000000\n",
      "chi2             241.352913\n",
      "chi2 p-value       0.000000\n",
      "chi2 Baseline  14606.987426\n",
      "CFI                0.983871\n",
      "GFI                0.983477\n",
      "AGFI               0.958692\n",
      "NFI                0.983477\n",
      "TLI                0.959678\n",
      "RMSEA              0.085427\n",
      "AIC               29.910211\n",
      "BIC              128.755709\n",
      "LogLik             0.044895 \n",
      "\n",
      "\n",
      "모수 추정치:\n",
      "                  lval  op               rval  Estimate  Std. Err     z-value  \\\n",
      "0     academic_stress   ~  academic_pressure  1.000000         -           -   \n",
      "1        exam_anxiety   ~  academic_pressure  0.015159  0.000056  270.468469   \n",
      "2                q072   ~    academic_stress  1.000000         -           -   \n",
      "3                q073   ~    academic_stress  0.833664  0.017369   47.997865   \n",
      "4                q485   ~       exam_anxiety  1.000000         -           -   \n",
      "5                q486   ~       exam_anxiety  1.009905  0.016667   60.591936   \n",
      "6                q487   ~       exam_anxiety  0.975077  0.017668   55.189992   \n",
      "7                q488   ~       exam_anxiety  0.861497  0.016736   51.477199   \n",
      "8     academic_stress  ~~       exam_anxiety  0.054032  0.001565   34.519473   \n",
      "9     academic_stress  ~~    academic_stress  0.048064  0.001172   41.014402   \n",
      "10  academic_pressure  ~~  academic_pressure  0.034679  0.001186   29.231502   \n",
      "11       exam_anxiety  ~~       exam_anxiety  0.075804  0.002281    33.23638   \n",
      "12               q072  ~~               q072  0.017093  0.001439   11.879893   \n",
      "13               q073  ~~               q073  0.042522  0.001273   33.407347   \n",
      "14               q485  ~~               q485  0.042955  0.001152    37.28166   \n",
      "15               q486  ~~               q486  0.040144  0.001116   35.966204   \n",
      "16               q487  ~~               q487  0.058758  0.001405   41.821774   \n",
      "17               q488  ~~               q488  0.059274  0.001343   44.147841   \n",
      "\n",
      "   p-value  \n",
      "0        -  \n",
      "1      0.0  \n",
      "2        -  \n",
      "3      0.0  \n",
      "4        -  \n",
      "5      0.0  \n",
      "6      0.0  \n",
      "7      0.0  \n",
      "8      0.0  \n",
      "9      0.0  \n",
      "10     0.0  \n",
      "11     0.0  \n",
      "12     0.0  \n",
      "13     0.0  \n",
      "14     0.0  \n",
      "15     0.0  \n",
      "16     0.0  \n",
      "17     0.0  \n"
     ]
    },
    {
     "data": {
      "image/svg+xml": [
       "<?xml version=\"1.0\" encoding=\"UTF-8\" standalone=\"no\"?>\n",
       "<!DOCTYPE svg PUBLIC \"-//W3C//DTD SVG 1.1//EN\"\n",
       " \"http://www.w3.org/Graphics/SVG/1.1/DTD/svg11.dtd\">\n",
       "<!-- Generated by graphviz version 12.2.1 (20241206.2353)\n",
       " -->\n",
       "<!-- Title: G Pages: 1 -->\n",
       "<svg width=\"437pt\" height=\"479pt\"\n",
       " viewBox=\"0.00 0.00 436.84 478.72\" xmlns=\"http://www.w3.org/2000/svg\" xmlns:xlink=\"http://www.w3.org/1999/xlink\">\n",
       "<g id=\"graph0\" class=\"graph\" transform=\"scale(1 1) rotate(0) translate(4 474.72)\">\n",
       "<title>G</title>\n",
       "<polygon fill=\"white\" stroke=\"none\" points=\"-4,4 -4,-474.72 432.84,-474.72 432.84,4 -4,4\"/>\n",
       "<!-- exam_anxiety -->\n",
       "<g id=\"node1\" class=\"node\">\n",
       "<title>exam_anxiety</title>\n",
       "<ellipse fill=\"#cae6df\" stroke=\"black\" cx=\"172\" cy=\"-171.81\" rx=\"63.12\" ry=\"63.12\"/>\n",
       "<text text-anchor=\"middle\" x=\"172\" y=\"-166.76\" font-family=\"Times New Roman,serif\" font-size=\"14.00\">exam_anxiety</text>\n",
       "</g>\n",
       "<!-- q485 -->\n",
       "<g id=\"node6\" class=\"node\">\n",
       "<title>q485</title>\n",
       "<polygon fill=\"none\" stroke=\"black\" points=\"54,-36 0,-36 0,0 54,0 54,-36\"/>\n",
       "<text text-anchor=\"middle\" x=\"27\" y=\"-12.95\" font-family=\"Times New Roman,serif\" font-size=\"14.00\">q485</text>\n",
       "</g>\n",
       "<!-- exam_anxiety&#45;&gt;q485 -->\n",
       "<g id=\"edge5\" class=\"edge\">\n",
       "<title>exam_anxiety&#45;&gt;q485</title>\n",
       "<path fill=\"none\" stroke=\"black\" d=\"M124.71,-129.52C109.02,-115.13 91.8,-98.56 77,-82.5 66.2,-70.77 55.13,-56.95 46.17,-45.2\"/>\n",
       "<polygon fill=\"black\" stroke=\"black\" points=\"49.19,-43.39 40.39,-37.5 43.6,-47.6 49.19,-43.39\"/>\n",
       "<text text-anchor=\"middle\" x=\"90.5\" y=\"-63.98\" font-family=\"Times New Roman,serif\" font-size=\"12.00\">1.000</text>\n",
       "</g>\n",
       "<!-- q486 -->\n",
       "<g id=\"node7\" class=\"node\">\n",
       "<title>q486</title>\n",
       "<polygon fill=\"none\" stroke=\"black\" points=\"126,-36 72,-36 72,0 126,0 126,-36\"/>\n",
       "<text text-anchor=\"middle\" x=\"99\" y=\"-12.95\" font-family=\"Times New Roman,serif\" font-size=\"14.00\">q486</text>\n",
       "</g>\n",
       "<!-- exam_anxiety&#45;&gt;q486 -->\n",
       "<g id=\"edge6\" class=\"edge\">\n",
       "<title>exam_anxiety&#45;&gt;q486</title>\n",
       "<path fill=\"none\" stroke=\"black\" d=\"M137.15,-118.79C130.22,-107.15 123.42,-94.64 118,-82.5 113.02,-71.35 108.91,-58.53 105.79,-47.34\"/>\n",
       "<polygon fill=\"black\" stroke=\"black\" points=\"109.23,-46.66 103.3,-37.87 102.46,-48.44 109.23,-46.66\"/>\n",
       "<text text-anchor=\"middle\" x=\"143.5\" y=\"-71.1\" font-family=\"Times New Roman,serif\" font-size=\"12.00\">1.010</text>\n",
       "<text text-anchor=\"middle\" x=\"143.5\" y=\"-56.85\" font-family=\"Times New Roman,serif\" font-size=\"12.00\">p&#45;val: 0.00</text>\n",
       "</g>\n",
       "<!-- q487 -->\n",
       "<g id=\"node8\" class=\"node\">\n",
       "<title>q487</title>\n",
       "<polygon fill=\"none\" stroke=\"black\" points=\"200,-36 146,-36 146,0 200,0 200,-36\"/>\n",
       "<text text-anchor=\"middle\" x=\"173\" y=\"-12.95\" font-family=\"Times New Roman,serif\" font-size=\"14.00\">q487</text>\n",
       "</g>\n",
       "<!-- exam_anxiety&#45;&gt;q487 -->\n",
       "<g id=\"edge7\" class=\"edge\">\n",
       "<title>exam_anxiety&#45;&gt;q487</title>\n",
       "<path fill=\"none\" stroke=\"black\" d=\"M172.41,-108.63C172.55,-87.54 172.7,-64.99 172.81,-47.79\"/>\n",
       "<polygon fill=\"black\" stroke=\"black\" points=\"176.31,-47.84 172.88,-37.82 169.31,-47.79 176.31,-47.84\"/>\n",
       "<text text-anchor=\"middle\" x=\"198.26\" y=\"-71.1\" font-family=\"Times New Roman,serif\" font-size=\"12.00\">0.975</text>\n",
       "<text text-anchor=\"middle\" x=\"198.26\" y=\"-56.85\" font-family=\"Times New Roman,serif\" font-size=\"12.00\">p&#45;val: 0.00</text>\n",
       "</g>\n",
       "<!-- q488 -->\n",
       "<g id=\"node9\" class=\"node\">\n",
       "<title>q488</title>\n",
       "<polygon fill=\"none\" stroke=\"black\" points=\"274,-36 220,-36 220,0 274,0 274,-36\"/>\n",
       "<text text-anchor=\"middle\" x=\"247\" y=\"-12.95\" font-family=\"Times New Roman,serif\" font-size=\"14.00\">q488</text>\n",
       "</g>\n",
       "<!-- exam_anxiety&#45;&gt;q488 -->\n",
       "<g id=\"edge8\" class=\"edge\">\n",
       "<title>exam_anxiety&#45;&gt;q488</title>\n",
       "<path fill=\"none\" stroke=\"black\" d=\"M206.06,-118.08C212.79,-106.59 219.48,-94.33 225,-82.5 230.24,-71.28 234.92,-58.45 238.6,-47.27\"/>\n",
       "<polygon fill=\"black\" stroke=\"black\" points=\"241.91,-48.39 241.6,-37.8 235.24,-46.28 241.91,-48.39\"/>\n",
       "<text text-anchor=\"middle\" x=\"261.43\" y=\"-71.1\" font-family=\"Times New Roman,serif\" font-size=\"12.00\">0.861</text>\n",
       "<text text-anchor=\"middle\" x=\"261.43\" y=\"-56.85\" font-family=\"Times New Roman,serif\" font-size=\"12.00\">p&#45;val: 0.00</text>\n",
       "</g>\n",
       "<!-- academic_pressure -->\n",
       "<g id=\"node2\" class=\"node\">\n",
       "<title>academic_pressure</title>\n",
       "<ellipse fill=\"#cae6df\" stroke=\"black\" cx=\"248\" cy=\"-389.17\" rx=\"81.55\" ry=\"81.55\"/>\n",
       "<text text-anchor=\"middle\" x=\"248\" y=\"-384.12\" font-family=\"Times New Roman,serif\" font-size=\"14.00\">academic_pressure</text>\n",
       "</g>\n",
       "<!-- academic_pressure&#45;&gt;exam_anxiety -->\n",
       "<g id=\"edge2\" class=\"edge\">\n",
       "<title>academic_pressure&#45;&gt;exam_anxiety</title>\n",
       "<path fill=\"none\" stroke=\"black\" d=\"M221.1,-311.94C213.1,-289.27 204.38,-264.57 196.54,-242.35\"/>\n",
       "<polygon fill=\"black\" stroke=\"black\" points=\"199.9,-241.35 193.27,-233.09 193.3,-243.68 199.9,-241.35\"/>\n",
       "<text text-anchor=\"middle\" x=\"237.78\" y=\"-278.22\" font-family=\"Times New Roman,serif\" font-size=\"12.00\">0.015</text>\n",
       "<text text-anchor=\"middle\" x=\"237.78\" y=\"-263.97\" font-family=\"Times New Roman,serif\" font-size=\"12.00\">p&#45;val: 0.00</text>\n",
       "</g>\n",
       "<!-- academic_stress -->\n",
       "<g id=\"node3\" class=\"node\">\n",
       "<title>academic_stress</title>\n",
       "<ellipse fill=\"#cae6df\" stroke=\"black\" cx=\"324\" cy=\"-171.81\" rx=\"71.31\" ry=\"71.31\"/>\n",
       "<text text-anchor=\"middle\" x=\"324\" y=\"-166.76\" font-family=\"Times New Roman,serif\" font-size=\"14.00\">academic_stress</text>\n",
       "</g>\n",
       "<!-- academic_pressure&#45;&gt;academic_stress -->\n",
       "<g id=\"edge1\" class=\"edge\">\n",
       "<title>academic_pressure&#45;&gt;academic_stress</title>\n",
       "<path fill=\"none\" stroke=\"black\" d=\"M274.9,-311.94C281.96,-291.94 289.58,-270.35 296.66,-250.29\"/>\n",
       "<polygon fill=\"black\" stroke=\"black\" points=\"299.89,-251.66 299.91,-241.06 293.29,-249.33 299.89,-251.66\"/>\n",
       "<text text-anchor=\"middle\" x=\"306.31\" y=\"-271.1\" font-family=\"Times New Roman,serif\" font-size=\"12.00\">1.000</text>\n",
       "</g>\n",
       "<!-- q072 -->\n",
       "<g id=\"node4\" class=\"node\">\n",
       "<title>q072</title>\n",
       "<polygon fill=\"none\" stroke=\"black\" points=\"350,-36 296,-36 296,0 350,0 350,-36\"/>\n",
       "<text text-anchor=\"middle\" x=\"323\" y=\"-12.95\" font-family=\"Times New Roman,serif\" font-size=\"14.00\">q072</text>\n",
       "</g>\n",
       "<!-- academic_stress&#45;&gt;q072 -->\n",
       "<g id=\"edge3\" class=\"edge\">\n",
       "<title>academic_stress&#45;&gt;q072</title>\n",
       "<path fill=\"none\" stroke=\"black\" d=\"M323.54,-100.24C323.41,-81.73 323.29,-62.79 323.19,-47.86\"/>\n",
       "<polygon fill=\"black\" stroke=\"black\" points=\"326.69,-47.85 323.12,-37.88 319.69,-47.9 326.69,-47.85\"/>\n",
       "<text text-anchor=\"middle\" x=\"336.91\" y=\"-63.98\" font-family=\"Times New Roman,serif\" font-size=\"12.00\">1.000</text>\n",
       "</g>\n",
       "<!-- q073 -->\n",
       "<g id=\"node5\" class=\"node\">\n",
       "<title>q073</title>\n",
       "<polygon fill=\"none\" stroke=\"black\" points=\"422,-36 368,-36 368,0 422,0 422,-36\"/>\n",
       "<text text-anchor=\"middle\" x=\"395\" y=\"-12.95\" font-family=\"Times New Roman,serif\" font-size=\"14.00\">q073</text>\n",
       "</g>\n",
       "<!-- academic_stress&#45;&gt;q073 -->\n",
       "<g id=\"edge4\" class=\"edge\">\n",
       "<title>academic_stress&#45;&gt;q073</title>\n",
       "<path fill=\"none\" stroke=\"black\" d=\"M353.9,-106.87C363.79,-85.73 374.27,-63.32 382.17,-46.43\"/>\n",
       "<polygon fill=\"black\" stroke=\"black\" points=\"385.25,-48.1 386.32,-37.56 378.91,-45.13 385.25,-48.1\"/>\n",
       "<text text-anchor=\"middle\" x=\"403.34\" y=\"-71.1\" font-family=\"Times New Roman,serif\" font-size=\"12.00\">0.834</text>\n",
       "<text text-anchor=\"middle\" x=\"403.34\" y=\"-56.85\" font-family=\"Times New Roman,serif\" font-size=\"12.00\">p&#45;val: 0.00</text>\n",
       "</g>\n",
       "</g>\n",
       "</svg>\n"
      ],
      "text/plain": [
       "<graphviz.graphs.Digraph at 0x17a1cc93b90>"
      ]
     },
     "execution_count": 194,
     "metadata": {},
     "output_type": "execute_result"
    }
   ],
   "source": [
    "vif_df = compute_vif(df_edu, observed_vars)\n",
    "model = Model(model_desc)\n",
    "model = fit_sem_model(model, df_edu, w_cov_df)\n",
    "stats = calc_stats(model)\n",
    "estimates = model.inspect()\n",
    "print(\"적합도 지표:\\n\", stats.T, \"\\n\\n\")\n",
    "print(\"모수 추정치:\\n\", estimates)\n",
    "\n",
    "\n",
    "semplot(model, 'C:\\\\git_files\\\\education_analysis\\\\happy\\\\academic_pressure.png')"
   ]
  },
  {
   "cell_type": "code",
   "execution_count": 195,
   "metadata": {},
   "outputs": [
    {
     "name": "stdout",
     "output_type": "stream",
     "text": [
      "  Feature       VIF\n",
      "0    q072  9.605981\n",
      "1    q073  7.593347\n",
      "2    q485  5.601888\n",
      "3    q486  7.646603\n",
      "4    q487  5.012829\n",
      "5    q488  5.172136\n"
     ]
    }
   ],
   "source": [
    "vif_df = compute_vif(df_edu, observed_vars)\n",
    "\n",
    "print(vif_df)"
   ]
  },
  {
   "cell_type": "code",
   "execution_count": 196,
   "metadata": {},
   "outputs": [
    {
     "name": "stdout",
     "output_type": "stream",
     "text": [
      "        id sex  birthy birthm             area         size school grade  \\\n",
      "0  20001.0  여성  2003.0     4월  충청권(대전, 충남, 충북)  도서벽지 및 읍면지역   고등학생   3학년   \n",
      "1  20002.0  여성  2003.0     8월  충청권(대전, 충남, 충북)  도서벽지 및 읍면지역   고등학생   3학년   \n",
      "2  20003.0  여성  2003.0     9월  충청권(대전, 충남, 충북)  도서벽지 및 읍면지역   고등학생   3학년   \n",
      "3  20004.0  남성  2003.0     8월  충청권(대전, 충남, 충북)  도서벽지 및 읍면지역   고등학생   3학년   \n",
      "4  20005.0  남성  2003.0     2월  충청권(대전, 충남, 충북)  도서벽지 및 읍면지역   고등학생   3학년   \n",
      "\n",
      "  home1 home2  ...   q513   q514   q52   q53 q5411 q5412 q5421 q5422  \\\n",
      "0   아니오   아니오  ...  차이 없음  차이 없음  28.0  그대로다   NaN   NaN   NaN   NaN   \n",
      "1     예     예  ...  차이 없음  차이 없음  20.0  그대로다   NaN   NaN   NaN   NaN   \n",
      "2     예     예  ...  차이 없음  차이 없음  30.0  그대로다   NaN   NaN   NaN   NaN   \n",
      "3     예     예  ...  차이 없음  차이 없음  30.0  그대로다   NaN   NaN   NaN   NaN   \n",
      "4   아니오     예  ...  차이 없음  차이 없음  30.0  그대로다   NaN   NaN   NaN   NaN   \n",
      "\n",
      "         wt academic_pressure  \n",
      "0  0.250048         -0.374990  \n",
      "1  0.250048         -0.102685  \n",
      "2  0.250048         -0.345626  \n",
      "3  0.244036          0.020866  \n",
      "4  0.244036         -0.289557  \n",
      "\n",
      "[5 rows x 278 columns]\n"
     ]
    }
   ],
   "source": [
    "factor_scores = model.predict_factors(df_edu)\n",
    "\n",
    "df[\"academic_pressure\"] = factor_scores[\"academic_pressure\"]\n",
    "\n",
    "print(df.head())"
   ]
  },
  {
   "cell_type": "code",
   "execution_count": 197,
   "metadata": {},
   "outputs": [
    {
     "data": {
      "image/png": "[encoded data removed]",
      "text/plain": [
       "<Figure size 640x480 with 1 Axes>"
      ]
     },
     "metadata": {},
     "output_type": "display_data"
    }
   ],
   "source": [
    "plt.hist(df[\"academic_pressure\"], bins=20, color='blue')\n",
    "plt.title(\"Distribution of academic pressure Factor\")\n",
    "plt.xlabel(\"academic presure Factor\")\n",
    "plt.ylabel(\"Frequency\")\n",
    "plt.show()"
   ]
  },
  {
   "cell_type": "markdown",
   "metadata": {},
   "source": [
    "# 인간 관계"
   ]
  },
  {
   "cell_type": "code",
   "execution_count": 198,
   "metadata": {},
   "outputs": [
    {
     "data": {
      "text/plain": [
       "Index(['q05', 'q136', 'q061', 'q062', 'q161', 'q162', 'q163', 'q164', 'q171',\n",
       "       'q172', 'q173', 'q174', 'q224', 'q225', 'q132'],\n",
       "      dtype='object')"
      ]
     },
     "execution_count": 198,
     "metadata": {},
     "output_type": "execute_result"
    }
   ],
   "source": [
    "df_rel = df[['q05', 'q136','q061','q062','q161','q162','q163','q164','q171','q172','q173','q174','q224','q225', 'q132']]\n",
    "df_rel.columns"
   ]
  },
  {
   "cell_type": "code",
   "execution_count": 199,
   "metadata": {},
   "outputs": [
    {
     "data": {
      "text/plain": [
       "q172\n",
       "매우 그렇다       2975\n",
       "조금 그렇다       1241\n",
       "보통이다          783\n",
       "별로 그렇지 않다     164\n",
       "해당사항 없음       146\n",
       "전혀 그렇지 않다      67\n",
       "Name: count, dtype: int64"
      ]
     },
     "execution_count": 199,
     "metadata": {},
     "output_type": "execute_result"
    }
   ],
   "source": [
    "df_rel['q172'].value_counts()"
   ]
  },
  {
   "cell_type": "code",
   "execution_count": 200,
   "metadata": {},
   "outputs": [
    {
     "data": {
      "text/html": [
       "<div>\n",
       "<style scoped>\n",
       "    .dataframe tbody tr th:only-of-type {\n",
       "        vertical-align: middle;\n",
       "    }\n",
       "\n",
       "    .dataframe tbody tr th {\n",
       "        vertical-align: top;\n",
       "    }\n",
       "\n",
       "    .dataframe thead th {\n",
       "        text-align: right;\n",
       "    }\n",
       "</style>\n",
       "<table border=\"1\" class=\"dataframe\">\n",
       "  <thead>\n",
       "    <tr style=\"text-align: right;\">\n",
       "      <th></th>\n",
       "      <th>q05</th>\n",
       "      <th>q136</th>\n",
       "      <th>q061</th>\n",
       "      <th>q062</th>\n",
       "      <th>q161</th>\n",
       "      <th>q162</th>\n",
       "      <th>q163</th>\n",
       "      <th>q164</th>\n",
       "      <th>q171</th>\n",
       "      <th>q172</th>\n",
       "      <th>q173</th>\n",
       "      <th>q174</th>\n",
       "      <th>q224</th>\n",
       "      <th>q225</th>\n",
       "      <th>q132</th>\n",
       "    </tr>\n",
       "  </thead>\n",
       "  <tbody>\n",
       "    <tr>\n",
       "      <th>0</th>\n",
       "      <td>1.00</td>\n",
       "      <td>1.0</td>\n",
       "      <td>0.75</td>\n",
       "      <td>0.00</td>\n",
       "      <td>1.0</td>\n",
       "      <td>1.0</td>\n",
       "      <td>1.00</td>\n",
       "      <td>0.25</td>\n",
       "      <td>1.0</td>\n",
       "      <td>1.0</td>\n",
       "      <td>1.00</td>\n",
       "      <td>0.25</td>\n",
       "      <td>0.50</td>\n",
       "      <td>0.25</td>\n",
       "      <td>1.0</td>\n",
       "    </tr>\n",
       "    <tr>\n",
       "      <th>1</th>\n",
       "      <td>0.75</td>\n",
       "      <td>1.0</td>\n",
       "      <td>0.75</td>\n",
       "      <td>0.25</td>\n",
       "      <td>1.0</td>\n",
       "      <td>1.0</td>\n",
       "      <td>1.00</td>\n",
       "      <td>0.75</td>\n",
       "      <td>1.0</td>\n",
       "      <td>1.0</td>\n",
       "      <td>1.00</td>\n",
       "      <td>0.75</td>\n",
       "      <td>0.75</td>\n",
       "      <td>0.75</td>\n",
       "      <td>1.0</td>\n",
       "    </tr>\n",
       "    <tr>\n",
       "      <th>2</th>\n",
       "      <td>1.00</td>\n",
       "      <td>0.0</td>\n",
       "      <td>1.00</td>\n",
       "      <td>1.00</td>\n",
       "      <td>1.0</td>\n",
       "      <td>1.0</td>\n",
       "      <td>0.75</td>\n",
       "      <td>0.75</td>\n",
       "      <td>0.5</td>\n",
       "      <td>0.5</td>\n",
       "      <td>0.75</td>\n",
       "      <td>0.50</td>\n",
       "      <td>0.50</td>\n",
       "      <td>1.00</td>\n",
       "      <td>1.0</td>\n",
       "    </tr>\n",
       "  </tbody>\n",
       "</table>\n",
       "</div>"
      ],
      "text/plain": [
       "    q05  q136  q061  q062  q161  q162  q163  q164  q171  q172  q173  q174  \\\n",
       "0  1.00   1.0  0.75  0.00   1.0   1.0  1.00  0.25   1.0   1.0  1.00  0.25   \n",
       "1  0.75   1.0  0.75  0.25   1.0   1.0  1.00  0.75   1.0   1.0  1.00  0.75   \n",
       "2  1.00   0.0  1.00  1.00   1.0   1.0  0.75  0.75   0.5   0.5  0.75  0.50   \n",
       "\n",
       "   q224  q225  q132  \n",
       "0  0.50  0.25   1.0  \n",
       "1  0.75  0.75   1.0  \n",
       "2  0.50  1.00   1.0  "
      ]
     },
     "execution_count": 200,
     "metadata": {},
     "output_type": "execute_result"
    }
   ],
   "source": [
    "df_rel = not_applicable(df_rel, ['q132', 'q136','q171','q172','q162', 'q161', 'q163', 'q164', 'q173', 'q174', 'q224'])\n",
    "df_rel = encoding(df_rel, ['q05', 'q136','q061','q062','q161','q162','q163','q164','q171','q172','q173','q174','q224','q225'], category5_map)\n",
    "df_rel = encoding(df_rel, ['q132'], reverse_category5_map)\n",
    "df_rel = pd.DataFrame(scaler.fit_transform(df_rel), columns=df_rel.columns)\n",
    "df_rel.head(3)"
   ]
  },
  {
   "cell_type": "code",
   "execution_count": 201,
   "metadata": {},
   "outputs": [],
   "source": [
    "model_desc = \"\"\"\n",
    "friend_rel =~ q132 + q136\n",
    "teacher_rel =~ q061 + q062\n",
    "father_rel =~ q161 + q162\n",
    "mother_rel =~ q171 + q172\n",
    "group_rel =~ q224 + q225\n",
    "\n",
    "human_rel =~ friend_rel + teacher_rel + father_rel + mother_rel + group_rel\n",
    "\n",
    "father_rel ~~ mother_rel\n",
    "\"\"\""
   ]
  },
  {
   "cell_type": "code",
   "execution_count": 202,
   "metadata": {},
   "outputs": [],
   "source": [
    "df_rel['wt'] = df['wt']\n",
    "observed_vars = ['q132', 'q136', 'q061', 'q062','q161','q162','q171','q172','q224', 'q225']\n",
    "w_cov_df = calculate_covariance(df_rel, observed_vars)"
   ]
  },
  {
   "cell_type": "code",
   "execution_count": 203,
   "metadata": {},
   "outputs": [
    {
     "name": "stdout",
     "output_type": "stream",
     "text": [
      "적합도 지표:\n",
      "                       Value\n",
      "DoF               29.000000\n",
      "DoF Baseline      45.000000\n",
      "chi2             451.717386\n",
      "chi2 p-value       0.000000\n",
      "chi2 Baseline  14970.522565\n",
      "CFI                0.971678\n",
      "GFI                0.969826\n",
      "AGFI               0.953179\n",
      "NFI                0.969826\n",
      "TLI                0.956052\n",
      "RMSEA              0.052076\n",
      "AIC               51.831950\n",
      "BIC              223.164147\n",
      "LogLik             0.084025 \n",
      "\n",
      "\n",
      "모수 추정치:\n",
      "            lval  op         rval  Estimate  Std. Err    z-value p-value\n",
      "0    friend_rel   ~    human_rel  1.000000         -          -       -\n",
      "1   teacher_rel   ~    human_rel  1.798065  0.103468  17.377912     0.0\n",
      "2    father_rel   ~    human_rel  1.273300  0.083217  15.300879     0.0\n",
      "3    mother_rel   ~    human_rel  1.077120  0.067462  15.966289     0.0\n",
      "4     group_rel   ~    human_rel  2.121459  0.133937  15.839275     0.0\n",
      "5          q132   ~   friend_rel  1.000000         -          -       -\n",
      "6          q136   ~   friend_rel  1.357738  0.081297  16.700987     0.0\n",
      "7          q061   ~  teacher_rel  1.000000         -          -       -\n",
      "8          q062   ~  teacher_rel  0.959695  0.034762  27.607805     0.0\n",
      "9          q161   ~   father_rel  1.000000         -          -       -\n",
      "10         q162   ~   father_rel  1.142594  0.027806  41.092277     0.0\n",
      "11         q171   ~   mother_rel  1.000000         -          -       -\n",
      "12         q172   ~   mother_rel  1.239014  0.028692  43.183772     0.0\n",
      "13         q224   ~    group_rel  1.000000         -          -       -\n",
      "14         q225   ~    group_rel  1.226931  0.042824  28.650702     0.0\n",
      "15   father_rel  ~~   mother_rel  0.012506  0.000606  20.644674     0.0\n",
      "16   father_rel  ~~   father_rel  0.033327   0.00127  26.238953     0.0\n",
      "17   friend_rel  ~~   friend_rel  0.006443  0.000677   9.517871     0.0\n",
      "18    group_rel  ~~    group_rel  0.006615  0.000984   6.725317     0.0\n",
      "19    human_rel  ~~    human_rel  0.004941    0.0005    9.88677     0.0\n",
      "20   mother_rel  ~~   mother_rel  0.018728  0.000713  26.280525     0.0\n",
      "21  teacher_rel  ~~  teacher_rel  0.027295  0.001565   17.44525     0.0\n",
      "22         q061  ~~         q061  0.015351   0.00146  10.517406     0.0\n",
      "23         q062  ~~         q062  0.051497  0.001649  31.228828     0.0\n",
      "24         q132  ~~         q132  0.035047  0.000984  35.625838     0.0\n",
      "25         q136  ~~         q136  0.050424  0.001638  30.790944     0.0\n",
      "26         q161  ~~         q161  0.023884  0.000989  24.142043     0.0\n",
      "27         q162  ~~         q162  0.024857  0.001239  20.054194     0.0\n",
      "28         q171  ~~         q171  0.013807  0.000555   24.87857     0.0\n",
      "29         q172  ~~         q172  0.016220   0.00081  20.017157     0.0\n",
      "30         q224  ~~         q224  0.054938  0.001385  39.679083     0.0\n",
      "31         q225  ~~         q225  0.023209  0.001414  16.410658     0.0\n"
     ]
    },
    {
     "data": {
      "image/svg+xml": [
       "<?xml version=\"1.0\" encoding=\"UTF-8\" standalone=\"no\"?>\n",
       "<!DOCTYPE svg PUBLIC \"-//W3C//DTD SVG 1.1//EN\"\n",
       " \"http://www.w3.org/Graphics/SVG/1.1/DTD/svg11.dtd\">\n",
       "<!-- Generated by graphviz version 12.2.1 (20241206.2353)\n",
       " -->\n",
       "<!-- Title: G Pages: 1 -->\n",
       "<svg width=\"719pt\" height=\"378pt\"\n",
       " viewBox=\"0.00 0.00 718.69 378.41\" xmlns=\"http://www.w3.org/2000/svg\" xmlns:xlink=\"http://www.w3.org/1999/xlink\">\n",
       "<g id=\"graph0\" class=\"graph\" transform=\"scale(1 1) rotate(0) translate(4 374.41)\">\n",
       "<title>G</title>\n",
       "<polygon fill=\"white\" stroke=\"none\" points=\"-4,4 -4,-374.41 714.69,-374.41 714.69,4 -4,4\"/>\n",
       "<!-- father_rel -->\n",
       "<g id=\"node1\" class=\"node\">\n",
       "<title>father_rel</title>\n",
       "<ellipse fill=\"#cae6df\" stroke=\"black\" cx=\"99\" cy=\"-152.36\" rx=\"46.75\" ry=\"46.75\"/>\n",
       "<text text-anchor=\"middle\" x=\"99\" y=\"-147.31\" font-family=\"Times New Roman,serif\" font-size=\"14.00\">father_rel</text>\n",
       "</g>\n",
       "<!-- q161 -->\n",
       "<g id=\"node11\" class=\"node\">\n",
       "<title>q161</title>\n",
       "<polygon fill=\"none\" stroke=\"black\" points=\"54,-36 0,-36 0,0 54,0 54,-36\"/>\n",
       "<text text-anchor=\"middle\" x=\"27\" y=\"-12.95\" font-family=\"Times New Roman,serif\" font-size=\"14.00\">q161</text>\n",
       "</g>\n",
       "<!-- father_rel&#45;&gt;q161 -->\n",
       "<g id=\"edge10\" class=\"edge\">\n",
       "<title>father_rel&#45;&gt;q161</title>\n",
       "<path fill=\"none\" stroke=\"black\" d=\"M77.01,-110.93C65.61,-89.99 52.01,-64.97 41.86,-46.32\"/>\n",
       "<polygon fill=\"black\" stroke=\"black\" points=\"45.05,-44.86 37.2,-37.75 38.9,-48.21 45.05,-44.86\"/>\n",
       "<text text-anchor=\"middle\" x=\"74.34\" y=\"-63.98\" font-family=\"Times New Roman,serif\" font-size=\"12.00\">1.000</text>\n",
       "</g>\n",
       "<!-- q162 -->\n",
       "<g id=\"node12\" class=\"node\">\n",
       "<title>q162</title>\n",
       "<polygon fill=\"none\" stroke=\"black\" points=\"126,-36 72,-36 72,0 126,0 126,-36\"/>\n",
       "<text text-anchor=\"middle\" x=\"99\" y=\"-12.95\" font-family=\"Times New Roman,serif\" font-size=\"14.00\">q162</text>\n",
       "</g>\n",
       "<!-- father_rel&#45;&gt;q162 -->\n",
       "<g id=\"edge11\" class=\"edge\">\n",
       "<title>father_rel&#45;&gt;q162</title>\n",
       "<path fill=\"none\" stroke=\"black\" d=\"M99,-105.44C99,-86.21 99,-64.46 99,-47.59\"/>\n",
       "<polygon fill=\"black\" stroke=\"black\" points=\"102.5,-47.78 99,-37.78 95.5,-47.78 102.5,-47.78\"/>\n",
       "<text text-anchor=\"middle\" x=\"124.5\" y=\"-71.1\" font-family=\"Times New Roman,serif\" font-size=\"12.00\">1.143</text>\n",
       "<text text-anchor=\"middle\" x=\"124.5\" y=\"-56.85\" font-family=\"Times New Roman,serif\" font-size=\"12.00\">p&#45;val: 0.00</text>\n",
       "</g>\n",
       "<!-- teacher_rel -->\n",
       "<g id=\"node2\" class=\"node\">\n",
       "<title>teacher_rel</title>\n",
       "<ellipse fill=\"#cae6df\" stroke=\"black\" cx=\"236\" cy=\"-152.36\" rx=\"51.86\" ry=\"51.86\"/>\n",
       "<text text-anchor=\"middle\" x=\"236\" y=\"-147.31\" font-family=\"Times New Roman,serif\" font-size=\"14.00\">teacher_rel</text>\n",
       "</g>\n",
       "<!-- q061 -->\n",
       "<g id=\"node7\" class=\"node\">\n",
       "<title>q061</title>\n",
       "<polygon fill=\"none\" stroke=\"black\" points=\"199,-36 145,-36 145,0 199,0 199,-36\"/>\n",
       "<text text-anchor=\"middle\" x=\"172\" y=\"-12.95\" font-family=\"Times New Roman,serif\" font-size=\"14.00\">q061</text>\n",
       "</g>\n",
       "<!-- teacher_rel&#45;&gt;q061 -->\n",
       "<g id=\"edge8\" class=\"edge\">\n",
       "<title>teacher_rel&#45;&gt;q061</title>\n",
       "<path fill=\"none\" stroke=\"black\" d=\"M213.62,-105.07C204.21,-85.62 193.59,-63.65 185.43,-46.77\"/>\n",
       "<polygon fill=\"black\" stroke=\"black\" points=\"188.62,-45.34 181.12,-37.86 182.32,-48.38 188.62,-45.34\"/>\n",
       "<text text-anchor=\"middle\" x=\"215.58\" y=\"-63.98\" font-family=\"Times New Roman,serif\" font-size=\"12.00\">1.000</text>\n",
       "</g>\n",
       "<!-- q062 -->\n",
       "<g id=\"node8\" class=\"node\">\n",
       "<title>q062</title>\n",
       "<polygon fill=\"none\" stroke=\"black\" points=\"271,-36 217,-36 217,0 271,0 271,-36\"/>\n",
       "<text text-anchor=\"middle\" x=\"244\" y=\"-12.95\" font-family=\"Times New Roman,serif\" font-size=\"14.00\">q062</text>\n",
       "</g>\n",
       "<!-- teacher_rel&#45;&gt;q062 -->\n",
       "<g id=\"edge9\" class=\"edge\">\n",
       "<title>teacher_rel&#45;&gt;q062</title>\n",
       "<path fill=\"none\" stroke=\"black\" d=\"M239.09,-100.19C240.17,-82.39 241.34,-63.07 242.26,-47.74\"/>\n",
       "<polygon fill=\"black\" stroke=\"black\" points=\"245.75,-48.11 242.86,-37.92 238.76,-47.69 245.75,-48.11\"/>\n",
       "<text text-anchor=\"middle\" x=\"267.35\" y=\"-71.1\" font-family=\"Times New Roman,serif\" font-size=\"12.00\">0.960</text>\n",
       "<text text-anchor=\"middle\" x=\"267.35\" y=\"-56.85\" font-family=\"Times New Roman,serif\" font-size=\"12.00\">p&#45;val: 0.00</text>\n",
       "</g>\n",
       "<!-- group_rel -->\n",
       "<g id=\"node3\" class=\"node\">\n",
       "<title>group_rel</title>\n",
       "<ellipse fill=\"#cae6df\" stroke=\"black\" cx=\"353\" cy=\"-152.36\" rx=\"46.75\" ry=\"46.75\"/>\n",
       "<text text-anchor=\"middle\" x=\"353\" y=\"-147.31\" font-family=\"Times New Roman,serif\" font-size=\"14.00\">group_rel</text>\n",
       "</g>\n",
       "<!-- q224 -->\n",
       "<g id=\"node15\" class=\"node\">\n",
       "<title>q224</title>\n",
       "<polygon fill=\"none\" stroke=\"black\" points=\"344,-36 290,-36 290,0 344,0 344,-36\"/>\n",
       "<text text-anchor=\"middle\" x=\"317\" y=\"-12.95\" font-family=\"Times New Roman,serif\" font-size=\"14.00\">q224</text>\n",
       "</g>\n",
       "<!-- group_rel&#45;&gt;q224 -->\n",
       "<g id=\"edge14\" class=\"edge\">\n",
       "<title>group_rel&#45;&gt;q224</title>\n",
       "<path fill=\"none\" stroke=\"black\" d=\"M340.91,-106.92C335.57,-87.27 329.44,-64.75 324.73,-47.42\"/>\n",
       "<polygon fill=\"black\" stroke=\"black\" points=\"328.12,-46.54 322.11,-37.81 321.36,-48.37 328.12,-46.54\"/>\n",
       "<text text-anchor=\"middle\" x=\"347.42\" y=\"-63.98\" font-family=\"Times New Roman,serif\" font-size=\"12.00\">1.000</text>\n",
       "</g>\n",
       "<!-- q225 -->\n",
       "<g id=\"node16\" class=\"node\">\n",
       "<title>q225</title>\n",
       "<polygon fill=\"none\" stroke=\"black\" points=\"416,-36 362,-36 362,0 416,0 416,-36\"/>\n",
       "<text text-anchor=\"middle\" x=\"389\" y=\"-12.95\" font-family=\"Times New Roman,serif\" font-size=\"14.00\">q225</text>\n",
       "</g>\n",
       "<!-- group_rel&#45;&gt;q225 -->\n",
       "<g id=\"edge15\" class=\"edge\">\n",
       "<title>group_rel&#45;&gt;q225</title>\n",
       "<path fill=\"none\" stroke=\"black\" d=\"M365.09,-106.92C370.43,-87.27 376.56,-64.75 381.27,-47.42\"/>\n",
       "<polygon fill=\"black\" stroke=\"black\" points=\"384.64,-48.37 383.89,-37.81 377.88,-46.54 384.64,-48.37\"/>\n",
       "<text text-anchor=\"middle\" x=\"404.85\" y=\"-71.1\" font-family=\"Times New Roman,serif\" font-size=\"12.00\">1.227</text>\n",
       "<text text-anchor=\"middle\" x=\"404.85\" y=\"-56.85\" font-family=\"Times New Roman,serif\" font-size=\"12.00\">p&#45;val: 0.00</text>\n",
       "</g>\n",
       "<!-- human_rel -->\n",
       "<g id=\"node4\" class=\"node\">\n",
       "<title>human_rel</title>\n",
       "<ellipse fill=\"#cae6df\" stroke=\"black\" cx=\"353\" cy=\"-319.57\" rx=\"50.84\" ry=\"50.84\"/>\n",
       "<text text-anchor=\"middle\" x=\"353\" y=\"-314.52\" font-family=\"Times New Roman,serif\" font-size=\"14.00\">human_rel</text>\n",
       "</g>\n",
       "<!-- human_rel&#45;&gt;father_rel -->\n",
       "<g id=\"edge3\" class=\"edge\">\n",
       "<title>human_rel&#45;&gt;father_rel</title>\n",
       "<path fill=\"none\" stroke=\"black\" d=\"M307.21,-296.69C282.31,-284.2 251.32,-267.69 225,-250.73 196.67,-232.46 166.75,-209.51 143.17,-190.48\"/>\n",
       "<polygon fill=\"black\" stroke=\"black\" points=\"145.6,-187.95 135.64,-184.35 141.19,-193.38 145.6,-187.95\"/>\n",
       "<text text-anchor=\"middle\" x=\"250.5\" y=\"-239.33\" font-family=\"Times New Roman,serif\" font-size=\"12.00\">1.273</text>\n",
       "<text text-anchor=\"middle\" x=\"250.5\" y=\"-225.08\" font-family=\"Times New Roman,serif\" font-size=\"12.00\">p&#45;val: 0.00</text>\n",
       "</g>\n",
       "<!-- human_rel&#45;&gt;teacher_rel -->\n",
       "<g id=\"edge2\" class=\"edge\">\n",
       "<title>human_rel&#45;&gt;teacher_rel</title>\n",
       "<path fill=\"none\" stroke=\"black\" d=\"M320.52,-280.06C312.92,-270.63 305,-260.45 298,-250.73 287.91,-236.72 277.59,-221.12 268.34,-206.58\"/>\n",
       "<polygon fill=\"black\" stroke=\"black\" points=\"271.53,-205.07 263.24,-198.48 265.61,-208.81 271.53,-205.07\"/>\n",
       "<text text-anchor=\"middle\" x=\"323.5\" y=\"-239.33\" font-family=\"Times New Roman,serif\" font-size=\"12.00\">1.798</text>\n",
       "<text text-anchor=\"middle\" x=\"323.5\" y=\"-225.08\" font-family=\"Times New Roman,serif\" font-size=\"12.00\">p&#45;val: 0.00</text>\n",
       "</g>\n",
       "<!-- human_rel&#45;&gt;group_rel -->\n",
       "<g id=\"edge5\" class=\"edge\">\n",
       "<title>human_rel&#45;&gt;group_rel</title>\n",
       "<path fill=\"none\" stroke=\"black\" d=\"M353,-268.55C353,-250.38 353,-229.71 353,-210.94\"/>\n",
       "<polygon fill=\"black\" stroke=\"black\" points=\"356.5,-211.06 353,-201.06 349.5,-211.06 356.5,-211.06\"/>\n",
       "<text text-anchor=\"middle\" x=\"378.5\" y=\"-239.33\" font-family=\"Times New Roman,serif\" font-size=\"12.00\">2.121</text>\n",
       "<text text-anchor=\"middle\" x=\"378.5\" y=\"-225.08\" font-family=\"Times New Roman,serif\" font-size=\"12.00\">p&#45;val: 0.00</text>\n",
       "</g>\n",
       "<!-- mother_rel -->\n",
       "<g id=\"node5\" class=\"node\">\n",
       "<title>mother_rel</title>\n",
       "<ellipse fill=\"#cae6df\" stroke=\"black\" cx=\"470\" cy=\"-152.36\" rx=\"51.86\" ry=\"51.86\"/>\n",
       "<text text-anchor=\"middle\" x=\"470\" y=\"-147.31\" font-family=\"Times New Roman,serif\" font-size=\"14.00\">mother_rel</text>\n",
       "</g>\n",
       "<!-- human_rel&#45;&gt;mother_rel -->\n",
       "<g id=\"edge4\" class=\"edge\">\n",
       "<title>human_rel&#45;&gt;mother_rel</title>\n",
       "<path fill=\"none\" stroke=\"black\" d=\"M385.48,-280.06C393.08,-270.63 401,-260.45 408,-250.73 418.09,-236.72 428.41,-221.12 437.66,-206.58\"/>\n",
       "<polygon fill=\"black\" stroke=\"black\" points=\"440.39,-208.81 442.76,-198.48 434.47,-205.07 440.39,-208.81\"/>\n",
       "<text text-anchor=\"middle\" x=\"451.46\" y=\"-239.33\" font-family=\"Times New Roman,serif\" font-size=\"12.00\">1.077</text>\n",
       "<text text-anchor=\"middle\" x=\"451.46\" y=\"-225.08\" font-family=\"Times New Roman,serif\" font-size=\"12.00\">p&#45;val: 0.00</text>\n",
       "</g>\n",
       "<!-- friend_rel -->\n",
       "<g id=\"node6\" class=\"node\">\n",
       "<title>friend_rel</title>\n",
       "<ellipse fill=\"#cae6df\" stroke=\"black\" cx=\"607\" cy=\"-152.36\" rx=\"47.26\" ry=\"47.26\"/>\n",
       "<text text-anchor=\"middle\" x=\"607\" y=\"-147.31\" font-family=\"Times New Roman,serif\" font-size=\"14.00\">friend_rel</text>\n",
       "</g>\n",
       "<!-- human_rel&#45;&gt;friend_rel -->\n",
       "<g id=\"edge1\" class=\"edge\">\n",
       "<title>human_rel&#45;&gt;friend_rel</title>\n",
       "<path fill=\"none\" stroke=\"black\" d=\"M398.79,-296.69C423.69,-284.2 454.68,-267.69 481,-250.73 509.23,-232.53 539.04,-209.68 562.57,-190.69\"/>\n",
       "<polygon fill=\"black\" stroke=\"black\" points=\"564.54,-193.6 570.09,-184.57 560.13,-188.16 564.54,-193.6\"/>\n",
       "<text text-anchor=\"middle\" x=\"534\" y=\"-232.2\" font-family=\"Times New Roman,serif\" font-size=\"12.00\">1.000</text>\n",
       "</g>\n",
       "<!-- q171 -->\n",
       "<g id=\"node13\" class=\"node\">\n",
       "<title>q171</title>\n",
       "<polygon fill=\"none\" stroke=\"black\" points=\"489,-36 435,-36 435,0 489,0 489,-36\"/>\n",
       "<text text-anchor=\"middle\" x=\"462\" y=\"-12.95\" font-family=\"Times New Roman,serif\" font-size=\"14.00\">q171</text>\n",
       "</g>\n",
       "<!-- mother_rel&#45;&gt;q171 -->\n",
       "<g id=\"edge12\" class=\"edge\">\n",
       "<title>mother_rel&#45;&gt;q171</title>\n",
       "<path fill=\"none\" stroke=\"black\" d=\"M466.91,-100.19C465.83,-82.39 464.66,-63.07 463.74,-47.74\"/>\n",
       "<polygon fill=\"black\" stroke=\"black\" points=\"467.24,-47.69 463.14,-37.92 460.25,-48.11 467.24,-47.69\"/>\n",
       "<text text-anchor=\"middle\" x=\"479.26\" y=\"-63.98\" font-family=\"Times New Roman,serif\" font-size=\"12.00\">1.000</text>\n",
       "</g>\n",
       "<!-- q172 -->\n",
       "<g id=\"node14\" class=\"node\">\n",
       "<title>q172</title>\n",
       "<polygon fill=\"none\" stroke=\"black\" points=\"561,-36 507,-36 507,0 561,0 561,-36\"/>\n",
       "<text text-anchor=\"middle\" x=\"534\" y=\"-12.95\" font-family=\"Times New Roman,serif\" font-size=\"14.00\">q172</text>\n",
       "</g>\n",
       "<!-- mother_rel&#45;&gt;q172 -->\n",
       "<g id=\"edge13\" class=\"edge\">\n",
       "<title>mother_rel&#45;&gt;q172</title>\n",
       "<path fill=\"none\" stroke=\"black\" d=\"M492.38,-105.07C501.79,-85.62 512.41,-63.65 520.57,-46.77\"/>\n",
       "<polygon fill=\"black\" stroke=\"black\" points=\"523.68,-48.38 524.88,-37.86 517.38,-45.34 523.68,-48.38\"/>\n",
       "<text text-anchor=\"middle\" x=\"542.34\" y=\"-71.1\" font-family=\"Times New Roman,serif\" font-size=\"12.00\">1.239</text>\n",
       "<text text-anchor=\"middle\" x=\"542.34\" y=\"-56.85\" font-family=\"Times New Roman,serif\" font-size=\"12.00\">p&#45;val: 0.00</text>\n",
       "</g>\n",
       "<!-- q132 -->\n",
       "<g id=\"node9\" class=\"node\">\n",
       "<title>q132</title>\n",
       "<polygon fill=\"none\" stroke=\"black\" points=\"634,-36 580,-36 580,0 634,0 634,-36\"/>\n",
       "<text text-anchor=\"middle\" x=\"607\" y=\"-12.95\" font-family=\"Times New Roman,serif\" font-size=\"14.00\">q132</text>\n",
       "</g>\n",
       "<!-- friend_rel&#45;&gt;q132 -->\n",
       "<g id=\"edge6\" class=\"edge\">\n",
       "<title>friend_rel&#45;&gt;q132</title>\n",
       "<path fill=\"none\" stroke=\"black\" d=\"M607,-104.7C607,-85.65 607,-64.24 607,-47.58\"/>\n",
       "<polygon fill=\"black\" stroke=\"black\" points=\"610.5,-47.91 607,-37.91 603.5,-47.91 610.5,-47.91\"/>\n",
       "<text text-anchor=\"middle\" x=\"620.5\" y=\"-63.98\" font-family=\"Times New Roman,serif\" font-size=\"12.00\">1.000</text>\n",
       "</g>\n",
       "<!-- q136 -->\n",
       "<g id=\"node10\" class=\"node\">\n",
       "<title>q136</title>\n",
       "<polygon fill=\"none\" stroke=\"black\" points=\"706,-36 652,-36 652,0 706,0 706,-36\"/>\n",
       "<text text-anchor=\"middle\" x=\"679\" y=\"-12.95\" font-family=\"Times New Roman,serif\" font-size=\"14.00\">q136</text>\n",
       "</g>\n",
       "<!-- friend_rel&#45;&gt;q136 -->\n",
       "<g id=\"edge7\" class=\"edge\">\n",
       "<title>friend_rel&#45;&gt;q136</title>\n",
       "<path fill=\"none\" stroke=\"black\" d=\"M629.39,-110.21C640.71,-89.4 654.13,-64.72 664.16,-46.29\"/>\n",
       "<polygon fill=\"black\" stroke=\"black\" points=\"667.2,-48.01 668.91,-37.56 661.05,-44.67 667.2,-48.01\"/>\n",
       "<text text-anchor=\"middle\" x=\"685.19\" y=\"-71.1\" font-family=\"Times New Roman,serif\" font-size=\"12.00\">1.358</text>\n",
       "<text text-anchor=\"middle\" x=\"685.19\" y=\"-56.85\" font-family=\"Times New Roman,serif\" font-size=\"12.00\">p&#45;val: 0.00</text>\n",
       "</g>\n",
       "</g>\n",
       "</svg>\n"
      ],
      "text/plain": [
       "<graphviz.graphs.Digraph at 0x17a20a24f10>"
      ]
     },
     "execution_count": 203,
     "metadata": {},
     "output_type": "execute_result"
    }
   ],
   "source": [
    "vif_df = compute_vif(df_rel, observed_vars)\n",
    "model = Model(model_desc)\n",
    "model = fit_sem_model(model, df_rel, w_cov_df)\n",
    "stats = calc_stats(model)\n",
    "estimates = model.inspect()\n",
    "print(\"적합도 지표:\\n\", stats.T, \"\\n\\n\")\n",
    "print(\"모수 추정치:\\n\", estimates)\n",
    "\n",
    "semplot(model, 'C:\\\\git_files\\\\education_analysis\\\\happy\\\\human_rel.png')"
   ]
  },
  {
   "cell_type": "code",
   "execution_count": 204,
   "metadata": {},
   "outputs": [
    {
     "name": "stdout",
     "output_type": "stream",
     "text": [
      "  Feature        VIF\n",
      "0    q132  15.102170\n",
      "1    q136  10.714918\n",
      "2    q061  16.267829\n",
      "3    q062   6.769349\n",
      "4    q161  20.182783\n",
      "5    q162  15.449920\n",
      "6    q171  37.193189\n",
      "7    q172  28.802924\n",
      "8    q224   8.110904\n",
      "9    q225  13.648611\n"
     ]
    }
   ],
   "source": [
    "vif_df = compute_vif(df_rel, observed_vars)\n",
    "\n",
    "print(vif_df)"
   ]
  },
  {
   "cell_type": "code",
   "execution_count": 205,
   "metadata": {},
   "outputs": [
    {
     "data": {
      "image/png": "[encoded data removed]",
      "text/plain": [
       "<Figure size 600x400 with 2 Axes>"
      ]
     },
     "metadata": {},
     "output_type": "display_data"
    }
   ],
   "source": [
    "import pandas as pd\n",
    "import seaborn as sns\n",
    "import matplotlib.pyplot as plt\n",
    "\n",
    "# 문제된 변수만 추출\n",
    "rel_corr_df = df_rel[observed_vars].copy()\n",
    "\n",
    "# 상관행렬 계산\n",
    "corr_matrix = rel_corr_df.corr()\n",
    "\n",
    "# 상관계수 히트맵 시각화\n",
    "plt.figure(figsize=(6, 4))\n",
    "sns.heatmap(corr_matrix, annot=True, cmap='coolwarm', fmt='.2f')\n",
    "plt.title('Correlation matrix of emotional state variables')\n",
    "plt.show()\n"
   ]
  },
  {
   "cell_type": "code",
   "execution_count": 206,
   "metadata": {},
   "outputs": [
    {
     "name": "stdout",
     "output_type": "stream",
     "text": [
      "        id sex  birthy birthm             area         size school grade  \\\n",
      "0  20001.0  여성  2003.0     4월  충청권(대전, 충남, 충북)  도서벽지 및 읍면지역   고등학생   3학년   \n",
      "1  20002.0  여성  2003.0     8월  충청권(대전, 충남, 충북)  도서벽지 및 읍면지역   고등학생   3학년   \n",
      "2  20003.0  여성  2003.0     9월  충청권(대전, 충남, 충북)  도서벽지 및 읍면지역   고등학생   3학년   \n",
      "3  20004.0  남성  2003.0     8월  충청권(대전, 충남, 충북)  도서벽지 및 읍면지역   고등학생   3학년   \n",
      "4  20005.0  남성  2003.0     2월  충청권(대전, 충남, 충북)  도서벽지 및 읍면지역   고등학생   3학년   \n",
      "\n",
      "  home1 home2  ...   q514   q52   q53 q5411 q5412 q5421 q5422        wt  \\\n",
      "0   아니오   아니오  ...  차이 없음  28.0  그대로다   NaN   NaN   NaN   NaN  0.250048   \n",
      "1     예     예  ...  차이 없음  20.0  그대로다   NaN   NaN   NaN   NaN  0.250048   \n",
      "2     예     예  ...  차이 없음  30.0  그대로다   NaN   NaN   NaN   NaN  0.250048   \n",
      "3     예     예  ...  차이 없음  30.0  그대로다   NaN   NaN   NaN   NaN  0.244036   \n",
      "4   아니오     예  ...  차이 없음  30.0  그대로다   NaN   NaN   NaN   NaN  0.244036   \n",
      "\n",
      "  academic_pressure human_rel  \n",
      "0         -0.374990 -0.046347  \n",
      "1         -0.102685  0.024751  \n",
      "2         -0.345626  0.016073  \n",
      "3          0.020866 -0.032972  \n",
      "4         -0.289557  0.054841  \n",
      "\n",
      "[5 rows x 279 columns]\n"
     ]
    }
   ],
   "source": [
    "factor_scores = model.predict_factors(df_rel)\n",
    "\n",
    "df[\"human_rel\"] = factor_scores[\"human_rel\"]\n",
    "\n",
    "print(df.head())"
   ]
  },
  {
   "cell_type": "code",
   "execution_count": 207,
   "metadata": {},
   "outputs": [
    {
     "data": {
      "image/png": "[encoded data removed]",
      "text/plain": [
       "<Figure size 640x480 with 1 Axes>"
      ]
     },
     "metadata": {},
     "output_type": "display_data"
    }
   ],
   "source": [
    "plt.hist(df[\"human_rel\"], bins=20, color='blue')\n",
    "plt.title(\"Distribution of Human Relationship Factor\")\n",
    "plt.xlabel(\"Human Relationship Factor\")\n",
    "plt.ylabel(\"Frequency\")\n",
    "plt.show()"
   ]
  },
  {
   "cell_type": "code",
   "execution_count": 208,
   "metadata": {},
   "outputs": [
    {
     "name": "stdout",
     "output_type": "stream",
     "text": [
      "           q132       q136       q061       q062       q161       q163  \\\n",
      "213   전혀 그렇지 않다  전혀 그렇지 않다  별로 그렇지 않다  별로 그렇지 않다  전혀 그렇지 않다  전혀 그렇지 않다   \n",
      "459      매우 그렇다  전혀 그렇지 않다  전혀 그렇지 않다  전혀 그렇지 않다     조금 그렇다  전혀 그렇지 않다   \n",
      "538   전혀 그렇지 않다  전혀 그렇지 않다  전혀 그렇지 않다  전혀 그렇지 않다  전혀 그렇지 않다  전혀 그렇지 않다   \n",
      "2020     매우 그렇다  전혀 그렇지 않다  전혀 그렇지 않다  전혀 그렇지 않다     조금 그렇다       보통이다   \n",
      "2174     조금 그렇다  별로 그렇지 않다       보통이다     조금 그렇다  전혀 그렇지 않다  전혀 그렇지 않다   \n",
      "2340       보통이다  전혀 그렇지 않다  전혀 그렇지 않다  전혀 그렇지 않다  전혀 그렇지 않다  전혀 그렇지 않다   \n",
      "2718     매우 그렇다       보통이다  별로 그렇지 않다  전혀 그렇지 않다       보통이다       보통이다   \n",
      "3538  전혀 그렇지 않다       보통이다  전혀 그렇지 않다  전혀 그렇지 않다     매우 그렇다  별로 그렇지 않다   \n",
      "3543  별로 그렇지 않다    해당사항 없음  전혀 그렇지 않다  전혀 그렇지 않다       보통이다     조금 그렇다   \n",
      "3692       보통이다       보통이다  전혀 그렇지 않다  전혀 그렇지 않다  전혀 그렇지 않다  전혀 그렇지 않다   \n",
      "3844  전혀 그렇지 않다  전혀 그렇지 않다  전혀 그렇지 않다     매우 그렇다  별로 그렇지 않다  별로 그렇지 않다   \n",
      "4337  전혀 그렇지 않다  전혀 그렇지 않다  전혀 그렇지 않다  전혀 그렇지 않다  전혀 그렇지 않다  전혀 그렇지 않다   \n",
      "4540  전혀 그렇지 않다  전혀 그렇지 않다  전혀 그렇지 않다  전혀 그렇지 않다  전혀 그렇지 않다  전혀 그렇지 않다   \n",
      "4681  전혀 그렇지 않다  전혀 그렇지 않다  전혀 그렇지 않다  전혀 그렇지 않다  전혀 그렇지 않다  전혀 그렇지 않다   \n",
      "4995    해당사항 없음    해당사항 없음  전혀 그렇지 않다  전혀 그렇지 않다    해당사항 없음    해당사항 없음   \n",
      "5364  전혀 그렇지 않다  전혀 그렇지 않다     조금 그렇다  전혀 그렇지 않다  전혀 그렇지 않다  전혀 그렇지 않다   \n",
      "5371  전혀 그렇지 않다  전혀 그렇지 않다  전혀 그렇지 않다  전혀 그렇지 않다    해당사항 없음    해당사항 없음   \n",
      "\n",
      "           q171       q173       q224       q225  \n",
      "213        보통이다       보통이다  전혀 그렇지 않다  전혀 그렇지 않다  \n",
      "459     해당사항 없음    해당사항 없음       보통이다  전혀 그렇지 않다  \n",
      "538     해당사항 없음    해당사항 없음  전혀 그렇지 않다  전혀 그렇지 않다  \n",
      "2020  전혀 그렇지 않다  전혀 그렇지 않다  전혀 그렇지 않다  전혀 그렇지 않다  \n",
      "2174       보통이다  전혀 그렇지 않다  전혀 그렇지 않다  전혀 그렇지 않다  \n",
      "2340       보통이다  별로 그렇지 않다  전혀 그렇지 않다  전혀 그렇지 않다  \n",
      "2718  전혀 그렇지 않다  전혀 그렇지 않다  전혀 그렇지 않다  전혀 그렇지 않다  \n",
      "3538       보통이다  별로 그렇지 않다  전혀 그렇지 않다  전혀 그렇지 않다  \n",
      "3543  전혀 그렇지 않다  전혀 그렇지 않다  별로 그렇지 않다  전혀 그렇지 않다  \n",
      "3692       보통이다       보통이다  별로 그렇지 않다  전혀 그렇지 않다  \n",
      "3844  전혀 그렇지 않다  전혀 그렇지 않다  전혀 그렇지 않다  전혀 그렇지 않다  \n",
      "4337  전혀 그렇지 않다  전혀 그렇지 않다  전혀 그렇지 않다  전혀 그렇지 않다  \n",
      "4540  전혀 그렇지 않다  전혀 그렇지 않다  전혀 그렇지 않다  전혀 그렇지 않다  \n",
      "4681  전혀 그렇지 않다  전혀 그렇지 않다  전혀 그렇지 않다  전혀 그렇지 않다  \n",
      "4995    해당사항 없음    해당사항 없음  전혀 그렇지 않다  전혀 그렇지 않다  \n",
      "5364  전혀 그렇지 않다  전혀 그렇지 않다  전혀 그렇지 않다  전혀 그렇지 않다  \n",
      "5371    해당사항 없음    해당사항 없음  전혀 그렇지 않다  전혀 그렇지 않다  \n"
     ]
    }
   ],
   "source": [
    "print(df[df['human_rel'] < -0.20][['q132', 'q136', 'q061', 'q062', 'q161', 'q163', 'q171', 'q173', 'q224', 'q225']])"
   ]
  },
  {
   "cell_type": "code",
   "execution_count": null,
   "metadata": {},
   "outputs": [],
   "source": []
  },
  {
   "cell_type": "markdown",
   "metadata": {},
   "source": [
    "# 정서적 상태"
   ]
  },
  {
   "cell_type": "code",
   "execution_count": 209,
   "metadata": {},
   "outputs": [
    {
     "data": {
      "text/plain": [
       "q221    0\n",
       "q222    0\n",
       "q223    0\n",
       "q226    0\n",
       "q23     0\n",
       "q26     0\n",
       "dtype: int64"
      ]
     },
     "execution_count": 209,
     "metadata": {},
     "output_type": "execute_result"
    }
   ],
   "source": [
    "emo = df[['q221', 'q222', 'q223', 'q226', 'q23', 'q26']]\n",
    "emo.isnull().sum()"
   ]
  },
  {
   "cell_type": "code",
   "execution_count": 210,
   "metadata": {},
   "outputs": [
    {
     "data": {
      "text/plain": [
       "q221\n",
       "매우 그렇다       1998\n",
       "조금 그렇다       1508\n",
       "보통이다         1225\n",
       "별로 그렇지 않다     506\n",
       "전혀 그렇지 않다     139\n",
       "Name: count, dtype: int64"
      ]
     },
     "metadata": {},
     "output_type": "display_data"
    },
    {
     "data": {
      "text/plain": [
       "q222\n",
       "매우 그렇다       1815\n",
       "조금 그렇다       1546\n",
       "보통이다         1256\n",
       "별로 그렇지 않다     507\n",
       "전혀 그렇지 않다     252\n",
       "Name: count, dtype: int64"
      ]
     },
     "metadata": {},
     "output_type": "display_data"
    },
    {
     "data": {
      "text/plain": [
       "q223\n",
       "매우 그렇다       1605\n",
       "조금 그렇다       1464\n",
       "보통이다         1454\n",
       "별로 그렇지 않다     610\n",
       "전혀 그렇지 않다     243\n",
       "Name: count, dtype: int64"
      ]
     },
     "metadata": {},
     "output_type": "display_data"
    },
    {
     "data": {
      "text/plain": [
       "q226\n",
       "전혀 그렇지 않다    1575\n",
       "별로 그렇지 않다    1463\n",
       "보통이다         1150\n",
       "조금 그렇다        798\n",
       "매우 그렇다        390\n",
       "Name: count, dtype: int64"
      ]
     },
     "metadata": {},
     "output_type": "display_data"
    },
    {
     "data": {
      "text/plain": [
       "q23\n",
       "대체로 행복한 편이다       3106\n",
       "매우 행복하다           1063\n",
       "별로 행복하지 않은 편이다     708\n",
       "모르겠다               388\n",
       "전혀 행복하지 않다         111\n",
       "Name: count, dtype: int64"
      ]
     },
     "metadata": {},
     "output_type": "display_data"
    },
    {
     "data": {
      "text/plain": [
       "q26\n",
       "보통이다       1865\n",
       "약간 행복하다    1450\n",
       "매우 행복하다    1340\n",
       "약간 불행하다     575\n",
       "매우 불행하다     146\n",
       "Name: count, dtype: int64"
      ]
     },
     "metadata": {},
     "output_type": "display_data"
    }
   ],
   "source": [
    "for i in emo.columns:\n",
    "    display(emo[i].value_counts())"
   ]
  },
  {
   "cell_type": "code",
   "execution_count": 211,
   "metadata": {},
   "outputs": [],
   "source": [
    "emo = encoding(emo, ['q221', 'q222', 'q223'], category5_map)\n",
    "emo = encoding(emo, ['q226'], reverse_category5_map)\n",
    "emo = encoding(emo, ['q23'], happy_map)\n",
    "emo = encoding(emo, ['q26'], how_happy_map)"
   ]
  },
  {
   "cell_type": "code",
   "execution_count": 212,
   "metadata": {},
   "outputs": [],
   "source": [
    "scaler = MinMaxScaler()\n",
    "emo = pd.DataFrame(scaler.fit_transform(emo), columns=emo.columns)"
   ]
  },
  {
   "cell_type": "code",
   "execution_count": 213,
   "metadata": {},
   "outputs": [],
   "source": [
    "model_desc = \"\"\"\n",
    "emotional_state =~ q221 + q223 + q226 + q23\n",
    "\"\"\""
   ]
  },
  {
   "cell_type": "code",
   "execution_count": 214,
   "metadata": {},
   "outputs": [],
   "source": [
    "emo['wt'] = df['wt']\n",
    "observed_vars = ['q221', 'q223', 'q226', 'q23']\n",
    "w_cov_df = calculate_covariance(emo, observed_vars)"
   ]
  },
  {
   "cell_type": "code",
   "execution_count": 215,
   "metadata": {},
   "outputs": [
    {
     "name": "stdout",
     "output_type": "stream",
     "text": [
      "적합도 지표:\n",
      "                      Value\n",
      "DoF               2.000000\n",
      "DoF Baseline      6.000000\n",
      "chi2             22.569467\n",
      "chi2 p-value      0.000013\n",
      "chi2 Baseline  5595.678654\n",
      "CFI               0.996320\n",
      "GFI               0.995967\n",
      "AGFI              0.987900\n",
      "NFI               0.995967\n",
      "TLI               0.988960\n",
      "RMSEA             0.043743\n",
      "AIC              15.991604\n",
      "BIC              68.709203\n",
      "LogLik            0.004198 \n",
      "\n",
      "\n",
      "모수 추정치:\n",
      "               lval  op             rval  Estimate  Std. Err    z-value p-value\n",
      "0             q221   ~  emotional_state  1.000000         -          -       -\n",
      "1             q223   ~  emotional_state  1.542916  0.039907  38.662765     0.0\n",
      "2             q226   ~  emotional_state  0.957764  0.032574  29.403152     0.0\n",
      "3              q23   ~  emotional_state  1.093968  0.028468  38.427411     0.0\n",
      "4  emotional_state  ~~  emotional_state  0.025571  0.001206  21.202969     0.0\n",
      "5             q221  ~~             q221  0.049857   0.00109  45.754518     0.0\n",
      "6             q223  ~~             q223  0.020596  0.001125   18.29919     0.0\n",
      "7             q226  ~~             q226  0.071820  0.001492  48.147436     0.0\n",
      "8              q23  ~~              q23  0.026262  0.000744  35.314823     0.0\n"
     ]
    },
    {
     "data": {
      "image/svg+xml": [
       "<?xml version=\"1.0\" encoding=\"UTF-8\" standalone=\"no\"?>\n",
       "<!DOCTYPE svg PUBLIC \"-//W3C//DTD SVG 1.1//EN\"\n",
       " \"http://www.w3.org/Graphics/SVG/1.1/DTD/svg11.dtd\">\n",
       "<!-- Generated by graphviz version 12.2.1 (20241206.2353)\n",
       " -->\n",
       "<!-- Title: G Pages: 1 -->\n",
       "<svg width=\"293pt\" height=\"248pt\"\n",
       " viewBox=\"0.00 0.00 293.13 248.05\" xmlns=\"http://www.w3.org/2000/svg\" xmlns:xlink=\"http://www.w3.org/1999/xlink\">\n",
       "<g id=\"graph0\" class=\"graph\" transform=\"scale(1 1) rotate(0) translate(4 244.05)\">\n",
       "<title>G</title>\n",
       "<polygon fill=\"white\" stroke=\"none\" points=\"-4,4 -4,-244.05 289.13,-244.05 289.13,4 -4,4\"/>\n",
       "<!-- emotional_state -->\n",
       "<g id=\"node1\" class=\"node\">\n",
       "<title>emotional_state</title>\n",
       "<ellipse fill=\"#cae6df\" stroke=\"black\" cx=\"136\" cy=\"-170.28\" rx=\"69.78\" ry=\"69.78\"/>\n",
       "<text text-anchor=\"middle\" x=\"136\" y=\"-165.23\" font-family=\"Times New Roman,serif\" font-size=\"14.00\">emotional_state</text>\n",
       "</g>\n",
       "<!-- q221 -->\n",
       "<g id=\"node2\" class=\"node\">\n",
       "<title>q221</title>\n",
       "<polygon fill=\"none\" stroke=\"black\" points=\"54,-36 0,-36 0,0 54,0 54,-36\"/>\n",
       "<text text-anchor=\"middle\" x=\"27\" y=\"-12.95\" font-family=\"Times New Roman,serif\" font-size=\"14.00\">q221</text>\n",
       "</g>\n",
       "<!-- emotional_state&#45;&gt;q221 -->\n",
       "<g id=\"edge1\" class=\"edge\">\n",
       "<title>emotional_state&#45;&gt;q221</title>\n",
       "<path fill=\"none\" stroke=\"black\" d=\"M91.59,-116.41C82.84,-105.4 73.93,-93.73 66,-82.5 57.83,-70.93 49.52,-57.64 42.67,-46.22\"/>\n",
       "<polygon fill=\"black\" stroke=\"black\" points=\"45.72,-44.49 37.62,-37.66 39.69,-48.05 45.72,-44.49\"/>\n",
       "<text text-anchor=\"middle\" x=\"79.5\" y=\"-63.98\" font-family=\"Times New Roman,serif\" font-size=\"12.00\">1.000</text>\n",
       "</g>\n",
       "<!-- q223 -->\n",
       "<g id=\"node3\" class=\"node\">\n",
       "<title>q223</title>\n",
       "<polygon fill=\"none\" stroke=\"black\" points=\"126,-36 72,-36 72,0 126,0 126,-36\"/>\n",
       "<text text-anchor=\"middle\" x=\"99\" y=\"-12.95\" font-family=\"Times New Roman,serif\" font-size=\"14.00\">q223</text>\n",
       "</g>\n",
       "<!-- emotional_state&#45;&gt;q223 -->\n",
       "<g id=\"edge2\" class=\"edge\">\n",
       "<title>emotional_state&#45;&gt;q223</title>\n",
       "<path fill=\"none\" stroke=\"black\" d=\"M106.8,-106.65C104.04,-98.66 101.66,-90.49 100,-82.5 97.67,-71.24 97.07,-58.62 97.18,-47.61\"/>\n",
       "<polygon fill=\"black\" stroke=\"black\" points=\"100.66,-48.06 97.48,-37.95 93.67,-47.84 100.66,-48.06\"/>\n",
       "<text text-anchor=\"middle\" x=\"125.5\" y=\"-71.1\" font-family=\"Times New Roman,serif\" font-size=\"12.00\">1.543</text>\n",
       "<text text-anchor=\"middle\" x=\"125.5\" y=\"-56.85\" font-family=\"Times New Roman,serif\" font-size=\"12.00\">p&#45;val: 0.00</text>\n",
       "</g>\n",
       "<!-- q226 -->\n",
       "<g id=\"node4\" class=\"node\">\n",
       "<title>q226</title>\n",
       "<polygon fill=\"none\" stroke=\"black\" points=\"200,-36 146,-36 146,0 200,0 200,-36\"/>\n",
       "<text text-anchor=\"middle\" x=\"173\" y=\"-12.95\" font-family=\"Times New Roman,serif\" font-size=\"14.00\">q226</text>\n",
       "</g>\n",
       "<!-- emotional_state&#45;&gt;q226 -->\n",
       "<g id=\"edge3\" class=\"edge\">\n",
       "<title>emotional_state&#45;&gt;q226</title>\n",
       "<path fill=\"none\" stroke=\"black\" d=\"M152.55,-102.05C157.31,-82.74 162.23,-62.74 166.06,-47.2\"/>\n",
       "<polygon fill=\"black\" stroke=\"black\" points=\"169.39,-48.28 168.39,-37.74 162.6,-46.61 169.39,-48.28\"/>\n",
       "<text text-anchor=\"middle\" x=\"189.56\" y=\"-71.1\" font-family=\"Times New Roman,serif\" font-size=\"12.00\">0.958</text>\n",
       "<text text-anchor=\"middle\" x=\"189.56\" y=\"-56.85\" font-family=\"Times New Roman,serif\" font-size=\"12.00\">p&#45;val: 0.00</text>\n",
       "</g>\n",
       "<!-- q23 -->\n",
       "<g id=\"node5\" class=\"node\">\n",
       "<title>q23</title>\n",
       "<polygon fill=\"none\" stroke=\"black\" points=\"274,-36 220,-36 220,0 274,0 274,-36\"/>\n",
       "<text text-anchor=\"middle\" x=\"247\" y=\"-12.95\" font-family=\"Times New Roman,serif\" font-size=\"14.00\">q23</text>\n",
       "</g>\n",
       "<!-- emotional_state&#45;&gt;q23 -->\n",
       "<g id=\"edge4\" class=\"edge\">\n",
       "<title>emotional_state&#45;&gt;q23</title>\n",
       "<path fill=\"none\" stroke=\"black\" d=\"M186.61,-122.29C198.15,-110.04 209.73,-96.37 219,-82.5 226.36,-71.49 232.56,-58.24 237.24,-46.69\"/>\n",
       "<polygon fill=\"black\" stroke=\"black\" points=\"240.38,-48.27 240.7,-37.68 233.85,-45.76 240.38,-48.27\"/>\n",
       "<text text-anchor=\"middle\" x=\"259.63\" y=\"-71.1\" font-family=\"Times New Roman,serif\" font-size=\"12.00\">1.094</text>\n",
       "<text text-anchor=\"middle\" x=\"259.63\" y=\"-56.85\" font-family=\"Times New Roman,serif\" font-size=\"12.00\">p&#45;val: 0.00</text>\n",
       "</g>\n",
       "</g>\n",
       "</svg>\n"
      ],
      "text/plain": [
       "<graphviz.graphs.Digraph at 0x17a20ac2110>"
      ]
     },
     "execution_count": 215,
     "metadata": {},
     "output_type": "execute_result"
    }
   ],
   "source": [
    "vif_df = compute_vif(emo, observed_vars)\n",
    "model = Model(model_desc)\n",
    "model = fit_sem_model(model, emo, w_cov_df)\n",
    "stats = calc_stats(model)\n",
    "estimates = model.inspect()\n",
    "print(\"적합도 지표:\\n\", stats.T, \"\\n\\n\")\n",
    "print(\"모수 추정치:\\n\", estimates)\n",
    "\n",
    "\n",
    "semplot(model, 'C:\\\\git_files\\\\education_analysis\\\\happy\\\\emotional_state.png')"
   ]
  },
  {
   "cell_type": "code",
   "execution_count": 216,
   "metadata": {},
   "outputs": [
    {
     "name": "stdout",
     "output_type": "stream",
     "text": [
      "        id sex  birthy birthm             area         size school grade  \\\n",
      "0  20001.0  여성  2003.0     4월  충청권(대전, 충남, 충북)  도서벽지 및 읍면지역   고등학생   3학년   \n",
      "1  20002.0  여성  2003.0     8월  충청권(대전, 충남, 충북)  도서벽지 및 읍면지역   고등학생   3학년   \n",
      "2  20003.0  여성  2003.0     9월  충청권(대전, 충남, 충북)  도서벽지 및 읍면지역   고등학생   3학년   \n",
      "3  20004.0  남성  2003.0     8월  충청권(대전, 충남, 충북)  도서벽지 및 읍면지역   고등학생   3학년   \n",
      "4  20005.0  남성  2003.0     2월  충청권(대전, 충남, 충북)  도서벽지 및 읍면지역   고등학생   3학년   \n",
      "\n",
      "  home1 home2  ...   q52   q53 q5411 q5412 q5421 q5422        wt  \\\n",
      "0   아니오   아니오  ...  28.0  그대로다   NaN   NaN   NaN   NaN  0.250048   \n",
      "1     예     예  ...  20.0  그대로다   NaN   NaN   NaN   NaN  0.250048   \n",
      "2     예     예  ...  30.0  그대로다   NaN   NaN   NaN   NaN  0.250048   \n",
      "3     예     예  ...  30.0  그대로다   NaN   NaN   NaN   NaN  0.244036   \n",
      "4   아니오     예  ...  30.0  그대로다   NaN   NaN   NaN   NaN  0.244036   \n",
      "\n",
      "  academic_pressure human_rel emotional_state  \n",
      "0         -0.374990 -0.046347       -0.167932  \n",
      "1         -0.102685  0.024751        0.058954  \n",
      "2         -0.345626  0.016073       -0.085814  \n",
      "3          0.020866 -0.032972        0.044651  \n",
      "4         -0.289557  0.054841        0.205492  \n",
      "\n",
      "[5 rows x 280 columns]\n"
     ]
    }
   ],
   "source": [
    "factor_scores = model.predict_factors(emo)\n",
    "\n",
    "df[\"emotional_state\"] = factor_scores[\"emotional_state\"]\n",
    "\n",
    "print(df.head())"
   ]
  },
  {
   "cell_type": "code",
   "execution_count": 217,
   "metadata": {},
   "outputs": [
    {
     "data": {
      "image/png": "[encoded data removed]",
      "text/plain": [
       "<Figure size 640x480 with 1 Axes>"
      ]
     },
     "metadata": {},
     "output_type": "display_data"
    }
   ],
   "source": [
    "plt.hist(df[\"emotional_state\"], bins=20, color='blue')\n",
    "plt.title(\"Distribution of Emotional State Factor\")\n",
    "plt.xlabel(\"Emotional State Factor\")\n",
    "plt.ylabel(\"Frequency\")\n",
    "plt.show()"
   ]
  },
  {
   "cell_type": "code",
   "execution_count": 218,
   "metadata": {},
   "outputs": [
    {
     "name": "stdout",
     "output_type": "stream",
     "text": [
      "  Feature        VIF\n",
      "0    q221   9.220417\n",
      "1    q223  12.683975\n",
      "2    q226   5.976266\n",
      "3     q23  13.798079\n"
     ]
    }
   ],
   "source": [
    "vif_df = compute_vif(emo, observed_vars)\n",
    "\n",
    "print(vif_df)"
   ]
  },
  {
   "cell_type": "code",
   "execution_count": 219,
   "metadata": {},
   "outputs": [
    {
     "data": {
      "image/png": "[encoded data removed]",
      "text/plain": [
       "<Figure size 600x400 with 2 Axes>"
      ]
     },
     "metadata": {},
     "output_type": "display_data"
    }
   ],
   "source": [
    "import pandas as pd\n",
    "import seaborn as sns\n",
    "import matplotlib.pyplot as plt\n",
    "\n",
    "# 문제된 변수만 추출\n",
    "emo_vars = ['q221', 'q223', 'q226', 'q23']\n",
    "emo_corr_df = emo[emo_vars].copy()\n",
    "\n",
    "# 상관행렬 계산\n",
    "corr_matrix = emo_corr_df.corr()\n",
    "\n",
    "# 상관계수 히트맵 시각화\n",
    "plt.figure(figsize=(6, 4))\n",
    "sns.heatmap(corr_matrix, annot=True, cmap='coolwarm', fmt='.2f')\n",
    "plt.title('Correlation matrix of emotional state variables')\n",
    "plt.show()\n"
   ]
  },
  {
   "cell_type": "markdown",
   "metadata": {},
   "source": [
    "# 학교 폭력 노출도"
   ]
  },
  {
   "cell_type": "code",
   "execution_count": 220,
   "metadata": {},
   "outputs": [],
   "source": [
    "df_vio = df[['q33', 'q35', 'q351', 'q352']]"
   ]
  },
  {
   "cell_type": "code",
   "execution_count": 221,
   "metadata": {},
   "outputs": [
    {
     "data": {
      "text/plain": [
       "q33\n",
       "별로 심각하지 않다    1670\n",
       "전혀 심각하지 않다    1646\n",
       "보통이다          1313\n",
       "약간 심각한 편이다     458\n",
       "매우 심각하다        289\n",
       "Name: count, dtype: int64"
      ]
     },
     "metadata": {},
     "output_type": "display_data"
    },
    {
     "data": {
      "text/plain": [
       "q35\n",
       "없다    5207\n",
       "있다     169\n",
       "Name: count, dtype: int64"
      ]
     },
     "metadata": {},
     "output_type": "display_data"
    },
    {
     "data": {
      "text/plain": [
       "q351\n",
       "1.0       98\n",
       "2.0       24\n",
       "3.0       14\n",
       "5.0        9\n",
       "4.0        8\n",
       "모름/무응답     7\n",
       "10.0       3\n",
       "20.0       2\n",
       "6.0        2\n",
       "9.0        1\n",
       "50.0       1\n",
       "Name: count, dtype: int64"
      ]
     },
     "metadata": {},
     "output_type": "display_data"
    },
    {
     "data": {
      "text/plain": [
       "q352\n",
       "1.0       69\n",
       "2.0       31\n",
       "3.0       18\n",
       "4.0       14\n",
       "10.0       9\n",
       "모름/무응답     8\n",
       "5.0        7\n",
       "6.0        4\n",
       "8.0        3\n",
       "20.0       2\n",
       "9.0        1\n",
       "7.0        1\n",
       "17.0       1\n",
       "16.0       1\n",
       "Name: count, dtype: int64"
      ]
     },
     "metadata": {},
     "output_type": "display_data"
    }
   ],
   "source": [
    "display(df_vio['q33'].value_counts())\n",
    "display(df_vio['q35'].value_counts())\n",
    "display(df_vio['q351'].value_counts())\n",
    "display(df_vio['q352'].value_counts())"
   ]
  },
  {
   "cell_type": "code",
   "execution_count": 222,
   "metadata": {},
   "outputs": [
    {
     "data": {
      "text/html": [
       "<div>\n",
       "<style scoped>\n",
       "    .dataframe tbody tr th:only-of-type {\n",
       "        vertical-align: middle;\n",
       "    }\n",
       "\n",
       "    .dataframe tbody tr th {\n",
       "        vertical-align: top;\n",
       "    }\n",
       "\n",
       "    .dataframe thead th {\n",
       "        text-align: right;\n",
       "    }\n",
       "</style>\n",
       "<table border=\"1\" class=\"dataframe\">\n",
       "  <thead>\n",
       "    <tr style=\"text-align: right;\">\n",
       "      <th></th>\n",
       "      <th>q33</th>\n",
       "      <th>q35</th>\n",
       "      <th>q351</th>\n",
       "      <th>q352</th>\n",
       "    </tr>\n",
       "  </thead>\n",
       "  <tbody>\n",
       "    <tr>\n",
       "      <th>0</th>\n",
       "      <td>0.00</td>\n",
       "      <td>0.0</td>\n",
       "      <td>0.0</td>\n",
       "      <td>0.0</td>\n",
       "    </tr>\n",
       "    <tr>\n",
       "      <th>1</th>\n",
       "      <td>0.25</td>\n",
       "      <td>0.0</td>\n",
       "      <td>0.0</td>\n",
       "      <td>0.0</td>\n",
       "    </tr>\n",
       "    <tr>\n",
       "      <th>2</th>\n",
       "      <td>0.00</td>\n",
       "      <td>0.0</td>\n",
       "      <td>0.0</td>\n",
       "      <td>0.0</td>\n",
       "    </tr>\n",
       "    <tr>\n",
       "      <th>3</th>\n",
       "      <td>0.50</td>\n",
       "      <td>0.0</td>\n",
       "      <td>0.0</td>\n",
       "      <td>0.0</td>\n",
       "    </tr>\n",
       "    <tr>\n",
       "      <th>4</th>\n",
       "      <td>0.00</td>\n",
       "      <td>0.0</td>\n",
       "      <td>0.0</td>\n",
       "      <td>0.0</td>\n",
       "    </tr>\n",
       "    <tr>\n",
       "      <th>...</th>\n",
       "      <td>...</td>\n",
       "      <td>...</td>\n",
       "      <td>...</td>\n",
       "      <td>...</td>\n",
       "    </tr>\n",
       "    <tr>\n",
       "      <th>5371</th>\n",
       "      <td>0.00</td>\n",
       "      <td>0.0</td>\n",
       "      <td>0.0</td>\n",
       "      <td>0.0</td>\n",
       "    </tr>\n",
       "    <tr>\n",
       "      <th>5372</th>\n",
       "      <td>0.25</td>\n",
       "      <td>0.0</td>\n",
       "      <td>0.0</td>\n",
       "      <td>0.0</td>\n",
       "    </tr>\n",
       "    <tr>\n",
       "      <th>5373</th>\n",
       "      <td>0.75</td>\n",
       "      <td>0.0</td>\n",
       "      <td>0.0</td>\n",
       "      <td>0.0</td>\n",
       "    </tr>\n",
       "    <tr>\n",
       "      <th>5374</th>\n",
       "      <td>0.00</td>\n",
       "      <td>0.0</td>\n",
       "      <td>0.0</td>\n",
       "      <td>0.0</td>\n",
       "    </tr>\n",
       "    <tr>\n",
       "      <th>5375</th>\n",
       "      <td>0.50</td>\n",
       "      <td>0.0</td>\n",
       "      <td>0.0</td>\n",
       "      <td>0.0</td>\n",
       "    </tr>\n",
       "  </tbody>\n",
       "</table>\n",
       "<p>5376 rows × 4 columns</p>\n",
       "</div>"
      ],
      "text/plain": [
       "       q33  q35  q351  q352\n",
       "0     0.00  0.0   0.0   0.0\n",
       "1     0.25  0.0   0.0   0.0\n",
       "2     0.00  0.0   0.0   0.0\n",
       "3     0.50  0.0   0.0   0.0\n",
       "4     0.00  0.0   0.0   0.0\n",
       "...    ...  ...   ...   ...\n",
       "5371  0.00  0.0   0.0   0.0\n",
       "5372  0.25  0.0   0.0   0.0\n",
       "5373  0.75  0.0   0.0   0.0\n",
       "5374  0.00  0.0   0.0   0.0\n",
       "5375  0.50  0.0   0.0   0.0\n",
       "\n",
       "[5376 rows x 4 columns]"
      ]
     },
     "execution_count": 222,
     "metadata": {},
     "output_type": "execute_result"
    }
   ],
   "source": [
    "df_vio = encoding(df_vio, ['q33'], how_serious_map)\n",
    "df_vio = encoding(df_vio, ['q35'], is_or_not_map)\n",
    "df_vio['q351'] = df_vio['q351'].replace({'모름/무응답' : 2})\n",
    "df_vio['q351'] = df_vio['q351'].apply(lambda x: 2 if x >= 2 else (1 if x == 1 else 0))\n",
    "df_vio['q352'] = df_vio['q352'].replace({'모름/무응답' : 2})\n",
    "df_vio['q352'] = df_vio['q352'].apply(lambda x: 2 if x >= 2 else (1 if x == 1 else 0))\n",
    "df_vio = null0(df_vio)\n",
    "scaler = MinMaxScaler()\n",
    "df_vio = pd.DataFrame(scaler.fit_transform(df_vio), columns=df_vio.columns)\n",
    "df_vio"
   ]
  },
  {
   "cell_type": "code",
   "execution_count": 223,
   "metadata": {},
   "outputs": [
    {
     "data": {
      "text/plain": [
       "q351\n",
       "0.0    5207\n",
       "0.5      98\n",
       "1.0      71\n",
       "Name: count, dtype: int64"
      ]
     },
     "metadata": {},
     "output_type": "display_data"
    },
    {
     "data": {
      "text/plain": [
       "q352\n",
       "0.0    5207\n",
       "1.0     100\n",
       "0.5      69\n",
       "Name: count, dtype: int64"
      ]
     },
     "metadata": {},
     "output_type": "display_data"
    }
   ],
   "source": [
    "display(df_vio['q351'].value_counts())\n",
    "display(df_vio['q352'].value_counts())"
   ]
  },
  {
   "cell_type": "code",
   "execution_count": 224,
   "metadata": {},
   "outputs": [],
   "source": [
    "model_desc = \"\"\"\n",
    "exposure_violence =~ q33 + q35 + q351 + q352\n",
    "\"\"\""
   ]
  },
  {
   "cell_type": "code",
   "execution_count": 225,
   "metadata": {},
   "outputs": [
    {
     "name": "stdout",
     "output_type": "stream",
     "text": [
      "적합도 지표:\n",
      "                       Value\n",
      "DoF                2.000000\n",
      "DoF Baseline       6.000000\n",
      "chi2              11.236863\n",
      "chi2 p-value       0.003630\n",
      "chi2 Baseline  25555.211837\n",
      "CFI                0.999638\n",
      "GFI                0.999560\n",
      "AGFI               0.998681\n",
      "NFI                0.999560\n",
      "TLI                0.998915\n",
      "RMSEA              0.029313\n",
      "AIC               15.995820\n",
      "BIC               68.713419\n",
      "LogLik             0.002090 \n",
      "\n",
      "\n",
      "모수 추정치:\n",
      "                 lval  op               rval  Estimate  Std. Err    z-value  \\\n",
      "0                q33   ~  exposure_violence  1.000000         -          -   \n",
      "1                q35   ~  exposure_violence  4.930144  0.578931   8.515939   \n",
      "2               q351   ~  exposure_violence  3.759526  0.441567   8.514049   \n",
      "3               q352   ~  exposure_violence  4.079247  0.479055   8.515189   \n",
      "4  exposure_violence  ~~  exposure_violence  0.001060   0.00025    4.24495   \n",
      "5                q33  ~~                q33  0.077137  0.001488  51.833145   \n",
      "6                q35  ~~                q35  0.001065   0.00004  26.700409   \n",
      "7               q351  ~~               q351  0.001122  0.000029  38.171363   \n",
      "8               q352  ~~               q352  0.000969   0.00003  32.341415   \n",
      "\n",
      "    p-value  \n",
      "0         -  \n",
      "1       0.0  \n",
      "2       0.0  \n",
      "3       0.0  \n",
      "4  0.000022  \n",
      "5       0.0  \n",
      "6       0.0  \n",
      "7       0.0  \n",
      "8       0.0  \n"
     ]
    }
   ],
   "source": [
    "\n",
    "df_vio['wt'] = df['wt']\n",
    "observed_vars = ['q33', 'q35', 'q351', 'q352']\n",
    "w_cov_df = calculate_covariance(df_vio, observed_vars)\n",
    "vif_df = compute_vif(df_vio, observed_vars)\n",
    "model = Model(model_desc)\n",
    "model = fit_sem_model(model, df_vio, w_cov_df)\n",
    "stats = calc_stats(model)\n",
    "estimates = model.inspect()\n",
    "print(\"적합도 지표:\\n\", stats.T, \"\\n\\n\")\n",
    "print(\"모수 추정치:\\n\", estimates)"
   ]
  },
  {
   "cell_type": "code",
   "execution_count": 226,
   "metadata": {},
   "outputs": [
    {
     "name": "stdout",
     "output_type": "stream",
     "text": [
      "  Feature        VIF\n",
      "0     q33   1.048599\n",
      "1     q35  15.047821\n",
      "2    q351  10.500634\n",
      "3    q352  13.019108\n"
     ]
    }
   ],
   "source": [
    "semplot(model, 'C:\\\\git_files\\\\education_analysis\\\\happy\\\\school_violence.png')\n",
    "vif_df = compute_vif(df_vio, observed_vars)\n",
    "\n",
    "print(vif_df)"
   ]
  },
  {
   "cell_type": "code",
   "execution_count": 227,
   "metadata": {},
   "outputs": [
    {
     "name": "stdout",
     "output_type": "stream",
     "text": [
      "        id sex  birthy birthm             area         size school grade  \\\n",
      "0  20001.0  여성  2003.0     4월  충청권(대전, 충남, 충북)  도서벽지 및 읍면지역   고등학생   3학년   \n",
      "1  20002.0  여성  2003.0     8월  충청권(대전, 충남, 충북)  도서벽지 및 읍면지역   고등학생   3학년   \n",
      "2  20003.0  여성  2003.0     9월  충청권(대전, 충남, 충북)  도서벽지 및 읍면지역   고등학생   3학년   \n",
      "3  20004.0  남성  2003.0     8월  충청권(대전, 충남, 충북)  도서벽지 및 읍면지역   고등학생   3학년   \n",
      "4  20005.0  남성  2003.0     2월  충청권(대전, 충남, 충북)  도서벽지 및 읍면지역   고등학생   3학년   \n",
      "\n",
      "  home1 home2  ...   q53 q5411 q5412 q5421 q5422        wt academic_pressure  \\\n",
      "0   아니오   아니오  ...  그대로다   NaN   NaN   NaN   NaN  0.250048         -0.374990   \n",
      "1     예     예  ...  그대로다   NaN   NaN   NaN   NaN  0.250048         -0.102685   \n",
      "2     예     예  ...  그대로다   NaN   NaN   NaN   NaN  0.250048         -0.345626   \n",
      "3     예     예  ...  그대로다   NaN   NaN   NaN   NaN  0.244036          0.020866   \n",
      "4   아니오     예  ...  그대로다   NaN   NaN   NaN   NaN  0.244036         -0.289557   \n",
      "\n",
      "  human_rel emotional_state exposure_violence  \n",
      "0 -0.046347       -0.167932         -0.006158  \n",
      "1  0.024751        0.058954         -0.006097  \n",
      "2  0.016073       -0.085814         -0.006158  \n",
      "3 -0.032972        0.044651         -0.006037  \n",
      "4  0.054841        0.205492         -0.006158  \n",
      "\n",
      "[5 rows x 281 columns]\n"
     ]
    },
    {
     "data": {
      "image/png": "[encoded data removed]",
      "text/plain": [
       "<Figure size 640x480 with 1 Axes>"
      ]
     },
     "metadata": {},
     "output_type": "display_data"
    }
   ],
   "source": [
    "factor_scores = model.predict_factors(df_vio)\n",
    "\n",
    "df[\"exposure_violence\"] = factor_scores[\"exposure_violence\"]\n",
    "\n",
    "print(df.head())\n",
    "plt.hist(df[\"exposure_violence\"], bins=20, color='blue')\n",
    "plt.title(\"Distribution of exposure violence Factor\")\n",
    "plt.xlabel(\"exposure violence Factor\")\n",
    "plt.ylabel(\"Frequency\")\n",
    "plt.show()"
   ]
  },
  {
   "cell_type": "code",
   "execution_count": 228,
   "metadata": {},
   "outputs": [
    {
     "data": {
      "text/plain": [
       "exposure_violence\n",
       "-0.006097    1636\n",
       "-0.006158    1625\n",
       "-0.006037    1260\n",
       "-0.005976     418\n",
       "-0.005916     268\n",
       " 0.150999      20\n",
       " 0.221663      18\n",
       " 0.190314      16\n",
       " 0.150938      15\n",
       " 0.221603      14\n",
       " 0.221724      12\n",
       " 0.151060       9\n",
       " 0.150878       9\n",
       " 0.190253       9\n",
       " 0.190374       9\n",
       " 0.190435       8\n",
       " 0.221542       6\n",
       " 0.221481       6\n",
       " 0.182167       4\n",
       " 0.182349       4\n",
       " 0.182227       4\n",
       " 0.182288       3\n",
       " 0.190192       2\n",
       " 0.151120       1\n",
       "Name: count, dtype: int64"
      ]
     },
     "execution_count": 228,
     "metadata": {},
     "output_type": "execute_result"
    }
   ],
   "source": [
    "df['exposure_violence'].value_counts()"
   ]
  },
  {
   "cell_type": "markdown",
   "metadata": {},
   "source": [
    "# 외모 및 신체 이미지"
   ]
  },
  {
   "cell_type": "code",
   "execution_count": 229,
   "metadata": {},
   "outputs": [
    {
     "data": {
      "text/plain": [
       "q42      0\n",
       "q43      0\n",
       "q4812    0\n",
       "q4813    0\n",
       "q4814    0\n",
       "q4815    0\n",
       "dtype: int64"
      ]
     },
     "execution_count": 229,
     "metadata": {},
     "output_type": "execute_result"
    }
   ],
   "source": [
    "body = df[['q42', 'q43', 'q4812', 'q4813', 'q4814', 'q4815']]\n",
    "body.isnull().sum()"
   ]
  },
  {
   "cell_type": "code",
   "execution_count": 230,
   "metadata": {},
   "outputs": [
    {
     "data": {
      "text/plain": [
       "q42\n",
       "160.0    361\n",
       "170.0    315\n",
       "165.0    263\n",
       "158.0    246\n",
       "163.0    243\n",
       "        ... \n",
       "185.4      1\n",
       "193.0      1\n",
       "192.0      1\n",
       "194.0      1\n",
       "200.0      1\n",
       "Name: count, Length: 241, dtype: int64"
      ]
     },
     "metadata": {},
     "output_type": "display_data"
    },
    {
     "data": {
      "text/plain": [
       "q43\n",
       "60.0     269\n",
       "50.0     266\n",
       "55.0     238\n",
       "53.0     195\n",
       "70.0     191\n",
       "        ... \n",
       "150.0      1\n",
       "161.0      1\n",
       "165.0      1\n",
       "190.0      1\n",
       "200.0      1\n",
       "Name: count, Length: 229, dtype: int64"
      ]
     },
     "metadata": {},
     "output_type": "display_data"
    },
    {
     "data": {
      "text/plain": [
       "q4812\n",
       "전혀 그렇지 않다    1959\n",
       "조금 그렇다       1018\n",
       "보통이다          952\n",
       "별로 그렇지 않다     945\n",
       "매우 그렇다        502\n",
       "Name: count, dtype: int64"
      ]
     },
     "metadata": {},
     "output_type": "display_data"
    },
    {
     "data": {
      "text/plain": [
       "q4813\n",
       "전혀 그렇지 않다    2346\n",
       "별로 그렇지 않다    1112\n",
       "보통이다          885\n",
       "조금 그렇다        742\n",
       "매우 그렇다        291\n",
       "Name: count, dtype: int64"
      ]
     },
     "metadata": {},
     "output_type": "display_data"
    },
    {
     "data": {
      "text/plain": [
       "q4814\n",
       "전혀 그렇지 않다    1984\n",
       "별로 그렇지 않다    1168\n",
       "보통이다         1064\n",
       "조금 그렇다        825\n",
       "매우 그렇다        335\n",
       "Name: count, dtype: int64"
      ]
     },
     "metadata": {},
     "output_type": "display_data"
    },
    {
     "data": {
      "text/plain": [
       "q4815\n",
       "전혀 그렇지 않다    2532\n",
       "별로 그렇지 않다    1156\n",
       "보통이다          838\n",
       "조금 그렇다        597\n",
       "매우 그렇다        253\n",
       "Name: count, dtype: int64"
      ]
     },
     "metadata": {},
     "output_type": "display_data"
    }
   ],
   "source": [
    "for i in body.columns:\n",
    "    display(body[i].value_counts())"
   ]
  },
  {
   "cell_type": "code",
   "execution_count": 231,
   "metadata": {},
   "outputs": [],
   "source": [
    "body = encoding(body, ['q4812', 'q4813', 'q4814', 'q4815'], category5_map)\n",
    "body = calculate_bmi(body, 'q42', 'q43')\n",
    "body['obesity'] = body['bmi'].apply(lambda x: (\n",
    "    0 if x < 18.5 else\n",
    "    1 if x < 23 else\n",
    "    2 if x < 25 else\n",
    "    3 if x < 30 else\n",
    "    4 if x < 35 else\n",
    "    5\n",
    "))\n",
    "\n",
    "body['obesity'] = body['obesity'].astype('category')"
   ]
  },
  {
   "cell_type": "code",
   "execution_count": 232,
   "metadata": {},
   "outputs": [],
   "source": [
    "scaler = MinMaxScaler()\n",
    "body[['q42', 'q43']] = scaler.fit_transform(body[['q42', 'q43']])"
   ]
  },
  {
   "cell_type": "code",
   "execution_count": 233,
   "metadata": {},
   "outputs": [
    {
     "name": "stdout",
     "output_type": "stream",
     "text": [
      "<class 'pandas.core.frame.DataFrame'>\n",
      "RangeIndex: 5376 entries, 0 to 5375\n",
      "Data columns (total 8 columns):\n",
      " #   Column   Non-Null Count  Dtype   \n",
      "---  ------   --------------  -----   \n",
      " 0   q42      5317 non-null   float64 \n",
      " 1   q43      5283 non-null   float64 \n",
      " 2   q4812    5376 non-null   category\n",
      " 3   q4813    5376 non-null   category\n",
      " 4   q4814    5376 non-null   category\n",
      " 5   q4815    5376 non-null   category\n",
      " 6   bmi      5283 non-null   float64 \n",
      " 7   obesity  5376 non-null   category\n",
      "dtypes: category(5), float64(3)\n",
      "memory usage: 153.4 KB\n"
     ]
    }
   ],
   "source": [
    "body.info()"
   ]
  },
  {
   "cell_type": "code",
   "execution_count": 234,
   "metadata": {},
   "outputs": [
    {
     "data": {
      "text/html": [
       "<div>\n",
       "<style scoped>\n",
       "    .dataframe tbody tr th:only-of-type {\n",
       "        vertical-align: middle;\n",
       "    }\n",
       "\n",
       "    .dataframe tbody tr th {\n",
       "        vertical-align: top;\n",
       "    }\n",
       "\n",
       "    .dataframe thead th {\n",
       "        text-align: right;\n",
       "    }\n",
       "</style>\n",
       "<table border=\"1\" class=\"dataframe\">\n",
       "  <thead>\n",
       "    <tr style=\"text-align: right;\">\n",
       "      <th></th>\n",
       "      <th>q42</th>\n",
       "      <th>q43</th>\n",
       "      <th>q4812</th>\n",
       "      <th>q4813</th>\n",
       "      <th>q4814</th>\n",
       "      <th>q4815</th>\n",
       "      <th>bmi</th>\n",
       "      <th>obesity</th>\n",
       "    </tr>\n",
       "  </thead>\n",
       "  <tbody>\n",
       "    <tr>\n",
       "      <th>0</th>\n",
       "      <td>0.58</td>\n",
       "      <td>0.277778</td>\n",
       "      <td>0</td>\n",
       "      <td>0</td>\n",
       "      <td>0</td>\n",
       "      <td>0</td>\n",
       "      <td>28.04</td>\n",
       "      <td>3</td>\n",
       "    </tr>\n",
       "    <tr>\n",
       "      <th>1</th>\n",
       "      <td>0.60</td>\n",
       "      <td>0.194444</td>\n",
       "      <td>2</td>\n",
       "      <td>0</td>\n",
       "      <td>0</td>\n",
       "      <td>0</td>\n",
       "      <td>21.48</td>\n",
       "      <td>1</td>\n",
       "    </tr>\n",
       "    <tr>\n",
       "      <th>2</th>\n",
       "      <td>0.66</td>\n",
       "      <td>0.188889</td>\n",
       "      <td>2</td>\n",
       "      <td>2</td>\n",
       "      <td>1</td>\n",
       "      <td>1</td>\n",
       "      <td>19.60</td>\n",
       "      <td>1</td>\n",
       "    </tr>\n",
       "  </tbody>\n",
       "</table>\n",
       "</div>"
      ],
      "text/plain": [
       "    q42       q43 q4812 q4813 q4814 q4815    bmi obesity\n",
       "0  0.58  0.277778     0     0     0     0  28.04       3\n",
       "1  0.60  0.194444     2     0     0     0  21.48       1\n",
       "2  0.66  0.188889     2     2     1     1  19.60       1"
      ]
     },
     "execution_count": 234,
     "metadata": {},
     "output_type": "execute_result"
    }
   ],
   "source": [
    "body.head(3)"
   ]
  },
  {
   "cell_type": "code",
   "execution_count": 235,
   "metadata": {},
   "outputs": [],
   "source": [
    "model_desc = '''\n",
    "body_stress =~ q4812 + q4813 + q4814 + q4815\n",
    "body_info =~ obesity\n",
    "\n",
    "body_experience =~ body_stress + body_info\n",
    "\n",
    "q4812 ~~ q4813\n",
    "q4812 ~~ obesity\n",
    "'''"
   ]
  },
  {
   "cell_type": "code",
   "execution_count": 236,
   "metadata": {},
   "outputs": [
    {
     "name": "stderr",
     "output_type": "stream",
     "text": [
      "WARNING:root:Fisher Information Matrix is not PD.Moore-Penrose inverse will be used instead of Cholesky decomposition. See 10.1109/TSP.2012.2208105.\n"
     ]
    },
    {
     "name": "stdout",
     "output_type": "stream",
     "text": [
      "적합도 지표:\n",
      "                      Value\n",
      "DoF               1.000000\n",
      "DoF Baseline     10.000000\n",
      "chi2             19.450122\n",
      "chi2 p-value      0.000010\n",
      "chi2 Baseline  6457.187876\n",
      "CFI               0.997138\n",
      "GFI               0.996988\n",
      "AGFI              0.969878\n",
      "NFI               0.996988\n",
      "TLI               0.971383\n",
      "RMSEA             0.058588\n",
      "AIC              27.992764\n",
      "BIC             120.248562\n",
      "LogLik            0.003618 \n",
      "\n",
      "\n",
      "모수 추정치:\n",
      "                lval  op             rval  Estimate  Std. Err    z-value  \\\n",
      "0       body_stress   ~  body_experience  1.000000         -          -   \n",
      "1         body_info   ~  body_experience  0.153791  0.037631   4.086863   \n",
      "2             q4812   ~      body_stress  1.000000         -          -   \n",
      "3             q4813   ~      body_stress  0.724073  0.021249  34.074846   \n",
      "4             q4814   ~      body_stress  1.149342  0.027202  42.251795   \n",
      "5             q4815   ~      body_stress  0.945319  0.022608  41.814357   \n",
      "6           obesity   ~        body_info  1.000000         -          -   \n",
      "7   body_experience  ~~  body_experience  0.409587  0.019963  20.516973   \n",
      "8         body_info  ~~        body_info  0.377381  0.013825  27.297186   \n",
      "9       body_stress  ~~      body_stress  0.434368  0.017536  24.770499   \n",
      "10            q4812  ~~            q4813  0.072048  0.017954    4.01302   \n",
      "11            q4812  ~~          obesity  0.358223    0.0191  18.754854   \n",
      "12            q4812  ~~            q4812  1.080455  0.026463  40.829155   \n",
      "13          obesity  ~~          obesity  1.041843  0.013825  75.359755   \n",
      "14            q4813  ~~            q4813  1.123679  0.024443  45.971543   \n",
      "15            q4814  ~~            q4814  0.479181   0.02114  22.667023   \n",
      "16            q4815  ~~            q4815  0.688194  0.018485  37.229607   \n",
      "\n",
      "     p-value  \n",
      "0          -  \n",
      "1   0.000044  \n",
      "2          -  \n",
      "3        0.0  \n",
      "4        0.0  \n",
      "5        0.0  \n",
      "6          -  \n",
      "7        0.0  \n",
      "8        0.0  \n",
      "9        0.0  \n",
      "10   0.00006  \n",
      "11       0.0  \n",
      "12       0.0  \n",
      "13       0.0  \n",
      "14       0.0  \n",
      "15       0.0  \n",
      "16       0.0  \n"
     ]
    }
   ],
   "source": [
    "body['wt'] = df['wt']\n",
    "observed_vars = ['q4812', 'q4813', 'q4814','q4815', 'obesity', 'q42', 'q43']\n",
    "w_cov_df = calculate_covariance(body, observed_vars)\n",
    "vif_df = compute_vif(body, observed_vars)\n",
    "model = Model(model_desc)\n",
    "model = fit_sem_model(model, body, w_cov_df)\n",
    "stats = calc_stats(model)\n",
    "estimates = model.inspect()\n",
    "print(\"적합도 지표:\\n\", stats.T, \"\\n\\n\")\n",
    "print(\"모수 추정치:\\n\", estimates)"
   ]
  },
  {
   "cell_type": "code",
   "execution_count": 237,
   "metadata": {},
   "outputs": [
    {
     "name": "stderr",
     "output_type": "stream",
     "text": [
      "WARNING:root:Fisher Information Matrix is not PD.Moore-Penrose inverse will be used instead of Cholesky decomposition. See 10.1109/TSP.2012.2208105.\n"
     ]
    },
    {
     "name": "stdout",
     "output_type": "stream",
     "text": [
      "   Feature        VIF\n",
      "0    q4812   3.540360\n",
      "1    q4813   2.373130\n",
      "2    q4814   3.908621\n",
      "3    q4815   2.927669\n",
      "4  obesity  13.570869\n",
      "5      q42  29.502200\n",
      "6      q43  60.443089\n"
     ]
    }
   ],
   "source": [
    "semplot(model, 'C:\\\\git_files\\\\education_analysis\\\\happy\\\\body_experience.png')\n",
    "vif_df = compute_vif(body, observed_vars)\n",
    "\n",
    "print(vif_df)\n"
   ]
  },
  {
   "cell_type": "code",
   "execution_count": 238,
   "metadata": {},
   "outputs": [
    {
     "name": "stdout",
     "output_type": "stream",
     "text": [
      "        id sex  birthy birthm             area         size school grade  \\\n",
      "0  20001.0  여성  2003.0     4월  충청권(대전, 충남, 충북)  도서벽지 및 읍면지역   고등학생   3학년   \n",
      "1  20002.0  여성  2003.0     8월  충청권(대전, 충남, 충북)  도서벽지 및 읍면지역   고등학생   3학년   \n",
      "2  20003.0  여성  2003.0     9월  충청권(대전, 충남, 충북)  도서벽지 및 읍면지역   고등학생   3학년   \n",
      "3  20004.0  남성  2003.0     8월  충청권(대전, 충남, 충북)  도서벽지 및 읍면지역   고등학생   3학년   \n",
      "4  20005.0  남성  2003.0     2월  충청권(대전, 충남, 충북)  도서벽지 및 읍면지역   고등학생   3학년   \n",
      "\n",
      "  home1 home2  ... q5411 q5412 q5421 q5422        wt academic_pressure  \\\n",
      "0   아니오   아니오  ...   NaN   NaN   NaN   NaN  0.250048         -0.374990   \n",
      "1     예     예  ...   NaN   NaN   NaN   NaN  0.250048         -0.102685   \n",
      "2     예     예  ...   NaN   NaN   NaN   NaN  0.250048         -0.345626   \n",
      "3     예     예  ...   NaN   NaN   NaN   NaN  0.244036          0.020866   \n",
      "4   아니오     예  ...   NaN   NaN   NaN   NaN  0.244036         -0.289557   \n",
      "\n",
      "  human_rel emotional_state exposure_violence body_experience  \n",
      "0 -0.046347       -0.167932         -0.006158       -0.468777  \n",
      "1  0.024751        0.058954         -0.006097       -0.366024  \n",
      "2  0.016073       -0.085814         -0.006158        0.002915  \n",
      "3 -0.032972        0.044651         -0.006037        0.313212  \n",
      "4  0.054841        0.205492         -0.006158        0.203523  \n",
      "\n",
      "[5 rows x 282 columns]\n"
     ]
    }
   ],
   "source": [
    "factor_scores = model.predict_factors(body)\n",
    "\n",
    "df[\"body_experience\"] = factor_scores[\"body_experience\"]\n",
    "\n",
    "print(df.head())\n"
   ]
  },
  {
   "cell_type": "code",
   "execution_count": 239,
   "metadata": {},
   "outputs": [
    {
     "data": {
      "image/png": "[encoded data removed]",
      "text/plain": [
       "<Figure size 640x480 with 1 Axes>"
      ]
     },
     "metadata": {},
     "output_type": "display_data"
    },
    {
     "data": {
      "text/plain": [
       "body_experience\n",
       "-0.490741    554\n",
       "-0.501723    238\n",
       "-0.103438    145\n",
       " 0.283865    107\n",
       "-0.468777    104\n",
       "            ... \n",
       " 0.116204      1\n",
       " 0.619568      1\n",
       " 0.145550      1\n",
       " 0.448571      1\n",
       " 0.801771      1\n",
       "Name: count, Length: 1300, dtype: int64"
      ]
     },
     "execution_count": 239,
     "metadata": {},
     "output_type": "execute_result"
    }
   ],
   "source": [
    "plt.hist(df[\"body_experience\"], bins=20, color='blue')\n",
    "plt.title(\"Distribution of body experience\")\n",
    "plt.xlabel(\"body experience\")\n",
    "plt.ylabel(\"Frequency\")\n",
    "plt.show()\n",
    "df['body_experience'].value_counts()"
   ]
  },
  {
   "cell_type": "code",
   "execution_count": 240,
   "metadata": {},
   "outputs": [
    {
     "name": "stdout",
     "output_type": "stream",
     "text": [
      "                            OLS Regression Results                            \n",
      "==============================================================================\n",
      "Dep. Variable:        emotional_state   R-squared:                       0.333\n",
      "Model:                            OLS   Adj. R-squared:                  0.333\n",
      "Method:                 Least Squares   F-statistic:                     893.8\n",
      "Date:                Tue, 15 Apr 2025   Prob (F-statistic):               0.00\n",
      "Time:                        21:11:25   Log-Likelihood:                 3782.7\n",
      "No. Observations:                5376   AIC:                            -7557.\n",
      "Df Residuals:                    5372   BIC:                            -7531.\n",
      "Df Model:                           3                                         \n",
      "Covariance Type:            nonrobust                                         \n",
      "=====================================================================================\n",
      "                        coef    std err          t      P>|t|      [0.025      0.975]\n",
      "-------------------------------------------------------------------------------------\n",
      "Intercept          4.925e-05      0.002      0.030      0.976      -0.003       0.003\n",
      "academic_pressure    -0.0596      0.012     -5.045      0.000      -0.083      -0.036\n",
      "human_rel             1.4334      0.028     51.331      0.000       1.379       1.488\n",
      "interaction          -0.0756      0.188     -0.402      0.688      -0.445       0.294\n",
      "==============================================================================\n",
      "Omnibus:                      289.607   Durbin-Watson:                   1.925\n",
      "Prob(Omnibus):                  0.000   Jarque-Bera (JB):              341.483\n",
      "Skew:                          -0.577   Prob(JB):                     7.04e-75\n",
      "Kurtosis:                       3.440   Cond. No.                         115.\n",
      "==============================================================================\n",
      "\n",
      "Notes:\n",
      "[1] Standard Errors assume that the covariance matrix of the errors is correctly specified.\n"
     ]
    },
    {
     "data": {
      "image/png": "[encoded data removed]",
      "text/plain": [
       "<Figure size 1000x600 with 1 Axes>"
      ]
     },
     "metadata": {},
     "output_type": "display_data"
    }
   ],
   "source": [
    "# 1. 필요한 라이브러리 불러오기\n",
    "import pandas as pd\n",
    "import statsmodels.formula.api as smf\n",
    "import matplotlib.pyplot as plt\n",
    "import numpy as np\n",
    "\n",
    "# 2. 요인 점수 변수 이름\n",
    "X_name = \"academic_pressure\"\n",
    "Z_name = \"human_rel\"\n",
    "Y_name = \"emotional_state\"\n",
    "\n",
    "# 3. 교호항(interaction term) 생성\n",
    "df[\"interaction\"] = df[X_name] * df[Z_name]\n",
    "\n",
    "# 4. 조절효과 회귀분석 (OLS)\n",
    "model = smf.ols(f\"{Y_name} ~ {X_name} + {Z_name} + interaction\", data=df)\n",
    "result = model.fit()\n",
    "\n",
    "# 5. 회귀 결과 출력\n",
    "print(result.summary())\n",
    "\n",
    "# 6. 조절효과 시각화\n",
    "# 인간관계 수준을 세 그룹으로 설정\n",
    "Z_vals = [df[Z_name].quantile(0.25), df[Z_name].mean(), df[Z_name].quantile(0.75)]\n",
    "colors = ['red', 'green', 'blue']\n",
    "labels = ['Low human_rel', 'Average human_rel', 'High human_rel']\n",
    "\n",
    "# 학업압박 X의 값 범위 생성\n",
    "X_range = np.linspace(df[X_name].min(), df[X_name].max(), 100)\n",
    "\n",
    "# 그래프 그리기\n",
    "plt.figure(figsize=(10, 6))\n",
    "for i, z in enumerate(Z_vals):\n",
    "    y_pred = (\n",
    "        result.params[\"Intercept\"]\n",
    "        + result.params[X_name] * X_range\n",
    "        + result.params[Z_name] * z\n",
    "        + result.params[\"interaction\"] * (X_range * z)\n",
    "    )\n",
    "    plt.plot(X_range, y_pred, label=labels[i], color=colors[i])\n",
    "\n",
    "plt.xlabel(\"Academic Pressure\", fontsize=12)\n",
    "plt.ylabel(\"Predicted Emotional State\", fontsize=12)\n",
    "plt.title(\"Moderation Effect of Human Relationships\", fontsize=14)\n",
    "plt.legend()\n",
    "plt.grid(True)\n",
    "plt.tight_layout()\n",
    "plt.show()\n"
   ]
  },
  {
   "cell_type": "code",
   "execution_count": 241,
   "metadata": {},
   "outputs": [
    {
     "name": "stdout",
     "output_type": "stream",
     "text": [
      "                            OLS Regression Results                            \n",
      "==============================================================================\n",
      "Dep. Variable:        emotional_state   R-squared:                       0.213\n",
      "Model:                            OLS   Adj. R-squared:                  0.212\n",
      "Method:                 Least Squares   F-statistic:                     484.4\n",
      "Date:                Tue, 15 Apr 2025   Prob (F-statistic):          1.44e-278\n",
      "Time:                        21:11:25   Log-Likelihood:                 3337.9\n",
      "No. Observations:                5376   AIC:                            -6668.\n",
      "Df Residuals:                    5372   BIC:                            -6642.\n",
      "Df Model:                           3                                         \n",
      "Covariance Type:            nonrobust                                         \n",
      "=====================================================================================\n",
      "                        coef    std err          t      P>|t|      [0.025      0.975]\n",
      "-------------------------------------------------------------------------------------\n",
      "Intercept            -0.0002      0.002     -0.131      0.896      -0.004       0.003\n",
      "academic_pressure     0.0160      0.013      1.241      0.215      -0.009       0.041\n",
      "body_experience      -0.1662      0.004    -38.067      0.000      -0.175      -0.158\n",
      "interaction_body      0.0845      0.032      2.684      0.007       0.023       0.146\n",
      "==============================================================================\n",
      "Omnibus:                      281.924   Durbin-Watson:                   1.939\n",
      "Prob(Omnibus):                  0.000   Jarque-Bera (JB):              326.728\n",
      "Skew:                          -0.588   Prob(JB):                     1.13e-71\n",
      "Kurtosis:                       3.271   Cond. No.                         17.8\n",
      "==============================================================================\n",
      "\n",
      "Notes:\n",
      "[1] Standard Errors assume that the covariance matrix of the errors is correctly specified.\n"
     ]
    }
   ],
   "source": [
    "import statsmodels.formula.api as smf\n",
    "\n",
    "df['interaction_body'] = df['academic_pressure'] * df['body_experience']\n",
    "\n",
    "model_body = smf.ols('emotional_state ~ academic_pressure + body_experience + interaction_body', data=df).fit()\n",
    "print(model_body.summary())\n"
   ]
  },
  {
   "cell_type": "code",
   "execution_count": 242,
   "metadata": {},
   "outputs": [
    {
     "data": {
      "text/html": [
       "<div>\n",
       "<style scoped>\n",
       "    .dataframe tbody tr th:only-of-type {\n",
       "        vertical-align: middle;\n",
       "    }\n",
       "\n",
       "    .dataframe tbody tr th {\n",
       "        vertical-align: top;\n",
       "    }\n",
       "\n",
       "    .dataframe thead th {\n",
       "        text-align: right;\n",
       "    }\n",
       "</style>\n",
       "<table border=\"1\" class=\"dataframe\">\n",
       "  <thead>\n",
       "    <tr style=\"text-align: right;\">\n",
       "      <th></th>\n",
       "      <th>id</th>\n",
       "      <th>sex</th>\n",
       "      <th>birthy</th>\n",
       "      <th>birthm</th>\n",
       "      <th>area</th>\n",
       "      <th>size</th>\n",
       "      <th>school</th>\n",
       "      <th>grade</th>\n",
       "      <th>home1</th>\n",
       "      <th>home2</th>\n",
       "      <th>...</th>\n",
       "      <th>q5421</th>\n",
       "      <th>q5422</th>\n",
       "      <th>wt</th>\n",
       "      <th>academic_pressure</th>\n",
       "      <th>human_rel</th>\n",
       "      <th>emotional_state</th>\n",
       "      <th>exposure_violence</th>\n",
       "      <th>body_experience</th>\n",
       "      <th>interaction</th>\n",
       "      <th>interaction_body</th>\n",
       "    </tr>\n",
       "  </thead>\n",
       "  <tbody>\n",
       "    <tr>\n",
       "      <th>0</th>\n",
       "      <td>20001.0</td>\n",
       "      <td>여성</td>\n",
       "      <td>2003.0</td>\n",
       "      <td>4월</td>\n",
       "      <td>충청권(대전, 충남, 충북)</td>\n",
       "      <td>도서벽지 및 읍면지역</td>\n",
       "      <td>고등학생</td>\n",
       "      <td>3학년</td>\n",
       "      <td>아니오</td>\n",
       "      <td>아니오</td>\n",
       "      <td>...</td>\n",
       "      <td>NaN</td>\n",
       "      <td>NaN</td>\n",
       "      <td>0.250048</td>\n",
       "      <td>-0.374990</td>\n",
       "      <td>-0.046347</td>\n",
       "      <td>-0.167932</td>\n",
       "      <td>-0.006158</td>\n",
       "      <td>-0.468777</td>\n",
       "      <td>0.017380</td>\n",
       "      <td>0.175787</td>\n",
       "    </tr>\n",
       "    <tr>\n",
       "      <th>1</th>\n",
       "      <td>20002.0</td>\n",
       "      <td>여성</td>\n",
       "      <td>2003.0</td>\n",
       "      <td>8월</td>\n",
       "      <td>충청권(대전, 충남, 충북)</td>\n",
       "      <td>도서벽지 및 읍면지역</td>\n",
       "      <td>고등학생</td>\n",
       "      <td>3학년</td>\n",
       "      <td>예</td>\n",
       "      <td>예</td>\n",
       "      <td>...</td>\n",
       "      <td>NaN</td>\n",
       "      <td>NaN</td>\n",
       "      <td>0.250048</td>\n",
       "      <td>-0.102685</td>\n",
       "      <td>0.024751</td>\n",
       "      <td>0.058954</td>\n",
       "      <td>-0.006097</td>\n",
       "      <td>-0.366024</td>\n",
       "      <td>-0.002542</td>\n",
       "      <td>0.037585</td>\n",
       "    </tr>\n",
       "  </tbody>\n",
       "</table>\n",
       "<p>2 rows × 284 columns</p>\n",
       "</div>"
      ],
      "text/plain": [
       "        id sex  birthy birthm             area         size school grade  \\\n",
       "0  20001.0  여성  2003.0     4월  충청권(대전, 충남, 충북)  도서벽지 및 읍면지역   고등학생   3학년   \n",
       "1  20002.0  여성  2003.0     8월  충청권(대전, 충남, 충북)  도서벽지 및 읍면지역   고등학생   3학년   \n",
       "\n",
       "  home1 home2  ... q5421 q5422        wt academic_pressure human_rel  \\\n",
       "0   아니오   아니오  ...   NaN   NaN  0.250048         -0.374990 -0.046347   \n",
       "1     예     예  ...   NaN   NaN  0.250048         -0.102685  0.024751   \n",
       "\n",
       "  emotional_state exposure_violence body_experience interaction  \\\n",
       "0       -0.167932         -0.006158       -0.468777    0.017380   \n",
       "1        0.058954         -0.006097       -0.366024   -0.002542   \n",
       "\n",
       "  interaction_body  \n",
       "0         0.175787  \n",
       "1         0.037585  \n",
       "\n",
       "[2 rows x 284 columns]"
      ]
     },
     "execution_count": 242,
     "metadata": {},
     "output_type": "execute_result"
    }
   ],
   "source": [
    "df.head(2)"
   ]
  },
  {
   "cell_type": "code",
   "execution_count": 245,
   "metadata": {},
   "outputs": [
    {
     "data": {
      "text/plain": [
       "school\n",
       "중학생     3104\n",
       "고등학생    2272\n",
       "Name: count, dtype: int64"
      ]
     },
     "execution_count": 245,
     "metadata": {},
     "output_type": "execute_result"
    }
   ],
   "source": [
    "df['school'].value_counts()"
   ]
  },
  {
   "cell_type": "code",
   "execution_count": null,
   "metadata": {},
   "outputs": [
    {
     "name": "stdout",
     "output_type": "stream",
     "text": [
      "                            OLS Regression Results                            \n",
      "==============================================================================\n",
      "Dep. Variable:        emotional_state   R-squared:                       0.019\n",
      "Model:                            OLS   Adj. R-squared:                  0.018\n",
      "Method:                 Least Squares   F-statistic:                     34.13\n",
      "Date:                Tue, 15 Apr 2025   Prob (F-statistic):           7.61e-22\n",
      "Time:                        21:11:25   Log-Likelihood:                 2745.2\n",
      "No. Observations:                5376   AIC:                            -5482.\n",
      "Df Residuals:                    5372   BIC:                            -5456.\n",
      "Df Model:                           3                                         \n",
      "Covariance Type:            nonrobust                                         \n",
      "=====================================================================================\n",
      "                        coef    std err          t      P>|t|      [0.025      0.975]\n",
      "-------------------------------------------------------------------------------------\n",
      "Intercept            -0.0189      0.003     -6.826      0.000      -0.024      -0.013\n",
      "academic_pressure    -0.0117      0.021     -0.554      0.580      -0.053       0.030\n",
      "sex_dummy             0.0400      0.004     10.020      0.000       0.032       0.048\n",
      "interaction_sex       0.0330      0.029      1.144      0.253      -0.024       0.090\n",
      "==============================================================================\n",
      "Omnibus:                      272.873   Durbin-Watson:                   1.949\n",
      "Prob(Omnibus):                  0.000   Jarque-Bera (JB):              308.227\n",
      "Skew:                          -0.575   Prob(JB):                     1.17e-67\n",
      "Kurtosis:                       2.771   Cond. No.                         19.2\n",
      "==============================================================================\n",
      "\n",
      "Notes:\n",
      "[1] Standard Errors assume that the covariance matrix of the errors is correctly specified.\n"
     ]
    }
   ],
   "source": [
    "# 성별 더미 변수 (예: 남자=1, 여자=0) 생성\n",
    "df['sex_dummy'] = df['sex'].map({'남성': 1, '여성': 0}) \n",
    "df['sex_dummy'] = pd.to_numeric(df['sex_dummy'], errors='coerce')\n",
    "df['interaction_sex'] = df['academic_pressure'] * df['sex_dummy']\n",
    "\n",
    "model_sex = smf.ols('emotional_state ~ academic_pressure + sex_dummy + interaction_sex', data=df).fit()\n",
    "print(model_sex.summary())\n"
   ]
  },
  {
   "cell_type": "code",
   "execution_count": null,
   "metadata": {},
   "outputs": [],
   "source": []
  }
 ],
 "metadata": {
  "kernelspec": {
   "display_name": "kernel",
   "language": "python",
   "name": "kernel"
  },
  "language_info": {
   "codemirror_mode": {
    "name": "ipython",
    "version": 3
   },
   "file_extension": ".py",
   "mimetype": "text/x-python",
   "name": "python",
   "nbconvert_exporter": "python",
   "pygments_lexer": "ipython3",
   "version": "3.11.2"
  }
 },
 "nbformat": 4,
 "nbformat_minor": 2
}
