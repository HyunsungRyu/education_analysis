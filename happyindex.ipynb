{
 "cells": [
  {
   "cell_type": "code",
   "execution_count": 1,
   "metadata": {},
   "outputs": [],
   "source": [
    "import pandas as pd\n",
    "import numpy as np\n",
    "from IPython.display import display\n",
    "from sklearn.preprocessing import MinMaxScaler\n",
    "from semopy import Model, calc_stats, semplot, report\n",
    "from statsmodels.stats.outliers_influence import variance_inflation_factor\n",
    "import warnings\n",
    "warnings.filterwarnings(\"ignore\")\n",
    "import matplotlib.pyplot as plt\n",
    "import statsmodels.formula.api as smf\n",
    "import seaborn as sns\n",
    "import pingouin as pg"
   ]
  },
  {
   "cell_type": "code",
   "execution_count": 2,
   "metadata": {},
   "outputs": [
    {
     "data": {
      "text/html": [
       "<div>\n",
       "<style scoped>\n",
       "    .dataframe tbody tr th:only-of-type {\n",
       "        vertical-align: middle;\n",
       "    }\n",
       "\n",
       "    .dataframe tbody tr th {\n",
       "        vertical-align: top;\n",
       "    }\n",
       "\n",
       "    .dataframe thead th {\n",
       "        text-align: right;\n",
       "    }\n",
       "</style>\n",
       "<table border=\"1\" class=\"dataframe\">\n",
       "  <thead>\n",
       "    <tr style=\"text-align: right;\">\n",
       "      <th></th>\n",
       "      <th>id</th>\n",
       "      <th>sex</th>\n",
       "      <th>birthy</th>\n",
       "      <th>birthm</th>\n",
       "      <th>area</th>\n",
       "      <th>size</th>\n",
       "      <th>school</th>\n",
       "      <th>grade</th>\n",
       "      <th>home1</th>\n",
       "      <th>home2</th>\n",
       "      <th>...</th>\n",
       "      <th>q512</th>\n",
       "      <th>q513</th>\n",
       "      <th>q514</th>\n",
       "      <th>q52</th>\n",
       "      <th>q53</th>\n",
       "      <th>q5411</th>\n",
       "      <th>q5412</th>\n",
       "      <th>q5421</th>\n",
       "      <th>q5422</th>\n",
       "      <th>wt</th>\n",
       "    </tr>\n",
       "  </thead>\n",
       "  <tbody>\n",
       "    <tr>\n",
       "      <th>0</th>\n",
       "      <td>20001.0</td>\n",
       "      <td>여성</td>\n",
       "      <td>2003.0</td>\n",
       "      <td>4월</td>\n",
       "      <td>충청권(대전, 충남, 충북)</td>\n",
       "      <td>도서벽지 및 읍면지역</td>\n",
       "      <td>고등학생</td>\n",
       "      <td>3학년</td>\n",
       "      <td>아니오</td>\n",
       "      <td>아니오</td>\n",
       "      <td>...</td>\n",
       "      <td>해당 없음</td>\n",
       "      <td>차이 없음</td>\n",
       "      <td>차이 없음</td>\n",
       "      <td>28.0</td>\n",
       "      <td>그대로다</td>\n",
       "      <td>NaN</td>\n",
       "      <td>NaN</td>\n",
       "      <td>NaN</td>\n",
       "      <td>NaN</td>\n",
       "      <td>0.250048</td>\n",
       "    </tr>\n",
       "    <tr>\n",
       "      <th>1</th>\n",
       "      <td>20002.0</td>\n",
       "      <td>여성</td>\n",
       "      <td>2003.0</td>\n",
       "      <td>8월</td>\n",
       "      <td>충청권(대전, 충남, 충북)</td>\n",
       "      <td>도서벽지 및 읍면지역</td>\n",
       "      <td>고등학생</td>\n",
       "      <td>3학년</td>\n",
       "      <td>예</td>\n",
       "      <td>예</td>\n",
       "      <td>...</td>\n",
       "      <td>차이 없음</td>\n",
       "      <td>차이 없음</td>\n",
       "      <td>차이 없음</td>\n",
       "      <td>20.0</td>\n",
       "      <td>그대로다</td>\n",
       "      <td>NaN</td>\n",
       "      <td>NaN</td>\n",
       "      <td>NaN</td>\n",
       "      <td>NaN</td>\n",
       "      <td>0.250048</td>\n",
       "    </tr>\n",
       "    <tr>\n",
       "      <th>2</th>\n",
       "      <td>20003.0</td>\n",
       "      <td>여성</td>\n",
       "      <td>2003.0</td>\n",
       "      <td>9월</td>\n",
       "      <td>충청권(대전, 충남, 충북)</td>\n",
       "      <td>도서벽지 및 읍면지역</td>\n",
       "      <td>고등학생</td>\n",
       "      <td>3학년</td>\n",
       "      <td>예</td>\n",
       "      <td>예</td>\n",
       "      <td>...</td>\n",
       "      <td>차이 없음</td>\n",
       "      <td>차이 없음</td>\n",
       "      <td>차이 없음</td>\n",
       "      <td>30.0</td>\n",
       "      <td>그대로다</td>\n",
       "      <td>NaN</td>\n",
       "      <td>NaN</td>\n",
       "      <td>NaN</td>\n",
       "      <td>NaN</td>\n",
       "      <td>0.250048</td>\n",
       "    </tr>\n",
       "  </tbody>\n",
       "</table>\n",
       "<p>3 rows × 277 columns</p>\n",
       "</div>"
      ],
      "text/plain": [
       "        id sex  birthy birthm             area         size school grade  \\\n",
       "0  20001.0  여성  2003.0     4월  충청권(대전, 충남, 충북)  도서벽지 및 읍면지역   고등학생   3학년   \n",
       "1  20002.0  여성  2003.0     8월  충청권(대전, 충남, 충북)  도서벽지 및 읍면지역   고등학생   3학년   \n",
       "2  20003.0  여성  2003.0     9월  충청권(대전, 충남, 충북)  도서벽지 및 읍면지역   고등학생   3학년   \n",
       "\n",
       "  home1 home2  ...   q512   q513   q514   q52   q53 q5411 q5412 q5421 q5422  \\\n",
       "0   아니오   아니오  ...  해당 없음  차이 없음  차이 없음  28.0  그대로다   NaN   NaN   NaN   NaN   \n",
       "1     예     예  ...  차이 없음  차이 없음  차이 없음  20.0  그대로다   NaN   NaN   NaN   NaN   \n",
       "2     예     예  ...  차이 없음  차이 없음  차이 없음  30.0  그대로다   NaN   NaN   NaN   NaN   \n",
       "\n",
       "         wt  \n",
       "0  0.250048  \n",
       "1  0.250048  \n",
       "2  0.250048  \n",
       "\n",
       "[3 rows x 277 columns]"
      ]
     },
     "execution_count": 2,
     "metadata": {},
     "output_type": "execute_result"
    }
   ],
   "source": [
    "df = pd.read_spss('C:\\\\data\\\\education\\\\한국아동청소년행복지수조사\\\\kor_data_20210010.sav')\n",
    "df.head(3)"
   ]
  },
  {
   "cell_type": "code",
   "execution_count": 3,
   "metadata": {},
   "outputs": [
    {
     "data": {
      "text/plain": [
       "q4812\n",
       "전혀 그렇지 않다    1959\n",
       "조금 그렇다       1018\n",
       "보통이다          952\n",
       "별로 그렇지 않다     945\n",
       "매우 그렇다        502\n",
       "Name: count, dtype: int64"
      ]
     },
     "execution_count": 3,
     "metadata": {},
     "output_type": "execute_result"
    }
   ],
   "source": [
    "df['q4812'].value_counts()"
   ]
  },
  {
   "cell_type": "code",
   "execution_count": 4,
   "metadata": {},
   "outputs": [],
   "source": [
    "# df = df[df['school'] == '고등학생']\n",
    "# df.head(3)"
   ]
  },
  {
   "cell_type": "code",
   "execution_count": 5,
   "metadata": {},
   "outputs": [
    {
     "data": {
      "text/plain": [
       "5376"
      ]
     },
     "execution_count": 5,
     "metadata": {},
     "output_type": "execute_result"
    }
   ],
   "source": [
    "len(df)"
   ]
  },
  {
   "cell_type": "code",
   "execution_count": null,
   "metadata": {},
   "outputs": [],
   "source": []
  },
  {
   "cell_type": "code",
   "execution_count": 6,
   "metadata": {},
   "outputs": [],
   "source": [
    "def null0(df):\n",
    "    for col in df.columns:\n",
    "        if df[col].isnull().sum() > 0:\n",
    "            df[col] = df[col].fillna(0)\n",
    "    return df"
   ]
  },
  {
   "cell_type": "code",
   "execution_count": 7,
   "metadata": {},
   "outputs": [],
   "source": [
    "def encoding(df, columns, category_map): \n",
    "    df[columns] = df[columns].replace(category_map)\n",
    "    return df\n",
    "\n",
    "category4_map = {\n",
    "    '전혀 그렇지 않다': 0,\n",
    "    '그렇지 않다': 1,\n",
    "    '그렇다': 2,\n",
    "    '매우 그렇다': 3\n",
    "}\n",
    "category5_map = {\n",
    "    '전혀 그렇지 않다': 0,\n",
    "    '별로 그렇지 않다': 1,\n",
    "    '보통이다' : 2,\n",
    "    '조금 그렇다': 3,\n",
    "    '매우 그렇다': 4\n",
    "}\n",
    "reverse_category5_map = {\n",
    "    '전혀 그렇지 않다': 4,\n",
    "    '별로 그렇지 않다': 3,\n",
    "    '보통이다' : 2,\n",
    "    '조금 그렇다': 1,\n",
    "    '매우 그렇다': 0\n",
    "}\n",
    "how_serious_map = {\n",
    "    '전혀 심각하지 않다' : 0,\n",
    "    '별로 심각하지 않다' : 1,\n",
    "    '보통이다' : 2,\n",
    "    '약간 심각한 편이다' : 3,\n",
    "    '매우 심각하다' : 4\n",
    "}\n",
    "how_often_map = {\n",
    "'경험이 전혀 없거나 거의 없었다' : 2,\n",
    "'1년에 몇 번 있었다' : 1,\n",
    "'한 달에 몇 번 있었다' : 0,\n",
    "'일주일에 한번 이상 있었다' : 0 \n",
    "}\n",
    "happy_map = {\n",
    "'매우 행복하다' : 4,\n",
    "'대체로 행복한 편이다' : 3,\n",
    "'모르겠다' : 2,\n",
    "'별로 행복하지 않은 편이다' : 1,\n",
    "'전혀 행복하지 않다' : 0\n",
    "}\n",
    "how_happy_map = {\n",
    "'매우 행복하다' : 4,\n",
    "'약간 행복하다' : 3,\n",
    "'보통이다' : 2,\n",
    "'약간 불행하다' : 1,\n",
    "'매우 불행하다' : 0\n",
    "}\n",
    "yes_or_no_map = {\n",
    "'예' : 1,\n",
    "'아니오' : 0\n",
    "}\n",
    "is_or_not_map = {\n",
    "    '있다' : 1,\n",
    "    '없다' : 0\n",
    "}\n",
    "is_or_not_map2 = {\n",
    "    '있다' : 2,\n",
    "    '없다' : 1\n",
    "}\n",
    "how_much_is_map = {\n",
    "    '전혀 없다' : 0,\n",
    "    '1~2번 있다' : 1,\n",
    "    '3~4번 있다' : 2,\n",
    "    '5번 이상 있다' : 2\n",
    "}\n",
    "how_high_map = {\n",
    "    '상의 상' : 2,\n",
    "    '상의 하': 2,\n",
    "    '중의 상': 1,\n",
    "    '중의 하': 1,\n",
    "    '하의 상': 0, \n",
    "    '하의 하': 0\n",
    "}"
   ]
  },
  {
   "cell_type": "code",
   "execution_count": 8,
   "metadata": {},
   "outputs": [],
   "source": [
    "def time_min(df, hour_column, minute_column):\n",
    "    # 시간과 분 열의 결측값을 0으로 채움\n",
    "    df[hour_column] = df[hour_column].fillna(0)\n",
    "    df[minute_column] = df[minute_column].fillna(0)\n",
    "    \n",
    "    # 데이터 타입을 float로 변환\n",
    "    df[hour_column] = df[hour_column].astype(float)\n",
    "    df[minute_column] = df[minute_column].astype(float)\n",
    "\n",
    "    # 총 분 계산\n",
    "    df['pri_edu_time'] = df[hour_column] * 60 + df[minute_column]\n",
    "    return df"
   ]
  },
  {
   "cell_type": "code",
   "execution_count": 9,
   "metadata": {},
   "outputs": [],
   "source": [
    "def not_applicable(df, columns):\n",
    "    for col in columns:\n",
    "        df[col] = df[col].replace({'해당사항 없음': '보통이다'})\n",
    "    return df\n",
    "def applicable_is_the_worst(df, columns):\n",
    "    for col in columns:\n",
    "        df[col] = df[col].replace({'해당사항 없음': '전혀 그렇지 않다'})\n",
    "    return df\n",
    "def applicable_is_the_best(df, columns):\n",
    "    for col in columns:\n",
    "        df[col] = df[col].replace({'해당사항 없음': '매우 그렇다'})\n",
    "    return df"
   ]
  },
  {
   "cell_type": "code",
   "execution_count": 10,
   "metadata": {},
   "outputs": [],
   "source": [
    "def weighted_cov(X, weights):\n",
    "    average = np.average(X, axis=0, weights=weights)\n",
    "    X_centered = X - average\n",
    "    cov_matrix = np.dot((X_centered * weights[:, None]).T, X_centered) / (weights.sum() - 1)\n",
    "    return cov_matrix"
   ]
  },
  {
   "cell_type": "code",
   "execution_count": 11,
   "metadata": {},
   "outputs": [],
   "source": [
    "def calculate_covariance(df, observed_vars):\n",
    "    data_for_cov = df[observed_vars].apply(pd.to_numeric, errors='coerce')\n",
    "    weights = df['wt'].to_numpy()\n",
    "    w_cov = weighted_cov(data_for_cov.to_numpy(), weights)\n",
    "    return pd.DataFrame(w_cov, index=observed_vars, columns=observed_vars)"
   ]
  },
  {
   "cell_type": "code",
   "execution_count": 12,
   "metadata": {},
   "outputs": [],
   "source": [
    "def compute_vif(df, observed_vars):\n",
    "    X = df[observed_vars].apply(pd.to_numeric, errors='coerce').dropna()\n",
    "    vif_data = pd.DataFrame()\n",
    "    vif_data[\"Feature\"] = X.columns\n",
    "    vif_data[\"VIF\"] = [variance_inflation_factor(X.values, i) for i in range(X.shape[1])]\n",
    "    return vif_data"
   ]
  },
  {
   "cell_type": "code",
   "execution_count": 13,
   "metadata": {},
   "outputs": [],
   "source": [
    "def fit_sem_model(model, df, w_cov_df):\n",
    "    model.fit(df, cov=w_cov_df)\n",
    "    return model"
   ]
  },
  {
   "cell_type": "code",
   "execution_count": 14,
   "metadata": {},
   "outputs": [],
   "source": [
    "def calculate_bmi(df, height, weight):\n",
    "    df[height] = pd.to_numeric(df[height], errors='coerce')\n",
    "    df[weight] = pd.to_numeric(df[weight], errors='coerce')\n",
    "    \n",
    "    df['bmi'] = df[weight] / ((df[height] / 100) ** 2)\n",
    "    df['bmi'] = df['bmi'].round(2)\n",
    "    return df"
   ]
  },
  {
   "cell_type": "code",
   "execution_count": 15,
   "metadata": {},
   "outputs": [],
   "source": [
    "# 표준화 계수 계산 함수\n",
    "def standardize_estimates(df, data):\n",
    "    std_estimates = []\n",
    "    for _, row in df.iterrows():\n",
    "        if row['op'] == '~':  # 회귀 계수\n",
    "            try:\n",
    "                x_std = np.std(data[row['rhs']], ddof=1)\n",
    "                y_std = np.std(data[row['lhs']], ddof=1)\n",
    "                std_beta = row['Estimate'] * (x_std / y_std)\n",
    "                std_estimates.append(std_beta)\n",
    "            except KeyError:\n",
    "                std_estimates.append(np.nan)\n",
    "        elif row['op'] == '=~':  # 요인 부하량\n",
    "            try:\n",
    "                x_std = np.std(data[row['rhs']], ddof=1)\n",
    "                std_estimates.append(row['Estimate'] * x_std)\n",
    "            except KeyError:\n",
    "                std_estimates.append(np.nan)\n",
    "        else:\n",
    "            std_estimates.append(np.nan)\n",
    "    df['std_estimate'] = std_estimates\n",
    "    return df"
   ]
  },
  {
   "cell_type": "markdown",
   "metadata": {},
   "source": [
    "# 학업압박"
   ]
  },
  {
   "cell_type": "code",
   "execution_count": 16,
   "metadata": {},
   "outputs": [],
   "source": [
    "df_edu = df[['q071','q072', 'q073', 'q074'] + ['q485', 'q486', 'q487', 'q488']]\n",
    "df_edu = null0(df_edu)\n",
    "\n",
    "df_edu = encoding(df_edu, ['q071', 'q072', 'q073', 'q074'], category4_map)\n",
    "df_edu = encoding(df_edu, ['q485', 'q486','q487', 'q488'], category5_map)"
   ]
  },
  {
   "cell_type": "code",
   "execution_count": 17,
   "metadata": {},
   "outputs": [],
   "source": [
    "scaler = MinMaxScaler()\n",
    "df_edu[['q071', 'q072', 'q073', 'q074', 'q485', 'q486','q487', 'q488']] = scaler.fit_transform(df_edu[['q071', 'q072', 'q073', 'q074', 'q485', 'q486','q487', 'q488']])"
   ]
  },
  {
   "cell_type": "code",
   "execution_count": 18,
   "metadata": {},
   "outputs": [],
   "source": [
    "model_desc = \"\"\"\n",
    "exam_anxiety =~ q072 + q073\n",
    "academic_stress =~ q485 + q486 + q487 + q488\n",
    "academic_pressure =~  academic_stress + exam_anxiety\n",
    "\"\"\""
   ]
  },
  {
   "cell_type": "code",
   "execution_count": 19,
   "metadata": {},
   "outputs": [],
   "source": [
    "df_edu['wt'] = df['wt']\n",
    "observed_vars = ['q072', 'q073', 'q485', 'q486', 'q487', 'q488']\n",
    "w_cov_df = calculate_covariance(df_edu, observed_vars)"
   ]
  },
  {
   "cell_type": "code",
   "execution_count": 20,
   "metadata": {},
   "outputs": [
    {
     "name": "stderr",
     "output_type": "stream",
     "text": [
      "WARNING:root:Fisher Information Matrix is not PD.Moore-Penrose inverse will be used instead of Cholesky decomposition. See 10.1109/TSP.2012.2208105.\n",
      "WARNING:root:Fisher Information Matrix is not PD.Moore-Penrose inverse will be used instead of Cholesky decomposition. See 10.1109/TSP.2012.2208105.\n"
     ]
    },
    {
     "name": "stdout",
     "output_type": "stream",
     "text": [
      "적합도 지표:\n",
      "                       Value\n",
      "DoF                7.000000\n",
      "DoF Baseline      15.000000\n",
      "chi2             241.352506\n",
      "chi2 p-value       0.000000\n",
      "chi2 Baseline  14606.987426\n",
      "CFI                0.983940\n",
      "GFI                0.983477\n",
      "AGFI               0.964593\n",
      "NFI                0.983477\n",
      "TLI                0.965585\n",
      "RMSEA              0.078922\n",
      "AIC               27.910211\n",
      "BIC              120.166009\n",
      "LogLik             0.044894 \n",
      "\n",
      "\n",
      "모수 추정치:\n",
      "                  lval  op               rval  Estimate  Std. Err      z-value  \\\n",
      "0     academic_stress   ~  academic_pressure  1.000000         -            -   \n",
      "1        exam_anxiety   ~  academic_pressure  0.968809  0.000184  5251.669584   \n",
      "2                q072   ~       exam_anxiety  1.000000         -            -   \n",
      "3                q073   ~       exam_anxiety  0.833512  0.017367    47.993422   \n",
      "4                q485   ~    academic_stress  1.000000         -            -   \n",
      "5                q486   ~    academic_stress  1.010153   0.01667    60.596175   \n",
      "6                q487   ~    academic_stress  0.975277  0.017671    55.192354   \n",
      "7                q488   ~    academic_stress  0.861801  0.016738    51.487494   \n",
      "8   academic_pressure  ~~  academic_pressure  0.056305  0.001624    34.671045   \n",
      "9     academic_stress  ~~    academic_stress  0.019496  0.001565    12.459113   \n",
      "10       exam_anxiety  ~~       exam_anxiety  0.029937  0.001859    16.102748   \n",
      "11               q072  ~~               q072  0.017077   0.00144    11.861506   \n",
      "12               q073  ~~               q073  0.042520  0.001273     33.39969   \n",
      "13               q485  ~~               q485  0.042954  0.001152    37.284919   \n",
      "14               q486  ~~               q486  0.040143  0.001116    35.962013   \n",
      "15               q487  ~~               q487  0.058764  0.001405    41.821286   \n",
      "16               q488  ~~               q488  0.059267  0.001343    44.143347   \n",
      "\n",
      "   p-value  \n",
      "0        -  \n",
      "1      0.0  \n",
      "2        -  \n",
      "3      0.0  \n",
      "4        -  \n",
      "5      0.0  \n",
      "6      0.0  \n",
      "7      0.0  \n",
      "8      0.0  \n",
      "9      0.0  \n",
      "10     0.0  \n",
      "11     0.0  \n",
      "12     0.0  \n",
      "13     0.0  \n",
      "14     0.0  \n",
      "15     0.0  \n",
      "16     0.0  \n"
     ]
    },
    {
     "data": {
      "image/svg+xml": [
       "<?xml version=\"1.0\" encoding=\"UTF-8\" standalone=\"no\"?>\n",
       "<!DOCTYPE svg PUBLIC \"-//W3C//DTD SVG 1.1//EN\"\n",
       " \"http://www.w3.org/Graphics/SVG/1.1/DTD/svg11.dtd\">\n",
       "<!-- Generated by graphviz version 12.2.1 (20241206.2353)\n",
       " -->\n",
       "<!-- Title: G Pages: 1 -->\n",
       "<svg width=\"437pt\" height=\"479pt\"\n",
       " viewBox=\"0.00 0.00 436.84 478.72\" xmlns=\"http://www.w3.org/2000/svg\" xmlns:xlink=\"http://www.w3.org/1999/xlink\">\n",
       "<g id=\"graph0\" class=\"graph\" transform=\"scale(1 1) rotate(0) translate(4 474.72)\">\n",
       "<title>G</title>\n",
       "<polygon fill=\"white\" stroke=\"none\" points=\"-4,4 -4,-474.72 432.84,-474.72 432.84,4 -4,4\"/>\n",
       "<!-- academic_stress -->\n",
       "<g id=\"node1\" class=\"node\">\n",
       "<title>academic_stress</title>\n",
       "<ellipse fill=\"#cae6df\" stroke=\"black\" cx=\"172\" cy=\"-171.81\" rx=\"71.31\" ry=\"71.31\"/>\n",
       "<text text-anchor=\"middle\" x=\"172\" y=\"-166.76\" font-family=\"Times New Roman,serif\" font-size=\"14.00\">academic_stress</text>\n",
       "</g>\n",
       "<!-- q485 -->\n",
       "<g id=\"node6\" class=\"node\">\n",
       "<title>q485</title>\n",
       "<polygon fill=\"none\" stroke=\"black\" points=\"54,-36 0,-36 0,0 54,0 54,-36\"/>\n",
       "<text text-anchor=\"middle\" x=\"27\" y=\"-12.95\" font-family=\"Times New Roman,serif\" font-size=\"14.00\">q485</text>\n",
       "</g>\n",
       "<!-- academic_stress&#45;&gt;q485 -->\n",
       "<g id=\"edge5\" class=\"edge\">\n",
       "<title>academic_stress&#45;&gt;q485</title>\n",
       "<path fill=\"none\" stroke=\"black\" d=\"M118.82,-124.09C104.8,-111.04 89.97,-96.58 77,-82.5 66.2,-70.77 55.13,-56.95 46.17,-45.2\"/>\n",
       "<polygon fill=\"black\" stroke=\"black\" points=\"49.19,-43.39 40.39,-37.5 43.6,-47.6 49.19,-43.39\"/>\n",
       "<text text-anchor=\"middle\" x=\"90.5\" y=\"-63.98\" font-family=\"Times New Roman,serif\" font-size=\"12.00\">1.000</text>\n",
       "</g>\n",
       "<!-- q486 -->\n",
       "<g id=\"node7\" class=\"node\">\n",
       "<title>q486</title>\n",
       "<polygon fill=\"none\" stroke=\"black\" points=\"126,-36 72,-36 72,0 126,0 126,-36\"/>\n",
       "<text text-anchor=\"middle\" x=\"99\" y=\"-12.95\" font-family=\"Times New Roman,serif\" font-size=\"14.00\">q486</text>\n",
       "</g>\n",
       "<!-- academic_stress&#45;&gt;q486 -->\n",
       "<g id=\"edge6\" class=\"edge\">\n",
       "<title>academic_stress&#45;&gt;q486</title>\n",
       "<path fill=\"none\" stroke=\"black\" d=\"M132.96,-111.61C127.52,-102.09 122.32,-92.18 118,-82.5 113.02,-71.35 108.91,-58.53 105.79,-47.34\"/>\n",
       "<polygon fill=\"black\" stroke=\"black\" points=\"109.23,-46.66 103.3,-37.87 102.46,-48.44 109.23,-46.66\"/>\n",
       "<text text-anchor=\"middle\" x=\"143.5\" y=\"-71.1\" font-family=\"Times New Roman,serif\" font-size=\"12.00\">1.010</text>\n",
       "<text text-anchor=\"middle\" x=\"143.5\" y=\"-56.85\" font-family=\"Times New Roman,serif\" font-size=\"12.00\">p&#45;val: 0.00</text>\n",
       "</g>\n",
       "<!-- q487 -->\n",
       "<g id=\"node8\" class=\"node\">\n",
       "<title>q487</title>\n",
       "<polygon fill=\"none\" stroke=\"black\" points=\"200,-36 146,-36 146,0 200,0 200,-36\"/>\n",
       "<text text-anchor=\"middle\" x=\"173\" y=\"-12.95\" font-family=\"Times New Roman,serif\" font-size=\"14.00\">q487</text>\n",
       "</g>\n",
       "<!-- academic_stress&#45;&gt;q487 -->\n",
       "<g id=\"edge7\" class=\"edge\">\n",
       "<title>academic_stress&#45;&gt;q487</title>\n",
       "<path fill=\"none\" stroke=\"black\" d=\"M172.46,-100.24C172.59,-81.73 172.71,-62.79 172.81,-47.86\"/>\n",
       "<polygon fill=\"black\" stroke=\"black\" points=\"176.31,-47.9 172.88,-37.88 169.31,-47.85 176.31,-47.9\"/>\n",
       "<text text-anchor=\"middle\" x=\"198.26\" y=\"-71.1\" font-family=\"Times New Roman,serif\" font-size=\"12.00\">0.975</text>\n",
       "<text text-anchor=\"middle\" x=\"198.26\" y=\"-56.85\" font-family=\"Times New Roman,serif\" font-size=\"12.00\">p&#45;val: 0.00</text>\n",
       "</g>\n",
       "<!-- q488 -->\n",
       "<g id=\"node9\" class=\"node\">\n",
       "<title>q488</title>\n",
       "<polygon fill=\"none\" stroke=\"black\" points=\"274,-36 220,-36 220,0 274,0 274,-36\"/>\n",
       "<text text-anchor=\"middle\" x=\"247\" y=\"-12.95\" font-family=\"Times New Roman,serif\" font-size=\"14.00\">q488</text>\n",
       "</g>\n",
       "<!-- academic_stress&#45;&gt;q488 -->\n",
       "<g id=\"edge8\" class=\"edge\">\n",
       "<title>academic_stress&#45;&gt;q488</title>\n",
       "<path fill=\"none\" stroke=\"black\" d=\"M209.92,-111.39C215.31,-101.9 220.53,-92.06 225,-82.5 230.24,-71.28 234.92,-58.45 238.6,-47.27\"/>\n",
       "<polygon fill=\"black\" stroke=\"black\" points=\"241.91,-48.39 241.6,-37.8 235.24,-46.28 241.91,-48.39\"/>\n",
       "<text text-anchor=\"middle\" x=\"261.43\" y=\"-71.1\" font-family=\"Times New Roman,serif\" font-size=\"12.00\">0.862</text>\n",
       "<text text-anchor=\"middle\" x=\"261.43\" y=\"-56.85\" font-family=\"Times New Roman,serif\" font-size=\"12.00\">p&#45;val: 0.00</text>\n",
       "</g>\n",
       "<!-- academic_pressure -->\n",
       "<g id=\"node2\" class=\"node\">\n",
       "<title>academic_pressure</title>\n",
       "<ellipse fill=\"#cae6df\" stroke=\"black\" cx=\"248\" cy=\"-389.17\" rx=\"81.55\" ry=\"81.55\"/>\n",
       "<text text-anchor=\"middle\" x=\"248\" y=\"-384.12\" font-family=\"Times New Roman,serif\" font-size=\"14.00\">academic_pressure</text>\n",
       "</g>\n",
       "<!-- academic_pressure&#45;&gt;academic_stress -->\n",
       "<g id=\"edge1\" class=\"edge\">\n",
       "<title>academic_pressure&#45;&gt;academic_stress</title>\n",
       "<path fill=\"none\" stroke=\"black\" d=\"M221.1,-311.94C214.04,-291.94 206.42,-270.35 199.34,-250.29\"/>\n",
       "<polygon fill=\"black\" stroke=\"black\" points=\"202.71,-249.33 196.09,-241.06 196.11,-251.66 202.71,-249.33\"/>\n",
       "<text text-anchor=\"middle\" x=\"225.78\" y=\"-271.1\" font-family=\"Times New Roman,serif\" font-size=\"12.00\">1.000</text>\n",
       "</g>\n",
       "<!-- exam_anxiety -->\n",
       "<g id=\"node3\" class=\"node\">\n",
       "<title>exam_anxiety</title>\n",
       "<ellipse fill=\"#cae6df\" stroke=\"black\" cx=\"324\" cy=\"-171.81\" rx=\"63.12\" ry=\"63.12\"/>\n",
       "<text text-anchor=\"middle\" x=\"324\" y=\"-166.76\" font-family=\"Times New Roman,serif\" font-size=\"14.00\">exam_anxiety</text>\n",
       "</g>\n",
       "<!-- academic_pressure&#45;&gt;exam_anxiety -->\n",
       "<g id=\"edge2\" class=\"edge\">\n",
       "<title>academic_pressure&#45;&gt;exam_anxiety</title>\n",
       "<path fill=\"none\" stroke=\"black\" d=\"M274.9,-311.94C282.9,-289.27 291.62,-264.57 299.46,-242.35\"/>\n",
       "<polygon fill=\"black\" stroke=\"black\" points=\"302.7,-243.68 302.73,-233.09 296.1,-241.35 302.7,-243.68\"/>\n",
       "<text text-anchor=\"middle\" x=\"318.31\" y=\"-278.22\" font-family=\"Times New Roman,serif\" font-size=\"12.00\">0.969</text>\n",
       "<text text-anchor=\"middle\" x=\"318.31\" y=\"-263.97\" font-family=\"Times New Roman,serif\" font-size=\"12.00\">p&#45;val: 0.00</text>\n",
       "</g>\n",
       "<!-- q072 -->\n",
       "<g id=\"node4\" class=\"node\">\n",
       "<title>q072</title>\n",
       "<polygon fill=\"none\" stroke=\"black\" points=\"350,-36 296,-36 296,0 350,0 350,-36\"/>\n",
       "<text text-anchor=\"middle\" x=\"323\" y=\"-12.95\" font-family=\"Times New Roman,serif\" font-size=\"14.00\">q072</text>\n",
       "</g>\n",
       "<!-- exam_anxiety&#45;&gt;q072 -->\n",
       "<g id=\"edge3\" class=\"edge\">\n",
       "<title>exam_anxiety&#45;&gt;q072</title>\n",
       "<path fill=\"none\" stroke=\"black\" d=\"M323.59,-108.63C323.45,-87.54 323.3,-64.99 323.19,-47.79\"/>\n",
       "<polygon fill=\"black\" stroke=\"black\" points=\"326.69,-47.79 323.12,-37.82 319.69,-47.84 326.69,-47.79\"/>\n",
       "<text text-anchor=\"middle\" x=\"336.91\" y=\"-63.98\" font-family=\"Times New Roman,serif\" font-size=\"12.00\">1.000</text>\n",
       "</g>\n",
       "<!-- q073 -->\n",
       "<g id=\"node5\" class=\"node\">\n",
       "<title>q073</title>\n",
       "<polygon fill=\"none\" stroke=\"black\" points=\"422,-36 368,-36 368,0 422,0 422,-36\"/>\n",
       "<text text-anchor=\"middle\" x=\"395\" y=\"-12.95\" font-family=\"Times New Roman,serif\" font-size=\"14.00\">q073</text>\n",
       "</g>\n",
       "<!-- exam_anxiety&#45;&gt;q073 -->\n",
       "<g id=\"edge4\" class=\"edge\">\n",
       "<title>exam_anxiety&#45;&gt;q073</title>\n",
       "<path fill=\"none\" stroke=\"black\" d=\"M350.44,-114.28C361.25,-91.17 373.26,-65.48 382.09,-46.61\"/>\n",
       "<polygon fill=\"black\" stroke=\"black\" points=\"385.17,-48.27 386.24,-37.73 378.83,-45.31 385.17,-48.27\"/>\n",
       "<text text-anchor=\"middle\" x=\"403.34\" y=\"-71.1\" font-family=\"Times New Roman,serif\" font-size=\"12.00\">0.834</text>\n",
       "<text text-anchor=\"middle\" x=\"403.34\" y=\"-56.85\" font-family=\"Times New Roman,serif\" font-size=\"12.00\">p&#45;val: 0.00</text>\n",
       "</g>\n",
       "</g>\n",
       "</svg>\n"
      ],
      "text/plain": [
       "<graphviz.graphs.Digraph at 0x1fe3a4c0b90>"
      ]
     },
     "execution_count": 20,
     "metadata": {},
     "output_type": "execute_result"
    }
   ],
   "source": [
    "model = Model(model_desc)\n",
    "model = fit_sem_model(model, df_edu, w_cov_df)\n",
    "stats = calc_stats(model)\n",
    "estimates = model.inspect()\n",
    "print(\"적합도 지표:\\n\", stats.T, \"\\n\\n\")\n",
    "print(\"모수 추정치:\\n\", estimates)\n",
    "\n",
    "\n",
    "semplot(model, 'C:\\\\git_files\\\\education_analysis\\\\happy\\\\academic_pressure.png')"
   ]
  },
  {
   "cell_type": "code",
   "execution_count": 21,
   "metadata": {},
   "outputs": [
    {
     "name": "stdout",
     "output_type": "stream",
     "text": [
      "        id sex  birthy birthm             area         size school grade  \\\n",
      "0  20001.0  여성  2003.0     4월  충청권(대전, 충남, 충북)  도서벽지 및 읍면지역   고등학생   3학년   \n",
      "1  20002.0  여성  2003.0     8월  충청권(대전, 충남, 충북)  도서벽지 및 읍면지역   고등학생   3학년   \n",
      "2  20003.0  여성  2003.0     9월  충청권(대전, 충남, 충북)  도서벽지 및 읍면지역   고등학생   3학년   \n",
      "3  20004.0  남성  2003.0     8월  충청권(대전, 충남, 충북)  도서벽지 및 읍면지역   고등학생   3학년   \n",
      "4  20005.0  남성  2003.0     2월  충청권(대전, 충남, 충북)  도서벽지 및 읍면지역   고등학생   3학년   \n",
      "\n",
      "  home1 home2  ...   q52   q53 q5411 q5412 q5421 q5422        wt  \\\n",
      "0   아니오   아니오  ...  28.0  그대로다   NaN   NaN   NaN   NaN  0.250048   \n",
      "1     예     예  ...  20.0  그대로다   NaN   NaN   NaN   NaN  0.250048   \n",
      "2     예     예  ...  30.0  그대로다   NaN   NaN   NaN   NaN  0.250048   \n",
      "3     예     예  ...  30.0  그대로다   NaN   NaN   NaN   NaN  0.244036   \n",
      "4   아니오     예  ...  30.0  그대로다   NaN   NaN   NaN   NaN  0.244036   \n",
      "\n",
      "  academic_pressure academic_stress exam_anxiety  \n",
      "0         -0.151269        0.002721    -0.473646  \n",
      "1         -0.148003       -0.143278    -0.232102  \n",
      "2         -0.190091       -0.065955    -0.485246  \n",
      "3          0.052016        0.058772     0.068234  \n",
      "4          0.099197        0.294010    -0.158236  \n",
      "\n",
      "[5 rows x 280 columns]\n"
     ]
    }
   ],
   "source": [
    "factor_scores = model.predict_factors(df_edu)\n",
    "\n",
    "df[\"academic_pressure\"] = factor_scores[\"academic_pressure\"]\n",
    "df['academic_stress'] = factor_scores[\"academic_stress\"]\n",
    "df['exam_anxiety'] = factor_scores[\"exam_anxiety\"]\n",
    "\n",
    "print(df.head())"
   ]
  },
  {
   "cell_type": "code",
   "execution_count": 22,
   "metadata": {},
   "outputs": [
    {
     "data": {
      "image/png": "[encoded data removed]",
      "text/plain": [
       "<Figure size 640x480 with 1 Axes>"
      ]
     },
     "metadata": {},
     "output_type": "display_data"
    }
   ],
   "source": [
    "plt.hist(df[\"academic_pressure\"], bins=20, color='blue')\n",
    "plt.title(\"Distribution of academic pressure Factor\")\n",
    "plt.xlabel(\"academic presure Factor\")\n",
    "plt.ylabel(\"Frequency\")\n",
    "plt.show()"
   ]
  },
  {
   "cell_type": "markdown",
   "metadata": {},
   "source": [
    "# 인간 관계"
   ]
  },
  {
   "cell_type": "code",
   "execution_count": 23,
   "metadata": {},
   "outputs": [
    {
     "data": {
      "text/plain": [
       "Index(['q05', 'q134', 'q136', 'q489', 'q061', 'q062', 'q161', 'q162', 'q163',\n",
       "       'q164', 'q171', 'q172', 'q173', 'q174', 'q224', 'q225', 'q132'],\n",
       "      dtype='object')"
      ]
     },
     "execution_count": 23,
     "metadata": {},
     "output_type": "execute_result"
    }
   ],
   "source": [
    "df_rel = df[['q05','q134', 'q136', 'q489','q061','q062','q161','q162','q163','q164','q171','q172','q173','q174','q224','q225', 'q132']]\n",
    "df_rel.columns"
   ]
  },
  {
   "cell_type": "code",
   "execution_count": 24,
   "metadata": {},
   "outputs": [
    {
     "data": {
      "text/plain": [
       "q172\n",
       "매우 그렇다       2975\n",
       "조금 그렇다       1241\n",
       "보통이다          783\n",
       "별로 그렇지 않다     164\n",
       "해당사항 없음       146\n",
       "전혀 그렇지 않다      67\n",
       "Name: count, dtype: int64"
      ]
     },
     "execution_count": 24,
     "metadata": {},
     "output_type": "execute_result"
    }
   ],
   "source": [
    "df_rel['q172'].value_counts()"
   ]
  },
  {
   "cell_type": "code",
   "execution_count": 25,
   "metadata": {},
   "outputs": [
    {
     "data": {
      "text/plain": [
       "q05\n",
       "매우 그렇다       2052\n",
       "조금 그렇다       1530\n",
       "보통이다         1361\n",
       "별로 그렇지 않다     297\n",
       "전혀 그렇지 않다     136\n",
       "Name: count, dtype: int64"
      ]
     },
     "execution_count": 25,
     "metadata": {},
     "output_type": "execute_result"
    }
   ],
   "source": [
    "df_rel['q05'].value_counts()"
   ]
  },
  {
   "cell_type": "code",
   "execution_count": 26,
   "metadata": {},
   "outputs": [
    {
     "data": {
      "text/html": [
       "<div>\n",
       "<style scoped>\n",
       "    .dataframe tbody tr th:only-of-type {\n",
       "        vertical-align: middle;\n",
       "    }\n",
       "\n",
       "    .dataframe tbody tr th {\n",
       "        vertical-align: top;\n",
       "    }\n",
       "\n",
       "    .dataframe thead th {\n",
       "        text-align: right;\n",
       "    }\n",
       "</style>\n",
       "<table border=\"1\" class=\"dataframe\">\n",
       "  <thead>\n",
       "    <tr style=\"text-align: right;\">\n",
       "      <th></th>\n",
       "      <th>q05</th>\n",
       "      <th>q134</th>\n",
       "      <th>q136</th>\n",
       "      <th>q489</th>\n",
       "      <th>q061</th>\n",
       "      <th>q062</th>\n",
       "      <th>q161</th>\n",
       "      <th>q162</th>\n",
       "      <th>q163</th>\n",
       "      <th>q164</th>\n",
       "      <th>q171</th>\n",
       "      <th>q172</th>\n",
       "      <th>q173</th>\n",
       "      <th>q174</th>\n",
       "      <th>q224</th>\n",
       "      <th>q225</th>\n",
       "      <th>q132</th>\n",
       "    </tr>\n",
       "  </thead>\n",
       "  <tbody>\n",
       "    <tr>\n",
       "      <th>0</th>\n",
       "      <td>1.00</td>\n",
       "      <td>1.0</td>\n",
       "      <td>1.0</td>\n",
       "      <td>1.0</td>\n",
       "      <td>0.75</td>\n",
       "      <td>0.00</td>\n",
       "      <td>1.0</td>\n",
       "      <td>1.0</td>\n",
       "      <td>1.00</td>\n",
       "      <td>0.25</td>\n",
       "      <td>1.0</td>\n",
       "      <td>1.0</td>\n",
       "      <td>1.00</td>\n",
       "      <td>0.25</td>\n",
       "      <td>0.50</td>\n",
       "      <td>0.25</td>\n",
       "      <td>1.0</td>\n",
       "    </tr>\n",
       "    <tr>\n",
       "      <th>1</th>\n",
       "      <td>0.75</td>\n",
       "      <td>1.0</td>\n",
       "      <td>1.0</td>\n",
       "      <td>1.0</td>\n",
       "      <td>0.75</td>\n",
       "      <td>0.25</td>\n",
       "      <td>1.0</td>\n",
       "      <td>1.0</td>\n",
       "      <td>1.00</td>\n",
       "      <td>0.75</td>\n",
       "      <td>1.0</td>\n",
       "      <td>1.0</td>\n",
       "      <td>1.00</td>\n",
       "      <td>0.75</td>\n",
       "      <td>0.75</td>\n",
       "      <td>0.75</td>\n",
       "      <td>1.0</td>\n",
       "    </tr>\n",
       "    <tr>\n",
       "      <th>2</th>\n",
       "      <td>1.00</td>\n",
       "      <td>1.0</td>\n",
       "      <td>0.0</td>\n",
       "      <td>0.5</td>\n",
       "      <td>1.00</td>\n",
       "      <td>1.00</td>\n",
       "      <td>1.0</td>\n",
       "      <td>1.0</td>\n",
       "      <td>0.75</td>\n",
       "      <td>0.75</td>\n",
       "      <td>0.5</td>\n",
       "      <td>0.5</td>\n",
       "      <td>0.75</td>\n",
       "      <td>0.50</td>\n",
       "      <td>0.50</td>\n",
       "      <td>1.00</td>\n",
       "      <td>1.0</td>\n",
       "    </tr>\n",
       "  </tbody>\n",
       "</table>\n",
       "</div>"
      ],
      "text/plain": [
       "    q05  q134  q136  q489  q061  q062  q161  q162  q163  q164  q171  q172  \\\n",
       "0  1.00   1.0   1.0   1.0  0.75  0.00   1.0   1.0  1.00  0.25   1.0   1.0   \n",
       "1  0.75   1.0   1.0   1.0  0.75  0.25   1.0   1.0  1.00  0.75   1.0   1.0   \n",
       "2  1.00   1.0   0.0   0.5  1.00  1.00   1.0   1.0  0.75  0.75   0.5   0.5   \n",
       "\n",
       "   q173  q174  q224  q225  q132  \n",
       "0  1.00  0.25  0.50  0.25   1.0  \n",
       "1  1.00  0.75  0.75  0.75   1.0  \n",
       "2  0.75  0.50  0.50  1.00   1.0  "
      ]
     },
     "execution_count": 26,
     "metadata": {},
     "output_type": "execute_result"
    }
   ],
   "source": [
    "df_rel = not_applicable(df_rel, ['q171','q172','q162', 'q161', 'q163', 'q164', 'q173', 'q174', 'q224'])\n",
    "df_rel = applicable_is_the_best(df_rel, ['q132', 'q134'])\n",
    "df_rel = applicable_is_the_worst(df_rel, ['q136'])\n",
    "df_rel = encoding(df_rel, ['q05', 'q136','q061','q062','q161','q162','q163','q164','q171','q172','q173','q174','q224','q225'], category5_map)\n",
    "df_rel = encoding(df_rel, ['q132', 'q134', 'q489'], reverse_category5_map)\n",
    "df_rel = pd.DataFrame(scaler.fit_transform(df_rel), columns=df_rel.columns)\n",
    "df_rel.head(3)"
   ]
  },
  {
   "cell_type": "code",
   "execution_count": 27,
   "metadata": {},
   "outputs": [],
   "source": [
    "model_desc = \"\"\"\n",
    "friend_rel =~ q132 + q134 + q136 + q489 + q05\n",
    "teacher_rel =~ q061 + q062\n",
    "father_rel =~ q161 + q163\n",
    "mother_rel =~ q171 + q173\n",
    "parent_rel =~ father_rel + mother_rel\n",
    "group_rel =~ q224 + q225\n",
    "\n",
    "human_rel =~ friend_rel + teacher_rel + parent_rel + group_rel\n",
    "\n",
    "father_rel ~~ mother_rel\n",
    "\"\"\""
   ]
  },
  {
   "cell_type": "code",
   "execution_count": 28,
   "metadata": {},
   "outputs": [],
   "source": [
    "df_rel['wt'] = df['wt']\n",
    "observed_vars = ['q05','q132','q134', 'q136','q489', 'q061', 'q062','q161','q163','q171','q173','q224', 'q225']\n",
    "w_cov_df = calculate_covariance(df_rel, observed_vars)"
   ]
  },
  {
   "cell_type": "code",
   "execution_count": 29,
   "metadata": {},
   "outputs": [
    {
     "name": "stdout",
     "output_type": "stream",
     "text": [
      "적합도 지표:\n",
      "                       Value\n",
      "DoF               58.000000\n",
      "DoF Baseline      78.000000\n",
      "chi2            1694.312874\n",
      "chi2 p-value       0.000000\n",
      "chi2 Baseline  19715.332020\n",
      "CFI                0.916673\n",
      "GFI                0.914061\n",
      "AGFI               0.884427\n",
      "NFI                0.914061\n",
      "TLI                0.887940\n",
      "RMSEA              0.072449\n",
      "AIC               65.369675\n",
      "BIC              282.829771\n",
      "LogLik             0.315162 \n",
      "\n",
      "\n",
      "모수 추정치:\n",
      "            lval  op         rval      Estimate      Std. Err    z-value  \\\n",
      "0    father_rel   ~   parent_rel  1.000000e+00             -          -   \n",
      "1    mother_rel   ~   parent_rel  8.175802e-01      0.036571  22.355943   \n",
      "2    friend_rel   ~    human_rel  1.000000e+00             -          -   \n",
      "3   teacher_rel   ~    human_rel  1.286158e+00      0.058059  22.152465   \n",
      "4    parent_rel   ~    human_rel  9.256772e-01      0.048958  18.907682   \n",
      "5     group_rel   ~    human_rel  1.630967e+00      0.078284  20.833919   \n",
      "6          q132   ~   friend_rel  1.000000e+00             -          -   \n",
      "7          q134   ~   friend_rel  1.101679e+00      0.048794   22.57793   \n",
      "8          q136   ~   friend_rel  1.007847e+00      0.045329  22.233811   \n",
      "9          q489   ~   friend_rel  9.733900e-01      0.040304  24.151317   \n",
      "10          q05   ~   friend_rel  1.050703e+00      0.043782  23.998709   \n",
      "11         q061   ~  teacher_rel  1.000000e+00             -          -   \n",
      "12         q062   ~  teacher_rel  1.024829e+00      0.034902  29.362714   \n",
      "13         q161   ~   father_rel  1.000000e+00             -          -   \n",
      "14         q163   ~   father_rel  1.351613e+00      0.029988  45.071316   \n",
      "15         q171   ~   mother_rel  1.000000e+00             -          -   \n",
      "16         q173   ~   mother_rel  1.446527e+00      0.033255  43.498677   \n",
      "17         q224   ~    group_rel  1.000000e+00             -          -   \n",
      "18         q225   ~    group_rel  1.183155e+00      0.036896  32.067603   \n",
      "19   father_rel  ~~   mother_rel -9.699497e-03   16943.77908  -0.000001   \n",
      "20   father_rel  ~~   father_rel  5.177581e-03  20724.302874        0.0   \n",
      "21   friend_rel  ~~   friend_rel  6.363975e-03      0.000538  11.827164   \n",
      "22    group_rel  ~~    group_rel  5.677718e-03      0.000879   6.459267   \n",
      "23    human_rel  ~~    human_rel  9.131744e-03      0.000659  13.864322   \n",
      "24   mother_rel  ~~   mother_rel  3.079330e-21  13852.897792        0.0   \n",
      "25   parent_rel  ~~   parent_rel  2.524060e-02  20724.302874   0.000001   \n",
      "26  teacher_rel  ~~  teacher_rel  2.540602e-02      0.001353  18.775872   \n",
      "27          q05  ~~          q05  4.939138e-02      0.001132  43.622984   \n",
      "28         q061  ~~         q061  1.809978e-02      0.001302  13.900724   \n",
      "29         q062  ~~         q062  4.878904e-02      0.001619  30.134654   \n",
      "30         q132  ~~         q132  4.253537e-02      0.000985  43.187553   \n",
      "31         q134  ~~         q134  7.078273e-02      0.001553  45.569786   \n",
      "32         q136  ~~         q136  6.292465e-02       0.00137   45.94335   \n",
      "33         q161  ~~         q161  2.696588e-02      0.000886  30.431117   \n",
      "34         q163  ~~         q163  1.168908e-02       0.00133   8.789508   \n",
      "35         q171  ~~         q171  1.616078e-02      0.000531   30.45249   \n",
      "36         q173  ~~         q173  1.375875e-02      0.000937  14.682869   \n",
      "37         q224  ~~         q224  5.391009e-02      0.001316  40.956239   \n",
      "38         q225  ~~         q225  2.468839e-02      0.001226  20.136356   \n",
      "39         q489  ~~         q489  4.111349e-02      0.000948  43.362134   \n",
      "\n",
      "     p-value  \n",
      "0          -  \n",
      "1        0.0  \n",
      "2          -  \n",
      "3        0.0  \n",
      "4        0.0  \n",
      "5        0.0  \n",
      "6          -  \n",
      "7        0.0  \n",
      "8        0.0  \n",
      "9        0.0  \n",
      "10       0.0  \n",
      "11         -  \n",
      "12       0.0  \n",
      "13         -  \n",
      "14       0.0  \n",
      "15         -  \n",
      "16       0.0  \n",
      "17         -  \n",
      "18       0.0  \n",
      "19       1.0  \n",
      "20       1.0  \n",
      "21       0.0  \n",
      "22       0.0  \n",
      "23       0.0  \n",
      "24       1.0  \n",
      "25  0.999999  \n",
      "26       0.0  \n",
      "27       0.0  \n",
      "28       0.0  \n",
      "29       0.0  \n",
      "30       0.0  \n",
      "31       0.0  \n",
      "32       0.0  \n",
      "33       0.0  \n",
      "34       0.0  \n",
      "35       0.0  \n",
      "36       0.0  \n",
      "37       0.0  \n",
      "38       0.0  \n",
      "39       0.0  \n"
     ]
    },
    {
     "data": {
      "image/svg+xml": [
       "<?xml version=\"1.0\" encoding=\"UTF-8\" standalone=\"no\"?>\n",
       "<!DOCTYPE svg PUBLIC \"-//W3C//DTD SVG 1.1//EN\"\n",
       " \"http://www.w3.org/Graphics/SVG/1.1/DTD/svg11.dtd\">\n",
       "<!-- Generated by graphviz version 12.2.1 (20241206.2353)\n",
       " -->\n",
       "<!-- Title: G Pages: 1 -->\n",
       "<svg width=\"924pt\" height=\"547pt\"\n",
       " viewBox=\"0.00 0.00 923.64 546.63\" xmlns=\"http://www.w3.org/2000/svg\" xmlns:xlink=\"http://www.w3.org/1999/xlink\">\n",
       "<g id=\"graph0\" class=\"graph\" transform=\"scale(1 1) rotate(0) translate(4 542.63)\">\n",
       "<title>G</title>\n",
       "<polygon fill=\"white\" stroke=\"none\" points=\"-4,4 -4,-542.63 919.64,-542.63 919.64,4 -4,4\"/>\n",
       "<!-- group_rel -->\n",
       "<g id=\"node1\" class=\"node\">\n",
       "<title>group_rel</title>\n",
       "<ellipse fill=\"#cae6df\" stroke=\"black\" cx=\"99\" cy=\"-320.59\" rx=\"46.75\" ry=\"46.75\"/>\n",
       "<text text-anchor=\"middle\" x=\"99\" y=\"-315.54\" font-family=\"Times New Roman,serif\" font-size=\"14.00\">group_rel</text>\n",
       "</g>\n",
       "<!-- q224 -->\n",
       "<g id=\"node18\" class=\"node\">\n",
       "<title>q224</title>\n",
       "<polygon fill=\"none\" stroke=\"black\" points=\"54,-170.36 0,-170.36 0,-134.36 54,-134.36 54,-170.36\"/>\n",
       "<text text-anchor=\"middle\" x=\"27\" y=\"-147.31\" font-family=\"Times New Roman,serif\" font-size=\"14.00\">q224</text>\n",
       "</g>\n",
       "<!-- group_rel&#45;&gt;q224 -->\n",
       "<g id=\"edge18\" class=\"edge\">\n",
       "<title>group_rel&#45;&gt;q224</title>\n",
       "<path fill=\"none\" stroke=\"black\" d=\"M79.82,-277.42C75.87,-268.61 71.77,-259.38 68,-250.73 57.84,-227.39 46.64,-200.75 38.53,-181.24\"/>\n",
       "<polygon fill=\"black\" stroke=\"black\" points=\"41.78,-179.94 34.71,-172.05 35.31,-182.63 41.78,-179.94\"/>\n",
       "<text text-anchor=\"middle\" x=\"81.5\" y=\"-232.2\" font-family=\"Times New Roman,serif\" font-size=\"12.00\">1.000</text>\n",
       "</g>\n",
       "<!-- q225 -->\n",
       "<g id=\"node19\" class=\"node\">\n",
       "<title>q225</title>\n",
       "<polygon fill=\"none\" stroke=\"black\" points=\"126,-170.36 72,-170.36 72,-134.36 126,-134.36 126,-170.36\"/>\n",
       "<text text-anchor=\"middle\" x=\"99\" y=\"-147.31\" font-family=\"Times New Roman,serif\" font-size=\"14.00\">q225</text>\n",
       "</g>\n",
       "<!-- group_rel&#45;&gt;q225 -->\n",
       "<g id=\"edge19\" class=\"edge\">\n",
       "<title>group_rel&#45;&gt;q225</title>\n",
       "<path fill=\"none\" stroke=\"black\" d=\"M99,-273.73C99,-244.33 99,-207.09 99,-181.87\"/>\n",
       "<polygon fill=\"black\" stroke=\"black\" points=\"102.5,-182.06 99,-172.06 95.5,-182.06 102.5,-182.06\"/>\n",
       "<text text-anchor=\"middle\" x=\"124.5\" y=\"-239.33\" font-family=\"Times New Roman,serif\" font-size=\"12.00\">1.183</text>\n",
       "<text text-anchor=\"middle\" x=\"124.5\" y=\"-225.08\" font-family=\"Times New Roman,serif\" font-size=\"12.00\">p&#45;val: 0.00</text>\n",
       "</g>\n",
       "<!-- human_rel -->\n",
       "<g id=\"node2\" class=\"node\">\n",
       "<title>human_rel</title>\n",
       "<ellipse fill=\"#cae6df\" stroke=\"black\" cx=\"333\" cy=\"-487.79\" rx=\"50.84\" ry=\"50.84\"/>\n",
       "<text text-anchor=\"middle\" x=\"333\" y=\"-482.74\" font-family=\"Times New Roman,serif\" font-size=\"14.00\">human_rel</text>\n",
       "</g>\n",
       "<!-- human_rel&#45;&gt;group_rel -->\n",
       "<g id=\"edge6\" class=\"edge\">\n",
       "<title>human_rel&#45;&gt;group_rel</title>\n",
       "<path fill=\"none\" stroke=\"black\" d=\"M290.13,-460.09C270.91,-447.87 248.1,-433 228,-418.95 199.76,-399.21 168.92,-376 144.49,-357.2\"/>\n",
       "<polygon fill=\"black\" stroke=\"black\" points=\"146.7,-354.49 136.65,-351.15 142.43,-360.03 146.7,-354.49\"/>\n",
       "<text text-anchor=\"middle\" x=\"253.5\" y=\"-407.55\" font-family=\"Times New Roman,serif\" font-size=\"12.00\">1.631</text>\n",
       "<text text-anchor=\"middle\" x=\"253.5\" y=\"-393.3\" font-family=\"Times New Roman,serif\" font-size=\"12.00\">p&#45;val: 0.00</text>\n",
       "</g>\n",
       "<!-- teacher_rel -->\n",
       "<g id=\"node3\" class=\"node\">\n",
       "<title>teacher_rel</title>\n",
       "<ellipse fill=\"#cae6df\" stroke=\"black\" cx=\"243\" cy=\"-320.59\" rx=\"51.86\" ry=\"51.86\"/>\n",
       "<text text-anchor=\"middle\" x=\"243\" y=\"-315.54\" font-family=\"Times New Roman,serif\" font-size=\"14.00\">teacher_rel</text>\n",
       "</g>\n",
       "<!-- human_rel&#45;&gt;teacher_rel -->\n",
       "<g id=\"edge4\" class=\"edge\">\n",
       "<title>human_rel&#45;&gt;teacher_rel</title>\n",
       "<path fill=\"none\" stroke=\"black\" d=\"M308.88,-442.52C297.82,-422.22 284.6,-397.96 272.92,-376.51\"/>\n",
       "<polygon fill=\"black\" stroke=\"black\" points=\"276.08,-374.99 268.22,-367.89 269.93,-378.34 276.08,-374.99\"/>\n",
       "<text text-anchor=\"middle\" x=\"318.89\" y=\"-407.55\" font-family=\"Times New Roman,serif\" font-size=\"12.00\">1.286</text>\n",
       "<text text-anchor=\"middle\" x=\"318.89\" y=\"-393.3\" font-family=\"Times New Roman,serif\" font-size=\"12.00\">p&#45;val: 0.00</text>\n",
       "</g>\n",
       "<!-- friend_rel -->\n",
       "<g id=\"node4\" class=\"node\">\n",
       "<title>friend_rel</title>\n",
       "<ellipse fill=\"#cae6df\" stroke=\"black\" cx=\"424\" cy=\"-320.59\" rx=\"47.26\" ry=\"47.26\"/>\n",
       "<text text-anchor=\"middle\" x=\"424\" y=\"-315.54\" font-family=\"Times New Roman,serif\" font-size=\"14.00\">friend_rel</text>\n",
       "</g>\n",
       "<!-- human_rel&#45;&gt;friend_rel -->\n",
       "<g id=\"edge3\" class=\"edge\">\n",
       "<title>human_rel&#45;&gt;friend_rel</title>\n",
       "<path fill=\"none\" stroke=\"black\" d=\"M357.15,-442.95C369.07,-421.32 383.51,-395.1 395.92,-372.57\"/>\n",
       "<polygon fill=\"black\" stroke=\"black\" points=\"398.97,-374.28 400.73,-363.83 392.84,-370.9 398.97,-374.28\"/>\n",
       "<text text-anchor=\"middle\" x=\"397.45\" y=\"-400.43\" font-family=\"Times New Roman,serif\" font-size=\"12.00\">1.000</text>\n",
       "</g>\n",
       "<!-- parent_rel -->\n",
       "<g id=\"node7\" class=\"node\">\n",
       "<title>parent_rel</title>\n",
       "<ellipse fill=\"#cae6df\" stroke=\"black\" cx=\"703\" cy=\"-320.59\" rx=\"48.28\" ry=\"48.28\"/>\n",
       "<text text-anchor=\"middle\" x=\"703\" y=\"-315.54\" font-family=\"Times New Roman,serif\" font-size=\"14.00\">parent_rel</text>\n",
       "</g>\n",
       "<!-- human_rel&#45;&gt;parent_rel -->\n",
       "<g id=\"edge5\" class=\"edge\">\n",
       "<title>human_rel&#45;&gt;parent_rel</title>\n",
       "<path fill=\"none\" stroke=\"black\" d=\"M379.49,-466.04C448.03,-435.43 575.92,-378.33 648.68,-345.84\"/>\n",
       "<polygon fill=\"black\" stroke=\"black\" points=\"649.92,-349.12 657.62,-341.85 647.07,-342.73 649.92,-349.12\"/>\n",
       "<text text-anchor=\"middle\" x=\"565.65\" y=\"-407.55\" font-family=\"Times New Roman,serif\" font-size=\"12.00\">0.926</text>\n",
       "<text text-anchor=\"middle\" x=\"565.65\" y=\"-393.3\" font-family=\"Times New Roman,serif\" font-size=\"12.00\">p&#45;val: 0.00</text>\n",
       "</g>\n",
       "<!-- q061 -->\n",
       "<g id=\"node9\" class=\"node\">\n",
       "<title>q061</title>\n",
       "<polygon fill=\"none\" stroke=\"black\" points=\"199,-170.36 145,-170.36 145,-134.36 199,-134.36 199,-170.36\"/>\n",
       "<text text-anchor=\"middle\" x=\"172\" y=\"-147.31\" font-family=\"Times New Roman,serif\" font-size=\"14.00\">q061</text>\n",
       "</g>\n",
       "<!-- teacher_rel&#45;&gt;q061 -->\n",
       "<g id=\"edge12\" class=\"edge\">\n",
       "<title>teacher_rel&#45;&gt;q061</title>\n",
       "<path fill=\"none\" stroke=\"black\" d=\"M221.78,-273.01C218.46,-265.57 215.11,-257.95 212,-250.73 201.98,-227.43 191.07,-200.79 183.18,-181.26\"/>\n",
       "<polygon fill=\"black\" stroke=\"black\" points=\"186.46,-180.04 179.47,-172.08 179.96,-182.66 186.46,-180.04\"/>\n",
       "<text text-anchor=\"middle\" x=\"225.5\" y=\"-232.2\" font-family=\"Times New Roman,serif\" font-size=\"12.00\">1.000</text>\n",
       "</g>\n",
       "<!-- q062 -->\n",
       "<g id=\"node10\" class=\"node\">\n",
       "<title>q062</title>\n",
       "<polygon fill=\"none\" stroke=\"black\" points=\"271,-170.36 217,-170.36 217,-134.36 271,-134.36 271,-170.36\"/>\n",
       "<text text-anchor=\"middle\" x=\"244\" y=\"-147.31\" font-family=\"Times New Roman,serif\" font-size=\"14.00\">q062</text>\n",
       "</g>\n",
       "<!-- teacher_rel&#45;&gt;q062 -->\n",
       "<g id=\"edge13\" class=\"edge\">\n",
       "<title>teacher_rel&#45;&gt;q062</title>\n",
       "<path fill=\"none\" stroke=\"black\" d=\"M243.31,-268.36C243.48,-239.93 243.69,-205.63 243.83,-181.93\"/>\n",
       "<polygon fill=\"black\" stroke=\"black\" points=\"247.33,-182.12 243.89,-172.1 240.33,-182.08 247.33,-182.12\"/>\n",
       "<text text-anchor=\"middle\" x=\"269.06\" y=\"-239.33\" font-family=\"Times New Roman,serif\" font-size=\"12.00\">1.025</text>\n",
       "<text text-anchor=\"middle\" x=\"269.06\" y=\"-225.08\" font-family=\"Times New Roman,serif\" font-size=\"12.00\">p&#45;val: 0.00</text>\n",
       "</g>\n",
       "<!-- q05 -->\n",
       "<g id=\"node8\" class=\"node\">\n",
       "<title>q05</title>\n",
       "<polygon fill=\"none\" stroke=\"black\" points=\"344,-170.36 290,-170.36 290,-134.36 344,-134.36 344,-170.36\"/>\n",
       "<text text-anchor=\"middle\" x=\"317\" y=\"-147.31\" font-family=\"Times New Roman,serif\" font-size=\"14.00\">q05</text>\n",
       "</g>\n",
       "<!-- friend_rel&#45;&gt;q05 -->\n",
       "<g id=\"edge11\" class=\"edge\">\n",
       "<title>friend_rel&#45;&gt;q05</title>\n",
       "<path fill=\"none\" stroke=\"black\" d=\"M386.03,-292.06C372.44,-280.59 358.01,-266.3 348,-250.73 334.45,-229.65 326.41,-202.18 321.93,-181.8\"/>\n",
       "<polygon fill=\"black\" stroke=\"black\" points=\"325.4,-181.31 319.99,-172.2 318.54,-182.7 325.4,-181.31\"/>\n",
       "<text text-anchor=\"middle\" x=\"373.5\" y=\"-239.33\" font-family=\"Times New Roman,serif\" font-size=\"12.00\">1.051</text>\n",
       "<text text-anchor=\"middle\" x=\"373.5\" y=\"-225.08\" font-family=\"Times New Roman,serif\" font-size=\"12.00\">p&#45;val: 0.00</text>\n",
       "</g>\n",
       "<!-- q132 -->\n",
       "<g id=\"node11\" class=\"node\">\n",
       "<title>q132</title>\n",
       "<polygon fill=\"none\" stroke=\"black\" points=\"416,-170.36 362,-170.36 362,-134.36 416,-134.36 416,-170.36\"/>\n",
       "<text text-anchor=\"middle\" x=\"389\" y=\"-147.31\" font-family=\"Times New Roman,serif\" font-size=\"14.00\">q132</text>\n",
       "</g>\n",
       "<!-- friend_rel&#45;&gt;q132 -->\n",
       "<g id=\"edge7\" class=\"edge\">\n",
       "<title>friend_rel&#45;&gt;q132</title>\n",
       "<path fill=\"none\" stroke=\"black\" d=\"M414,-274.04C412.31,-266.27 410.6,-258.27 409,-250.73 404.09,-227.52 398.69,-201.16 394.73,-181.73\"/>\n",
       "<polygon fill=\"black\" stroke=\"black\" points=\"398.2,-181.2 392.78,-172.1 391.34,-182.59 398.2,-181.2\"/>\n",
       "<text text-anchor=\"middle\" x=\"422.5\" y=\"-232.2\" font-family=\"Times New Roman,serif\" font-size=\"12.00\">1.000</text>\n",
       "</g>\n",
       "<!-- q134 -->\n",
       "<g id=\"node12\" class=\"node\">\n",
       "<title>q134</title>\n",
       "<polygon fill=\"none\" stroke=\"black\" points=\"488,-170.36 434,-170.36 434,-134.36 488,-134.36 488,-170.36\"/>\n",
       "<text text-anchor=\"middle\" x=\"461\" y=\"-147.31\" font-family=\"Times New Roman,serif\" font-size=\"14.00\">q134</text>\n",
       "</g>\n",
       "<!-- friend_rel&#45;&gt;q134 -->\n",
       "<g id=\"edge8\" class=\"edge\">\n",
       "<title>friend_rel&#45;&gt;q134</title>\n",
       "<path fill=\"none\" stroke=\"black\" d=\"M434.11,-274.17C440.69,-244.63 449.06,-207.02 454.7,-181.68\"/>\n",
       "<polygon fill=\"black\" stroke=\"black\" points=\"458.07,-182.64 456.82,-172.12 451.24,-181.12 458.07,-182.64\"/>\n",
       "<text text-anchor=\"middle\" x=\"470.22\" y=\"-239.33\" font-family=\"Times New Roman,serif\" font-size=\"12.00\">1.102</text>\n",
       "<text text-anchor=\"middle\" x=\"470.22\" y=\"-225.08\" font-family=\"Times New Roman,serif\" font-size=\"12.00\">p&#45;val: 0.00</text>\n",
       "</g>\n",
       "<!-- q136 -->\n",
       "<g id=\"node13\" class=\"node\">\n",
       "<title>q136</title>\n",
       "<polygon fill=\"none\" stroke=\"black\" points=\"560,-170.36 506,-170.36 506,-134.36 560,-134.36 560,-170.36\"/>\n",
       "<text text-anchor=\"middle\" x=\"533\" y=\"-147.31\" font-family=\"Times New Roman,serif\" font-size=\"14.00\">q136</text>\n",
       "</g>\n",
       "<!-- friend_rel&#45;&gt;q136 -->\n",
       "<g id=\"edge9\" class=\"edge\">\n",
       "<title>friend_rel&#45;&gt;q136</title>\n",
       "<path fill=\"none\" stroke=\"black\" d=\"M461.82,-291.96C475.39,-280.48 489.84,-266.21 500,-250.73 513.83,-229.65 522.45,-202.18 527.39,-181.8\"/>\n",
       "<polygon fill=\"black\" stroke=\"black\" points=\"530.77,-182.72 529.56,-172.19 523.94,-181.18 530.77,-182.72\"/>\n",
       "<text text-anchor=\"middle\" x=\"539.65\" y=\"-239.33\" font-family=\"Times New Roman,serif\" font-size=\"12.00\">1.008</text>\n",
       "<text text-anchor=\"middle\" x=\"539.65\" y=\"-225.08\" font-family=\"Times New Roman,serif\" font-size=\"12.00\">p&#45;val: 0.00</text>\n",
       "</g>\n",
       "<!-- q489 -->\n",
       "<g id=\"node20\" class=\"node\">\n",
       "<title>q489</title>\n",
       "<polygon fill=\"none\" stroke=\"black\" points=\"633,-170.36 579,-170.36 579,-134.36 633,-134.36 633,-170.36\"/>\n",
       "<text text-anchor=\"middle\" x=\"606\" y=\"-147.31\" font-family=\"Times New Roman,serif\" font-size=\"14.00\">q489</text>\n",
       "</g>\n",
       "<!-- friend_rel&#45;&gt;q489 -->\n",
       "<g id=\"edge10\" class=\"edge\">\n",
       "<title>friend_rel&#45;&gt;q489</title>\n",
       "<path fill=\"none\" stroke=\"black\" d=\"M469.7,-307.76C501.36,-297.43 542.45,-279.5 569,-250.73 586.71,-231.53 596.22,-203 601.14,-181.78\"/>\n",
       "<polygon fill=\"black\" stroke=\"black\" points=\"604.55,-182.53 603.17,-172.03 597.7,-181.11 604.55,-182.53\"/>\n",
       "<text text-anchor=\"middle\" x=\"612.93\" y=\"-239.33\" font-family=\"Times New Roman,serif\" font-size=\"12.00\">0.973</text>\n",
       "<text text-anchor=\"middle\" x=\"612.93\" y=\"-225.08\" font-family=\"Times New Roman,serif\" font-size=\"12.00\">p&#45;val: 0.00</text>\n",
       "</g>\n",
       "<!-- mother_rel -->\n",
       "<g id=\"node5\" class=\"node\">\n",
       "<title>mother_rel</title>\n",
       "<ellipse fill=\"#cae6df\" stroke=\"black\" cx=\"703\" cy=\"-152.36\" rx=\"51.86\" ry=\"51.86\"/>\n",
       "<text text-anchor=\"middle\" x=\"703\" y=\"-147.31\" font-family=\"Times New Roman,serif\" font-size=\"14.00\">mother_rel</text>\n",
       "</g>\n",
       "<!-- q171 -->\n",
       "<g id=\"node16\" class=\"node\">\n",
       "<title>q171</title>\n",
       "<polygon fill=\"none\" stroke=\"black\" points=\"669,-36 615,-36 615,0 669,0 669,-36\"/>\n",
       "<text text-anchor=\"middle\" x=\"642\" y=\"-12.95\" font-family=\"Times New Roman,serif\" font-size=\"14.00\">q171</text>\n",
       "</g>\n",
       "<!-- mother_rel&#45;&gt;q171 -->\n",
       "<g id=\"edge16\" class=\"edge\">\n",
       "<title>mother_rel&#45;&gt;q171</title>\n",
       "<path fill=\"none\" stroke=\"black\" d=\"M681.49,-104.7C672.55,-85.28 662.46,-63.4 654.73,-46.61\"/>\n",
       "<polygon fill=\"black\" stroke=\"black\" points=\"658.01,-45.38 650.65,-37.77 651.66,-48.31 658.01,-45.38\"/>\n",
       "<text text-anchor=\"middle\" x=\"684.17\" y=\"-63.98\" font-family=\"Times New Roman,serif\" font-size=\"12.00\">1.000</text>\n",
       "</g>\n",
       "<!-- q173 -->\n",
       "<g id=\"node17\" class=\"node\">\n",
       "<title>q173</title>\n",
       "<polygon fill=\"none\" stroke=\"black\" points=\"741,-36 687,-36 687,0 741,0 741,-36\"/>\n",
       "<text text-anchor=\"middle\" x=\"714\" y=\"-12.95\" font-family=\"Times New Roman,serif\" font-size=\"14.00\">q173</text>\n",
       "</g>\n",
       "<!-- mother_rel&#45;&gt;q173 -->\n",
       "<g id=\"edge17\" class=\"edge\">\n",
       "<title>mother_rel&#45;&gt;q173</title>\n",
       "<path fill=\"none\" stroke=\"black\" d=\"M707.25,-100.19C708.73,-82.39 710.34,-63.07 711.61,-47.74\"/>\n",
       "<polygon fill=\"black\" stroke=\"black\" points=\"715.09,-48.17 712.43,-37.92 708.11,-47.59 715.09,-48.17\"/>\n",
       "<text text-anchor=\"middle\" x=\"736.55\" y=\"-71.1\" font-family=\"Times New Roman,serif\" font-size=\"12.00\">1.447</text>\n",
       "<text text-anchor=\"middle\" x=\"736.55\" y=\"-56.85\" font-family=\"Times New Roman,serif\" font-size=\"12.00\">p&#45;val: 0.00</text>\n",
       "</g>\n",
       "<!-- father_rel -->\n",
       "<g id=\"node6\" class=\"node\">\n",
       "<title>father_rel</title>\n",
       "<ellipse fill=\"#cae6df\" stroke=\"black\" cx=\"820\" cy=\"-152.36\" rx=\"46.75\" ry=\"46.75\"/>\n",
       "<text text-anchor=\"middle\" x=\"820\" y=\"-147.31\" font-family=\"Times New Roman,serif\" font-size=\"14.00\">father_rel</text>\n",
       "</g>\n",
       "<!-- q161 -->\n",
       "<g id=\"node14\" class=\"node\">\n",
       "<title>q161</title>\n",
       "<polygon fill=\"none\" stroke=\"black\" points=\"836,-36 782,-36 782,0 836,0 836,-36\"/>\n",
       "<text text-anchor=\"middle\" x=\"809\" y=\"-12.95\" font-family=\"Times New Roman,serif\" font-size=\"14.00\">q161</text>\n",
       "</g>\n",
       "<!-- father_rel&#45;&gt;q161 -->\n",
       "<g id=\"edge14\" class=\"edge\">\n",
       "<title>father_rel&#45;&gt;q161</title>\n",
       "<path fill=\"none\" stroke=\"black\" d=\"M816.18,-105.44C814.59,-86.21 812.78,-64.46 811.38,-47.59\"/>\n",
       "<polygon fill=\"black\" stroke=\"black\" points=\"814.88,-47.45 810.56,-37.78 807.9,-48.03 814.88,-47.45\"/>\n",
       "<text text-anchor=\"middle\" x=\"827.67\" y=\"-63.98\" font-family=\"Times New Roman,serif\" font-size=\"12.00\">1.000</text>\n",
       "</g>\n",
       "<!-- q163 -->\n",
       "<g id=\"node15\" class=\"node\">\n",
       "<title>q163</title>\n",
       "<polygon fill=\"none\" stroke=\"black\" points=\"908,-36 854,-36 854,0 908,0 908,-36\"/>\n",
       "<text text-anchor=\"middle\" x=\"881\" y=\"-12.95\" font-family=\"Times New Roman,serif\" font-size=\"14.00\">q163</text>\n",
       "</g>\n",
       "<!-- father_rel&#45;&gt;q163 -->\n",
       "<g id=\"edge15\" class=\"edge\">\n",
       "<title>father_rel&#45;&gt;q163</title>\n",
       "<path fill=\"none\" stroke=\"black\" d=\"M839.3,-109.48C848.77,-88.94 859.91,-64.77 868.29,-46.58\"/>\n",
       "<polygon fill=\"black\" stroke=\"black\" points=\"871.35,-48.29 872.36,-37.75 865,-45.36 871.35,-48.29\"/>\n",
       "<text text-anchor=\"middle\" x=\"890.14\" y=\"-71.1\" font-family=\"Times New Roman,serif\" font-size=\"12.00\">1.352</text>\n",
       "<text text-anchor=\"middle\" x=\"890.14\" y=\"-56.85\" font-family=\"Times New Roman,serif\" font-size=\"12.00\">p&#45;val: 0.00</text>\n",
       "</g>\n",
       "<!-- parent_rel&#45;&gt;mother_rel -->\n",
       "<g id=\"edge2\" class=\"edge\">\n",
       "<title>parent_rel&#45;&gt;mother_rel</title>\n",
       "<path fill=\"none\" stroke=\"black\" d=\"M703,-271.96C703,-254.48 703,-234.42 703,-215.84\"/>\n",
       "<polygon fill=\"black\" stroke=\"black\" points=\"706.5,-216 703,-206 699.5,-216 706.5,-216\"/>\n",
       "<text text-anchor=\"middle\" x=\"728.5\" y=\"-239.33\" font-family=\"Times New Roman,serif\" font-size=\"12.00\">0.818</text>\n",
       "<text text-anchor=\"middle\" x=\"728.5\" y=\"-225.08\" font-family=\"Times New Roman,serif\" font-size=\"12.00\">p&#45;val: 0.00</text>\n",
       "</g>\n",
       "<!-- parent_rel&#45;&gt;father_rel -->\n",
       "<g id=\"edge1\" class=\"edge\">\n",
       "<title>parent_rel&#45;&gt;father_rel</title>\n",
       "<path fill=\"none\" stroke=\"black\" d=\"M733.43,-282.98C741.63,-272.72 750.35,-261.43 758,-250.73 769,-235.33 780.32,-218.05 790.22,-202.37\"/>\n",
       "<polygon fill=\"black\" stroke=\"black\" points=\"793.05,-204.46 795.39,-194.13 787.12,-200.74 793.05,-204.46\"/>\n",
       "<text text-anchor=\"middle\" x=\"789.4\" y=\"-232.2\" font-family=\"Times New Roman,serif\" font-size=\"12.00\">1.000</text>\n",
       "</g>\n",
       "</g>\n",
       "</svg>\n"
      ],
      "text/plain": [
       "<graphviz.graphs.Digraph at 0x1fe3e964050>"
      ]
     },
     "execution_count": 29,
     "metadata": {},
     "output_type": "execute_result"
    }
   ],
   "source": [
    "vif_df = compute_vif(df_rel, observed_vars)\n",
    "model = Model(model_desc)\n",
    "model = fit_sem_model(model, df_rel, w_cov_df)\n",
    "stats = calc_stats(model)\n",
    "estimates = model.inspect()\n",
    "print(\"적합도 지표:\\n\", stats.T, \"\\n\\n\")\n",
    "print(\"모수 추정치:\\n\", estimates)\n",
    "\n",
    "semplot(model, 'C:\\\\git_files\\\\education_analysis\\\\happy\\\\human_rel.png')"
   ]
  },
  {
   "cell_type": "code",
   "execution_count": 30,
   "metadata": {},
   "outputs": [
    {
     "data": {
      "image/png": "[encoded data removed]",
      "text/plain": [
       "<Figure size 600x400 with 2 Axes>"
      ]
     },
     "metadata": {},
     "output_type": "display_data"
    }
   ],
   "source": [
    "# 문제된 변수만 추출\n",
    "rel_corr_df = df_rel[observed_vars].copy()\n",
    "\n",
    "# 상관행렬 계산\n",
    "corr_matrix = rel_corr_df.corr()\n",
    "\n",
    "# 상관계수 히트맵 시각화\n",
    "plt.figure(figsize=(6, 4))\n",
    "sns.heatmap(corr_matrix, annot=True, cmap='coolwarm', fmt='.2f')\n",
    "plt.title('Correlation matrix of emotional state variables')\n",
    "plt.show()\n"
   ]
  },
  {
   "cell_type": "code",
   "execution_count": 31,
   "metadata": {},
   "outputs": [
    {
     "name": "stdout",
     "output_type": "stream",
     "text": [
      "        id sex  birthy birthm             area         size school grade  \\\n",
      "0  20001.0  여성  2003.0     4월  충청권(대전, 충남, 충북)  도서벽지 및 읍면지역   고등학생   3학년   \n",
      "1  20002.0  여성  2003.0     8월  충청권(대전, 충남, 충북)  도서벽지 및 읍면지역   고등학생   3학년   \n",
      "2  20003.0  여성  2003.0     9월  충청권(대전, 충남, 충북)  도서벽지 및 읍면지역   고등학생   3학년   \n",
      "3  20004.0  남성  2003.0     8월  충청권(대전, 충남, 충북)  도서벽지 및 읍면지역   고등학생   3학년   \n",
      "4  20005.0  남성  2003.0     2월  충청권(대전, 충남, 충북)  도서벽지 및 읍면지역   고등학생   3학년   \n",
      "\n",
      "  home1 home2  ... q5422        wt academic_pressure academic_stress  \\\n",
      "0   아니오   아니오  ...   NaN  0.250048         -0.151269        0.002721   \n",
      "1     예     예  ...   NaN  0.250048         -0.148003       -0.143278   \n",
      "2     예     예  ...   NaN  0.250048         -0.190091       -0.065955   \n",
      "3     예     예  ...   NaN  0.244036          0.052016        0.058772   \n",
      "4   아니오     예  ...   NaN  0.244036          0.099197        0.294010   \n",
      "\n",
      "  exam_anxiety human_rel teacher_rel friend_rel parent_rel group_rel  \n",
      "0    -0.473646 -0.035736   -0.111158   0.064802   0.213652 -0.146914  \n",
      "1    -0.232102  0.045446   -0.030554   0.093485   0.208344  0.059625  \n",
      "2    -0.485246  0.040287    0.221778   0.003457  -0.054230  0.082943  \n",
      "3     0.068234 -0.055024   -0.029132  -0.165142  -0.071565 -0.055185  \n",
      "4    -0.158236  0.083284    0.240521   0.075157   0.205870  0.132077  \n",
      "\n",
      "[5 rows x 285 columns]\n"
     ]
    }
   ],
   "source": [
    "factor_scores = model.predict_factors(df_rel)\n",
    "\n",
    "df[\"human_rel\"] = factor_scores[\"human_rel\"]\n",
    "df['teacher_rel'] = factor_scores[\"teacher_rel\"]\n",
    "df['friend_rel'] = factor_scores[\"friend_rel\"]\n",
    "df['parent_rel'] = factor_scores[\"parent_rel\"]\n",
    "df['group_rel'] = factor_scores[\"group_rel\"]\n",
    "\n",
    "print(df.head())"
   ]
  },
  {
   "cell_type": "code",
   "execution_count": 32,
   "metadata": {},
   "outputs": [
    {
     "data": {
      "image/png": "[encoded data removed]",
      "text/plain": [
       "<Figure size 640x480 with 1 Axes>"
      ]
     },
     "metadata": {},
     "output_type": "display_data"
    }
   ],
   "source": [
    "plt.hist(df[\"human_rel\"], bins=20, color='blue')\n",
    "plt.title(\"Distribution of Human Relationship Factor\")\n",
    "plt.xlabel(\"Human Relationship Factor\")\n",
    "plt.ylabel(\"Frequency\")\n",
    "plt.show()"
   ]
  },
  {
   "cell_type": "code",
   "execution_count": null,
   "metadata": {},
   "outputs": [],
   "source": []
  },
  {
   "cell_type": "markdown",
   "metadata": {},
   "source": [
    "# 정서적 상태"
   ]
  },
  {
   "cell_type": "code",
   "execution_count": 33,
   "metadata": {},
   "outputs": [
    {
     "data": {
      "text/plain": [
       "q221    0\n",
       "q222    0\n",
       "q223    0\n",
       "q226    0\n",
       "q23     0\n",
       "q26     0\n",
       "dtype: int64"
      ]
     },
     "execution_count": 33,
     "metadata": {},
     "output_type": "execute_result"
    }
   ],
   "source": [
    "emo = df[['q221', 'q222', 'q223', 'q226', 'q23', 'q26']]\n",
    "emo.isnull().sum()"
   ]
  },
  {
   "cell_type": "code",
   "execution_count": 34,
   "metadata": {},
   "outputs": [
    {
     "data": {
      "text/plain": [
       "q221\n",
       "매우 그렇다       1998\n",
       "조금 그렇다       1508\n",
       "보통이다         1225\n",
       "별로 그렇지 않다     506\n",
       "전혀 그렇지 않다     139\n",
       "Name: count, dtype: int64"
      ]
     },
     "metadata": {},
     "output_type": "display_data"
    },
    {
     "data": {
      "text/plain": [
       "q222\n",
       "매우 그렇다       1815\n",
       "조금 그렇다       1546\n",
       "보통이다         1256\n",
       "별로 그렇지 않다     507\n",
       "전혀 그렇지 않다     252\n",
       "Name: count, dtype: int64"
      ]
     },
     "metadata": {},
     "output_type": "display_data"
    },
    {
     "data": {
      "text/plain": [
       "q223\n",
       "매우 그렇다       1605\n",
       "조금 그렇다       1464\n",
       "보통이다         1454\n",
       "별로 그렇지 않다     610\n",
       "전혀 그렇지 않다     243\n",
       "Name: count, dtype: int64"
      ]
     },
     "metadata": {},
     "output_type": "display_data"
    },
    {
     "data": {
      "text/plain": [
       "q226\n",
       "전혀 그렇지 않다    1575\n",
       "별로 그렇지 않다    1463\n",
       "보통이다         1150\n",
       "조금 그렇다        798\n",
       "매우 그렇다        390\n",
       "Name: count, dtype: int64"
      ]
     },
     "metadata": {},
     "output_type": "display_data"
    },
    {
     "data": {
      "text/plain": [
       "q23\n",
       "대체로 행복한 편이다       3106\n",
       "매우 행복하다           1063\n",
       "별로 행복하지 않은 편이다     708\n",
       "모르겠다               388\n",
       "전혀 행복하지 않다         111\n",
       "Name: count, dtype: int64"
      ]
     },
     "metadata": {},
     "output_type": "display_data"
    },
    {
     "data": {
      "text/plain": [
       "q26\n",
       "보통이다       1865\n",
       "약간 행복하다    1450\n",
       "매우 행복하다    1340\n",
       "약간 불행하다     575\n",
       "매우 불행하다     146\n",
       "Name: count, dtype: int64"
      ]
     },
     "metadata": {},
     "output_type": "display_data"
    }
   ],
   "source": [
    "for i in emo.columns:\n",
    "    display(emo[i].value_counts())"
   ]
  },
  {
   "cell_type": "code",
   "execution_count": 35,
   "metadata": {},
   "outputs": [],
   "source": [
    "emo = encoding(emo, ['q221', 'q222', 'q223'], category5_map)\n",
    "emo = encoding(emo, ['q226'], reverse_category5_map)\n",
    "emo = encoding(emo, ['q23'], happy_map)\n",
    "emo = encoding(emo, ['q26'], how_happy_map)"
   ]
  },
  {
   "cell_type": "code",
   "execution_count": 36,
   "metadata": {},
   "outputs": [
    {
     "name": "stdout",
     "output_type": "stream",
     "text": [
      "<class 'pandas.core.frame.DataFrame'>\n",
      "RangeIndex: 5376 entries, 0 to 5375\n",
      "Data columns (total 6 columns):\n",
      " #   Column  Non-Null Count  Dtype   \n",
      "---  ------  --------------  -----   \n",
      " 0   q221    5376 non-null   category\n",
      " 1   q222    5376 non-null   category\n",
      " 2   q223    5376 non-null   category\n",
      " 3   q226    5376 non-null   category\n",
      " 4   q23     5376 non-null   category\n",
      " 5   q26     5376 non-null   category\n",
      "dtypes: category(6)\n",
      "memory usage: 32.9 KB\n"
     ]
    }
   ],
   "source": [
    "emo.info()"
   ]
  },
  {
   "cell_type": "code",
   "execution_count": 37,
   "metadata": {},
   "outputs": [],
   "source": [
    "scaler = MinMaxScaler()\n",
    "emo = pd.DataFrame(scaler.fit_transform(emo), columns=emo.columns)"
   ]
  },
  {
   "cell_type": "code",
   "execution_count": 38,
   "metadata": {},
   "outputs": [
    {
     "name": "stdout",
     "output_type": "stream",
     "text": [
      "<class 'pandas.core.frame.DataFrame'>\n",
      "RangeIndex: 5376 entries, 0 to 5375\n",
      "Data columns (total 6 columns):\n",
      " #   Column  Non-Null Count  Dtype  \n",
      "---  ------  --------------  -----  \n",
      " 0   q221    5376 non-null   float64\n",
      " 1   q222    5376 non-null   float64\n",
      " 2   q223    5376 non-null   float64\n",
      " 3   q226    5376 non-null   float64\n",
      " 4   q23     5376 non-null   float64\n",
      " 5   q26     5376 non-null   float64\n",
      "dtypes: float64(6)\n",
      "memory usage: 252.1 KB\n"
     ]
    }
   ],
   "source": [
    "emo.info()"
   ]
  },
  {
   "cell_type": "code",
   "execution_count": 39,
   "metadata": {},
   "outputs": [],
   "source": [
    "model_desc = \"\"\"\n",
    "emotional_state =~ q221 + q223 + q226 + q23\n",
    "\"\"\""
   ]
  },
  {
   "cell_type": "code",
   "execution_count": 40,
   "metadata": {},
   "outputs": [],
   "source": [
    "emo['wt'] = df['wt']\n",
    "observed_vars = ['q221', 'q223', 'q226', 'q23']\n",
    "w_cov_df = calculate_covariance(emo, observed_vars)"
   ]
  },
  {
   "cell_type": "code",
   "execution_count": 41,
   "metadata": {},
   "outputs": [
    {
     "name": "stdout",
     "output_type": "stream",
     "text": [
      "적합도 지표:\n",
      "                      Value\n",
      "DoF               2.000000\n",
      "DoF Baseline      6.000000\n",
      "chi2             22.569467\n",
      "chi2 p-value      0.000013\n",
      "chi2 Baseline  5595.678654\n",
      "CFI               0.996320\n",
      "GFI               0.995967\n",
      "AGFI              0.987900\n",
      "NFI               0.995967\n",
      "TLI               0.988960\n",
      "RMSEA             0.043743\n",
      "AIC              15.991604\n",
      "BIC              68.709203\n",
      "LogLik            0.004198 \n",
      "\n",
      "\n",
      "모수 추정치:\n",
      "               lval  op             rval  Estimate  Std. Err    z-value p-value\n",
      "0             q221   ~  emotional_state  1.000000         -          -       -\n",
      "1             q223   ~  emotional_state  1.542916  0.039907  38.662765     0.0\n",
      "2             q226   ~  emotional_state  0.957764  0.032574  29.403152     0.0\n",
      "3              q23   ~  emotional_state  1.093968  0.028468  38.427411     0.0\n",
      "4  emotional_state  ~~  emotional_state  0.025571  0.001206  21.202969     0.0\n",
      "5             q221  ~~             q221  0.049857   0.00109  45.754518     0.0\n",
      "6             q223  ~~             q223  0.020596  0.001125   18.29919     0.0\n",
      "7             q226  ~~             q226  0.071820  0.001492  48.147436     0.0\n",
      "8              q23  ~~              q23  0.026262  0.000744  35.314823     0.0\n"
     ]
    },
    {
     "data": {
      "image/svg+xml": [
       "<?xml version=\"1.0\" encoding=\"UTF-8\" standalone=\"no\"?>\n",
       "<!DOCTYPE svg PUBLIC \"-//W3C//DTD SVG 1.1//EN\"\n",
       " \"http://www.w3.org/Graphics/SVG/1.1/DTD/svg11.dtd\">\n",
       "<!-- Generated by graphviz version 12.2.1 (20241206.2353)\n",
       " -->\n",
       "<!-- Title: G Pages: 1 -->\n",
       "<svg width=\"293pt\" height=\"248pt\"\n",
       " viewBox=\"0.00 0.00 293.13 248.05\" xmlns=\"http://www.w3.org/2000/svg\" xmlns:xlink=\"http://www.w3.org/1999/xlink\">\n",
       "<g id=\"graph0\" class=\"graph\" transform=\"scale(1 1) rotate(0) translate(4 244.05)\">\n",
       "<title>G</title>\n",
       "<polygon fill=\"white\" stroke=\"none\" points=\"-4,4 -4,-244.05 289.13,-244.05 289.13,4 -4,4\"/>\n",
       "<!-- emotional_state -->\n",
       "<g id=\"node1\" class=\"node\">\n",
       "<title>emotional_state</title>\n",
       "<ellipse fill=\"#cae6df\" stroke=\"black\" cx=\"136\" cy=\"-170.28\" rx=\"69.78\" ry=\"69.78\"/>\n",
       "<text text-anchor=\"middle\" x=\"136\" y=\"-165.23\" font-family=\"Times New Roman,serif\" font-size=\"14.00\">emotional_state</text>\n",
       "</g>\n",
       "<!-- q221 -->\n",
       "<g id=\"node2\" class=\"node\">\n",
       "<title>q221</title>\n",
       "<polygon fill=\"none\" stroke=\"black\" points=\"54,-36 0,-36 0,0 54,0 54,-36\"/>\n",
       "<text text-anchor=\"middle\" x=\"27\" y=\"-12.95\" font-family=\"Times New Roman,serif\" font-size=\"14.00\">q221</text>\n",
       "</g>\n",
       "<!-- emotional_state&#45;&gt;q221 -->\n",
       "<g id=\"edge1\" class=\"edge\">\n",
       "<title>emotional_state&#45;&gt;q221</title>\n",
       "<path fill=\"none\" stroke=\"black\" d=\"M91.59,-116.41C82.84,-105.4 73.93,-93.73 66,-82.5 57.83,-70.93 49.52,-57.64 42.67,-46.22\"/>\n",
       "<polygon fill=\"black\" stroke=\"black\" points=\"45.72,-44.49 37.62,-37.66 39.69,-48.05 45.72,-44.49\"/>\n",
       "<text text-anchor=\"middle\" x=\"79.5\" y=\"-63.98\" font-family=\"Times New Roman,serif\" font-size=\"12.00\">1.000</text>\n",
       "</g>\n",
       "<!-- q223 -->\n",
       "<g id=\"node3\" class=\"node\">\n",
       "<title>q223</title>\n",
       "<polygon fill=\"none\" stroke=\"black\" points=\"126,-36 72,-36 72,0 126,0 126,-36\"/>\n",
       "<text text-anchor=\"middle\" x=\"99\" y=\"-12.95\" font-family=\"Times New Roman,serif\" font-size=\"14.00\">q223</text>\n",
       "</g>\n",
       "<!-- emotional_state&#45;&gt;q223 -->\n",
       "<g id=\"edge2\" class=\"edge\">\n",
       "<title>emotional_state&#45;&gt;q223</title>\n",
       "<path fill=\"none\" stroke=\"black\" d=\"M106.8,-106.65C104.04,-98.66 101.66,-90.49 100,-82.5 97.67,-71.24 97.07,-58.62 97.18,-47.61\"/>\n",
       "<polygon fill=\"black\" stroke=\"black\" points=\"100.66,-48.06 97.48,-37.95 93.67,-47.84 100.66,-48.06\"/>\n",
       "<text text-anchor=\"middle\" x=\"125.5\" y=\"-71.1\" font-family=\"Times New Roman,serif\" font-size=\"12.00\">1.543</text>\n",
       "<text text-anchor=\"middle\" x=\"125.5\" y=\"-56.85\" font-family=\"Times New Roman,serif\" font-size=\"12.00\">p&#45;val: 0.00</text>\n",
       "</g>\n",
       "<!-- q226 -->\n",
       "<g id=\"node4\" class=\"node\">\n",
       "<title>q226</title>\n",
       "<polygon fill=\"none\" stroke=\"black\" points=\"200,-36 146,-36 146,0 200,0 200,-36\"/>\n",
       "<text text-anchor=\"middle\" x=\"173\" y=\"-12.95\" font-family=\"Times New Roman,serif\" font-size=\"14.00\">q226</text>\n",
       "</g>\n",
       "<!-- emotional_state&#45;&gt;q226 -->\n",
       "<g id=\"edge3\" class=\"edge\">\n",
       "<title>emotional_state&#45;&gt;q226</title>\n",
       "<path fill=\"none\" stroke=\"black\" d=\"M152.55,-102.05C157.31,-82.74 162.23,-62.74 166.06,-47.2\"/>\n",
       "<polygon fill=\"black\" stroke=\"black\" points=\"169.39,-48.28 168.39,-37.74 162.6,-46.61 169.39,-48.28\"/>\n",
       "<text text-anchor=\"middle\" x=\"189.56\" y=\"-71.1\" font-family=\"Times New Roman,serif\" font-size=\"12.00\">0.958</text>\n",
       "<text text-anchor=\"middle\" x=\"189.56\" y=\"-56.85\" font-family=\"Times New Roman,serif\" font-size=\"12.00\">p&#45;val: 0.00</text>\n",
       "</g>\n",
       "<!-- q23 -->\n",
       "<g id=\"node5\" class=\"node\">\n",
       "<title>q23</title>\n",
       "<polygon fill=\"none\" stroke=\"black\" points=\"274,-36 220,-36 220,0 274,0 274,-36\"/>\n",
       "<text text-anchor=\"middle\" x=\"247\" y=\"-12.95\" font-family=\"Times New Roman,serif\" font-size=\"14.00\">q23</text>\n",
       "</g>\n",
       "<!-- emotional_state&#45;&gt;q23 -->\n",
       "<g id=\"edge4\" class=\"edge\">\n",
       "<title>emotional_state&#45;&gt;q23</title>\n",
       "<path fill=\"none\" stroke=\"black\" d=\"M186.61,-122.29C198.15,-110.04 209.73,-96.37 219,-82.5 226.36,-71.49 232.56,-58.24 237.24,-46.69\"/>\n",
       "<polygon fill=\"black\" stroke=\"black\" points=\"240.38,-48.27 240.7,-37.68 233.85,-45.76 240.38,-48.27\"/>\n",
       "<text text-anchor=\"middle\" x=\"259.63\" y=\"-71.1\" font-family=\"Times New Roman,serif\" font-size=\"12.00\">1.094</text>\n",
       "<text text-anchor=\"middle\" x=\"259.63\" y=\"-56.85\" font-family=\"Times New Roman,serif\" font-size=\"12.00\">p&#45;val: 0.00</text>\n",
       "</g>\n",
       "</g>\n",
       "</svg>\n"
      ],
      "text/plain": [
       "<graphviz.graphs.Digraph at 0x1fe3ec7abd0>"
      ]
     },
     "execution_count": 41,
     "metadata": {},
     "output_type": "execute_result"
    }
   ],
   "source": [
    "vif_df = compute_vif(emo, observed_vars)\n",
    "model = Model(model_desc)\n",
    "model = fit_sem_model(model, emo, w_cov_df)\n",
    "stats = calc_stats(model)\n",
    "estimates = model.inspect()\n",
    "print(\"적합도 지표:\\n\", stats.T, \"\\n\\n\")\n",
    "print(\"모수 추정치:\\n\", estimates)\n",
    "\n",
    "\n",
    "semplot(model, 'C:\\\\git_files\\\\education_analysis\\\\happy\\\\emotional_state.png')"
   ]
  },
  {
   "cell_type": "code",
   "execution_count": 42,
   "metadata": {},
   "outputs": [
    {
     "name": "stdout",
     "output_type": "stream",
     "text": [
      "        id sex  birthy birthm             area         size school grade  \\\n",
      "0  20001.0  여성  2003.0     4월  충청권(대전, 충남, 충북)  도서벽지 및 읍면지역   고등학생   3학년   \n",
      "1  20002.0  여성  2003.0     8월  충청권(대전, 충남, 충북)  도서벽지 및 읍면지역   고등학생   3학년   \n",
      "2  20003.0  여성  2003.0     9월  충청권(대전, 충남, 충북)  도서벽지 및 읍면지역   고등학생   3학년   \n",
      "3  20004.0  남성  2003.0     8월  충청권(대전, 충남, 충북)  도서벽지 및 읍면지역   고등학생   3학년   \n",
      "4  20005.0  남성  2003.0     2월  충청권(대전, 충남, 충북)  도서벽지 및 읍면지역   고등학생   3학년   \n",
      "\n",
      "  home1 home2  ...        wt academic_pressure academic_stress exam_anxiety  \\\n",
      "0   아니오   아니오  ...  0.250048         -0.151269        0.002721    -0.473646   \n",
      "1     예     예  ...  0.250048         -0.148003       -0.143278    -0.232102   \n",
      "2     예     예  ...  0.250048         -0.190091       -0.065955    -0.485246   \n",
      "3     예     예  ...  0.244036          0.052016        0.058772     0.068234   \n",
      "4   아니오     예  ...  0.244036          0.099197        0.294010    -0.158236   \n",
      "\n",
      "  human_rel teacher_rel friend_rel parent_rel group_rel emotional_state  \n",
      "0 -0.035736   -0.111158   0.064802   0.213652 -0.146914       -0.167932  \n",
      "1  0.045446   -0.030554   0.093485   0.208344  0.059625        0.058954  \n",
      "2  0.040287    0.221778   0.003457  -0.054230  0.082943       -0.085814  \n",
      "3 -0.055024   -0.029132  -0.165142  -0.071565 -0.055185        0.044651  \n",
      "4  0.083284    0.240521   0.075157   0.205870  0.132077        0.205492  \n",
      "\n",
      "[5 rows x 286 columns]\n"
     ]
    }
   ],
   "source": [
    "factor_scores = model.predict_factors(emo)\n",
    "\n",
    "df[\"emotional_state\"] = factor_scores[\"emotional_state\"]\n",
    "\n",
    "print(df.head())"
   ]
  },
  {
   "cell_type": "code",
   "execution_count": 43,
   "metadata": {},
   "outputs": [
    {
     "data": {
      "image/png": "[encoded data removed]",
      "text/plain": [
       "<Figure size 640x480 with 1 Axes>"
      ]
     },
     "metadata": {},
     "output_type": "display_data"
    }
   ],
   "source": [
    "plt.hist(df[\"emotional_state\"], bins=20, color='blue')\n",
    "plt.title(\"Distribution of Emotional State Factor\")\n",
    "plt.xlabel(\"Emotional State Factor\")\n",
    "plt.ylabel(\"Frequency\")\n",
    "plt.show()"
   ]
  },
  {
   "cell_type": "code",
   "execution_count": 44,
   "metadata": {},
   "outputs": [
    {
     "data": {
      "image/png": "[encoded data removed]",
      "text/plain": [
       "<Figure size 600x400 with 2 Axes>"
      ]
     },
     "metadata": {},
     "output_type": "display_data"
    }
   ],
   "source": [
    "import pandas as pd\n",
    "import seaborn as sns\n",
    "import matplotlib.pyplot as plt\n",
    "\n",
    "# 문제된 변수만 추출\n",
    "emo_vars = ['q221', 'q223', 'q226', 'q23']\n",
    "emo_corr_df = emo[emo_vars].copy()\n",
    "\n",
    "# 상관행렬 계산\n",
    "corr_matrix = emo_corr_df.corr()\n",
    "\n",
    "# 상관계수 히트맵 시각화\n",
    "plt.figure(figsize=(6, 4))\n",
    "sns.heatmap(corr_matrix, annot=True, cmap='coolwarm', fmt='.2f')\n",
    "plt.title('Correlation matrix of emotional state variables')\n",
    "plt.show()\n"
   ]
  },
  {
   "cell_type": "code",
   "execution_count": 45,
   "metadata": {},
   "outputs": [
    {
     "name": "stdout",
     "output_type": "stream",
     "text": [
      "           id sex  birthy birthm                 area         size school  \\\n",
      "8     20009.0  남성  2003.0     7월      충청권(대전, 충남, 충북)  도서벽지 및 읍면지역   고등학생   \n",
      "25    20026.0  남성  2003.0     8월      충청권(대전, 충남, 충북)  도서벽지 및 읍면지역   고등학생   \n",
      "73    20074.0  여성  2008.0     5월      충청권(대전, 충남, 충북)         중소도시    중학생   \n",
      "94    20095.0  여성  2003.0     3월      충청권(대전, 충남, 충북)  도서벽지 및 읍면지역   고등학생   \n",
      "95    20096.0  남성  2008.0     4월      충청권(대전, 충남, 충북)         중소도시    중학생   \n",
      "...       ...  ..     ...    ...                  ...          ...    ...   \n",
      "5196  25197.0  남성  2006.0     8월      호남권(광주, 전남, 전북)         중소도시    중학생   \n",
      "5218  25219.0  남성  2007.0     6월  영남권(부산, 대구, 경남, 경북)         중소도시    중학생   \n",
      "5225  25226.0  남성  2007.0     2월  영남권(부산, 대구, 경남, 경북)         중소도시    중학생   \n",
      "5245  25246.0  여성  2007.0    11월  영남권(부산, 대구, 경남, 경북)         중소도시    중학생   \n",
      "5343  25344.0  남성  2003.0     5월      수도권(서울, 경기, 인천)          대도시   고등학생   \n",
      "\n",
      "     grade home1 home2  ...        wt academic_pressure academic_stress  \\\n",
      "8      3학년     예     예  ...  0.244036          0.326522        0.392587   \n",
      "25     3학년   아니오   아니오  ...  0.244036          0.019265        0.000836   \n",
      "73     1학년     예     예  ...  0.792973          0.240656        0.240692   \n",
      "94     3학년     예     예  ...  0.250048          0.187031        0.259543   \n",
      "95     1학년     예     예  ...  0.915312         -0.102864       -0.063429   \n",
      "...    ...   ...   ...  ...       ...               ...             ...   \n",
      "5196   3학년   아니오   아니오  ...  0.082545         -0.010055       -0.051029   \n",
      "5218   2학년   아니오     예  ...  1.621444         -0.079342       -0.021820   \n",
      "5225   2학년     예     예  ...  1.621444         -0.238934       -0.304132   \n",
      "5245   2학년     예     예  ...  1.338963          0.188713        0.148807   \n",
      "5343   3학년     예     예  ...  0.104199          0.206563        0.218450   \n",
      "\n",
      "     exam_anxiety human_rel teacher_rel friend_rel parent_rel group_rel  \\\n",
      "8        0.390827 -0.227051   -0.432415  -0.383175   0.226160 -0.402431   \n",
      "25       0.058447 -0.116239   -0.010600  -0.248631  -0.583944 -0.125138   \n",
      "73       0.365169 -0.080068    0.005167  -0.152347   0.143066 -0.168360   \n",
      "94       0.168913 -0.190976   -0.252542  -0.261966  -0.043787 -0.361208   \n",
      "95      -0.218614 -0.048206   -0.026161  -0.150798  -0.043077 -0.047395   \n",
      "...           ...       ...         ...        ...        ...       ...   \n",
      "5196     0.049686  0.021234    0.094542   0.016045  -0.111058  0.050405   \n",
      "5218    -0.211585 -0.186309   -0.295725  -0.219314  -0.247042 -0.337427   \n",
      "5225    -0.259273  0.020239   -0.160473   0.067838   0.209992  0.023138   \n",
      "5245     0.349648 -0.050263   -0.236422  -0.116096   0.214602 -0.068193   \n",
      "5343     0.294647 -0.026334   -0.135558  -0.033722   0.052545 -0.040849   \n",
      "\n",
      "     emotional_state  \n",
      "8          -0.357378  \n",
      "25         -0.087468  \n",
      "73         -0.277030  \n",
      "94         -0.380544  \n",
      "95          0.103487  \n",
      "...              ...  \n",
      "5196        0.191189  \n",
      "5218       -0.182379  \n",
      "5225        0.205492  \n",
      "5245       -0.283979  \n",
      "5343       -0.057209  \n",
      "\n",
      "[169 rows x 286 columns]\n"
     ]
    }
   ],
   "source": [
    "print(df[df['q35'] == '있다'])"
   ]
  },
  {
   "cell_type": "markdown",
   "metadata": {},
   "source": [
    "# 학교 폭력 노출도"
   ]
  },
  {
   "cell_type": "code",
   "execution_count": 46,
   "metadata": {},
   "outputs": [],
   "source": [
    "df_vio = df[['q33', 'q35', 'q351', 'q352']]"
   ]
  },
  {
   "cell_type": "code",
   "execution_count": 47,
   "metadata": {},
   "outputs": [
    {
     "data": {
      "text/plain": [
       "q33\n",
       "별로 심각하지 않다    1670\n",
       "전혀 심각하지 않다    1646\n",
       "보통이다          1313\n",
       "약간 심각한 편이다     458\n",
       "매우 심각하다        289\n",
       "Name: count, dtype: int64"
      ]
     },
     "metadata": {},
     "output_type": "display_data"
    },
    {
     "data": {
      "text/plain": [
       "q35\n",
       "없다    5207\n",
       "있다     169\n",
       "Name: count, dtype: int64"
      ]
     },
     "metadata": {},
     "output_type": "display_data"
    },
    {
     "data": {
      "text/plain": [
       "q351\n",
       "1.0       98\n",
       "2.0       24\n",
       "3.0       14\n",
       "5.0        9\n",
       "4.0        8\n",
       "모름/무응답     7\n",
       "10.0       3\n",
       "20.0       2\n",
       "6.0        2\n",
       "9.0        1\n",
       "50.0       1\n",
       "Name: count, dtype: int64"
      ]
     },
     "metadata": {},
     "output_type": "display_data"
    },
    {
     "data": {
      "text/plain": [
       "q352\n",
       "1.0       69\n",
       "2.0       31\n",
       "3.0       18\n",
       "4.0       14\n",
       "10.0       9\n",
       "모름/무응답     8\n",
       "5.0        7\n",
       "6.0        4\n",
       "8.0        3\n",
       "20.0       2\n",
       "9.0        1\n",
       "7.0        1\n",
       "17.0       1\n",
       "16.0       1\n",
       "Name: count, dtype: int64"
      ]
     },
     "metadata": {},
     "output_type": "display_data"
    }
   ],
   "source": [
    "display(df_vio['q33'].value_counts())\n",
    "display(df_vio['q35'].value_counts())\n",
    "display(df_vio['q351'].value_counts())\n",
    "display(df_vio['q352'].value_counts())"
   ]
  },
  {
   "cell_type": "code",
   "execution_count": 48,
   "metadata": {},
   "outputs": [
    {
     "name": "stdout",
     "output_type": "stream",
     "text": [
      "<class 'pandas.core.frame.DataFrame'>\n",
      "RangeIndex: 5376 entries, 0 to 5375\n",
      "Data columns (total 4 columns):\n",
      " #   Column  Non-Null Count  Dtype   \n",
      "---  ------  --------------  -----   \n",
      " 0   q33     5376 non-null   category\n",
      " 1   q35     5376 non-null   category\n",
      " 2   q351    169 non-null    category\n",
      " 3   q352    169 non-null    category\n",
      "dtypes: category(4)\n",
      "memory usage: 22.5 KB\n"
     ]
    }
   ],
   "source": [
    "df_vio.info()"
   ]
  },
  {
   "cell_type": "code",
   "execution_count": null,
   "metadata": {},
   "outputs": [],
   "source": []
  },
  {
   "cell_type": "code",
   "execution_count": 49,
   "metadata": {},
   "outputs": [
    {
     "data": {
      "text/html": [
       "<div>\n",
       "<style scoped>\n",
       "    .dataframe tbody tr th:only-of-type {\n",
       "        vertical-align: middle;\n",
       "    }\n",
       "\n",
       "    .dataframe tbody tr th {\n",
       "        vertical-align: top;\n",
       "    }\n",
       "\n",
       "    .dataframe thead th {\n",
       "        text-align: right;\n",
       "    }\n",
       "</style>\n",
       "<table border=\"1\" class=\"dataframe\">\n",
       "  <thead>\n",
       "    <tr style=\"text-align: right;\">\n",
       "      <th></th>\n",
       "      <th>q33</th>\n",
       "      <th>q35</th>\n",
       "      <th>q351</th>\n",
       "      <th>q352</th>\n",
       "    </tr>\n",
       "  </thead>\n",
       "  <tbody>\n",
       "    <tr>\n",
       "      <th>0</th>\n",
       "      <td>0</td>\n",
       "      <td>0</td>\n",
       "      <td>0.0</td>\n",
       "      <td>0.0</td>\n",
       "    </tr>\n",
       "    <tr>\n",
       "      <th>1</th>\n",
       "      <td>1</td>\n",
       "      <td>0</td>\n",
       "      <td>0.0</td>\n",
       "      <td>0.0</td>\n",
       "    </tr>\n",
       "    <tr>\n",
       "      <th>2</th>\n",
       "      <td>0</td>\n",
       "      <td>0</td>\n",
       "      <td>0.0</td>\n",
       "      <td>0.0</td>\n",
       "    </tr>\n",
       "    <tr>\n",
       "      <th>3</th>\n",
       "      <td>2</td>\n",
       "      <td>0</td>\n",
       "      <td>0.0</td>\n",
       "      <td>0.0</td>\n",
       "    </tr>\n",
       "    <tr>\n",
       "      <th>4</th>\n",
       "      <td>0</td>\n",
       "      <td>0</td>\n",
       "      <td>0.0</td>\n",
       "      <td>0.0</td>\n",
       "    </tr>\n",
       "    <tr>\n",
       "      <th>...</th>\n",
       "      <td>...</td>\n",
       "      <td>...</td>\n",
       "      <td>...</td>\n",
       "      <td>...</td>\n",
       "    </tr>\n",
       "    <tr>\n",
       "      <th>5371</th>\n",
       "      <td>0</td>\n",
       "      <td>0</td>\n",
       "      <td>0.0</td>\n",
       "      <td>0.0</td>\n",
       "    </tr>\n",
       "    <tr>\n",
       "      <th>5372</th>\n",
       "      <td>1</td>\n",
       "      <td>0</td>\n",
       "      <td>0.0</td>\n",
       "      <td>0.0</td>\n",
       "    </tr>\n",
       "    <tr>\n",
       "      <th>5373</th>\n",
       "      <td>3</td>\n",
       "      <td>0</td>\n",
       "      <td>0.0</td>\n",
       "      <td>0.0</td>\n",
       "    </tr>\n",
       "    <tr>\n",
       "      <th>5374</th>\n",
       "      <td>0</td>\n",
       "      <td>0</td>\n",
       "      <td>0.0</td>\n",
       "      <td>0.0</td>\n",
       "    </tr>\n",
       "    <tr>\n",
       "      <th>5375</th>\n",
       "      <td>2</td>\n",
       "      <td>0</td>\n",
       "      <td>0.0</td>\n",
       "      <td>0.0</td>\n",
       "    </tr>\n",
       "  </tbody>\n",
       "</table>\n",
       "<p>5376 rows × 4 columns</p>\n",
       "</div>"
      ],
      "text/plain": [
       "     q33 q35  q351  q352\n",
       "0      0   0   0.0   0.0\n",
       "1      1   0   0.0   0.0\n",
       "2      0   0   0.0   0.0\n",
       "3      2   0   0.0   0.0\n",
       "4      0   0   0.0   0.0\n",
       "...   ..  ..   ...   ...\n",
       "5371   0   0   0.0   0.0\n",
       "5372   1   0   0.0   0.0\n",
       "5373   3   0   0.0   0.0\n",
       "5374   0   0   0.0   0.0\n",
       "5375   2   0   0.0   0.0\n",
       "\n",
       "[5376 rows x 4 columns]"
      ]
     },
     "execution_count": 49,
     "metadata": {},
     "output_type": "execute_result"
    }
   ],
   "source": [
    "df_vio = encoding(df_vio, ['q33'], how_serious_map)\n",
    "df_vio = encoding(df_vio, ['q35'], is_or_not_map)\n",
    "df_vio['q351'] = df_vio['q351'].replace({'모름/무응답' : 2})\n",
    "df_vio['q351'] = df_vio['q351'].apply(lambda x: 2 if x >= 2 else (1 if x == 1 else 0))\n",
    "df_vio['q352'] = df_vio['q352'].replace({'모름/무응답' : 2})\n",
    "df_vio['q352'] = df_vio['q352'].apply(lambda x: 2 if x >= 2 else (1 if x == 1 else 0))\n",
    "df_vio = null0(df_vio)\n",
    "df_vio"
   ]
  },
  {
   "cell_type": "code",
   "execution_count": 50,
   "metadata": {},
   "outputs": [
    {
     "data": {
      "text/plain": [
       "q351\n",
       "0.0    5207\n",
       "1.0      98\n",
       "2.0      71\n",
       "Name: count, dtype: int64"
      ]
     },
     "metadata": {},
     "output_type": "display_data"
    },
    {
     "data": {
      "text/plain": [
       "q352\n",
       "0.0    5207\n",
       "2.0     100\n",
       "1.0      69\n",
       "Name: count, dtype: int64"
      ]
     },
     "metadata": {},
     "output_type": "display_data"
    }
   ],
   "source": [
    "display(df_vio['q351'].value_counts())\n",
    "display(df_vio['q352'].value_counts())"
   ]
  },
  {
   "cell_type": "code",
   "execution_count": 51,
   "metadata": {},
   "outputs": [],
   "source": [
    "model_desc = \"\"\"\n",
    "exposure_violence =~ q33 + q35 + q351 + q352\n",
    "\"\"\""
   ]
  },
  {
   "cell_type": "code",
   "execution_count": 52,
   "metadata": {},
   "outputs": [
    {
     "name": "stdout",
     "output_type": "stream",
     "text": [
      "적합도 지표:\n",
      "                       Value\n",
      "DoF                2.000000\n",
      "DoF Baseline       6.000000\n",
      "chi2              11.230035\n",
      "chi2 p-value       0.003643\n",
      "chi2 Baseline  25555.212192\n",
      "CFI                0.999639\n",
      "GFI                0.999561\n",
      "AGFI               0.998682\n",
      "NFI                0.999561\n",
      "TLI                0.998916\n",
      "RMSEA              0.029302\n",
      "AIC               15.995822\n",
      "BIC               68.713421\n",
      "LogLik             0.002089 \n",
      "\n",
      "\n",
      "모수 추정치:\n",
      "                 lval  op               rval  Estimate  Std. Err    z-value  \\\n",
      "0                q33   ~  exposure_violence  1.000000         -          -   \n",
      "1                q35   ~  exposure_violence  1.225419  0.143113   8.562601   \n",
      "2               q351   ~  exposure_violence  1.868277   0.21824   8.560674   \n",
      "3               q352   ~  exposure_violence  2.026795  0.236724   8.561832   \n",
      "4  exposure_violence  ~~  exposure_violence  0.017143  0.004017   4.268067   \n",
      "5                q33  ~~                q33  1.234066  0.023808   51.83299   \n",
      "6                q35  ~~                q35  0.001065   0.00004  26.675454   \n",
      "7               q351  ~~               q351  0.004489  0.000118  38.173419   \n",
      "8               q352  ~~               q352  0.003878   0.00012  32.360186   \n",
      "\n",
      "   p-value  \n",
      "0        -  \n",
      "1      0.0  \n",
      "2      0.0  \n",
      "3      0.0  \n",
      "4  0.00002  \n",
      "5      0.0  \n",
      "6      0.0  \n",
      "7      0.0  \n",
      "8      0.0  \n"
     ]
    }
   ],
   "source": [
    "\n",
    "df_vio['wt'] = df['wt']\n",
    "observed_vars = ['q33', 'q35', 'q351', 'q352']\n",
    "w_cov_df = calculate_covariance(df_vio, observed_vars)\n",
    "model = Model(model_desc)\n",
    "model = fit_sem_model(model, df_vio, w_cov_df)\n",
    "stats = calc_stats(model)\n",
    "estimates = model.inspect()\n",
    "print(\"적합도 지표:\\n\", stats.T, \"\\n\\n\")\n",
    "print(\"모수 추정치:\\n\", estimates)"
   ]
  },
  {
   "cell_type": "code",
   "execution_count": 53,
   "metadata": {},
   "outputs": [
    {
     "data": {
      "image/svg+xml": [
       "<?xml version=\"1.0\" encoding=\"UTF-8\" standalone=\"no\"?>\n",
       "<!DOCTYPE svg PUBLIC \"-//W3C//DTD SVG 1.1//EN\"\n",
       " \"http://www.w3.org/Graphics/SVG/1.1/DTD/svg11.dtd\">\n",
       "<!-- Generated by graphviz version 12.2.1 (20241206.2353)\n",
       " -->\n",
       "<!-- Title: G Pages: 1 -->\n",
       "<svg width=\"292pt\" height=\"269pt\"\n",
       " viewBox=\"0.00 0.00 292.06 268.53\" xmlns=\"http://www.w3.org/2000/svg\" xmlns:xlink=\"http://www.w3.org/1999/xlink\">\n",
       "<g id=\"graph0\" class=\"graph\" transform=\"scale(1 1) rotate(0) translate(4 264.53)\">\n",
       "<title>G</title>\n",
       "<polygon fill=\"white\" stroke=\"none\" points=\"-4,4 -4,-264.53 288.06,-264.53 288.06,4 -4,4\"/>\n",
       "<!-- exposure_violence -->\n",
       "<g id=\"node1\" class=\"node\">\n",
       "<title>exposure_violence</title>\n",
       "<ellipse fill=\"#cae6df\" stroke=\"black\" cx=\"136\" cy=\"-180.51\" rx=\"80.01\" ry=\"80.01\"/>\n",
       "<text text-anchor=\"middle\" x=\"136\" y=\"-175.46\" font-family=\"Times New Roman,serif\" font-size=\"14.00\">exposure_violence</text>\n",
       "</g>\n",
       "<!-- q33 -->\n",
       "<g id=\"node2\" class=\"node\">\n",
       "<title>q33</title>\n",
       "<polygon fill=\"none\" stroke=\"black\" points=\"54,-36 0,-36 0,0 54,0 54,-36\"/>\n",
       "<text text-anchor=\"middle\" x=\"27\" y=\"-12.95\" font-family=\"Times New Roman,serif\" font-size=\"14.00\">q33</text>\n",
       "</g>\n",
       "<!-- exposure_violence&#45;&gt;q33 -->\n",
       "<g id=\"edge1\" class=\"edge\">\n",
       "<title>exposure_violence&#45;&gt;q33</title>\n",
       "<path fill=\"none\" stroke=\"black\" d=\"M88.82,-115.54C81.06,-104.61 73.2,-93.3 66,-82.5 58.2,-70.8 49.99,-57.58 43.13,-46.25\"/>\n",
       "<polygon fill=\"black\" stroke=\"black\" points=\"46.18,-44.54 38.03,-37.77 40.18,-48.14 46.18,-44.54\"/>\n",
       "<text text-anchor=\"middle\" x=\"79.5\" y=\"-63.98\" font-family=\"Times New Roman,serif\" font-size=\"12.00\">1.000</text>\n",
       "</g>\n",
       "<!-- q35 -->\n",
       "<g id=\"node3\" class=\"node\">\n",
       "<title>q35</title>\n",
       "<polygon fill=\"none\" stroke=\"black\" points=\"126,-36 72,-36 72,0 126,0 126,-36\"/>\n",
       "<text text-anchor=\"middle\" x=\"99\" y=\"-12.95\" font-family=\"Times New Roman,serif\" font-size=\"14.00\">q35</text>\n",
       "</g>\n",
       "<!-- exposure_violence&#45;&gt;q35 -->\n",
       "<g id=\"edge2\" class=\"edge\">\n",
       "<title>exposure_violence&#45;&gt;q35</title>\n",
       "<path fill=\"none\" stroke=\"black\" d=\"M105.82,-106.1C103.48,-98.23 101.46,-90.27 100,-82.5 97.88,-71.2 97.32,-58.57 97.4,-47.57\"/>\n",
       "<polygon fill=\"black\" stroke=\"black\" points=\"100.89,-48.01 97.66,-37.92 93.89,-47.82 100.89,-48.01\"/>\n",
       "<text text-anchor=\"middle\" x=\"125.5\" y=\"-71.1\" font-family=\"Times New Roman,serif\" font-size=\"12.00\">1.225</text>\n",
       "<text text-anchor=\"middle\" x=\"125.5\" y=\"-56.85\" font-family=\"Times New Roman,serif\" font-size=\"12.00\">p&#45;val: 0.00</text>\n",
       "</g>\n",
       "<!-- q351 -->\n",
       "<g id=\"node4\" class=\"node\">\n",
       "<title>q351</title>\n",
       "<polygon fill=\"none\" stroke=\"black\" points=\"200,-36 146,-36 146,0 200,0 200,-36\"/>\n",
       "<text text-anchor=\"middle\" x=\"173\" y=\"-12.95\" font-family=\"Times New Roman,serif\" font-size=\"14.00\">q351</text>\n",
       "</g>\n",
       "<!-- exposure_violence&#45;&gt;q351 -->\n",
       "<g id=\"edge3\" class=\"edge\">\n",
       "<title>exposure_violence&#45;&gt;q351</title>\n",
       "<path fill=\"none\" stroke=\"black\" d=\"M153.85,-102.08C158.39,-82.4 162.97,-62.5 166.52,-47.11\"/>\n",
       "<polygon fill=\"black\" stroke=\"black\" points=\"169.84,-48.3 168.67,-37.77 163.02,-46.73 169.84,-48.3\"/>\n",
       "<text text-anchor=\"middle\" x=\"189.56\" y=\"-71.1\" font-family=\"Times New Roman,serif\" font-size=\"12.00\">1.868</text>\n",
       "<text text-anchor=\"middle\" x=\"189.56\" y=\"-56.85\" font-family=\"Times New Roman,serif\" font-size=\"12.00\">p&#45;val: 0.00</text>\n",
       "</g>\n",
       "<!-- q352 -->\n",
       "<g id=\"node5\" class=\"node\">\n",
       "<title>q352</title>\n",
       "<polygon fill=\"none\" stroke=\"black\" points=\"274,-36 220,-36 220,0 274,0 274,-36\"/>\n",
       "<text text-anchor=\"middle\" x=\"247\" y=\"-12.95\" font-family=\"Times New Roman,serif\" font-size=\"14.00\">q352</text>\n",
       "</g>\n",
       "<!-- exposure_violence&#45;&gt;q352 -->\n",
       "<g id=\"edge4\" class=\"edge\">\n",
       "<title>exposure_violence&#45;&gt;q352</title>\n",
       "<path fill=\"none\" stroke=\"black\" d=\"M190.48,-121.36C200.65,-109.03 210.68,-95.73 219,-82.5 225.93,-71.49 231.99,-58.46 236.69,-47.09\"/>\n",
       "<polygon fill=\"black\" stroke=\"black\" points=\"239.94,-48.39 240.36,-37.8 233.43,-45.82 239.94,-48.39\"/>\n",
       "<text text-anchor=\"middle\" x=\"258.56\" y=\"-71.1\" font-family=\"Times New Roman,serif\" font-size=\"12.00\">2.027</text>\n",
       "<text text-anchor=\"middle\" x=\"258.56\" y=\"-56.85\" font-family=\"Times New Roman,serif\" font-size=\"12.00\">p&#45;val: 0.00</text>\n",
       "</g>\n",
       "</g>\n",
       "</svg>\n"
      ],
      "text/plain": [
       "<graphviz.graphs.Digraph at 0x1fe3e988390>"
      ]
     },
     "execution_count": 53,
     "metadata": {},
     "output_type": "execute_result"
    }
   ],
   "source": [
    "semplot(model, 'C:\\\\git_files\\\\education_analysis\\\\happy\\\\school_violence.png')\n"
   ]
  },
  {
   "cell_type": "code",
   "execution_count": 54,
   "metadata": {},
   "outputs": [
    {
     "name": "stdout",
     "output_type": "stream",
     "text": [
      "        id sex  birthy birthm             area         size school grade  \\\n",
      "0  20001.0  여성  2003.0     4월  충청권(대전, 충남, 충북)  도서벽지 및 읍면지역   고등학생   3학년   \n",
      "1  20002.0  여성  2003.0     8월  충청권(대전, 충남, 충북)  도서벽지 및 읍면지역   고등학생   3학년   \n",
      "2  20003.0  여성  2003.0     9월  충청권(대전, 충남, 충북)  도서벽지 및 읍면지역   고등학생   3학년   \n",
      "3  20004.0  남성  2003.0     8월  충청권(대전, 충남, 충북)  도서벽지 및 읍면지역   고등학생   3학년   \n",
      "4  20005.0  남성  2003.0     2월  충청권(대전, 충남, 충북)  도서벽지 및 읍면지역   고등학생   3학년   \n",
      "\n",
      "  home1 home2  ... academic_pressure academic_stress exam_anxiety human_rel  \\\n",
      "0   아니오   아니오  ...         -0.151269        0.002721    -0.473646 -0.035736   \n",
      "1     예     예  ...         -0.148003       -0.143278    -0.232102  0.045446   \n",
      "2     예     예  ...         -0.190091       -0.065955    -0.485246  0.040287   \n",
      "3     예     예  ...          0.052016        0.058772     0.068234 -0.055024   \n",
      "4   아니오     예  ...          0.099197        0.294010    -0.158236  0.083284   \n",
      "\n",
      "  teacher_rel friend_rel parent_rel group_rel emotional_state  \\\n",
      "0   -0.111158   0.064802   0.213652 -0.146914       -0.167932   \n",
      "1   -0.030554   0.093485   0.208344  0.059625        0.058954   \n",
      "2    0.221778   0.003457  -0.054230  0.082943       -0.085814   \n",
      "3   -0.029132  -0.165142  -0.071565 -0.055185        0.044651   \n",
      "4    0.240521   0.075157   0.205870  0.132077        0.205492   \n",
      "\n",
      "  exposure_violence  \n",
      "0         -0.024783  \n",
      "1         -0.024538  \n",
      "2         -0.024783  \n",
      "3         -0.024293  \n",
      "4         -0.024783  \n",
      "\n",
      "[5 rows x 287 columns]\n"
     ]
    },
    {
     "data": {
      "image/png": "[encoded data removed]",
      "text/plain": [
       "<Figure size 640x480 with 1 Axes>"
      ]
     },
     "metadata": {},
     "output_type": "display_data"
    }
   ],
   "source": [
    "factor_scores = model.predict_factors(df_vio)\n",
    "\n",
    "df[\"exposure_violence\"] = factor_scores[\"exposure_violence\"]\n",
    "\n",
    "print(df.head())\n",
    "plt.hist(df[\"exposure_violence\"], bins=20, color='blue')\n",
    "plt.title(\"Distribution of exposure violence Factor\")\n",
    "plt.xlabel(\"exposure violence Factor\")\n",
    "plt.ylabel(\"Frequency\")\n",
    "plt.show()"
   ]
  },
  {
   "cell_type": "code",
   "execution_count": 55,
   "metadata": {},
   "outputs": [
    {
     "data": {
      "text/plain": [
       "exposure_violence\n",
       "-0.024538    1636\n",
       "-0.024783    1625\n",
       "-0.024293    1260\n",
       "-0.024048     418\n",
       "-0.023803     268\n",
       " 0.607752      20\n",
       " 0.891943      18\n",
       " 0.765818      16\n",
       " 0.607507      15\n",
       " 0.891698      14\n",
       " 0.892188      12\n",
       " 0.607997       9\n",
       " 0.607262       9\n",
       " 0.765573       9\n",
       " 0.766063       9\n",
       " 0.766308       8\n",
       " 0.891453       6\n",
       " 0.891208       6\n",
       " 0.733142       4\n",
       " 0.733878       4\n",
       " 0.733387       4\n",
       " 0.733633       3\n",
       " 0.765328       2\n",
       " 0.608242       1\n",
       "Name: count, dtype: int64"
      ]
     },
     "execution_count": 55,
     "metadata": {},
     "output_type": "execute_result"
    }
   ],
   "source": [
    "df['exposure_violence'].value_counts()"
   ]
  },
  {
   "cell_type": "markdown",
   "metadata": {},
   "source": [
    "# 외모 및 신체 이미지"
   ]
  },
  {
   "cell_type": "code",
   "execution_count": 56,
   "metadata": {},
   "outputs": [
    {
     "data": {
      "text/plain": [
       "q42      0\n",
       "q43      0\n",
       "q4812    0\n",
       "q4813    0\n",
       "q4814    0\n",
       "q4815    0\n",
       "dtype: int64"
      ]
     },
     "execution_count": 56,
     "metadata": {},
     "output_type": "execute_result"
    }
   ],
   "source": [
    "body = df[['q42', 'q43', 'q4812', 'q4813', 'q4814', 'q4815']]\n",
    "body.isnull().sum()"
   ]
  },
  {
   "cell_type": "code",
   "execution_count": 57,
   "metadata": {},
   "outputs": [
    {
     "data": {
      "text/plain": [
       "q42\n",
       "160.0    361\n",
       "170.0    315\n",
       "165.0    263\n",
       "158.0    246\n",
       "163.0    243\n",
       "        ... \n",
       "185.4      1\n",
       "193.0      1\n",
       "192.0      1\n",
       "194.0      1\n",
       "200.0      1\n",
       "Name: count, Length: 241, dtype: int64"
      ]
     },
     "metadata": {},
     "output_type": "display_data"
    },
    {
     "data": {
      "text/plain": [
       "q43\n",
       "60.0     269\n",
       "50.0     266\n",
       "55.0     238\n",
       "53.0     195\n",
       "70.0     191\n",
       "        ... \n",
       "150.0      1\n",
       "161.0      1\n",
       "165.0      1\n",
       "190.0      1\n",
       "200.0      1\n",
       "Name: count, Length: 229, dtype: int64"
      ]
     },
     "metadata": {},
     "output_type": "display_data"
    },
    {
     "data": {
      "text/plain": [
       "q4812\n",
       "전혀 그렇지 않다    1959\n",
       "조금 그렇다       1018\n",
       "보통이다          952\n",
       "별로 그렇지 않다     945\n",
       "매우 그렇다        502\n",
       "Name: count, dtype: int64"
      ]
     },
     "metadata": {},
     "output_type": "display_data"
    },
    {
     "data": {
      "text/plain": [
       "q4813\n",
       "전혀 그렇지 않다    2346\n",
       "별로 그렇지 않다    1112\n",
       "보통이다          885\n",
       "조금 그렇다        742\n",
       "매우 그렇다        291\n",
       "Name: count, dtype: int64"
      ]
     },
     "metadata": {},
     "output_type": "display_data"
    },
    {
     "data": {
      "text/plain": [
       "q4814\n",
       "전혀 그렇지 않다    1984\n",
       "별로 그렇지 않다    1168\n",
       "보통이다         1064\n",
       "조금 그렇다        825\n",
       "매우 그렇다        335\n",
       "Name: count, dtype: int64"
      ]
     },
     "metadata": {},
     "output_type": "display_data"
    },
    {
     "data": {
      "text/plain": [
       "q4815\n",
       "전혀 그렇지 않다    2532\n",
       "별로 그렇지 않다    1156\n",
       "보통이다          838\n",
       "조금 그렇다        597\n",
       "매우 그렇다        253\n",
       "Name: count, dtype: int64"
      ]
     },
     "metadata": {},
     "output_type": "display_data"
    }
   ],
   "source": [
    "for i in body.columns:\n",
    "    display(body[i].value_counts())"
   ]
  },
  {
   "cell_type": "code",
   "execution_count": 58,
   "metadata": {},
   "outputs": [],
   "source": [
    "body = encoding(body, ['q4812', 'q4813', 'q4814', 'q4815'], category5_map)\n",
    "body = calculate_bmi(body, 'q42', 'q43')\n",
    "body['obesity'] = body['bmi'].apply(lambda x: (\n",
    "    0 if x < 18.5 else\n",
    "    1 if x < 23 else\n",
    "    2 if x < 25 else\n",
    "    3 if x < 30 else\n",
    "    4 if x < 35 else\n",
    "    5\n",
    "))\n",
    "\n",
    "body['obesity'] = body['obesity'].astype('category')"
   ]
  },
  {
   "cell_type": "code",
   "execution_count": 59,
   "metadata": {},
   "outputs": [],
   "source": [
    "scaler = MinMaxScaler()\n",
    "body[['q42', 'q43']] = scaler.fit_transform(body[['q42', 'q43']])"
   ]
  },
  {
   "cell_type": "code",
   "execution_count": 60,
   "metadata": {},
   "outputs": [
    {
     "name": "stdout",
     "output_type": "stream",
     "text": [
      "<class 'pandas.core.frame.DataFrame'>\n",
      "RangeIndex: 5376 entries, 0 to 5375\n",
      "Data columns (total 8 columns):\n",
      " #   Column   Non-Null Count  Dtype   \n",
      "---  ------   --------------  -----   \n",
      " 0   q42      5317 non-null   float64 \n",
      " 1   q43      5283 non-null   float64 \n",
      " 2   q4812    5376 non-null   category\n",
      " 3   q4813    5376 non-null   category\n",
      " 4   q4814    5376 non-null   category\n",
      " 5   q4815    5376 non-null   category\n",
      " 6   bmi      5283 non-null   float64 \n",
      " 7   obesity  5376 non-null   category\n",
      "dtypes: category(5), float64(3)\n",
      "memory usage: 153.4 KB\n"
     ]
    }
   ],
   "source": [
    "body.info()"
   ]
  },
  {
   "cell_type": "code",
   "execution_count": 61,
   "metadata": {},
   "outputs": [
    {
     "data": {
      "text/html": [
       "<div>\n",
       "<style scoped>\n",
       "    .dataframe tbody tr th:only-of-type {\n",
       "        vertical-align: middle;\n",
       "    }\n",
       "\n",
       "    .dataframe tbody tr th {\n",
       "        vertical-align: top;\n",
       "    }\n",
       "\n",
       "    .dataframe thead th {\n",
       "        text-align: right;\n",
       "    }\n",
       "</style>\n",
       "<table border=\"1\" class=\"dataframe\">\n",
       "  <thead>\n",
       "    <tr style=\"text-align: right;\">\n",
       "      <th></th>\n",
       "      <th>q42</th>\n",
       "      <th>q43</th>\n",
       "      <th>q4812</th>\n",
       "      <th>q4813</th>\n",
       "      <th>q4814</th>\n",
       "      <th>q4815</th>\n",
       "      <th>bmi</th>\n",
       "      <th>obesity</th>\n",
       "    </tr>\n",
       "  </thead>\n",
       "  <tbody>\n",
       "    <tr>\n",
       "      <th>0</th>\n",
       "      <td>0.58</td>\n",
       "      <td>0.277778</td>\n",
       "      <td>0</td>\n",
       "      <td>0</td>\n",
       "      <td>0</td>\n",
       "      <td>0</td>\n",
       "      <td>28.04</td>\n",
       "      <td>3</td>\n",
       "    </tr>\n",
       "    <tr>\n",
       "      <th>1</th>\n",
       "      <td>0.60</td>\n",
       "      <td>0.194444</td>\n",
       "      <td>2</td>\n",
       "      <td>0</td>\n",
       "      <td>0</td>\n",
       "      <td>0</td>\n",
       "      <td>21.48</td>\n",
       "      <td>1</td>\n",
       "    </tr>\n",
       "    <tr>\n",
       "      <th>2</th>\n",
       "      <td>0.66</td>\n",
       "      <td>0.188889</td>\n",
       "      <td>2</td>\n",
       "      <td>2</td>\n",
       "      <td>1</td>\n",
       "      <td>1</td>\n",
       "      <td>19.60</td>\n",
       "      <td>1</td>\n",
       "    </tr>\n",
       "  </tbody>\n",
       "</table>\n",
       "</div>"
      ],
      "text/plain": [
       "    q42       q43 q4812 q4813 q4814 q4815    bmi obesity\n",
       "0  0.58  0.277778     0     0     0     0  28.04       3\n",
       "1  0.60  0.194444     2     0     0     0  21.48       1\n",
       "2  0.66  0.188889     2     2     1     1  19.60       1"
      ]
     },
     "execution_count": 61,
     "metadata": {},
     "output_type": "execute_result"
    }
   ],
   "source": [
    "body.head(3)"
   ]
  },
  {
   "cell_type": "code",
   "execution_count": 62,
   "metadata": {},
   "outputs": [],
   "source": [
    "model_desc = '''\n",
    "body_stress =~ q4812 + q4813 + q4814 + q4815\n",
    "body_info =~ obesity\n",
    "\n",
    "body_image_experience =~ body_stress + body_info\n",
    "\n",
    "q4812 ~~ q4813\n",
    "q4812 ~~ obesity\n",
    "'''"
   ]
  },
  {
   "cell_type": "code",
   "execution_count": 63,
   "metadata": {},
   "outputs": [
    {
     "name": "stderr",
     "output_type": "stream",
     "text": [
      "WARNING:root:Fisher Information Matrix is not PD.Moore-Penrose inverse will be used instead of Cholesky decomposition. See 10.1109/TSP.2012.2208105.\n"
     ]
    },
    {
     "name": "stdout",
     "output_type": "stream",
     "text": [
      "적합도 지표:\n",
      "                      Value\n",
      "DoF               1.000000\n",
      "DoF Baseline     10.000000\n",
      "chi2             19.450122\n",
      "chi2 p-value      0.000010\n",
      "chi2 Baseline  6457.187876\n",
      "CFI               0.997138\n",
      "GFI               0.996988\n",
      "AGFI              0.969878\n",
      "NFI               0.996988\n",
      "TLI               0.971383\n",
      "RMSEA             0.058588\n",
      "AIC              27.992764\n",
      "BIC             120.248562\n",
      "LogLik            0.003618 \n",
      "\n",
      "\n",
      "모수 추정치:\n",
      "                      lval  op                   rval  Estimate  Std. Err  \\\n",
      "0             body_stress   ~  body_image_experience  1.000000         -   \n",
      "1               body_info   ~  body_image_experience  0.153791  0.037631   \n",
      "2                   q4812   ~            body_stress  1.000000         -   \n",
      "3                   q4813   ~            body_stress  0.724073  0.021249   \n",
      "4                   q4814   ~            body_stress  1.149342  0.027202   \n",
      "5                   q4815   ~            body_stress  0.945319  0.022608   \n",
      "6                 obesity   ~              body_info  1.000000         -   \n",
      "7   body_image_experience  ~~  body_image_experience  0.409587  0.019963   \n",
      "8               body_info  ~~              body_info  0.377381  0.013825   \n",
      "9             body_stress  ~~            body_stress  0.434368  0.017536   \n",
      "10                  q4812  ~~                  q4813  0.072048  0.017954   \n",
      "11                  q4812  ~~                obesity  0.358223    0.0191   \n",
      "12                  q4812  ~~                  q4812  1.080455  0.026463   \n",
      "13                obesity  ~~                obesity  1.041843  0.013825   \n",
      "14                  q4813  ~~                  q4813  1.123679  0.024443   \n",
      "15                  q4814  ~~                  q4814  0.479181   0.02114   \n",
      "16                  q4815  ~~                  q4815  0.688194  0.018485   \n",
      "\n",
      "      z-value   p-value  \n",
      "0           -         -  \n",
      "1    4.086863  0.000044  \n",
      "2           -         -  \n",
      "3   34.074846       0.0  \n",
      "4   42.251795       0.0  \n",
      "5   41.814357       0.0  \n",
      "6           -         -  \n",
      "7   20.516973       0.0  \n",
      "8   27.297186       0.0  \n",
      "9   24.770499       0.0  \n",
      "10    4.01302   0.00006  \n",
      "11  18.754854       0.0  \n",
      "12  40.829155       0.0  \n",
      "13  75.359755       0.0  \n",
      "14  45.971543       0.0  \n",
      "15  22.667023       0.0  \n",
      "16  37.229607       0.0  \n"
     ]
    }
   ],
   "source": [
    "body['wt'] = df['wt']\n",
    "observed_vars = ['q4812', 'q4813', 'q4814','q4815', 'obesity', 'q42', 'q43']\n",
    "w_cov_df = calculate_covariance(body, observed_vars)\n",
    "vif_df = compute_vif(body, observed_vars)\n",
    "model = Model(model_desc)\n",
    "model = fit_sem_model(model, body, w_cov_df)\n",
    "stats = calc_stats(model)\n",
    "estimates = model.inspect()\n",
    "print(\"적합도 지표:\\n\", stats.T, \"\\n\\n\")\n",
    "print(\"모수 추정치:\\n\", estimates)"
   ]
  },
  {
   "cell_type": "code",
   "execution_count": 64,
   "metadata": {},
   "outputs": [
    {
     "name": "stderr",
     "output_type": "stream",
     "text": [
      "WARNING:root:Fisher Information Matrix is not PD.Moore-Penrose inverse will be used instead of Cholesky decomposition. See 10.1109/TSP.2012.2208105.\n"
     ]
    },
    {
     "data": {
      "image/svg+xml": [
       "<?xml version=\"1.0\" encoding=\"UTF-8\" standalone=\"no\"?>\n",
       "<!DOCTYPE svg PUBLIC \"-//W3C//DTD SVG 1.1//EN\"\n",
       " \"http://www.w3.org/Graphics/SVG/1.1/DTD/svg11.dtd\">\n",
       "<!-- Generated by graphviz version 12.2.1 (20241206.2353)\n",
       " -->\n",
       "<!-- Title: G Pages: 1 -->\n",
       "<svg width=\"375pt\" height=\"485pt\"\n",
       " viewBox=\"0.00 0.00 375.13 484.86\" xmlns=\"http://www.w3.org/2000/svg\" xmlns:xlink=\"http://www.w3.org/1999/xlink\">\n",
       "<g id=\"graph0\" class=\"graph\" transform=\"scale(1 1) rotate(0) translate(4 480.86)\">\n",
       "<title>G</title>\n",
       "<polygon fill=\"white\" stroke=\"none\" points=\"-4,4 -4,-480.86 371.13,-480.86 371.13,4 -4,4\"/>\n",
       "<!-- body_info -->\n",
       "<g id=\"node1\" class=\"node\">\n",
       "<title>body_info</title>\n",
       "<ellipse fill=\"#cae6df\" stroke=\"black\" cx=\"48.79\" cy=\"-154.92\" rx=\"48.79\" ry=\"48.79\"/>\n",
       "<text text-anchor=\"middle\" x=\"48.79\" y=\"-149.87\" font-family=\"Times New Roman,serif\" font-size=\"14.00\">body_info</text>\n",
       "</g>\n",
       "<!-- obesity -->\n",
       "<g id=\"node4\" class=\"node\">\n",
       "<title>obesity</title>\n",
       "<polygon fill=\"none\" stroke=\"black\" points=\"64.29,-36 9.29,-36 9.29,0 64.29,0 64.29,-36\"/>\n",
       "<text text-anchor=\"middle\" x=\"36.79\" y=\"-12.95\" font-family=\"Times New Roman,serif\" font-size=\"14.00\">obesity</text>\n",
       "</g>\n",
       "<!-- body_info&#45;&gt;obesity -->\n",
       "<g id=\"edge7\" class=\"edge\">\n",
       "<title>body_info&#45;&gt;obesity</title>\n",
       "<path fill=\"none\" stroke=\"black\" d=\"M44.53,-105.97C42.79,-86.47 40.85,-64.59 39.34,-47.65\"/>\n",
       "<polygon fill=\"black\" stroke=\"black\" points=\"42.84,-47.45 38.46,-37.8 35.86,-48.07 42.84,-47.45\"/>\n",
       "<text text-anchor=\"middle\" x=\"55.93\" y=\"-63.98\" font-family=\"Times New Roman,serif\" font-size=\"12.00\">1.000</text>\n",
       "</g>\n",
       "<!-- body_stress -->\n",
       "<g id=\"node2\" class=\"node\">\n",
       "<title>body_stress</title>\n",
       "<ellipse fill=\"#cae6df\" stroke=\"black\" cx=\"180.79\" cy=\"-154.92\" rx=\"54.42\" ry=\"54.42\"/>\n",
       "<text text-anchor=\"middle\" x=\"180.79\" y=\"-149.87\" font-family=\"Times New Roman,serif\" font-size=\"14.00\">body_stress</text>\n",
       "</g>\n",
       "<!-- q4812 -->\n",
       "<g id=\"node5\" class=\"node\">\n",
       "<title>q4812</title>\n",
       "<polygon fill=\"none\" stroke=\"black\" points=\"136.79,-36 82.79,-36 82.79,0 136.79,0 136.79,-36\"/>\n",
       "<text text-anchor=\"middle\" x=\"109.79\" y=\"-12.95\" font-family=\"Times New Roman,serif\" font-size=\"14.00\">q4812</text>\n",
       "</g>\n",
       "<!-- body_stress&#45;&gt;q4812 -->\n",
       "<g id=\"edge3\" class=\"edge\">\n",
       "<title>body_stress&#45;&gt;q4812</title>\n",
       "<path fill=\"none\" stroke=\"black\" d=\"M155.76,-106.35C145.18,-86.25 133.24,-63.55 124.18,-46.34\"/>\n",
       "<polygon fill=\"black\" stroke=\"black\" points=\"127.41,-44.96 119.65,-37.74 121.21,-48.22 127.41,-44.96\"/>\n",
       "<text text-anchor=\"middle\" x=\"156.66\" y=\"-63.98\" font-family=\"Times New Roman,serif\" font-size=\"12.00\">1.000</text>\n",
       "</g>\n",
       "<!-- q4813 -->\n",
       "<g id=\"node6\" class=\"node\">\n",
       "<title>q4813</title>\n",
       "<polygon fill=\"none\" stroke=\"black\" points=\"208.79,-36 154.79,-36 154.79,0 208.79,0 208.79,-36\"/>\n",
       "<text text-anchor=\"middle\" x=\"181.79\" y=\"-12.95\" font-family=\"Times New Roman,serif\" font-size=\"14.00\">q4813</text>\n",
       "</g>\n",
       "<!-- body_stress&#45;&gt;q4813 -->\n",
       "<g id=\"edge4\" class=\"edge\">\n",
       "<title>body_stress&#45;&gt;q4813</title>\n",
       "<path fill=\"none\" stroke=\"black\" d=\"M181.19,-100.21C181.32,-82.23 181.47,-62.9 181.58,-47.6\"/>\n",
       "<polygon fill=\"black\" stroke=\"black\" points=\"185.08,-47.85 181.65,-37.82 178.08,-47.8 185.08,-47.85\"/>\n",
       "<text text-anchor=\"middle\" x=\"207.02\" y=\"-71.1\" font-family=\"Times New Roman,serif\" font-size=\"12.00\">0.724</text>\n",
       "<text text-anchor=\"middle\" x=\"207.02\" y=\"-56.85\" font-family=\"Times New Roman,serif\" font-size=\"12.00\">p&#45;val: 0.00</text>\n",
       "</g>\n",
       "<!-- q4814 -->\n",
       "<g id=\"node7\" class=\"node\">\n",
       "<title>q4814</title>\n",
       "<polygon fill=\"none\" stroke=\"black\" points=\"281.79,-36 227.79,-36 227.79,0 281.79,0 281.79,-36\"/>\n",
       "<text text-anchor=\"middle\" x=\"254.79\" y=\"-12.95\" font-family=\"Times New Roman,serif\" font-size=\"14.00\">q4814</text>\n",
       "</g>\n",
       "<!-- body_stress&#45;&gt;q4814 -->\n",
       "<g id=\"edge5\" class=\"edge\">\n",
       "<title>body_stress&#45;&gt;q4814</title>\n",
       "<path fill=\"none\" stroke=\"black\" d=\"M214.57,-111.82C221.15,-102.5 227.61,-92.42 232.79,-82.5 238.57,-71.45 243.35,-58.56 246.97,-47.29\"/>\n",
       "<polygon fill=\"black\" stroke=\"black\" points=\"250.32,-48.31 249.87,-37.73 243.62,-46.28 250.32,-48.31\"/>\n",
       "<text text-anchor=\"middle\" x=\"269.75\" y=\"-71.1\" font-family=\"Times New Roman,serif\" font-size=\"12.00\">1.149</text>\n",
       "<text text-anchor=\"middle\" x=\"269.75\" y=\"-56.85\" font-family=\"Times New Roman,serif\" font-size=\"12.00\">p&#45;val: 0.00</text>\n",
       "</g>\n",
       "<!-- q4815 -->\n",
       "<g id=\"node8\" class=\"node\">\n",
       "<title>q4815</title>\n",
       "<polygon fill=\"none\" stroke=\"black\" points=\"355.79,-36 301.79,-36 301.79,0 355.79,0 355.79,-36\"/>\n",
       "<text text-anchor=\"middle\" x=\"328.79\" y=\"-12.95\" font-family=\"Times New Roman,serif\" font-size=\"14.00\">q4815</text>\n",
       "</g>\n",
       "<!-- body_stress&#45;&gt;q4815 -->\n",
       "<g id=\"edge6\" class=\"edge\">\n",
       "<title>body_stress&#45;&gt;q4815</title>\n",
       "<path fill=\"none\" stroke=\"black\" d=\"M230.49,-132.17C253.54,-120.15 279.95,-103.39 298.79,-82.5 307.89,-72.41 314.75,-59.08 319.6,-47.24\"/>\n",
       "<polygon fill=\"black\" stroke=\"black\" points=\"322.86,-48.5 323.1,-37.91 316.31,-46.04 322.86,-48.5\"/>\n",
       "<text text-anchor=\"middle\" x=\"341.63\" y=\"-71.1\" font-family=\"Times New Roman,serif\" font-size=\"12.00\">0.945</text>\n",
       "<text text-anchor=\"middle\" x=\"341.63\" y=\"-56.85\" font-family=\"Times New Roman,serif\" font-size=\"12.00\">p&#45;val: 0.00</text>\n",
       "</g>\n",
       "<!-- body_image_experience -->\n",
       "<g id=\"node3\" class=\"node\">\n",
       "<title>body_image_experience</title>\n",
       "<ellipse fill=\"#cae6df\" stroke=\"black\" cx=\"108.79\" cy=\"-375.35\" rx=\"101.51\" ry=\"101.51\"/>\n",
       "<text text-anchor=\"middle\" x=\"108.79\" y=\"-370.3\" font-family=\"Times New Roman,serif\" font-size=\"14.00\">body_image_experience</text>\n",
       "</g>\n",
       "<!-- body_image_experience&#45;&gt;body_info -->\n",
       "<g id=\"edge2\" class=\"edge\">\n",
       "<title>body_image_experience&#45;&gt;body_info</title>\n",
       "<path fill=\"none\" stroke=\"black\" d=\"M82.04,-276.96C76.05,-255.17 69.9,-232.75 64.53,-213.22\"/>\n",
       "<polygon fill=\"black\" stroke=\"black\" points=\"67.98,-212.56 61.96,-203.85 61.23,-214.42 67.98,-212.56\"/>\n",
       "<text text-anchor=\"middle\" x=\"100.7\" y=\"-244.44\" font-family=\"Times New Roman,serif\" font-size=\"12.00\">0.154</text>\n",
       "<text text-anchor=\"middle\" x=\"100.7\" y=\"-230.19\" font-family=\"Times New Roman,serif\" font-size=\"12.00\">p&#45;val: 0.00</text>\n",
       "</g>\n",
       "<!-- body_image_experience&#45;&gt;body_stress -->\n",
       "<g id=\"edge1\" class=\"edge\">\n",
       "<title>body_image_experience&#45;&gt;body_stress</title>\n",
       "<path fill=\"none\" stroke=\"black\" d=\"M140.37,-278.55C147.16,-257.94 154.17,-236.7 160.4,-217.79\"/>\n",
       "<polygon fill=\"black\" stroke=\"black\" points=\"163.69,-218.99 163.5,-208.4 157.04,-216.8 163.69,-218.99\"/>\n",
       "<text text-anchor=\"middle\" x=\"168.95\" y=\"-237.32\" font-family=\"Times New Roman,serif\" font-size=\"12.00\">1.000</text>\n",
       "</g>\n",
       "</g>\n",
       "</svg>\n"
      ],
      "text/plain": [
       "<graphviz.graphs.Digraph at 0x1fe3e708750>"
      ]
     },
     "execution_count": 64,
     "metadata": {},
     "output_type": "execute_result"
    }
   ],
   "source": [
    "semplot(model, 'C:\\\\git_files\\\\education_analysis\\\\happy\\\\body_image_experience.png')"
   ]
  },
  {
   "cell_type": "code",
   "execution_count": 65,
   "metadata": {},
   "outputs": [
    {
     "name": "stdout",
     "output_type": "stream",
     "text": [
      "        id sex  birthy birthm             area         size school grade  \\\n",
      "0  20001.0  여성  2003.0     4월  충청권(대전, 충남, 충북)  도서벽지 및 읍면지역   고등학생   3학년   \n",
      "1  20002.0  여성  2003.0     8월  충청권(대전, 충남, 충북)  도서벽지 및 읍면지역   고등학생   3학년   \n",
      "2  20003.0  여성  2003.0     9월  충청권(대전, 충남, 충북)  도서벽지 및 읍면지역   고등학생   3학년   \n",
      "3  20004.0  남성  2003.0     8월  충청권(대전, 충남, 충북)  도서벽지 및 읍면지역   고등학생   3학년   \n",
      "4  20005.0  남성  2003.0     2월  충청권(대전, 충남, 충북)  도서벽지 및 읍면지역   고등학생   3학년   \n",
      "\n",
      "  home1 home2  ... academic_stress exam_anxiety human_rel teacher_rel  \\\n",
      "0   아니오   아니오  ...        0.002721    -0.473646 -0.035736   -0.111158   \n",
      "1     예     예  ...       -0.143278    -0.232102  0.045446   -0.030554   \n",
      "2     예     예  ...       -0.065955    -0.485246  0.040287    0.221778   \n",
      "3     예     예  ...        0.058772     0.068234 -0.055024   -0.029132   \n",
      "4   아니오     예  ...        0.294010    -0.158236  0.083284    0.240521   \n",
      "\n",
      "  friend_rel parent_rel group_rel emotional_state exposure_violence  \\\n",
      "0   0.064802   0.213652 -0.146914       -0.167932         -0.024783   \n",
      "1   0.093485   0.208344  0.059625        0.058954         -0.024538   \n",
      "2   0.003457  -0.054230  0.082943       -0.085814         -0.024783   \n",
      "3  -0.165142  -0.071565 -0.055185        0.044651         -0.024293   \n",
      "4   0.075157   0.205870  0.132077        0.205492         -0.024783   \n",
      "\n",
      "  body_image_experience  \n",
      "0             -0.468777  \n",
      "1             -0.366024  \n",
      "2              0.002915  \n",
      "3              0.313212  \n",
      "4              0.203523  \n",
      "\n",
      "[5 rows x 288 columns]\n"
     ]
    }
   ],
   "source": [
    "factor_scores = model.predict_factors(body)\n",
    "\n",
    "df[\"body_image_experience\"] = factor_scores[\"body_image_experience\"]\n",
    "\n",
    "print(df.head())\n"
   ]
  },
  {
   "cell_type": "code",
   "execution_count": 66,
   "metadata": {},
   "outputs": [
    {
     "data": {
      "image/png": "[encoded data removed]",
      "text/plain": [
       "<Figure size 640x480 with 1 Axes>"
      ]
     },
     "metadata": {},
     "output_type": "display_data"
    },
    {
     "data": {
      "text/plain": [
       "body_image_experience\n",
       "-0.490741    554\n",
       "-0.501723    238\n",
       "-0.103438    145\n",
       " 0.283865    107\n",
       "-0.468777    104\n",
       "            ... \n",
       " 0.116204      1\n",
       " 0.619568      1\n",
       " 0.145550      1\n",
       " 0.448571      1\n",
       " 0.801771      1\n",
       "Name: count, Length: 1300, dtype: int64"
      ]
     },
     "execution_count": 66,
     "metadata": {},
     "output_type": "execute_result"
    }
   ],
   "source": [
    "plt.hist(df[\"body_image_experience\"], bins=20, color='blue')\n",
    "plt.title(\"Distribution of body image experience\")\n",
    "plt.xlabel(\"body experience\")\n",
    "plt.ylabel(\"Frequency\")\n",
    "plt.show()\n",
    "df['body_image_experience'].value_counts()"
   ]
  },
  {
   "cell_type": "markdown",
   "metadata": {},
   "source": [
    "# 부모의 지원"
   ]
  },
  {
   "cell_type": "code",
   "execution_count": 67,
   "metadata": {},
   "outputs": [
    {
     "data": {
      "text/html": [
       "<div>\n",
       "<style scoped>\n",
       "    .dataframe tbody tr th:only-of-type {\n",
       "        vertical-align: middle;\n",
       "    }\n",
       "\n",
       "    .dataframe tbody tr th {\n",
       "        vertical-align: top;\n",
       "    }\n",
       "\n",
       "    .dataframe thead th {\n",
       "        text-align: right;\n",
       "    }\n",
       "</style>\n",
       "<table border=\"1\" class=\"dataframe\">\n",
       "  <thead>\n",
       "    <tr style=\"text-align: right;\">\n",
       "      <th></th>\n",
       "      <th>q38</th>\n",
       "      <th>q4816</th>\n",
       "      <th>q4817</th>\n",
       "      <th>q162</th>\n",
       "      <th>q172</th>\n",
       "      <th>need_money</th>\n",
       "    </tr>\n",
       "  </thead>\n",
       "  <tbody>\n",
       "    <tr>\n",
       "      <th>0</th>\n",
       "      <td>중의 하</td>\n",
       "      <td>전혀 그렇지 않다</td>\n",
       "      <td>전혀 그렇지 않다</td>\n",
       "      <td>매우 그렇다</td>\n",
       "      <td>매우 그렇다</td>\n",
       "      <td>1</td>\n",
       "    </tr>\n",
       "    <tr>\n",
       "      <th>1</th>\n",
       "      <td>중의 하</td>\n",
       "      <td>전혀 그렇지 않다</td>\n",
       "      <td>전혀 그렇지 않다</td>\n",
       "      <td>매우 그렇다</td>\n",
       "      <td>매우 그렇다</td>\n",
       "      <td>1</td>\n",
       "    </tr>\n",
       "    <tr>\n",
       "      <th>2</th>\n",
       "      <td>중의 상</td>\n",
       "      <td>별로 그렇지 않다</td>\n",
       "      <td>별로 그렇지 않다</td>\n",
       "      <td>매우 그렇다</td>\n",
       "      <td>보통이다</td>\n",
       "      <td>1</td>\n",
       "    </tr>\n",
       "  </tbody>\n",
       "</table>\n",
       "</div>"
      ],
      "text/plain": [
       "    q38      q4816      q4817    q162    q172  need_money\n",
       "0  중의 하  전혀 그렇지 않다  전혀 그렇지 않다  매우 그렇다  매우 그렇다           1\n",
       "1  중의 하  전혀 그렇지 않다  전혀 그렇지 않다  매우 그렇다  매우 그렇다           1\n",
       "2  중의 상  별로 그렇지 않다  별로 그렇지 않다  매우 그렇다    보통이다           1"
      ]
     },
     "execution_count": 67,
     "metadata": {},
     "output_type": "execute_result"
    }
   ],
   "source": [
    "# 재정적 지원\n",
    "financial_satis = ['q38', 'q4816', 'q4817']\n",
    "time_support = ['q162', 'q172']\n",
    "support = pd.concat([df[financial_satis], df[time_support]], axis=1)\n",
    "support['need_money'] = df['q27'].apply(lambda x: 0 if x == '돈' else 1)\n",
    "support.head(3)"
   ]
  },
  {
   "cell_type": "code",
   "execution_count": 68,
   "metadata": {},
   "outputs": [
    {
     "data": {
      "text/plain": [
       "q38\n",
       "중의 상    2655\n",
       "중의 하    1524\n",
       "상의 하     623\n",
       "상의 상     283\n",
       "하의 상     230\n",
       "하의 하      61\n",
       "Name: count, dtype: int64"
      ]
     },
     "metadata": {},
     "output_type": "display_data"
    },
    {
     "data": {
      "text/plain": [
       "q4816\n",
       "전혀 그렇지 않다    2779\n",
       "별로 그렇지 않다    1193\n",
       "보통이다          715\n",
       "조금 그렇다        460\n",
       "매우 그렇다        210\n",
       "해당사항 없음        19\n",
       "Name: count, dtype: int64"
      ]
     },
     "metadata": {},
     "output_type": "display_data"
    },
    {
     "data": {
      "text/plain": [
       "q4817\n",
       "전혀 그렇지 않다    2549\n",
       "별로 그렇지 않다    1263\n",
       "보통이다          863\n",
       "조금 그렇다        492\n",
       "매우 그렇다        209\n",
       "Name: count, dtype: int64"
      ]
     },
     "metadata": {},
     "output_type": "display_data"
    },
    {
     "data": {
      "text/plain": [
       "q162\n",
       "매우 그렇다       2244\n",
       "조금 그렇다       1190\n",
       "보통이다         1130\n",
       "별로 그렇지 않다     425\n",
       "해당사항 없음       215\n",
       "전혀 그렇지 않다     172\n",
       "Name: count, dtype: int64"
      ]
     },
     "metadata": {},
     "output_type": "display_data"
    },
    {
     "data": {
      "text/plain": [
       "q172\n",
       "매우 그렇다       2975\n",
       "조금 그렇다       1241\n",
       "보통이다          783\n",
       "별로 그렇지 않다     164\n",
       "해당사항 없음       146\n",
       "전혀 그렇지 않다      67\n",
       "Name: count, dtype: int64"
      ]
     },
     "metadata": {},
     "output_type": "display_data"
    },
    {
     "data": {
      "text/plain": [
       "need_money\n",
       "1    3752\n",
       "0    1624\n",
       "Name: count, dtype: int64"
      ]
     },
     "metadata": {},
     "output_type": "display_data"
    }
   ],
   "source": [
    "for i in support.columns:\n",
    "    display(support[i].value_counts())"
   ]
  },
  {
   "cell_type": "code",
   "execution_count": 69,
   "metadata": {},
   "outputs": [
    {
     "data": {
      "text/html": [
       "<div>\n",
       "<style scoped>\n",
       "    .dataframe tbody tr th:only-of-type {\n",
       "        vertical-align: middle;\n",
       "    }\n",
       "\n",
       "    .dataframe tbody tr th {\n",
       "        vertical-align: top;\n",
       "    }\n",
       "\n",
       "    .dataframe thead th {\n",
       "        text-align: right;\n",
       "    }\n",
       "</style>\n",
       "<table border=\"1\" class=\"dataframe\">\n",
       "  <thead>\n",
       "    <tr style=\"text-align: right;\">\n",
       "      <th></th>\n",
       "      <th>q38</th>\n",
       "      <th>q4816</th>\n",
       "      <th>q4817</th>\n",
       "      <th>q162</th>\n",
       "      <th>q172</th>\n",
       "      <th>need_money</th>\n",
       "    </tr>\n",
       "  </thead>\n",
       "  <tbody>\n",
       "    <tr>\n",
       "      <th>0</th>\n",
       "      <td>1</td>\n",
       "      <td>4</td>\n",
       "      <td>4</td>\n",
       "      <td>4</td>\n",
       "      <td>4</td>\n",
       "      <td>1</td>\n",
       "    </tr>\n",
       "    <tr>\n",
       "      <th>1</th>\n",
       "      <td>1</td>\n",
       "      <td>4</td>\n",
       "      <td>4</td>\n",
       "      <td>4</td>\n",
       "      <td>4</td>\n",
       "      <td>1</td>\n",
       "    </tr>\n",
       "    <tr>\n",
       "      <th>2</th>\n",
       "      <td>1</td>\n",
       "      <td>3</td>\n",
       "      <td>3</td>\n",
       "      <td>4</td>\n",
       "      <td>2</td>\n",
       "      <td>1</td>\n",
       "    </tr>\n",
       "  </tbody>\n",
       "</table>\n",
       "</div>"
      ],
      "text/plain": [
       "  q38 q4816 q4817 q162 q172  need_money\n",
       "0   1     4     4    4    4           1\n",
       "1   1     4     4    4    4           1\n",
       "2   1     3     3    4    2           1"
      ]
     },
     "execution_count": 69,
     "metadata": {},
     "output_type": "execute_result"
    }
   ],
   "source": [
    "support = encoding(support, ['q38'], how_high_map)\n",
    "support = not_applicable(support, ['q4816', 'q162','q172'])\n",
    "support = encoding(support, ['q4816', 'q4817'], reverse_category5_map)\n",
    "support = encoding(support, ['q162', 'q172'], category5_map)\n",
    "support['need_money'].astype('category')\n",
    "support.head(3)"
   ]
  },
  {
   "cell_type": "code",
   "execution_count": 70,
   "metadata": {},
   "outputs": [],
   "source": [
    "scaler = MinMaxScaler()\n",
    "support[['q4816', 'q4817', 'q162', 'q172']] = scaler.fit_transform(support[['q4816', 'q4817', 'q162', 'q172']])"
   ]
  },
  {
   "cell_type": "code",
   "execution_count": 71,
   "metadata": {},
   "outputs": [],
   "source": [
    "support['q38'] = pd.Categorical(support['q38'], categories=[0, 1, 2], ordered=True)"
   ]
  },
  {
   "cell_type": "code",
   "execution_count": 72,
   "metadata": {},
   "outputs": [
    {
     "name": "stdout",
     "output_type": "stream",
     "text": [
      "<class 'pandas.core.frame.DataFrame'>\n",
      "RangeIndex: 5376 entries, 0 to 5375\n",
      "Data columns (total 6 columns):\n",
      " #   Column      Non-Null Count  Dtype   \n",
      "---  ------      --------------  -----   \n",
      " 0   q38         5376 non-null   category\n",
      " 1   q4816       5376 non-null   float64 \n",
      " 2   q4817       5376 non-null   float64 \n",
      " 3   q162        5376 non-null   float64 \n",
      " 4   q172        5376 non-null   float64 \n",
      " 5   need_money  5376 non-null   int64   \n",
      "dtypes: category(1), float64(4), int64(1)\n",
      "memory usage: 215.5 KB\n"
     ]
    }
   ],
   "source": [
    "support.info()"
   ]
  },
  {
   "cell_type": "code",
   "execution_count": 73,
   "metadata": {},
   "outputs": [],
   "source": [
    "model_desc = \"\"\"\n",
    "    financial_satis =~ q4816 + q4817 + need_money\n",
    "    financial_environment =~ q38\n",
    "    time_support =~ q162 + q172\n",
    "    support =~ financial_satis + time_support\n",
    "    financial_satis ~~ financial_environment\n",
    "\"\"\"\n"
   ]
  },
  {
   "cell_type": "code",
   "execution_count": 74,
   "metadata": {},
   "outputs": [],
   "source": [
    "support['wt'] = df['wt']\n",
    "observed_vars = ['q38', 'q4816', 'q4817', 'q162', 'q172', 'need_money']\n",
    "w_cov_df = calculate_covariance(support, observed_vars)"
   ]
  },
  {
   "cell_type": "code",
   "execution_count": 75,
   "metadata": {},
   "outputs": [
    {
     "name": "stderr",
     "output_type": "stream",
     "text": [
      "WARNING:root:Fisher Information Matrix is not PD.Moore-Penrose inverse will be used instead of Cholesky decomposition. See 10.1109/TSP.2012.2208105.\n",
      "WARNING:root:Fisher Information Matrix is not PD.Moore-Penrose inverse will be used instead of Cholesky decomposition. See 10.1109/TSP.2012.2208105.\n"
     ]
    },
    {
     "name": "stdout",
     "output_type": "stream",
     "text": [
      "적합도 지표:\n",
      "                      Value\n",
      "DoF               5.000000\n",
      "DoF Baseline     15.000000\n",
      "chi2             96.604627\n",
      "chi2 p-value      0.000000\n",
      "chi2 Baseline  6668.182831\n",
      "CFI               0.986231\n",
      "GFI               0.985513\n",
      "AGFI              0.956538\n",
      "NFI               0.985513\n",
      "TLI               0.958694\n",
      "RMSEA             0.058383\n",
      "AIC              31.964061\n",
      "BIC             137.399259\n",
      "LogLik            0.017970 \n",
      "\n",
      "\n",
      "모수 추정치:\n",
      "                      lval  op                   rval  Estimate  Std. Err  \\\n",
      "0         financial_satis   ~                support  1.000000         -   \n",
      "1            time_support   ~                support  0.418267  0.000961   \n",
      "2                   q4816   ~        financial_satis  1.000000         -   \n",
      "3                   q4817   ~        financial_satis  1.027646  0.032284   \n",
      "4              need_money   ~        financial_satis  0.498298  0.029271   \n",
      "5                     q38   ~  financial_environment  1.000000         -   \n",
      "6                    q162   ~           time_support  1.000000         -   \n",
      "7                    q172   ~           time_support  0.867215  0.054253   \n",
      "8         financial_satis  ~~  financial_environment -0.021160  0.003737   \n",
      "9         financial_satis  ~~        financial_satis  0.020871  0.002516   \n",
      "10  financial_environment  ~~  financial_environment  0.084663  0.002029   \n",
      "11  financial_environment  ~~                support  0.044317  0.003761   \n",
      "12                support  ~~                support  0.033043  0.002306   \n",
      "13           time_support  ~~           time_support  0.028598  0.002244   \n",
      "14             need_money  ~~             need_money  0.190550  0.003726   \n",
      "15                   q162  ~~                   q162  0.044440  0.002268   \n",
      "16                   q172  ~~                   q172  0.027905  0.001669   \n",
      "17                    q38  ~~                    q38  0.125753  0.002029   \n",
      "18                  q4816  ~~                  q4816  0.022939  0.001649   \n",
      "19                  q4817  ~~                  q4817  0.021055  0.001726   \n",
      "\n",
      "       z-value p-value  \n",
      "0            -       -  \n",
      "1   435.133626     0.0  \n",
      "2            -       -  \n",
      "3    31.831322     0.0  \n",
      "4    17.023394     0.0  \n",
      "5            -       -  \n",
      "6            -       -  \n",
      "7    15.984497     0.0  \n",
      "8    -5.662137     0.0  \n",
      "9     8.294364     0.0  \n",
      "10   41.721309     0.0  \n",
      "11   11.782004     0.0  \n",
      "12   14.329722     0.0  \n",
      "13   12.746925     0.0  \n",
      "14   51.143865     0.0  \n",
      "15   19.590661     0.0  \n",
      "16   16.722828     0.0  \n",
      "17   61.970542     0.0  \n",
      "18   13.909303     0.0  \n",
      "19   12.198836     0.0  \n"
     ]
    },
    {
     "data": {
      "image/svg+xml": [
       "<?xml version=\"1.0\" encoding=\"UTF-8\" standalone=\"no\"?>\n",
       "<!DOCTYPE svg PUBLIC \"-//W3C//DTD SVG 1.1//EN\"\n",
       " \"http://www.w3.org/Graphics/SVG/1.1/DTD/svg11.dtd\">\n",
       "<!-- Generated by graphviz version 12.2.1 (20241206.2353)\n",
       " -->\n",
       "<!-- Title: G Pages: 1 -->\n",
       "<svg width=\"459pt\" height=\"491pt\"\n",
       " viewBox=\"0.00 0.00 458.55 491.00\" xmlns=\"http://www.w3.org/2000/svg\" xmlns:xlink=\"http://www.w3.org/1999/xlink\">\n",
       "<g id=\"graph0\" class=\"graph\" transform=\"scale(1 1) rotate(0) translate(4 487)\">\n",
       "<title>G</title>\n",
       "<polygon fill=\"white\" stroke=\"none\" points=\"-4,4 -4,-487 454.55,-487 454.55,4 -4,4\"/>\n",
       "<!-- financial_environment -->\n",
       "<g id=\"node1\" class=\"node\">\n",
       "<title>financial_environment</title>\n",
       "<ellipse fill=\"#cae6df\" stroke=\"black\" cx=\"94.86\" cy=\"-388.15\" rx=\"94.86\" ry=\"94.86\"/>\n",
       "<text text-anchor=\"middle\" x=\"94.86\" y=\"-383.1\" font-family=\"Times New Roman,serif\" font-size=\"14.00\">financial_environment</text>\n",
       "</g>\n",
       "<!-- q38 -->\n",
       "<g id=\"node8\" class=\"node\">\n",
       "<title>q38</title>\n",
       "<polygon fill=\"none\" stroke=\"black\" points=\"121.86,-182.65 67.86,-182.65 67.86,-146.65 121.86,-146.65 121.86,-182.65\"/>\n",
       "<text text-anchor=\"middle\" x=\"94.86\" y=\"-159.6\" font-family=\"Times New Roman,serif\" font-size=\"14.00\">q38</text>\n",
       "</g>\n",
       "<!-- financial_environment&#45;&gt;q38 -->\n",
       "<g id=\"edge6\" class=\"edge\">\n",
       "<title>financial_environment&#45;&gt;q38</title>\n",
       "<path fill=\"none\" stroke=\"black\" d=\"M94.86,-292.89C94.86,-257.27 94.86,-219.32 94.86,-194.23\"/>\n",
       "<polygon fill=\"black\" stroke=\"black\" points=\"98.36,-194.53 94.86,-184.53 91.36,-194.53 98.36,-194.53\"/>\n",
       "<text text-anchor=\"middle\" x=\"108.36\" y=\"-256.77\" font-family=\"Times New Roman,serif\" font-size=\"12.00\">1.000</text>\n",
       "</g>\n",
       "<!-- support -->\n",
       "<g id=\"node2\" class=\"node\">\n",
       "<title>support</title>\n",
       "<ellipse fill=\"#cae6df\" stroke=\"black\" cx=\"295.86\" cy=\"-388.15\" rx=\"38.56\" ry=\"38.56\"/>\n",
       "<text text-anchor=\"middle\" x=\"295.86\" y=\"-383.1\" font-family=\"Times New Roman,serif\" font-size=\"14.00\">support</text>\n",
       "</g>\n",
       "<!-- financial_satis -->\n",
       "<g id=\"node3\" class=\"node\">\n",
       "<title>financial_satis</title>\n",
       "<ellipse fill=\"#cae6df\" stroke=\"black\" cx=\"203.86\" cy=\"-164.65\" rx=\"64.15\" ry=\"64.15\"/>\n",
       "<text text-anchor=\"middle\" x=\"203.86\" y=\"-159.6\" font-family=\"Times New Roman,serif\" font-size=\"14.00\">financial_satis</text>\n",
       "</g>\n",
       "<!-- support&#45;&gt;financial_satis -->\n",
       "<g id=\"edge1\" class=\"edge\">\n",
       "<title>support&#45;&gt;financial_satis</title>\n",
       "<path fill=\"none\" stroke=\"black\" d=\"M281.28,-352.05C268.21,-320.58 248.66,-273.51 232.47,-234.54\"/>\n",
       "<polygon fill=\"black\" stroke=\"black\" points=\"235.87,-233.6 228.8,-225.7 229.4,-236.28 235.87,-233.6\"/>\n",
       "<text text-anchor=\"middle\" x=\"260.6\" y=\"-256.77\" font-family=\"Times New Roman,serif\" font-size=\"12.00\">1.000</text>\n",
       "</g>\n",
       "<!-- time_support -->\n",
       "<g id=\"node4\" class=\"node\">\n",
       "<title>time_support</title>\n",
       "<ellipse fill=\"#cae6df\" stroke=\"black\" cx=\"346.86\" cy=\"-164.65\" rx=\"60.05\" ry=\"60.05\"/>\n",
       "<text text-anchor=\"middle\" x=\"346.86\" y=\"-159.6\" font-family=\"Times New Roman,serif\" font-size=\"14.00\">time_support</text>\n",
       "</g>\n",
       "<!-- support&#45;&gt;time_support -->\n",
       "<g id=\"edge2\" class=\"edge\">\n",
       "<title>support&#45;&gt;time_support</title>\n",
       "<path fill=\"none\" stroke=\"black\" d=\"M304.39,-350.07C311.62,-318.69 322.17,-272.86 330.95,-234.73\"/>\n",
       "<polygon fill=\"black\" stroke=\"black\" points=\"334.32,-235.7 333.15,-225.16 327.5,-234.12 334.32,-235.7\"/>\n",
       "<text text-anchor=\"middle\" x=\"352.92\" y=\"-263.89\" font-family=\"Times New Roman,serif\" font-size=\"12.00\">0.418</text>\n",
       "<text text-anchor=\"middle\" x=\"352.92\" y=\"-249.64\" font-family=\"Times New Roman,serif\" font-size=\"12.00\">p&#45;val: 0.00</text>\n",
       "</g>\n",
       "<!-- need_money -->\n",
       "<g id=\"node5\" class=\"node\">\n",
       "<title>need_money</title>\n",
       "<polygon fill=\"none\" stroke=\"black\" points=\"156.73,-36 70.98,-36 70.98,0 156.73,0 156.73,-36\"/>\n",
       "<text text-anchor=\"middle\" x=\"113.86\" y=\"-12.95\" font-family=\"Times New Roman,serif\" font-size=\"14.00\">need_money</text>\n",
       "</g>\n",
       "<!-- financial_satis&#45;&gt;need_money -->\n",
       "<g id=\"edge5\" class=\"edge\">\n",
       "<title>financial_satis&#45;&gt;need_money</title>\n",
       "<path fill=\"none\" stroke=\"black\" d=\"M166.83,-111.84C160.31,-102.21 153.74,-92.14 147.86,-82.5 140.8,-70.93 133.62,-57.78 127.69,-46.46\"/>\n",
       "<polygon fill=\"black\" stroke=\"black\" points=\"130.83,-44.9 123.13,-37.62 124.61,-48.11 130.83,-44.9\"/>\n",
       "<text text-anchor=\"middle\" x=\"173.36\" y=\"-71.1\" font-family=\"Times New Roman,serif\" font-size=\"12.00\">0.498</text>\n",
       "<text text-anchor=\"middle\" x=\"173.36\" y=\"-56.85\" font-family=\"Times New Roman,serif\" font-size=\"12.00\">p&#45;val: 0.00</text>\n",
       "</g>\n",
       "<!-- q4816 -->\n",
       "<g id=\"node9\" class=\"node\">\n",
       "<title>q4816</title>\n",
       "<polygon fill=\"none\" stroke=\"black\" points=\"228.86,-36 174.86,-36 174.86,0 228.86,0 228.86,-36\"/>\n",
       "<text text-anchor=\"middle\" x=\"201.86\" y=\"-12.95\" font-family=\"Times New Roman,serif\" font-size=\"14.00\">q4816</text>\n",
       "</g>\n",
       "<!-- financial_satis&#45;&gt;q4816 -->\n",
       "<g id=\"edge3\" class=\"edge\">\n",
       "<title>financial_satis&#45;&gt;q4816</title>\n",
       "<path fill=\"none\" stroke=\"black\" d=\"M202.98,-100.2C202.72,-81.75 202.46,-62.52 202.25,-47.41\"/>\n",
       "<polygon fill=\"black\" stroke=\"black\" points=\"205.75,-47.73 202.11,-37.78 198.75,-47.83 205.75,-47.73\"/>\n",
       "<text text-anchor=\"middle\" x=\"216.18\" y=\"-63.98\" font-family=\"Times New Roman,serif\" font-size=\"12.00\">1.000</text>\n",
       "</g>\n",
       "<!-- q4817 -->\n",
       "<g id=\"node10\" class=\"node\">\n",
       "<title>q4817</title>\n",
       "<polygon fill=\"none\" stroke=\"black\" points=\"300.86,-36 246.86,-36 246.86,0 300.86,0 300.86,-36\"/>\n",
       "<text text-anchor=\"middle\" x=\"273.86\" y=\"-12.95\" font-family=\"Times New Roman,serif\" font-size=\"14.00\">q4817</text>\n",
       "</g>\n",
       "<!-- financial_satis&#45;&gt;q4817 -->\n",
       "<g id=\"edge4\" class=\"edge\">\n",
       "<title>financial_satis&#45;&gt;q4817</title>\n",
       "<path fill=\"none\" stroke=\"black\" d=\"M231.52,-106.48C241.49,-85.88 252.29,-63.56 260.49,-46.63\"/>\n",
       "<polygon fill=\"black\" stroke=\"black\" points=\"263.6,-48.23 264.8,-37.71 257.3,-45.18 263.6,-48.23\"/>\n",
       "<text text-anchor=\"middle\" x=\"280.58\" y=\"-71.1\" font-family=\"Times New Roman,serif\" font-size=\"12.00\">1.028</text>\n",
       "<text text-anchor=\"middle\" x=\"280.58\" y=\"-56.85\" font-family=\"Times New Roman,serif\" font-size=\"12.00\">p&#45;val: 0.00</text>\n",
       "</g>\n",
       "<!-- q162 -->\n",
       "<g id=\"node6\" class=\"node\">\n",
       "<title>q162</title>\n",
       "<polygon fill=\"none\" stroke=\"black\" points=\"373.86,-36 319.86,-36 319.86,0 373.86,0 373.86,-36\"/>\n",
       "<text text-anchor=\"middle\" x=\"346.86\" y=\"-12.95\" font-family=\"Times New Roman,serif\" font-size=\"14.00\">q162</text>\n",
       "</g>\n",
       "<!-- time_support&#45;&gt;q162 -->\n",
       "<g id=\"edge7\" class=\"edge\">\n",
       "<title>time_support&#45;&gt;q162</title>\n",
       "<path fill=\"none\" stroke=\"black\" d=\"M346.86,-104.4C346.86,-84.87 346.86,-64.04 346.86,-47.83\"/>\n",
       "<polygon fill=\"black\" stroke=\"black\" points=\"350.36,-47.96 346.86,-37.96 343.36,-47.96 350.36,-47.96\"/>\n",
       "<text text-anchor=\"middle\" x=\"360.36\" y=\"-63.98\" font-family=\"Times New Roman,serif\" font-size=\"12.00\">1.000</text>\n",
       "</g>\n",
       "<!-- q172 -->\n",
       "<g id=\"node7\" class=\"node\">\n",
       "<title>q172</title>\n",
       "<polygon fill=\"none\" stroke=\"black\" points=\"445.86,-36 391.86,-36 391.86,0 445.86,0 445.86,-36\"/>\n",
       "<text text-anchor=\"middle\" x=\"418.86\" y=\"-12.95\" font-family=\"Times New Roman,serif\" font-size=\"14.00\">q172</text>\n",
       "</g>\n",
       "<!-- time_support&#45;&gt;q172 -->\n",
       "<g id=\"edge8\" class=\"edge\">\n",
       "<title>time_support&#45;&gt;q172</title>\n",
       "<path fill=\"none\" stroke=\"black\" d=\"M373.26,-110.61C384.08,-88.87 396.14,-64.63 405.14,-46.54\"/>\n",
       "<polygon fill=\"black\" stroke=\"black\" points=\"408.19,-48.28 409.51,-37.77 401.92,-45.16 408.19,-48.28\"/>\n",
       "<text text-anchor=\"middle\" x=\"425.05\" y=\"-71.1\" font-family=\"Times New Roman,serif\" font-size=\"12.00\">0.867</text>\n",
       "<text text-anchor=\"middle\" x=\"425.05\" y=\"-56.85\" font-family=\"Times New Roman,serif\" font-size=\"12.00\">p&#45;val: 0.00</text>\n",
       "</g>\n",
       "</g>\n",
       "</svg>\n"
      ],
      "text/plain": [
       "<graphviz.graphs.Digraph at 0x1fe3e944390>"
      ]
     },
     "execution_count": 75,
     "metadata": {},
     "output_type": "execute_result"
    }
   ],
   "source": [
    "model = Model(model_desc)\n",
    "model = fit_sem_model(model, support, w_cov_df)\n",
    "stats = calc_stats(model)\n",
    "estimates = model.inspect()\n",
    "print(\"적합도 지표:\\n\", stats.T, \"\\n\\n\")\n",
    "print(\"모수 추정치:\\n\", estimates)\n",
    "\n",
    "\n",
    "semplot(model, 'C:\\\\git_files\\\\education_analysis\\\\happy\\\\support.png')"
   ]
  },
  {
   "cell_type": "code",
   "execution_count": 76,
   "metadata": {},
   "outputs": [
    {
     "name": "stdout",
     "output_type": "stream",
     "text": [
      "        id sex  birthy birthm             area         size school grade  \\\n",
      "0  20001.0  여성  2003.0     4월  충청권(대전, 충남, 충북)  도서벽지 및 읍면지역   고등학생   3학년   \n",
      "1  20002.0  여성  2003.0     8월  충청권(대전, 충남, 충북)  도서벽지 및 읍면지역   고등학생   3학년   \n",
      "2  20003.0  여성  2003.0     9월  충청권(대전, 충남, 충북)  도서벽지 및 읍면지역   고등학생   3학년   \n",
      "3  20004.0  남성  2003.0     8월  충청권(대전, 충남, 충북)  도서벽지 및 읍면지역   고등학생   3학년   \n",
      "4  20005.0  남성  2003.0     2월  충청권(대전, 충남, 충북)  도서벽지 및 읍면지역   고등학생   3학년   \n",
      "\n",
      "  home1 home2  ... friend_rel parent_rel group_rel emotional_state  \\\n",
      "0   아니오   아니오  ...   0.064802   0.213652 -0.146914       -0.167932   \n",
      "1     예     예  ...   0.093485   0.208344  0.059625        0.058954   \n",
      "2     예     예  ...   0.003457  -0.054230  0.082943       -0.085814   \n",
      "3     예     예  ...  -0.165142  -0.071565 -0.055185        0.044651   \n",
      "4   아니오     예  ...   0.075157   0.205870  0.132077        0.205492   \n",
      "\n",
      "  exposure_violence body_image_experience   support time_support  \\\n",
      "0         -0.024783             -0.468777  0.108238     0.157240   \n",
      "1         -0.024538             -0.366024  0.108238     0.157240   \n",
      "2         -0.024783              0.002915 -0.026429    -0.050152   \n",
      "3         -0.024293              0.313212 -0.104924    -0.130389   \n",
      "4         -0.024783              0.203523  0.108238     0.157240   \n",
      "\n",
      "  financial_satis financial_environment  \n",
      "0        0.204060              0.043291  \n",
      "1        0.204060              0.043291  \n",
      "2       -0.008229             -0.055660  \n",
      "3       -0.140930             -0.104516  \n",
      "4        0.204060              0.043291  \n",
      "\n",
      "[5 rows x 292 columns]\n"
     ]
    },
    {
     "data": {
      "image/png": "[encoded data removed]",
      "text/plain": [
       "<Figure size 640x480 with 1 Axes>"
      ]
     },
     "metadata": {},
     "output_type": "display_data"
    },
    {
     "data": {
      "text/plain": [
       "support\n",
       " 0.108238    591\n",
       " 0.262738    240\n",
       " 0.096187    164\n",
       " 0.098022    140\n",
       " 0.001787    130\n",
       "            ... \n",
       "-0.128966      1\n",
       " 0.180034      1\n",
       "-0.307610      1\n",
       "-0.189030      1\n",
       "-0.177173      1\n",
       "Name: count, Length: 939, dtype: int64"
      ]
     },
     "execution_count": 76,
     "metadata": {},
     "output_type": "execute_result"
    }
   ],
   "source": [
    "factor_scores = model.predict_factors(support)\n",
    "\n",
    "df[\"support\"] = factor_scores[\"support\"]\n",
    "df['time_support'] = factor_scores[\"time_support\"]\n",
    "df['financial_satis'] = factor_scores[\"financial_satis\"]\n",
    "df['financial_environment'] = factor_scores[\"financial_environment\"]\n",
    "print(df.head())\n",
    "\n",
    "plt.hist(df[\"support\"], bins=20, color='blue')\n",
    "plt.title(\"Distribution of support\")\n",
    "plt.xlabel(\"support\")\n",
    "plt.ylabel(\"Frequency\")\n",
    "plt.show()\n",
    "df['support'].value_counts()"
   ]
  },
  {
   "cell_type": "markdown",
   "metadata": {},
   "source": [
    "# 위험행동"
   ]
  },
  {
   "cell_type": "code",
   "execution_count": 77,
   "metadata": {},
   "outputs": [
    {
     "data": {
      "text/plain": [
       "q302\n",
       "없다    1611\n",
       "있다     316\n",
       "Name: count, dtype: int64"
      ]
     },
     "execution_count": 77,
     "metadata": {},
     "output_type": "execute_result"
    }
   ],
   "source": [
    "df['q302'].value_counts()"
   ]
  },
  {
   "cell_type": "code",
   "execution_count": 78,
   "metadata": {},
   "outputs": [
    {
     "data": {
      "text/plain": [
       "q287     0\n",
       "q288     0\n",
       "q289     0\n",
       "q2810    0\n",
       "q29      0\n",
       "q31      0\n",
       "dtype: int64"
      ]
     },
     "execution_count": 78,
     "metadata": {},
     "output_type": "execute_result"
    }
   ],
   "source": [
    "crisis = df[['q287', 'q288', 'q289', 'q2810','q29', 'q31']]\n",
    "crisis.isnull().sum()"
   ]
  },
  {
   "cell_type": "code",
   "execution_count": 79,
   "metadata": {},
   "outputs": [
    {
     "name": "stdout",
     "output_type": "stream",
     "text": [
      "<class 'pandas.core.frame.DataFrame'>\n",
      "RangeIndex: 5376 entries, 0 to 5375\n",
      "Data columns (total 6 columns):\n",
      " #   Column  Non-Null Count  Dtype   \n",
      "---  ------  --------------  -----   \n",
      " 0   q287    5376 non-null   category\n",
      " 1   q288    5376 non-null   category\n",
      " 2   q289    5376 non-null   category\n",
      " 3   q2810   5376 non-null   category\n",
      " 4   q29     5376 non-null   category\n",
      " 5   q31     5376 non-null   category\n",
      "dtypes: category(6)\n",
      "memory usage: 32.5 KB\n"
     ]
    }
   ],
   "source": [
    "crisis.info()"
   ]
  },
  {
   "cell_type": "code",
   "execution_count": 80,
   "metadata": {},
   "outputs": [],
   "source": [
    "crisis = encoding(crisis, ['q287', 'q288', 'q289', 'q2810'], yes_or_no_map)\n",
    "crisis = encoding(crisis, ['q29', 'q31'], how_much_is_map)\n",
    "# crisis = encoding(crisis, ['q302'], is_or_not_map)\n",
    "\n",
    "crisis = null0(crisis)"
   ]
  },
  {
   "cell_type": "code",
   "execution_count": 81,
   "metadata": {},
   "outputs": [],
   "source": [
    "model_desc = \"\"\"\n",
    "    substance =~  q287 + q288 + q289\n",
    "    impulse =~ q29 + q31\n",
    "    crisis_behavior =~ substance + q2810 + impulse\n",
    "\"\"\""
   ]
  },
  {
   "cell_type": "code",
   "execution_count": 82,
   "metadata": {},
   "outputs": [],
   "source": [
    "crisis['wt'] = df['wt']\n",
    "observed_vars = ['q287', 'q288', 'q289', 'q2810', 'q29', 'q31']\n",
    "w_cov_df = calculate_covariance(crisis, observed_vars)"
   ]
  },
  {
   "cell_type": "code",
   "execution_count": 83,
   "metadata": {},
   "outputs": [
    {
     "name": "stdout",
     "output_type": "stream",
     "text": [
      "적합도 지표:\n",
      "                      Value\n",
      "DoF               7.000000\n",
      "DoF Baseline     15.000000\n",
      "chi2            105.541518\n",
      "chi2 p-value      0.000000\n",
      "chi2 Baseline  3487.132623\n",
      "CFI               0.971619\n",
      "GFI               0.969734\n",
      "AGFI              0.935144\n",
      "NFI               0.969734\n",
      "TLI               0.939184\n",
      "RMSEA             0.051177\n",
      "AIC              27.960736\n",
      "BIC             120.216534\n",
      "LogLik            0.019632 \n",
      "\n",
      "\n",
      "모수 추정치:\n",
      "                lval  op             rval  Estimate  Std. Err    z-value  \\\n",
      "0         substance   ~  crisis_behavior  1.000000         -          -   \n",
      "1           impulse   ~  crisis_behavior  4.635411  0.596668   7.768834   \n",
      "2              q287   ~        substance  1.000000         -          -   \n",
      "3              q288   ~        substance  1.782693  0.122343  14.571281   \n",
      "4              q289   ~        substance  0.511073  0.035059  14.577701   \n",
      "5               q29   ~          impulse  1.000000         -          -   \n",
      "6               q31   ~          impulse  0.716321  0.059897  11.959128   \n",
      "7             q2810   ~  crisis_behavior  1.617568  0.203271     7.9577   \n",
      "8   crisis_behavior  ~~  crisis_behavior  0.002729  0.000426   6.398817   \n",
      "9           impulse  ~~          impulse  0.292056  0.029486   9.905059   \n",
      "10        substance  ~~        substance  0.003205  0.000489   6.548749   \n",
      "11            q2810  ~~            q2810  0.054154  0.001415  38.274828   \n",
      "12             q287  ~~             q287  0.012970  0.000477  27.193417   \n",
      "13             q288  ~~             q288  0.083833  0.002127  39.406314   \n",
      "14             q289  ~~             q289  0.006835  0.000174  39.294885   \n",
      "15              q29  ~~              q29  0.080991   0.02879   2.813185   \n",
      "16              q31  ~~              q31  0.288606  0.015766  18.305406   \n",
      "\n",
      "     p-value  \n",
      "0          -  \n",
      "1        0.0  \n",
      "2          -  \n",
      "3        0.0  \n",
      "4        0.0  \n",
      "5          -  \n",
      "6        0.0  \n",
      "7        0.0  \n",
      "8        0.0  \n",
      "9        0.0  \n",
      "10       0.0  \n",
      "11       0.0  \n",
      "12       0.0  \n",
      "13       0.0  \n",
      "14       0.0  \n",
      "15  0.004905  \n",
      "16       0.0  \n"
     ]
    },
    {
     "data": {
      "image/svg+xml": [
       "<?xml version=\"1.0\" encoding=\"UTF-8\" standalone=\"no\"?>\n",
       "<!DOCTYPE svg PUBLIC \"-//W3C//DTD SVG 1.1//EN\"\n",
       " \"http://www.w3.org/Graphics/SVG/1.1/DTD/svg11.dtd\">\n",
       "<!-- Generated by graphviz version 12.2.1 (20241206.2353)\n",
       " -->\n",
       "<!-- Title: G Pages: 1 -->\n",
       "<svg width=\"366pt\" height=\"401pt\"\n",
       " viewBox=\"0.00 0.00 365.97 400.93\" xmlns=\"http://www.w3.org/2000/svg\" xmlns:xlink=\"http://www.w3.org/1999/xlink\">\n",
       "<g id=\"graph0\" class=\"graph\" transform=\"scale(1 1) rotate(0) translate(4 396.93)\">\n",
       "<title>G</title>\n",
       "<polygon fill=\"white\" stroke=\"none\" points=\"-4,4 -4,-396.93 361.97,-396.93 361.97,4 -4,4\"/>\n",
       "<!-- crisis_behavior -->\n",
       "<g id=\"node1\" class=\"node\">\n",
       "<title>crisis_behavior</title>\n",
       "<ellipse fill=\"#cae6df\" stroke=\"black\" cx=\"223\" cy=\"-325.71\" rx=\"67.22\" ry=\"67.22\"/>\n",
       "<text text-anchor=\"middle\" x=\"223\" y=\"-320.66\" font-family=\"Times New Roman,serif\" font-size=\"14.00\">crisis_behavior</text>\n",
       "</g>\n",
       "<!-- impulse -->\n",
       "<g id=\"node2\" class=\"node\">\n",
       "<title>impulse</title>\n",
       "<ellipse fill=\"#cae6df\" stroke=\"black\" cx=\"99\" cy=\"-147.25\" rx=\"40.6\" ry=\"40.6\"/>\n",
       "<text text-anchor=\"middle\" x=\"99\" y=\"-142.2\" font-family=\"Times New Roman,serif\" font-size=\"14.00\">impulse</text>\n",
       "</g>\n",
       "<!-- crisis_behavior&#45;&gt;impulse -->\n",
       "<g id=\"edge2\" class=\"edge\">\n",
       "<title>crisis_behavior&#45;&gt;impulse</title>\n",
       "<path fill=\"none\" stroke=\"black\" d=\"M184.78,-270.32C166.69,-244.58 145.41,-214.3 128.58,-190.33\"/>\n",
       "<polygon fill=\"black\" stroke=\"black\" points=\"131.61,-188.56 122.99,-182.39 125.88,-192.58 131.61,-188.56\"/>\n",
       "<text text-anchor=\"middle\" x=\"186.5\" y=\"-229.09\" font-family=\"Times New Roman,serif\" font-size=\"12.00\">4.635</text>\n",
       "<text text-anchor=\"middle\" x=\"186.5\" y=\"-214.84\" font-family=\"Times New Roman,serif\" font-size=\"12.00\">p&#45;val: 0.00</text>\n",
       "</g>\n",
       "<!-- substance -->\n",
       "<g id=\"node3\" class=\"node\">\n",
       "<title>substance</title>\n",
       "<ellipse fill=\"#cae6df\" stroke=\"black\" cx=\"223\" cy=\"-147.25\" rx=\"46.75\" ry=\"46.75\"/>\n",
       "<text text-anchor=\"middle\" x=\"223\" y=\"-142.2\" font-family=\"Times New Roman,serif\" font-size=\"14.00\">substance</text>\n",
       "</g>\n",
       "<!-- crisis_behavior&#45;&gt;substance -->\n",
       "<g id=\"edge1\" class=\"edge\">\n",
       "<title>crisis_behavior&#45;&gt;substance</title>\n",
       "<path fill=\"none\" stroke=\"black\" d=\"M223,-257.99C223,-240.79 223,-222.42 223,-205.72\"/>\n",
       "<polygon fill=\"black\" stroke=\"black\" points=\"226.5,-205.98 223,-195.98 219.5,-205.98 226.5,-205.98\"/>\n",
       "<text text-anchor=\"middle\" x=\"236.5\" y=\"-221.97\" font-family=\"Times New Roman,serif\" font-size=\"12.00\">1.000</text>\n",
       "</g>\n",
       "<!-- q2810 -->\n",
       "<g id=\"node4\" class=\"node\">\n",
       "<title>q2810</title>\n",
       "<polygon fill=\"none\" stroke=\"black\" points=\"342,-165.25 288,-165.25 288,-129.25 342,-129.25 342,-165.25\"/>\n",
       "<text text-anchor=\"middle\" x=\"315\" y=\"-142.2\" font-family=\"Times New Roman,serif\" font-size=\"14.00\">q2810</text>\n",
       "</g>\n",
       "<!-- crisis_behavior&#45;&gt;q2810 -->\n",
       "<g id=\"edge8\" class=\"edge\">\n",
       "<title>crisis_behavior&#45;&gt;q2810</title>\n",
       "<path fill=\"none\" stroke=\"black\" d=\"M253.89,-265.46C269.73,-235.07 288.27,-199.52 300.74,-175.61\"/>\n",
       "<polygon fill=\"black\" stroke=\"black\" points=\"303.79,-177.33 305.31,-166.84 297.58,-174.09 303.79,-177.33\"/>\n",
       "<text text-anchor=\"middle\" x=\"305.45\" y=\"-229.09\" font-family=\"Times New Roman,serif\" font-size=\"12.00\">1.618</text>\n",
       "<text text-anchor=\"middle\" x=\"305.45\" y=\"-214.84\" font-family=\"Times New Roman,serif\" font-size=\"12.00\">p&#45;val: 0.00</text>\n",
       "</g>\n",
       "<!-- q29 -->\n",
       "<g id=\"node8\" class=\"node\">\n",
       "<title>q29</title>\n",
       "<polygon fill=\"none\" stroke=\"black\" points=\"54,-36 0,-36 0,0 54,0 54,-36\"/>\n",
       "<text text-anchor=\"middle\" x=\"27\" y=\"-12.95\" font-family=\"Times New Roman,serif\" font-size=\"14.00\">q29</text>\n",
       "</g>\n",
       "<!-- impulse&#45;&gt;q29 -->\n",
       "<g id=\"edge6\" class=\"edge\">\n",
       "<title>impulse&#45;&gt;q29</title>\n",
       "<path fill=\"none\" stroke=\"black\" d=\"M79.33,-111.47C67.66,-90.86 53.1,-65.12 42.3,-46.04\"/>\n",
       "<polygon fill=\"black\" stroke=\"black\" points=\"45.45,-44.49 37.47,-37.51 39.35,-47.94 45.45,-44.49\"/>\n",
       "<text text-anchor=\"middle\" x=\"74.34\" y=\"-63.98\" font-family=\"Times New Roman,serif\" font-size=\"12.00\">1.000</text>\n",
       "</g>\n",
       "<!-- q31 -->\n",
       "<g id=\"node9\" class=\"node\">\n",
       "<title>q31</title>\n",
       "<polygon fill=\"none\" stroke=\"black\" points=\"126,-36 72,-36 72,0 126,0 126,-36\"/>\n",
       "<text text-anchor=\"middle\" x=\"99\" y=\"-12.95\" font-family=\"Times New Roman,serif\" font-size=\"14.00\">q31</text>\n",
       "</g>\n",
       "<!-- impulse&#45;&gt;q31 -->\n",
       "<g id=\"edge7\" class=\"edge\">\n",
       "<title>impulse&#45;&gt;q31</title>\n",
       "<path fill=\"none\" stroke=\"black\" d=\"M99,-106.33C99,-87.36 99,-65.1 99,-47.8\"/>\n",
       "<polygon fill=\"black\" stroke=\"black\" points=\"102.5,-47.97 99,-37.97 95.5,-47.97 102.5,-47.97\"/>\n",
       "<text text-anchor=\"middle\" x=\"124.5\" y=\"-71.1\" font-family=\"Times New Roman,serif\" font-size=\"12.00\">0.716</text>\n",
       "<text text-anchor=\"middle\" x=\"124.5\" y=\"-56.85\" font-family=\"Times New Roman,serif\" font-size=\"12.00\">p&#45;val: 0.00</text>\n",
       "</g>\n",
       "<!-- q287 -->\n",
       "<g id=\"node5\" class=\"node\">\n",
       "<title>q287</title>\n",
       "<polygon fill=\"none\" stroke=\"black\" points=\"199,-36 145,-36 145,0 199,0 199,-36\"/>\n",
       "<text text-anchor=\"middle\" x=\"172\" y=\"-12.95\" font-family=\"Times New Roman,serif\" font-size=\"14.00\">q287</text>\n",
       "</g>\n",
       "<!-- substance&#45;&gt;q287 -->\n",
       "<g id=\"edge3\" class=\"edge\">\n",
       "<title>substance&#45;&gt;q287</title>\n",
       "<path fill=\"none\" stroke=\"black\" d=\"M205.88,-103.52C198.4,-84.87 189.84,-63.51 183.2,-46.94\"/>\n",
       "<polygon fill=\"black\" stroke=\"black\" points=\"186.47,-45.7 179.5,-37.72 179.98,-48.31 186.47,-45.7\"/>\n",
       "<text text-anchor=\"middle\" x=\"209.47\" y=\"-63.98\" font-family=\"Times New Roman,serif\" font-size=\"12.00\">1.000</text>\n",
       "</g>\n",
       "<!-- q288 -->\n",
       "<g id=\"node6\" class=\"node\">\n",
       "<title>q288</title>\n",
       "<polygon fill=\"none\" stroke=\"black\" points=\"271,-36 217,-36 217,0 271,0 271,-36\"/>\n",
       "<text text-anchor=\"middle\" x=\"244\" y=\"-12.95\" font-family=\"Times New Roman,serif\" font-size=\"14.00\">q288</text>\n",
       "</g>\n",
       "<!-- substance&#45;&gt;q288 -->\n",
       "<g id=\"edge4\" class=\"edge\">\n",
       "<title>substance&#45;&gt;q288</title>\n",
       "<path fill=\"none\" stroke=\"black\" d=\"M230.52,-100.67C233.45,-82.94 236.71,-63.17 239.29,-47.52\"/>\n",
       "<polygon fill=\"black\" stroke=\"black\" points=\"242.7,-48.39 240.87,-37.96 235.79,-47.25 242.7,-48.39\"/>\n",
       "<text text-anchor=\"middle\" x=\"263.29\" y=\"-71.1\" font-family=\"Times New Roman,serif\" font-size=\"12.00\">1.783</text>\n",
       "<text text-anchor=\"middle\" x=\"263.29\" y=\"-56.85\" font-family=\"Times New Roman,serif\" font-size=\"12.00\">p&#45;val: 0.00</text>\n",
       "</g>\n",
       "<!-- q289 -->\n",
       "<g id=\"node7\" class=\"node\">\n",
       "<title>q289</title>\n",
       "<polygon fill=\"none\" stroke=\"black\" points=\"344,-36 290,-36 290,0 344,0 344,-36\"/>\n",
       "<text text-anchor=\"middle\" x=\"317\" y=\"-12.95\" font-family=\"Times New Roman,serif\" font-size=\"14.00\">q289</text>\n",
       "</g>\n",
       "<!-- substance&#45;&gt;q289 -->\n",
       "<g id=\"edge5\" class=\"edge\">\n",
       "<title>substance&#45;&gt;q289</title>\n",
       "<path fill=\"none\" stroke=\"black\" d=\"M260.1,-118.28C271.82,-108.03 284.04,-95.69 293,-82.5 300.2,-71.9 305.62,-58.84 309.46,-47.34\"/>\n",
       "<polygon fill=\"black\" stroke=\"black\" points=\"312.76,-48.52 312.35,-37.94 306.07,-46.47 312.76,-48.52\"/>\n",
       "<text text-anchor=\"middle\" x=\"332.47\" y=\"-71.1\" font-family=\"Times New Roman,serif\" font-size=\"12.00\">0.511</text>\n",
       "<text text-anchor=\"middle\" x=\"332.47\" y=\"-56.85\" font-family=\"Times New Roman,serif\" font-size=\"12.00\">p&#45;val: 0.00</text>\n",
       "</g>\n",
       "</g>\n",
       "</svg>\n"
      ],
      "text/plain": [
       "<graphviz.graphs.Digraph at 0x1fe3ecb2950>"
      ]
     },
     "execution_count": 83,
     "metadata": {},
     "output_type": "execute_result"
    }
   ],
   "source": [
    "model = Model(model_desc)\n",
    "model = fit_sem_model(model, crisis, w_cov_df)\n",
    "stats = calc_stats(model)\n",
    "estimates = model.inspect()\n",
    "print(\"적합도 지표:\\n\", stats.T, \"\\n\\n\")\n",
    "print(\"모수 추정치:\\n\", estimates)\n",
    "\n",
    "\n",
    "semplot(model, 'C:\\\\git_files\\\\education_analysis\\\\happy\\\\crisis.png')"
   ]
  },
  {
   "cell_type": "code",
   "execution_count": 84,
   "metadata": {},
   "outputs": [
    {
     "name": "stdout",
     "output_type": "stream",
     "text": [
      "        id sex  birthy birthm             area         size school grade  \\\n",
      "0  20001.0  여성  2003.0     4월  충청권(대전, 충남, 충북)  도서벽지 및 읍면지역   고등학생   3학년   \n",
      "1  20002.0  여성  2003.0     8월  충청권(대전, 충남, 충북)  도서벽지 및 읍면지역   고등학생   3학년   \n",
      "2  20003.0  여성  2003.0     9월  충청권(대전, 충남, 충북)  도서벽지 및 읍면지역   고등학생   3학년   \n",
      "3  20004.0  남성  2003.0     8월  충청권(대전, 충남, 충북)  도서벽지 및 읍면지역   고등학생   3학년   \n",
      "4  20005.0  남성  2003.0     2월  충청권(대전, 충남, 충북)  도서벽지 및 읍면지역   고등학생   3학년   \n",
      "\n",
      "  home1 home2  ... emotional_state exposure_violence body_image_experience  \\\n",
      "0   아니오   아니오  ...       -0.167932         -0.024783             -0.468777   \n",
      "1     예     예  ...        0.058954         -0.024538             -0.366024   \n",
      "2     예     예  ...       -0.085814         -0.024783              0.002915   \n",
      "3     예     예  ...        0.044651         -0.024293              0.313212   \n",
      "4   아니오     예  ...        0.205492         -0.024783              0.203523   \n",
      "\n",
      "    support time_support financial_satis financial_environment  \\\n",
      "0  0.108238     0.157240        0.204060              0.043291   \n",
      "1  0.108238     0.157240        0.204060              0.043291   \n",
      "2 -0.026429    -0.050152       -0.008229             -0.055660   \n",
      "3 -0.104924    -0.130389       -0.140930             -0.104516   \n",
      "4  0.108238     0.157240        0.204060              0.043291   \n",
      "\n",
      "  crisis_behavior   impulse substance  \n",
      "0       -0.019439 -0.397509 -0.023640  \n",
      "1       -0.019439 -0.397509 -0.023640  \n",
      "2       -0.000076  0.323579 -0.010654  \n",
      "3       -0.019439 -0.397509 -0.023640  \n",
      "4       -0.019439 -0.397509 -0.023640  \n",
      "\n",
      "[5 rows x 295 columns]\n"
     ]
    },
    {
     "data": {
      "image/png": "[encoded data removed]",
      "text/plain": [
       "<Figure size 640x480 with 1 Axes>"
      ]
     },
     "metadata": {},
     "output_type": "display_data"
    },
    {
     "data": {
      "text/plain": [
       "crisis_behavior\n",
       "-0.019439    2599\n",
       " 0.003816     482\n",
       "-0.000076     473\n",
       "-0.015546     352\n",
       " 0.027071     170\n",
       "             ... \n",
       " 0.168520       1\n",
       " 0.095805       1\n",
       " 0.186648       1\n",
       " 0.094659       1\n",
       " 0.164954       1\n",
       "Name: count, Length: 83, dtype: int64"
      ]
     },
     "execution_count": 84,
     "metadata": {},
     "output_type": "execute_result"
    }
   ],
   "source": [
    "factor_scores = model.predict_factors(crisis)\n",
    "\n",
    "df[\"crisis_behavior\"] = factor_scores[\"crisis_behavior\"]\n",
    "df['impulse'] = factor_scores[\"impulse\"]\n",
    "df['substance'] = factor_scores[\"substance\"]\n",
    "\n",
    "print(df.head())\n",
    "\n",
    "plt.hist(df[\"crisis_behavior\"], bins=20, color='blue')\n",
    "plt.title(\"Distribution of crisis_behavior\")\n",
    "plt.xlabel(\"crisis_behavior\")\n",
    "plt.ylabel(\"Frequency\")\n",
    "plt.show()\n",
    "df['crisis_behavior'].value_counts()"
   ]
  },
  {
   "cell_type": "markdown",
   "metadata": {},
   "source": [
    "# 조절효과 회귀분석 (OLS)"
   ]
  },
  {
   "cell_type": "code",
   "execution_count": 85,
   "metadata": {},
   "outputs": [],
   "source": [
    "# df = df[df['school'] == '고등학생']\n",
    "# df.head(3)"
   ]
  },
  {
   "cell_type": "markdown",
   "metadata": {},
   "source": [
    "### emotional_state ~ academic_pressure + rel"
   ]
  },
  {
   "cell_type": "code",
   "execution_count": 86,
   "metadata": {},
   "outputs": [
    {
     "name": "stdout",
     "output_type": "stream",
     "text": [
      "                            OLS Regression Results                            \n",
      "==============================================================================\n",
      "Dep. Variable:        emotional_state   R-squared:                       0.434\n",
      "Model:                            OLS   Adj. R-squared:                  0.434\n",
      "Method:                 Least Squares   F-statistic:                     1374.\n",
      "Date:                Tue, 29 Apr 2025   Prob (F-statistic):               0.00\n",
      "Time:                        02:22:38   Log-Likelihood:                 4225.2\n",
      "No. Observations:                5376   AIC:                            -8442.\n",
      "Df Residuals:                    5372   BIC:                            -8416.\n",
      "Df Model:                           3                                         \n",
      "Covariance Type:            nonrobust                                         \n",
      "=====================================================================================\n",
      "                        coef    std err          t      P>|t|      [0.025      0.975]\n",
      "-------------------------------------------------------------------------------------\n",
      "Intercept             0.0002      0.002      0.156      0.876      -0.003       0.003\n",
      "academic_pressure    -0.2089      0.008    -27.770      0.000      -0.224      -0.194\n",
      "group_rel             0.5210      0.010     52.436      0.000       0.501       0.540\n",
      "interaction           0.0454      0.045      1.003      0.316      -0.043       0.134\n",
      "==============================================================================\n",
      "Omnibus:                      295.926   Durbin-Watson:                   1.949\n",
      "Prob(Omnibus):                  0.000   Jarque-Bera (JB):              377.746\n",
      "Skew:                          -0.538   Prob(JB):                     9.41e-83\n",
      "Kurtosis:                       3.727   Cond. No.                         30.1\n",
      "==============================================================================\n",
      "\n",
      "Notes:\n",
      "[1] Standard Errors assume that the covariance matrix of the errors is correctly specified.\n"
     ]
    }
   ],
   "source": [
    "df['interaction'] = df['academic_pressure'] * df['group_rel']\n",
    "\n",
    "model = smf.ols('emotional_state ~ academic_pressure + group_rel + interaction', data=df).fit()\n",
    "print(model.summary())"
   ]
  },
  {
   "cell_type": "code",
   "execution_count": 87,
   "metadata": {},
   "outputs": [
    {
     "name": "stdout",
     "output_type": "stream",
     "text": [
      "                            OLS Regression Results                            \n",
      "==============================================================================\n",
      "Dep. Variable:        emotional_state   R-squared:                       0.267\n",
      "Model:                            OLS   Adj. R-squared:                  0.266\n",
      "Method:                 Least Squares   F-statistic:                     651.0\n",
      "Date:                Tue, 29 Apr 2025   Prob (F-statistic):               0.00\n",
      "Time:                        02:22:38   Log-Likelihood:                 3527.9\n",
      "No. Observations:                5376   AIC:                            -7048.\n",
      "Df Residuals:                    5372   BIC:                            -7021.\n",
      "Df Model:                           3                                         \n",
      "Covariance Type:            nonrobust                                         \n",
      "=====================================================================================\n",
      "                        coef    std err          t      P>|t|      [0.025      0.975]\n",
      "-------------------------------------------------------------------------------------\n",
      "Intercept         -4.412e-05      0.002     -0.026      0.980      -0.003       0.003\n",
      "academic_pressure    -0.2506      0.008    -29.550      0.000      -0.267      -0.234\n",
      "teacher_rel           0.2874      0.010     29.845      0.000       0.269       0.306\n",
      "interaction          -0.0130      0.044     -0.293      0.769      -0.100       0.074\n",
      "==============================================================================\n",
      "Omnibus:                      222.926   Durbin-Watson:                   1.957\n",
      "Prob(Omnibus):                  0.000   Jarque-Bera (JB):              250.711\n",
      "Skew:                          -0.514   Prob(JB):                     3.62e-55\n",
      "Kurtosis:                       3.248   Cond. No.                         25.8\n",
      "==============================================================================\n",
      "\n",
      "Notes:\n",
      "[1] Standard Errors assume that the covariance matrix of the errors is correctly specified.\n"
     ]
    }
   ],
   "source": [
    "df['interaction'] = df['academic_pressure'] * df['teacher_rel']\n",
    "\n",
    "model = smf.ols('emotional_state ~ academic_pressure + teacher_rel + interaction', data=df).fit()\n",
    "print(model.summary())"
   ]
  },
  {
   "cell_type": "code",
   "execution_count": 88,
   "metadata": {},
   "outputs": [
    {
     "name": "stdout",
     "output_type": "stream",
     "text": [
      "                            OLS Regression Results                            \n",
      "==============================================================================\n",
      "Dep. Variable:        emotional_state   R-squared:                       0.320\n",
      "Model:                            OLS   Adj. R-squared:                  0.320\n",
      "Method:                 Least Squares   F-statistic:                     843.9\n",
      "Date:                Tue, 29 Apr 2025   Prob (F-statistic):               0.00\n",
      "Time:                        02:22:38   Log-Likelihood:                 3732.4\n",
      "No. Observations:                5376   AIC:                            -7457.\n",
      "Df Residuals:                    5372   BIC:                            -7430.\n",
      "Df Model:                           3                                         \n",
      "Covariance Type:            nonrobust                                         \n",
      "=====================================================================================\n",
      "                        coef    std err          t      P>|t|      [0.025      0.975]\n",
      "-------------------------------------------------------------------------------------\n",
      "Intercept             0.0003      0.002      0.170      0.865      -0.003       0.004\n",
      "academic_pressure    -0.2324      0.008    -28.346      0.000      -0.248      -0.216\n",
      "parent_rel            0.3258      0.009     37.251      0.000       0.309       0.343\n",
      "interaction           0.0528      0.040      1.326      0.185      -0.025       0.131\n",
      "==============================================================================\n",
      "Omnibus:                      220.134   Durbin-Watson:                   1.961\n",
      "Prob(Omnibus):                  0.000   Jarque-Bera (JB):              248.345\n",
      "Skew:                          -0.503   Prob(JB):                     1.18e-54\n",
      "Kurtosis:                       3.312   Cond. No.                         24.2\n",
      "==============================================================================\n",
      "\n",
      "Notes:\n",
      "[1] Standard Errors assume that the covariance matrix of the errors is correctly specified.\n"
     ]
    }
   ],
   "source": [
    "df[\"interaction\"] = df[\"academic_pressure\"] * df[\"parent_rel\"]\n",
    "\n",
    "model = smf.ols(\"emotional_state ~ academic_pressure + parent_rel + interaction\", data=df).fit()\n",
    "print(model.summary())"
   ]
  },
  {
   "cell_type": "code",
   "execution_count": 89,
   "metadata": {},
   "outputs": [
    {
     "name": "stdout",
     "output_type": "stream",
     "text": [
      "                            OLS Regression Results                            \n",
      "==============================================================================\n",
      "Dep. Variable:        emotional_state   R-squared:                       0.364\n",
      "Model:                            OLS   Adj. R-squared:                  0.364\n",
      "Method:                 Least Squares   F-statistic:                     1025.\n",
      "Date:                Tue, 29 Apr 2025   Prob (F-statistic):               0.00\n",
      "Time:                        02:22:38   Log-Likelihood:                 3911.5\n",
      "No. Observations:                5376   AIC:                            -7815.\n",
      "Df Residuals:                    5372   BIC:                            -7789.\n",
      "Df Model:                           3                                         \n",
      "Covariance Type:            nonrobust                                         \n",
      "=====================================================================================\n",
      "                        coef    std err          t      P>|t|      [0.025      0.975]\n",
      "-------------------------------------------------------------------------------------\n",
      "Intercept            -0.0005      0.002     -0.286      0.775      -0.004       0.003\n",
      "academic_pressure    -0.2084      0.008    -25.974      0.000      -0.224      -0.193\n",
      "friend_rel            0.6627      0.015     43.074      0.000       0.633       0.693\n",
      "interaction          -0.1144      0.072     -1.588      0.112      -0.256       0.027\n",
      "==============================================================================\n",
      "Omnibus:                      243.708   Durbin-Watson:                   1.963\n",
      "Prob(Omnibus):                  0.000   Jarque-Bera (JB):              284.171\n",
      "Skew:                          -0.513   Prob(JB):                     1.96e-62\n",
      "Kurtosis:                       3.464   Cond. No.                         45.2\n",
      "==============================================================================\n",
      "\n",
      "Notes:\n",
      "[1] Standard Errors assume that the covariance matrix of the errors is correctly specified.\n"
     ]
    }
   ],
   "source": [
    "df['interaction'] = df['academic_pressure'] * df['friend_rel']\n",
    "\n",
    "model = smf.ols('emotional_state ~ academic_pressure + friend_rel + interaction', data=df).fit()\n",
    "print(model.summary())"
   ]
  },
  {
   "cell_type": "markdown",
   "metadata": {},
   "source": [
    "### impulse ~ violence + rel"
   ]
  },
  {
   "cell_type": "code",
   "execution_count": 90,
   "metadata": {},
   "outputs": [
    {
     "name": "stdout",
     "output_type": "stream",
     "text": [
      "                            OLS Regression Results                            \n",
      "==============================================================================\n",
      "Dep. Variable:                impulse   R-squared:                       0.069\n",
      "Model:                            OLS   Adj. R-squared:                  0.069\n",
      "Method:                 Least Squares   F-statistic:                     133.5\n",
      "Date:                Tue, 29 Apr 2025   Prob (F-statistic):           2.00e-83\n",
      "Time:                        02:22:38   Log-Likelihood:                -4144.0\n",
      "No. Observations:                5376   AIC:                             8296.\n",
      "Df Residuals:                    5372   BIC:                             8322.\n",
      "Df Model:                           3                                         \n",
      "Covariance Type:            nonrobust                                         \n",
      "=====================================================================================\n",
      "                        coef    std err          t      P>|t|      [0.025      0.975]\n",
      "-------------------------------------------------------------------------------------\n",
      "Intercept             0.0006      0.007      0.086      0.932      -0.013       0.015\n",
      "exposure_violence     0.4256      0.058      7.301      0.000       0.311       0.540\n",
      "group_rel            -0.8225      0.047    -17.587      0.000      -0.914      -0.731\n",
      "interaction           0.2783      0.287      0.970      0.332      -0.284       0.841\n",
      "==============================================================================\n",
      "Omnibus:                      709.684   Durbin-Watson:                   2.009\n",
      "Prob(Omnibus):                  0.000   Jarque-Bera (JB):             1026.164\n",
      "Skew:                           1.064   Prob(JB):                    1.48e-223\n",
      "Kurtosis:                       3.225   Cond. No.                         40.4\n",
      "==============================================================================\n",
      "\n",
      "Notes:\n",
      "[1] Standard Errors assume that the covariance matrix of the errors is correctly specified.\n"
     ]
    }
   ],
   "source": [
    "df['interaction'] = df['exposure_violence'] * df['group_rel']\n",
    "\n",
    "model = smf.ols('impulse ~ exposure_violence + group_rel + interaction', data=df).fit()\n",
    "print(model.summary())"
   ]
  },
  {
   "cell_type": "code",
   "execution_count": 91,
   "metadata": {},
   "outputs": [
    {
     "name": "stdout",
     "output_type": "stream",
     "text": [
      "                            OLS Regression Results                            \n",
      "==============================================================================\n",
      "Dep. Variable:                impulse   R-squared:                       0.041\n",
      "Model:                            OLS   Adj. R-squared:                  0.040\n",
      "Method:                 Least Squares   F-statistic:                     75.74\n",
      "Date:                Tue, 29 Apr 2025   Prob (F-statistic):           5.56e-48\n",
      "Time:                        02:22:38   Log-Likelihood:                -4225.9\n",
      "No. Observations:                5376   AIC:                             8460.\n",
      "Df Residuals:                    5372   BIC:                             8486.\n",
      "Df Model:                           3                                         \n",
      "Covariance Type:            nonrobust                                         \n",
      "=====================================================================================\n",
      "                        coef    std err          t      P>|t|      [0.025      0.975]\n",
      "-------------------------------------------------------------------------------------\n",
      "Intercept             0.0001      0.007      0.020      0.984      -0.014       0.014\n",
      "exposure_violence     0.4530      0.056      8.065      0.000       0.343       0.563\n",
      "teacher_rel          -0.4793      0.041    -11.767      0.000      -0.559      -0.399\n",
      "interaction           0.0763      0.243      0.313      0.754      -0.401       0.554\n",
      "==============================================================================\n",
      "Omnibus:                      760.098   Durbin-Watson:                   2.002\n",
      "Prob(Omnibus):                  0.000   Jarque-Bera (JB):             1127.155\n",
      "Skew:                           1.115   Prob(JB):                    1.74e-245\n",
      "Kurtosis:                       3.237   Cond. No.                         33.7\n",
      "==============================================================================\n",
      "\n",
      "Notes:\n",
      "[1] Standard Errors assume that the covariance matrix of the errors is correctly specified.\n"
     ]
    }
   ],
   "source": [
    "df['interaction'] = df['exposure_violence'] * df['teacher_rel']\n",
    "\n",
    "model = smf.ols('impulse ~ exposure_violence + teacher_rel + interaction', data=df).fit()\n",
    "print(model.summary())"
   ]
  },
  {
   "cell_type": "code",
   "execution_count": 92,
   "metadata": {},
   "outputs": [
    {
     "name": "stdout",
     "output_type": "stream",
     "text": [
      "                            OLS Regression Results                            \n",
      "==============================================================================\n",
      "Dep. Variable:                impulse   R-squared:                       0.156\n",
      "Model:                            OLS   Adj. R-squared:                  0.155\n",
      "Method:                 Least Squares   F-statistic:                     330.2\n",
      "Date:                Tue, 29 Apr 2025   Prob (F-statistic):          9.13e-197\n",
      "Time:                        02:22:38   Log-Likelihood:                -3882.4\n",
      "No. Observations:                5376   AIC:                             7773.\n",
      "Df Residuals:                    5372   BIC:                             7799.\n",
      "Df Model:                           3                                         \n",
      "Covariance Type:            nonrobust                                         \n",
      "=====================================================================================\n",
      "                        coef    std err          t      P>|t|      [0.025      0.975]\n",
      "-------------------------------------------------------------------------------------\n",
      "Intercept             0.0003      0.007      0.039      0.969      -0.013       0.014\n",
      "exposure_violence     0.4201      0.052      8.140      0.000       0.319       0.521\n",
      "parent_rel           -1.0681      0.036    -29.825      0.000      -1.138      -0.998\n",
      "interaction           0.1722      0.229      0.752      0.452      -0.277       0.621\n",
      "==============================================================================\n",
      "Omnibus:                      594.261   Durbin-Watson:                   2.025\n",
      "Prob(Omnibus):                  0.000   Jarque-Bera (JB):              807.239\n",
      "Skew:                           0.937   Prob(JB):                    5.13e-176\n",
      "Kurtosis:                       3.304   Cond. No.                         33.8\n",
      "==============================================================================\n",
      "\n",
      "Notes:\n",
      "[1] Standard Errors assume that the covariance matrix of the errors is correctly specified.\n"
     ]
    }
   ],
   "source": [
    "df['interaction'] = df['exposure_violence'] * df['parent_rel']\n",
    "\n",
    "model = smf.ols('impulse ~ exposure_violence + parent_rel + interaction', data=df).fit()\n",
    "print(model.summary())"
   ]
  },
  {
   "cell_type": "code",
   "execution_count": 93,
   "metadata": {},
   "outputs": [
    {
     "name": "stdout",
     "output_type": "stream",
     "text": [
      "                            OLS Regression Results                            \n",
      "==============================================================================\n",
      "Dep. Variable:                impulse   R-squared:                       0.075\n",
      "Model:                            OLS   Adj. R-squared:                  0.074\n",
      "Method:                 Least Squares   F-statistic:                     145.0\n",
      "Date:                Tue, 29 Apr 2025   Prob (F-statistic):           2.31e-90\n",
      "Time:                        02:22:39   Log-Likelihood:                -4127.9\n",
      "No. Observations:                5376   AIC:                             8264.\n",
      "Df Residuals:                    5372   BIC:                             8290.\n",
      "Df Model:                           3                                         \n",
      "Covariance Type:            nonrobust                                         \n",
      "=====================================================================================\n",
      "                        coef    std err          t      P>|t|      [0.025      0.975]\n",
      "-------------------------------------------------------------------------------------\n",
      "Intercept             0.0006      0.007      0.081      0.935      -0.013       0.015\n",
      "exposure_violence     0.3677      0.063      5.859      0.000       0.245       0.491\n",
      "friend_rel           -1.2673      0.069    -18.491      0.000      -1.402      -1.133\n",
      "interaction           0.2564      0.375      0.684      0.494      -0.479       0.992\n",
      "==============================================================================\n",
      "Omnibus:                      709.974   Durbin-Watson:                   2.018\n",
      "Prob(Omnibus):                  0.000   Jarque-Bera (JB):             1025.571\n",
      "Skew:                           1.063   Prob(JB):                    2.00e-223\n",
      "Kurtosis:                       3.249   Cond. No.                         53.0\n",
      "==============================================================================\n",
      "\n",
      "Notes:\n",
      "[1] Standard Errors assume that the covariance matrix of the errors is correctly specified.\n"
     ]
    }
   ],
   "source": [
    "df['interaction'] = df['exposure_violence'] * df['friend_rel']\n",
    "\n",
    "model = smf.ols('impulse ~ exposure_violence + friend_rel + interaction', data=df).fit()\n",
    "print(model.summary())"
   ]
  },
  {
   "cell_type": "markdown",
   "metadata": {},
   "source": [
    "### impulse ~ emotional_state + rel"
   ]
  },
  {
   "cell_type": "code",
   "execution_count": 94,
   "metadata": {},
   "outputs": [
    {
     "name": "stdout",
     "output_type": "stream",
     "text": [
      "                            OLS Regression Results                            \n",
      "==============================================================================\n",
      "Dep. Variable:                impulse   R-squared:                       0.192\n",
      "Model:                            OLS   Adj. R-squared:                  0.192\n",
      "Method:                 Least Squares   F-statistic:                     426.0\n",
      "Date:                Tue, 29 Apr 2025   Prob (F-statistic):          2.76e-248\n",
      "Time:                        02:22:39   Log-Likelihood:                -3763.6\n",
      "No. Observations:                5376   AIC:                             7535.\n",
      "Df Residuals:                    5372   BIC:                             7561.\n",
      "Df Model:                           3                                         \n",
      "Covariance Type:            nonrobust                                         \n",
      "===================================================================================\n",
      "                      coef    std err          t      P>|t|      [0.025      0.975]\n",
      "-----------------------------------------------------------------------------------\n",
      "Intercept          -0.0181      0.008     -2.384      0.017      -0.033      -0.003\n",
      "emotional_state    -1.6294      0.057    -28.787      0.000      -1.740      -1.518\n",
      "group_rel           0.1239      0.054      2.273      0.023       0.017       0.231\n",
      "interaction         1.3495      0.271      4.976      0.000       0.818       1.881\n",
      "==============================================================================\n",
      "Omnibus:                      583.753   Durbin-Watson:                   1.985\n",
      "Prob(Omnibus):                  0.000   Jarque-Bera (JB):              787.835\n",
      "Skew:                           0.922   Prob(JB):                    8.39e-172\n",
      "Kurtosis:                       3.344   Cond. No.                         40.8\n",
      "==============================================================================\n",
      "\n",
      "Notes:\n",
      "[1] Standard Errors assume that the covariance matrix of the errors is correctly specified.\n"
     ]
    }
   ],
   "source": [
    "df['interaction'] = df['emotional_state'] * df['group_rel']\n",
    "\n",
    "model = smf.ols('impulse ~ emotional_state + group_rel + interaction', data=df).fit()\n",
    "print(model.summary())"
   ]
  },
  {
   "cell_type": "code",
   "execution_count": 95,
   "metadata": {},
   "outputs": [
    {
     "name": "stdout",
     "output_type": "stream",
     "text": [
      "                            OLS Regression Results                            \n",
      "==============================================================================\n",
      "Dep. Variable:                impulse   R-squared:                       0.190\n",
      "Model:                            OLS   Adj. R-squared:                  0.189\n",
      "Method:                 Least Squares   F-statistic:                     419.7\n",
      "Date:                Tue, 29 Apr 2025   Prob (F-statistic):          5.83e-245\n",
      "Time:                        02:22:39   Log-Likelihood:                -3771.2\n",
      "No. Observations:                5376   AIC:                             7550.\n",
      "Df Residuals:                    5372   BIC:                             7577.\n",
      "Df Model:                           3                                         \n",
      "Covariance Type:            nonrobust                                         \n",
      "===================================================================================\n",
      "                      coef    std err          t      P>|t|      [0.025      0.975]\n",
      "-----------------------------------------------------------------------------------\n",
      "Intercept          -0.0082      0.007     -1.154      0.248      -0.022       0.006\n",
      "emotional_state    -1.5866      0.049    -32.096      0.000      -1.683      -1.490\n",
      "teacher_rel         0.0068      0.040      0.167      0.867      -0.072       0.086\n",
      "interaction         0.8127      0.239      3.406      0.001       0.345       1.280\n",
      "==============================================================================\n",
      "Omnibus:                      572.748   Durbin-Watson:                   1.987\n",
      "Prob(Omnibus):                  0.000   Jarque-Bera (JB):              769.344\n",
      "Skew:                           0.913   Prob(JB):                    8.69e-168\n",
      "Kurtosis:                       3.311   Cond. No.                         35.8\n",
      "==============================================================================\n",
      "\n",
      "Notes:\n",
      "[1] Standard Errors assume that the covariance matrix of the errors is correctly specified.\n"
     ]
    }
   ],
   "source": [
    "df['interaction'] = df['emotional_state'] * df['teacher_rel']\n",
    "\n",
    "model = smf.ols('impulse ~ emotional_state + teacher_rel + interaction', data=df).fit()\n",
    "print(model.summary())"
   ]
  },
  {
   "cell_type": "code",
   "execution_count": 96,
   "metadata": {},
   "outputs": [
    {
     "name": "stdout",
     "output_type": "stream",
     "text": [
      "                            OLS Regression Results                            \n",
      "==============================================================================\n",
      "Dep. Variable:                impulse   R-squared:                       0.234\n",
      "Model:                            OLS   Adj. R-squared:                  0.234\n",
      "Method:                 Least Squares   F-statistic:                     547.5\n",
      "Date:                Tue, 29 Apr 2025   Prob (F-statistic):          1.69e-310\n",
      "Time:                        02:22:39   Log-Likelihood:                -3620.1\n",
      "No. Observations:                5376   AIC:                             7248.\n",
      "Df Residuals:                    5372   BIC:                             7275.\n",
      "Df Model:                           3                                         \n",
      "Covariance Type:            nonrobust                                         \n",
      "===================================================================================\n",
      "                      coef    std err          t      P>|t|      [0.025      0.975]\n",
      "-----------------------------------------------------------------------------------\n",
      "Intercept          -0.0174      0.007     -2.468      0.014      -0.031      -0.004\n",
      "emotional_state    -1.1772      0.050    -23.430      0.000      -1.276      -1.079\n",
      "parent_rel         -0.5994      0.039    -15.266      0.000      -0.676      -0.522\n",
      "interaction         1.3336      0.214      6.246      0.000       0.915       1.752\n",
      "==============================================================================\n",
      "Omnibus:                      533.534   Durbin-Watson:                   2.001\n",
      "Prob(Omnibus):                  0.000   Jarque-Bera (JB):              701.728\n",
      "Skew:                           0.864   Prob(JB):                    4.19e-153\n",
      "Kurtosis:                       3.386   Cond. No.                         33.0\n",
      "==============================================================================\n",
      "\n",
      "Notes:\n",
      "[1] Standard Errors assume that the covariance matrix of the errors is correctly specified.\n"
     ]
    }
   ],
   "source": [
    "df['interaction'] = df['emotional_state'] * df['parent_rel']\n",
    "\n",
    "model = smf.ols('impulse ~ emotional_state + parent_rel + interaction', data=df).fit()\n",
    "print(model.summary())"
   ]
  },
  {
   "cell_type": "code",
   "execution_count": 97,
   "metadata": {},
   "outputs": [
    {
     "name": "stdout",
     "output_type": "stream",
     "text": [
      "                            OLS Regression Results                            \n",
      "==============================================================================\n",
      "Dep. Variable:                impulse   R-squared:                       0.192\n",
      "Model:                            OLS   Adj. R-squared:                  0.191\n",
      "Method:                 Least Squares   F-statistic:                     425.1\n",
      "Date:                Tue, 29 Apr 2025   Prob (F-statistic):          8.43e-248\n",
      "Time:                        02:22:39   Log-Likelihood:                -3764.7\n",
      "No. Observations:                5376   AIC:                             7537.\n",
      "Df Residuals:                    5372   BIC:                             7564.\n",
      "Df Model:                           3                                         \n",
      "Covariance Type:            nonrobust                                         \n",
      "===================================================================================\n",
      "                      coef    std err          t      P>|t|      [0.025      0.975]\n",
      "-----------------------------------------------------------------------------------\n",
      "Intercept          -0.0133      0.007     -1.801      0.072      -0.028       0.001\n",
      "emotional_state    -1.5086      0.054    -28.093      0.000      -1.614      -1.403\n",
      "friend_rel         -0.1490      0.076     -1.968      0.049      -0.297      -0.001\n",
      "interaction         1.6178      0.393      4.112      0.000       0.847       2.389\n",
      "==============================================================================\n",
      "Omnibus:                      574.915   Durbin-Watson:                   1.990\n",
      "Prob(Omnibus):                  0.000   Jarque-Bera (JB):              772.762\n",
      "Skew:                           0.914   Prob(JB):                    1.57e-168\n",
      "Kurtosis:                       3.327   Cond. No.                         59.2\n",
      "==============================================================================\n",
      "\n",
      "Notes:\n",
      "[1] Standard Errors assume that the covariance matrix of the errors is correctly specified.\n"
     ]
    }
   ],
   "source": [
    "df['interaction'] = df['emotional_state'] * df['friend_rel']\n",
    "\n",
    "model = smf.ols('impulse ~ emotional_state + friend_rel + interaction', data=df).fit()\n",
    "print(model.summary())"
   ]
  },
  {
   "cell_type": "code",
   "execution_count": 98,
   "metadata": {},
   "outputs": [
    {
     "name": "stdout",
     "output_type": "stream",
     "text": [
      "                            OLS Regression Results                            \n",
      "==============================================================================\n",
      "Dep. Variable:                impulse   R-squared:                       0.193\n",
      "Model:                            OLS   Adj. R-squared:                  0.192\n",
      "Method:                 Least Squares   F-statistic:                     427.4\n",
      "Date:                Tue, 29 Apr 2025   Prob (F-statistic):          5.42e-249\n",
      "Time:                        02:22:39   Log-Likelihood:                -3761.9\n",
      "No. Observations:                5376   AIC:                             7532.\n",
      "Df Residuals:                    5372   BIC:                             7558.\n",
      "Df Model:                           3                                         \n",
      "Covariance Type:            nonrobust                                         \n",
      "===================================================================================\n",
      "                      coef    std err          t      P>|t|      [0.025      0.975]\n",
      "-----------------------------------------------------------------------------------\n",
      "Intercept          -0.0193      0.008     -2.547      0.011      -0.034      -0.004\n",
      "emotional_state    -1.5207      0.057    -26.580      0.000      -1.633      -1.409\n",
      "human_rel          -0.0796      0.102     -0.780      0.436      -0.280       0.121\n",
      "interaction         2.6352      0.501      5.262      0.000       1.653       3.617\n",
      "==============================================================================\n",
      "Omnibus:                      583.085   Durbin-Watson:                   1.987\n",
      "Prob(Omnibus):                  0.000   Jarque-Bera (JB):              786.622\n",
      "Skew:                           0.921   Prob(JB):                    1.54e-171\n",
      "Kurtosis:                       3.346   Cond. No.                         75.4\n",
      "==============================================================================\n",
      "\n",
      "Notes:\n",
      "[1] Standard Errors assume that the covariance matrix of the errors is correctly specified.\n"
     ]
    }
   ],
   "source": [
    "df['interaction'] = df['emotional_state'] * df['human_rel']\n",
    "\n",
    "model = smf.ols('impulse ~ emotional_state + human_rel + interaction', data=df).fit()\n",
    "print(model.summary())"
   ]
  },
  {
   "cell_type": "markdown",
   "metadata": {},
   "source": [
    "### Y ~ X + support"
   ]
  },
  {
   "cell_type": "code",
   "execution_count": 99,
   "metadata": {},
   "outputs": [
    {
     "name": "stdout",
     "output_type": "stream",
     "text": [
      "                            OLS Regression Results                            \n",
      "==============================================================================\n",
      "Dep. Variable:        emotional_state   R-squared:                       0.240\n",
      "Model:                            OLS   Adj. R-squared:                  0.239\n",
      "Method:                 Least Squares   F-statistic:                     564.3\n",
      "Date:                Tue, 29 Apr 2025   Prob (F-statistic):          8.14e-319\n",
      "Time:                        02:22:39   Log-Likelihood:                 3430.7\n",
      "No. Observations:                5376   AIC:                            -6853.\n",
      "Df Residuals:                    5372   BIC:                            -6827.\n",
      "Df Model:                           3                                         \n",
      "Covariance Type:            nonrobust                                         \n",
      "=====================================================================================\n",
      "                        coef    std err          t      P>|t|      [0.025      0.975]\n",
      "-------------------------------------------------------------------------------------\n",
      "Intercept            -0.0007      0.002     -0.385      0.700      -0.004       0.003\n",
      "academic_pressure    -0.2159      0.009    -24.192      0.000      -0.233      -0.198\n",
      "support               0.3039      0.012     25.818      0.000       0.281       0.327\n",
      "interaction          -0.0886      0.054     -1.639      0.101      -0.195       0.017\n",
      "==============================================================================\n",
      "Omnibus:                      278.192   Durbin-Watson:                   1.950\n",
      "Prob(Omnibus):                  0.000   Jarque-Bera (JB):              322.571\n",
      "Skew:                          -0.578   Prob(JB):                     9.01e-71\n",
      "Kurtosis:                       3.324   Cond. No.                         31.0\n",
      "==============================================================================\n",
      "\n",
      "Notes:\n",
      "[1] Standard Errors assume that the covariance matrix of the errors is correctly specified.\n"
     ]
    }
   ],
   "source": [
    "df['interaction'] = df['academic_pressure'] * df['support']\n",
    "\n",
    "model = smf.ols('emotional_state ~ academic_pressure + support + interaction', data=df).fit()\n",
    "print(model.summary())"
   ]
  },
  {
   "cell_type": "code",
   "execution_count": 100,
   "metadata": {},
   "outputs": [
    {
     "name": "stdout",
     "output_type": "stream",
     "text": [
      "                            OLS Regression Results                            \n",
      "==============================================================================\n",
      "Dep. Variable:                impulse   R-squared:                       0.141\n",
      "Model:                            OLS   Adj. R-squared:                  0.140\n",
      "Method:                 Least Squares   F-statistic:                     292.8\n",
      "Date:                Tue, 29 Apr 2025   Prob (F-statistic):          5.06e-176\n",
      "Time:                        02:22:39   Log-Likelihood:                -3930.2\n",
      "No. Observations:                5376   AIC:                             7868.\n",
      "Df Residuals:                    5372   BIC:                             7895.\n",
      "Df Model:                           3                                         \n",
      "Covariance Type:            nonrobust                                         \n",
      "=====================================================================================\n",
      "                        coef    std err          t      P>|t|      [0.025      0.975]\n",
      "-------------------------------------------------------------------------------------\n",
      "Intercept            -0.0028      0.007     -0.403      0.687      -0.017       0.011\n",
      "academic_pressure     0.4421      0.035     12.600      0.000       0.373       0.511\n",
      "support              -1.0354      0.046    -22.370      0.000      -1.126      -0.945\n",
      "interaction          -0.3651      0.213     -1.717      0.086      -0.782       0.052\n",
      "==============================================================================\n",
      "Omnibus:                      732.499   Durbin-Watson:                   2.020\n",
      "Prob(Omnibus):                  0.000   Jarque-Bera (JB):             1061.171\n",
      "Skew:                           1.056   Prob(JB):                    3.71e-231\n",
      "Kurtosis:                       3.524   Cond. No.                         31.0\n",
      "==============================================================================\n",
      "\n",
      "Notes:\n",
      "[1] Standard Errors assume that the covariance matrix of the errors is correctly specified.\n"
     ]
    }
   ],
   "source": [
    "df['interaction'] = df['academic_pressure'] * df['support']\n",
    "\n",
    "model = smf.ols('impulse ~ academic_pressure + support + interaction', data=df).fit()\n",
    "print(model.summary())"
   ]
  },
  {
   "cell_type": "code",
   "execution_count": 101,
   "metadata": {},
   "outputs": [
    {
     "name": "stdout",
     "output_type": "stream",
     "text": [
      "                            OLS Regression Results                            \n",
      "==============================================================================\n",
      "Dep. Variable:             parent_rel   R-squared:                       0.172\n",
      "Model:                            OLS   Adj. R-squared:                  0.172\n",
      "Method:                 Least Squares   F-statistic:                     372.6\n",
      "Date:                Tue, 29 Apr 2025   Prob (F-statistic):          7.63e-220\n",
      "Time:                        02:22:39   Log-Likelihood:                 1798.3\n",
      "No. Observations:                5376   AIC:                            -3589.\n",
      "Df Residuals:                    5372   BIC:                            -3562.\n",
      "Df Model:                           3                                         \n",
      "Covariance Type:            nonrobust                                         \n",
      "=====================================================================================\n",
      "                        coef    std err          t      P>|t|      [0.025      0.975]\n",
      "-------------------------------------------------------------------------------------\n",
      "Intercept            -0.0015      0.002     -0.622      0.534      -0.006       0.003\n",
      "academic_pressure    -0.0322      0.012     -2.663      0.008      -0.056      -0.008\n",
      "support               0.5016      0.016     31.457      0.000       0.470       0.533\n",
      "interaction          -0.1942      0.073     -2.650      0.008      -0.338      -0.051\n",
      "==============================================================================\n",
      "Omnibus:                      468.040   Durbin-Watson:                   1.977\n",
      "Prob(Omnibus):                  0.000   Jarque-Bera (JB):              629.615\n",
      "Skew:                          -0.730   Prob(JB):                    1.91e-137\n",
      "Kurtosis:                       3.824   Cond. No.                         31.0\n",
      "==============================================================================\n",
      "\n",
      "Notes:\n",
      "[1] Standard Errors assume that the covariance matrix of the errors is correctly specified.\n"
     ]
    }
   ],
   "source": [
    "df['interaction'] = df['academic_pressure'] * df['support']\n",
    "\n",
    "model = smf.ols('parent_rel ~ academic_pressure + support + interaction', data=df).fit()\n",
    "print(model.summary())"
   ]
  },
  {
   "cell_type": "code",
   "execution_count": 102,
   "metadata": {},
   "outputs": [
    {
     "name": "stdout",
     "output_type": "stream",
     "text": [
      "                            OLS Regression Results                            \n",
      "==============================================================================\n",
      "Dep. Variable:             parent_rel   R-squared:                       0.280\n",
      "Model:                            OLS   Adj. R-squared:                  0.280\n",
      "Method:                 Least Squares   F-statistic:                     697.5\n",
      "Date:                Tue, 29 Apr 2025   Prob (F-statistic):               0.00\n",
      "Time:                        02:22:39   Log-Likelihood:                 2174.5\n",
      "No. Observations:                5376   AIC:                            -4341.\n",
      "Df Residuals:                    5372   BIC:                            -4315.\n",
      "Df Model:                           3                                         \n",
      "Covariance Type:            nonrobust                                         \n",
      "===================================================================================\n",
      "                      coef    std err          t      P>|t|      [0.025      0.975]\n",
      "-----------------------------------------------------------------------------------\n",
      "Intercept           0.0001      0.002      0.059      0.953      -0.004       0.005\n",
      "emotional_state     0.4692      0.016     28.680      0.000       0.437       0.501\n",
      "support             0.3319      0.016     21.048      0.000       0.301       0.363\n",
      "interaction        -0.0155      0.090     -0.173      0.863      -0.191       0.160\n",
      "==============================================================================\n",
      "Omnibus:                      399.829   Durbin-Watson:                   1.977\n",
      "Prob(Omnibus):                  0.000   Jarque-Bera (JB):              562.967\n",
      "Skew:                          -0.624   Prob(JB):                    5.67e-123\n",
      "Kurtosis:                       3.977   Cond. No.                         40.7\n",
      "==============================================================================\n",
      "\n",
      "Notes:\n",
      "[1] Standard Errors assume that the covariance matrix of the errors is correctly specified.\n"
     ]
    }
   ],
   "source": [
    "df['interaction'] = df['emotional_state'] * df['support']\n",
    "\n",
    "model = smf.ols('parent_rel ~ emotional_state + support + interaction', data=df).fit()\n",
    "print(model.summary())"
   ]
  },
  {
   "cell_type": "code",
   "execution_count": 103,
   "metadata": {},
   "outputs": [
    {
     "name": "stdout",
     "output_type": "stream",
     "text": [
      "                            OLS Regression Results                            \n",
      "==============================================================================\n",
      "Dep. Variable:                impulse   R-squared:                       0.225\n",
      "Model:                            OLS   Adj. R-squared:                  0.225\n",
      "Method:                 Least Squares   F-statistic:                     520.5\n",
      "Date:                Tue, 29 Apr 2025   Prob (F-statistic):          6.28e-297\n",
      "Time:                        02:22:40   Log-Likelihood:                -3651.4\n",
      "No. Observations:                5376   AIC:                             7311.\n",
      "Df Residuals:                    5372   BIC:                             7337.\n",
      "Df Model:                           3                                         \n",
      "Covariance Type:            nonrobust                                         \n",
      "===================================================================================\n",
      "                      coef    std err          t      P>|t|      [0.025      0.975]\n",
      "-----------------------------------------------------------------------------------\n",
      "Intercept          -0.0112      0.007     -1.624      0.105      -0.025       0.002\n",
      "emotional_state    -1.3026      0.048    -26.939      0.000      -1.397      -1.208\n",
      "support            -0.6581      0.047    -14.119      0.000      -0.749      -0.567\n",
      "interaction         1.2636      0.265      4.769      0.000       0.744       1.783\n",
      "==============================================================================\n",
      "Omnibus:                      564.485   Durbin-Watson:                   2.003\n",
      "Prob(Omnibus):                  0.000   Jarque-Bera (JB):              753.828\n",
      "Skew:                           0.894   Prob(JB):                    2.03e-164\n",
      "Kurtosis:                       3.412   Cond. No.                         40.7\n",
      "==============================================================================\n",
      "\n",
      "Notes:\n",
      "[1] Standard Errors assume that the covariance matrix of the errors is correctly specified.\n"
     ]
    }
   ],
   "source": [
    "df['interaction'] = df['emotional_state'] * df['support']\n",
    "\n",
    "model = smf.ols('impulse ~ emotional_state + support + interaction', data=df).fit()\n",
    "print(model.summary())"
   ]
  },
  {
   "cell_type": "code",
   "execution_count": 104,
   "metadata": {},
   "outputs": [
    {
     "name": "stdout",
     "output_type": "stream",
     "text": [
      "                            OLS Regression Results                            \n",
      "==============================================================================\n",
      "Dep. Variable:        crisis_behavior   R-squared:                       0.088\n",
      "Model:                            OLS   Adj. R-squared:                  0.088\n",
      "Method:                 Least Squares   F-statistic:                     172.8\n",
      "Date:                Tue, 29 Apr 2025   Prob (F-statistic):          5.91e-107\n",
      "Time:                        02:22:40   Log-Likelihood:                 11049.\n",
      "No. Observations:                5376   AIC:                        -2.209e+04\n",
      "Df Residuals:                    5372   BIC:                        -2.206e+04\n",
      "Df Model:                           3                                         \n",
      "Covariance Type:            nonrobust                                         \n",
      "===================================================================================\n",
      "                      coef    std err          t      P>|t|      [0.025      0.975]\n",
      "-----------------------------------------------------------------------------------\n",
      "Intercept          -0.0004      0.000     -0.882      0.378      -0.001       0.000\n",
      "emotional_state    -0.0479      0.003    -15.252      0.000      -0.054      -0.042\n",
      "support            -0.0258      0.003     -8.533      0.000      -0.032      -0.020\n",
      "interaction         0.0446      0.017      2.592      0.010       0.011       0.078\n",
      "==============================================================================\n",
      "Omnibus:                     4008.834   Durbin-Watson:                   1.968\n",
      "Prob(Omnibus):                  0.000   Jarque-Bera (JB):            83262.407\n",
      "Skew:                           3.413   Prob(JB):                         0.00\n",
      "Kurtosis:                      21.031   Cond. No.                         40.7\n",
      "==============================================================================\n",
      "\n",
      "Notes:\n",
      "[1] Standard Errors assume that the covariance matrix of the errors is correctly specified.\n"
     ]
    }
   ],
   "source": [
    "df['interaction'] = df['emotional_state'] * df['support']\n",
    "\n",
    "model = smf.ols('crisis_behavior ~ emotional_state + support + interaction', data=df).fit()\n",
    "print(model.summary())"
   ]
  },
  {
   "cell_type": "code",
   "execution_count": 105,
   "metadata": {},
   "outputs": [
    {
     "name": "stdout",
     "output_type": "stream",
     "text": [
      "                            OLS Regression Results                            \n",
      "==============================================================================\n",
      "Dep. Variable:      academic_pressure   R-squared:                       0.073\n",
      "Model:                            OLS   Adj. R-squared:                  0.073\n",
      "Method:                 Least Squares   F-statistic:                     141.8\n",
      "Date:                Tue, 29 Apr 2025   Prob (F-statistic):           2.00e-88\n",
      "Time:                        02:22:40   Log-Likelihood:                 1146.5\n",
      "No. Observations:                5376   AIC:                            -2285.\n",
      "Df Residuals:                    5372   BIC:                            -2259.\n",
      "Df Model:                           3                                         \n",
      "Covariance Type:            nonrobust                                         \n",
      "===============================================================================\n",
      "                  coef    std err          t      P>|t|      [0.025      0.975]\n",
      "-------------------------------------------------------------------------------\n",
      "Intercept       0.0036      0.003      1.260      0.208      -0.002       0.009\n",
      "human_rel      -0.2585      0.035     -7.488      0.000      -0.326      -0.191\n",
      "support        -0.2867      0.019    -15.399      0.000      -0.323      -0.250\n",
      "interaction    -0.7777      0.199     -3.916      0.000      -1.167      -0.388\n",
      "==============================================================================\n",
      "Omnibus:                      201.879   Durbin-Watson:                   1.902\n",
      "Prob(Omnibus):                  0.000   Jarque-Bera (JB):              104.822\n",
      "Skew:                          -0.157   Prob(JB):                     1.73e-23\n",
      "Kurtosis:                       2.392   Cond. No.                         74.5\n",
      "==============================================================================\n",
      "\n",
      "Notes:\n",
      "[1] Standard Errors assume that the covariance matrix of the errors is correctly specified.\n"
     ]
    }
   ],
   "source": [
    "df['interaction'] = df['human_rel'] * df['support']\n",
    "\n",
    "model = smf.ols('academic_pressure ~ human_rel + support + interaction', data=df).fit()\n",
    "print(model.summary())"
   ]
  },
  {
   "cell_type": "code",
   "execution_count": 106,
   "metadata": {},
   "outputs": [
    {
     "name": "stdout",
     "output_type": "stream",
     "text": [
      "                            OLS Regression Results                            \n",
      "==============================================================================\n",
      "Dep. Variable:        emotional_state   R-squared:                       0.155\n",
      "Model:                            OLS   Adj. R-squared:                  0.154\n",
      "Method:                 Least Squares   F-statistic:                     327.5\n",
      "Date:                Tue, 29 Apr 2025   Prob (F-statistic):          2.55e-195\n",
      "Time:                        02:22:40   Log-Likelihood:                 3145.9\n",
      "No. Observations:                5376   AIC:                            -6284.\n",
      "Df Residuals:                    5372   BIC:                            -6258.\n",
      "Df Model:                           3                                         \n",
      "Covariance Type:            nonrobust                                         \n",
      "=========================================================================================\n",
      "                            coef    std err          t      P>|t|      [0.025      0.975]\n",
      "-----------------------------------------------------------------------------------------\n",
      "Intercept                 0.0009      0.002      0.429      0.668      -0.003       0.005\n",
      "financial_environment    -0.0291      0.017     -1.664      0.096      -0.063       0.005\n",
      "support                   0.4007      0.023     17.607      0.000       0.356       0.445\n",
      "interaction              -0.0354      0.041     -0.873      0.383      -0.115       0.044\n",
      "==============================================================================\n",
      "Omnibus:                      282.940   Durbin-Watson:                   1.933\n",
      "Prob(Omnibus):                  0.000   Jarque-Bera (JB):              328.278\n",
      "Skew:                          -0.602   Prob(JB):                     5.19e-72\n",
      "Kurtosis:                       3.134   Cond. No.                         22.7\n",
      "==============================================================================\n",
      "\n",
      "Notes:\n",
      "[1] Standard Errors assume that the covariance matrix of the errors is correctly specified.\n"
     ]
    }
   ],
   "source": [
    "df['interaction'] = df['financial_environment'] * df['support']\n",
    "\n",
    "model = smf.ols('emotional_state ~ financial_environment + support + interaction', data=df).fit()\n",
    "print(model.summary())"
   ]
  },
  {
   "cell_type": "code",
   "execution_count": 107,
   "metadata": {},
   "outputs": [
    {
     "name": "stdout",
     "output_type": "stream",
     "text": [
      "                            OLS Regression Results                            \n",
      "==============================================================================\n",
      "Dep. Variable:        crisis_behavior   R-squared:                       0.048\n",
      "Model:                            OLS   Adj. R-squared:                  0.047\n",
      "Method:                 Least Squares   F-statistic:                     89.34\n",
      "Date:                Tue, 29 Apr 2025   Prob (F-statistic):           2.04e-56\n",
      "Time:                        02:22:40   Log-Likelihood:                 10932.\n",
      "No. Observations:                5376   AIC:                        -2.186e+04\n",
      "Df Residuals:                    5372   BIC:                        -2.183e+04\n",
      "Df Model:                           3                                         \n",
      "Covariance Type:            nonrobust                                         \n",
      "===================================================================================\n",
      "                      coef    std err          t      P>|t|      [0.025      0.975]\n",
      "-----------------------------------------------------------------------------------\n",
      "Intercept       -2.097e-05      0.000     -0.047      0.963      -0.001       0.001\n",
      "academic_stress     0.0041      0.002      2.285      0.022       0.001       0.008\n",
      "support            -0.0433      0.003    -14.651      0.000      -0.049      -0.038\n",
      "interaction        -0.0019      0.011     -0.176      0.861      -0.023       0.019\n",
      "==============================================================================\n",
      "Omnibus:                     4006.908   Durbin-Watson:                   1.989\n",
      "Prob(Omnibus):                  0.000   Jarque-Bera (JB):            81942.878\n",
      "Skew:                           3.418   Prob(JB):                         0.00\n",
      "Kurtosis:                      20.863   Cond. No.                         24.9\n",
      "==============================================================================\n",
      "\n",
      "Notes:\n",
      "[1] Standard Errors assume that the covariance matrix of the errors is correctly specified.\n"
     ]
    }
   ],
   "source": [
    "df['interaction'] = df['academic_stress'] * df['support']\n",
    "\n",
    "model = smf.ols('crisis_behavior ~ academic_stress + support + interaction', data=df).fit()\n",
    "print(model.summary())"
   ]
  },
  {
   "cell_type": "markdown",
   "metadata": {},
   "source": [
    "# 종합"
   ]
  },
  {
   "cell_type": "code",
   "execution_count": 108,
   "metadata": {},
   "outputs": [],
   "source": [
    "everything = pd.concat([df_edu, df_rel, emo, body, df_vio, crisis, support], axis=1)"
   ]
  },
  {
   "cell_type": "code",
   "execution_count": 109,
   "metadata": {},
   "outputs": [],
   "source": [
    "everything = everything.loc[:, ~everything.columns.duplicated()]"
   ]
  },
  {
   "cell_type": "code",
   "execution_count": 110,
   "metadata": {},
   "outputs": [
    {
     "data": {
      "text/html": [
       "<div>\n",
       "<style scoped>\n",
       "    .dataframe tbody tr th:only-of-type {\n",
       "        vertical-align: middle;\n",
       "    }\n",
       "\n",
       "    .dataframe tbody tr th {\n",
       "        vertical-align: top;\n",
       "    }\n",
       "\n",
       "    .dataframe thead th {\n",
       "        text-align: right;\n",
       "    }\n",
       "</style>\n",
       "<table border=\"1\" class=\"dataframe\">\n",
       "  <thead>\n",
       "    <tr style=\"text-align: right;\">\n",
       "      <th></th>\n",
       "      <th>q071</th>\n",
       "      <th>q072</th>\n",
       "      <th>q073</th>\n",
       "      <th>q074</th>\n",
       "      <th>q485</th>\n",
       "      <th>q486</th>\n",
       "      <th>q487</th>\n",
       "      <th>q488</th>\n",
       "      <th>wt</th>\n",
       "      <th>q05</th>\n",
       "      <th>...</th>\n",
       "      <th>q287</th>\n",
       "      <th>q288</th>\n",
       "      <th>q289</th>\n",
       "      <th>q2810</th>\n",
       "      <th>q29</th>\n",
       "      <th>q31</th>\n",
       "      <th>q38</th>\n",
       "      <th>q4816</th>\n",
       "      <th>q4817</th>\n",
       "      <th>need_money</th>\n",
       "    </tr>\n",
       "  </thead>\n",
       "  <tbody>\n",
       "    <tr>\n",
       "      <th>0</th>\n",
       "      <td>0.000000</td>\n",
       "      <td>0.000000</td>\n",
       "      <td>0.000000</td>\n",
       "      <td>0.666667</td>\n",
       "      <td>0.75</td>\n",
       "      <td>0.50</td>\n",
       "      <td>1.0</td>\n",
       "      <td>0.0</td>\n",
       "      <td>0.250048</td>\n",
       "      <td>1.00</td>\n",
       "      <td>...</td>\n",
       "      <td>0</td>\n",
       "      <td>0</td>\n",
       "      <td>0</td>\n",
       "      <td>0</td>\n",
       "      <td>0</td>\n",
       "      <td>0</td>\n",
       "      <td>1</td>\n",
       "      <td>1.00</td>\n",
       "      <td>1.00</td>\n",
       "      <td>1</td>\n",
       "    </tr>\n",
       "    <tr>\n",
       "      <th>1</th>\n",
       "      <td>0.333333</td>\n",
       "      <td>0.333333</td>\n",
       "      <td>0.333333</td>\n",
       "      <td>0.333333</td>\n",
       "      <td>0.25</td>\n",
       "      <td>0.25</td>\n",
       "      <td>0.5</td>\n",
       "      <td>0.5</td>\n",
       "      <td>0.250048</td>\n",
       "      <td>0.75</td>\n",
       "      <td>...</td>\n",
       "      <td>0</td>\n",
       "      <td>0</td>\n",
       "      <td>0</td>\n",
       "      <td>0</td>\n",
       "      <td>0</td>\n",
       "      <td>0</td>\n",
       "      <td>1</td>\n",
       "      <td>1.00</td>\n",
       "      <td>1.00</td>\n",
       "      <td>1</td>\n",
       "    </tr>\n",
       "    <tr>\n",
       "      <th>2</th>\n",
       "      <td>0.000000</td>\n",
       "      <td>0.000000</td>\n",
       "      <td>0.000000</td>\n",
       "      <td>0.000000</td>\n",
       "      <td>0.50</td>\n",
       "      <td>0.50</td>\n",
       "      <td>0.5</td>\n",
       "      <td>0.5</td>\n",
       "      <td>0.250048</td>\n",
       "      <td>1.00</td>\n",
       "      <td>...</td>\n",
       "      <td>0</td>\n",
       "      <td>0</td>\n",
       "      <td>0</td>\n",
       "      <td>0</td>\n",
       "      <td>1</td>\n",
       "      <td>0</td>\n",
       "      <td>1</td>\n",
       "      <td>0.75</td>\n",
       "      <td>0.75</td>\n",
       "      <td>1</td>\n",
       "    </tr>\n",
       "  </tbody>\n",
       "</table>\n",
       "<p>3 rows × 54 columns</p>\n",
       "</div>"
      ],
      "text/plain": [
       "       q071      q072      q073      q074  q485  q486  q487  q488        wt  \\\n",
       "0  0.000000  0.000000  0.000000  0.666667  0.75  0.50   1.0   0.0  0.250048   \n",
       "1  0.333333  0.333333  0.333333  0.333333  0.25  0.25   0.5   0.5  0.250048   \n",
       "2  0.000000  0.000000  0.000000  0.000000  0.50  0.50   0.5   0.5  0.250048   \n",
       "\n",
       "    q05  ...  q287  q288  q289  q2810  q29  q31  q38  q4816  q4817  need_money  \n",
       "0  1.00  ...     0     0     0      0    0    0    1   1.00   1.00           1  \n",
       "1  0.75  ...     0     0     0      0    0    0    1   1.00   1.00           1  \n",
       "2  1.00  ...     0     0     0      0    1    0    1   0.75   0.75           1  \n",
       "\n",
       "[3 rows x 54 columns]"
      ]
     },
     "execution_count": 110,
     "metadata": {},
     "output_type": "execute_result"
    }
   ],
   "source": [
    "everything.head(3)"
   ]
  },
  {
   "cell_type": "code",
   "execution_count": null,
   "metadata": {},
   "outputs": [],
   "source": []
  },
  {
   "cell_type": "code",
   "execution_count": 111,
   "metadata": {},
   "outputs": [],
   "source": [
    "model_desc = \"\"\"\n",
    "academic_stress =~ q485 + q486 + q487 + q488\n",
    "exam_anxiety =~ q072 + q073\n",
    "academic_pressure =~ academic_stress + exam_anxiety\n",
    "\n",
    "friend_rel =~ q132 + q134 + q136 + q489 + q05\n",
    "teacher_rel =~ q061 + q062\n",
    "father_rel =~ q161 + q163\n",
    "mother_rel =~ q171 + q173\n",
    "parent_rel =~ father_rel + mother_rel\n",
    "group_rel =~ q224 + q225\n",
    "human_rel =~ friend_rel + teacher_rel + parent_rel + group_rel\n",
    "father_rel ~~ mother_rel\n",
    "\n",
    "emotional_state =~ q221 + q223 + q226 + q23\n",
    "\n",
    "body_image_stress =~ q4812 + q4813 + q4814 + q4815\n",
    "body_info =~ obesity\n",
    "\n",
    "body_image_experience =~ body_image_stress\n",
    "body_image_experience ~~ body_info\n",
    "\n",
    "exposure_violence =~ q35 + q351 + q352\n",
    "\n",
    "substance =~ q287 + q288 + q289\n",
    "impulse =~ q29 + q31\n",
    "crisis_behavior =~ substance + q2810 + impulse\n",
    "\n",
    "financial_satis =~ q4816 + q4817\n",
    "financial_environment =~ q38\n",
    "time_support =~ q162 + q172\n",
    "support =~ financial_satis + time_support\n",
    "q4816 ~~ q4817\n",
    "\n",
    "# [1] 정서 상태(emotional_state)에 영향을 주는 요인들\n",
    "emotional_state ~ academic_pressure          # 학업 압박이 정서 상태에 영향\n",
    "emotional_state ~ human_rel                  # 인간 관계 → 정서 안정\n",
    "emotional_state ~ parent_rel                 # 부모와의 관계 → 정서 상태\n",
    "emotional_state ~ friend_rel                 # 친구 관계 → 정서 상태\n",
    "emotional_state ~ body_image_experience      # 신체 이미지 경험 → 정서 상태\n",
    "emotional_state ~ academic_stress            # 학업 스트레스 → 정서 상태\n",
    "emotional_state ~ exposure_violence          # 폭력 노출 → 정서 상태\n",
    "emotional_state ~ support\n",
    "\n",
    "# [2] 충동성과 위기행동에 영향을 주는 정서 상태\n",
    "impulse ~ emotional_state                    # 감정 상태 → 충동성\n",
    "crisis_behavior ~ emotional_state            # 정서 상태 → 위기 행동\n",
    "substance ~ emotional_state\n",
    "\n",
    "# [3] 폭력 노출의 영향\n",
    "impulse ~ exposure_violence                  # 폭력 경험 → 충동성\n",
    "human_rel ~ exposure_violence                # 폭력 경험 → 인간관계 악화\n",
    "substance ~ exposure_violence\n",
    "\n",
    "# [5] 학업 스트레스 관련 경로\n",
    "academic_pressure ~ human_rel\n",
    "academic_pressure ~ teacher_rel\n",
    "academic_pressure ~  parent_rel\n",
    "academic_pressure ~ support\n",
    "academic_pressure ~ emotional_state\n",
    "\n",
    "academic_stress ~ human_rel                  # 좋은 인간 관계 → 학업 스트레스 완충\n",
    "academic_stress ~ teacher_rel             # 시험 불안 → 학업 압박\n",
    "academic_stress ~ parent_rel                 # 부모 관계 → 학업 스트레스\n",
    "academic_stress ~ support\n",
    "academic_stress ~ emotional_state\n",
    "\n",
    "exam_anxiety ~ human_rel\n",
    "exam_anxiety ~ teacher_rel\n",
    "exam_anxiety ~  parent_rel\n",
    "exam_anxiety ~ support\n",
    "exam_anxiety ~ emotional_state\n",
    "\n",
    "# [6] 인간 관계에 영향을 주는 경로\n",
    "human_rel ~ academic_pressure                # 학업 압박 → 인간 관계 악화\n",
    "human_rel ~ substance\n",
    "human_rel ~ support\n",
    "parent_rel ~ substance                       # 물질 사용 → 부모 관계 악화\n",
    "parent_rel ~ academic_stress\n",
    "parent_rel ~ academic_pressure\n",
    "parent_rel ~ exam_anxiety\n",
    "parent_rel ~ financial_environment          # 부모 관계 → 경제 환경\n",
    "friend_rel ~ exposure_violence\n",
    "teacher_rel ~ substance\n",
    "teacher_rel ~ exposure_violence                # 폭력 노출 → 교사 관계 악화\n",
    "teacher_rel ~ exam_anxiety\n",
    "teacher_rel ~ academic_pressure\n",
    "\n",
    "# [7] 충동성과 위기행동\n",
    "impulse ~ academic_pressure                  # 학업 압박 → 충동성\n",
    "impulse ~ friend_rel                         # 친구 관계 → 충동 억제\n",
    "impulse ~ parent_rel\n",
    "impulse ~ exam_anxiety\n",
    "impulse ~ exposure_violence                 # 폭력 노출 → 충동성\n",
    "impulse ~ support\n",
    "impulse ~ human_rel\n",
    "\n",
    "substance ~ academic_pressure      \n",
    "substance ~ friend_rel\n",
    "substance ~ parent_rel\n",
    "substance ~ exam_anxiety\n",
    "substance ~ exposure_violence      \n",
    "substance ~ support            \n",
    "substance ~ human_rel\n",
    "\n",
    "crisis_behavior ~ academic_pressure          # 학업 압박 → 위기 행동\n",
    "crisis_behavior ~ friend_rel\n",
    "crisis_behavior ~ parent_rel\n",
    "crisis_behavior ~ exam_anxiety\n",
    "crisis_behavior ~ exposure_violence          # 폭력 노출 → 위기 행동\n",
    "crisis_behavior ~ support                   # 가족 지원 → 위기 행동 완화\n",
    "crisis_behavior ~ human_rel\n",
    "\n",
    "# [8] 가족의 지원(support)의 영향\n",
    "emotional_state ~ support                   # 가족 지원 → 정서 안정\n",
    "human_rel ~ support                         # 가족 지원 → 인간관계 향상\n",
    "academic_stress ~ support                   # 가족 지원 → 학업 스트레스 완충\n",
    "academic_pressure ~ support                 # 가족 지원 → 학업 압박 완충\n",
    "exam_anxiety ~ support                      # 가족 지원 → 시험 불안 완화\n",
    "impulse ~ support                           # 가족 지원 → 충동성 억제\n",
    "crisis_behavior ~ support                   # 가족 지원 → 위기 행동 완화\n",
    "emotional_state ~ financial_environment     # 경제 환경 → 정서 안정\n",
    "parent_rel ~ support                        # 부모 관계 → 가족 지원\n",
    "parent_rel ~ financial_environment          # 부모 관계 → 경제 환경\n",
    "\n",
    "\"\"\"\n",
    "\n",
    "observed_vars = [\n",
    "    'q072', 'q073', 'q485', 'q486', 'q487', 'q488', 'q221', 'q223', 'q226', 'q23',\n",
    "    'q05','q132', 'q134', 'q136', 'q489', 'q061', 'q062', 'q161', 'q163', 'q171', 'q173', 'q224', 'q225',\n",
    "    'q4812', 'q4813', 'q4814', 'q4815', 'obesity', 'q42', 'q43',\n",
    "    'q33', 'q35', 'q351', 'q352',\n",
    "    'q287', 'q288', 'q289', 'q2810','q29', 'q31',\n",
    "    'q4816', 'q4817', 'q38', 'q162', 'q172'\n",
    "                ]\n",
    "w_cov_df = calculate_covariance(everything, observed_vars)\n",
    "vif_df = compute_vif(everything, observed_vars)\n",
    "\n",
    "\n",
    "# semplot(model, 'C:\\\\git_files\\\\education_analysis\\\\happy\\\\everything.png')\n",
    "# report(model, 'C:\\\\git_files\\\\education_analysis\\\\happy\\\\report')"
   ]
  },
  {
   "cell_type": "code",
   "execution_count": 112,
   "metadata": {},
   "outputs": [
    {
     "name": "stderr",
     "output_type": "stream",
     "text": [
      "WARNING:root:Fisher Information Matrix is not PD.Moore-Penrose inverse will be used instead of Cholesky decomposition. See 10.1109/TSP.2012.2208105.\n"
     ]
    },
    {
     "name": "stdout",
     "output_type": "stream",
     "text": [
      "적합도 지표:\n",
      "                        Value\n",
      "DoF               731.000000\n",
      "DoF Baseline      861.000000\n",
      "chi2             9341.444187\n",
      "chi2 p-value        0.000000\n",
      "chi2 Baseline  153645.035688\n",
      "CFI                 0.943643\n",
      "GFI                 0.939201\n",
      "AGFI                0.928389\n",
      "NFI                 0.939201\n",
      "TLI                 0.933621\n",
      "RMSEA               0.046813\n",
      "AIC               339.048702\n",
      "BIC              1472.477082\n",
      "LogLik              2.475649 \n",
      "\n",
      "\n",
      "모수 추정치:\n",
      "                 lval  op               rval  Estimate   Std. Err    z-value  \\\n",
      "0    academic_stress   ~  academic_pressure  1.000000          -          -   \n",
      "1       exam_anxiety   ~  academic_pressure -3.083327  19.898061  -0.154956   \n",
      "2         father_rel   ~         parent_rel  1.000000          -          -   \n",
      "3         mother_rel   ~         parent_rel  0.811902   0.026082  31.129189   \n",
      "4         friend_rel   ~          human_rel  1.000000          -          -   \n",
      "..               ...  ..                ...       ...        ...        ...   \n",
      "189             q485  ~~               q485  0.043016    0.00113  38.067413   \n",
      "190             q486  ~~               q486  0.047143   0.001177  40.053986   \n",
      "191             q487  ~~               q487  0.061103    0.00142   43.03026   \n",
      "192             q488  ~~               q488  0.051644   0.001228  42.071991   \n",
      "193             q489  ~~               q489  0.034174   0.000901  37.937487   \n",
      "\n",
      "      p-value  \n",
      "0           -  \n",
      "1    0.876856  \n",
      "2           -  \n",
      "3         0.0  \n",
      "4           -  \n",
      "..        ...  \n",
      "189       0.0  \n",
      "190       0.0  \n",
      "191       0.0  \n",
      "192       0.0  \n",
      "193       0.0  \n",
      "\n",
      "[194 rows x 7 columns]\n"
     ]
    }
   ],
   "source": [
    "from semopy import Model\n",
    "\n",
    "model = Model(model_desc)\n",
    "# 원본 데이터를 직접 전달\n",
    "res = model.fit(\n",
    "    data=everything,   # DataFrame\n",
    "    obj='DWLS',        # Diagonally Weighted Least Squares :contentReference[oaicite:3]{index=3}\n",
    "    solver='SLSQP',    # 최적화 옵션은 그대로 사용\n",
    "    clean_slate=True\n",
    ")\n",
    "stats = calc_stats(model)\n",
    "estimates = model.inspect()\n",
    "print(\"적합도 지표:\\n\", stats.T, \"\\n\\n\")\n",
    "print(\"모수 추정치:\\n\", estimates)\n",
    "# semplot(model, 'C:\\\\git_files\\\\education_analysis\\\\happy\\\\everything.png')\n",
    "# report(model, 'C:\\\\git_files\\\\education_analysis\\\\happy\\\\report')"
   ]
  },
  {
   "cell_type": "code",
   "execution_count": 113,
   "metadata": {},
   "outputs": [
    {
     "name": "stdout",
     "output_type": "stream",
     "text": [
      "academic_stress의 Cronbach's α: 0.847\n",
      "exam_anxiety의 Cronbach's α: 0.817\n",
      "friend_rel의 Cronbach's α: 0.609\n",
      "teacher_rel의 Cronbach's α: 0.723\n",
      "father_rel의 Cronbach's α: 0.826\n",
      "mother_rel의 Cronbach's α: 0.804\n",
      "parent_rel의 Cronbach's α: 0.803\n",
      "group_rel의 Cronbach's α: 0.647\n",
      "emotional_state의 Cronbach's α: 0.742\n",
      "body_image_stress의 Cronbach's α: 0.778\n",
      "exposure_violence의 Cronbach's α: 0.959\n",
      "substance의 Cronbach's α: 0.345\n",
      "impulse의 Cronbach's α: 0.723\n",
      "financial_satis의 Cronbach's α: 0.854\n",
      "time_support의 Cronbach's α: 0.638\n"
     ]
    }
   ],
   "source": [
    "# 각 하위 요인별 변수 목록\n",
    "exam_anxiety_columns = ['q072', 'q073']\n",
    "academic_stress_columns = ['q485', 'q486', 'q487', 'q488']\n",
    "friend_rel_columns = ['q132', 'q134', 'q136', 'q489', 'q05']\n",
    "teacher_rel_columns = ['q061', 'q062']\n",
    "father_rel_columns = ['q161', 'q163']\n",
    "mother_rel_columns = ['q171', 'q173']\n",
    "parent_rel_columns = ['q161', 'q163', 'q171', 'q173']\n",
    "group_rel_columns = ['q224', 'q225']\n",
    "emotional_state_columns = ['q221', 'q223', 'q226', 'q23']\n",
    "body_image_stress_columns = ['q4812', 'q4813', 'q4814', 'q4815']\n",
    "exposure_violence_columns = ['q35', 'q351', 'q352']\n",
    "substance_columns = ['q287', 'q288', 'q289']\n",
    "impulse_columns = ['q29', 'q31']\n",
    "financial_satis_columns = ['q4816', 'q4817']\n",
    "time_support_columns = ['q162', 'q172']\n",
    "\n",
    "for col in academic_stress_columns + exam_anxiety_columns + friend_rel_columns + teacher_rel_columns + \\\n",
    "        father_rel_columns + mother_rel_columns + parent_rel_columns + group_rel_columns + \\\n",
    "        emotional_state_columns + body_image_stress_columns + \\\n",
    "        exposure_violence_columns + substance_columns + impulse_columns + \\\n",
    "        financial_satis_columns + time_support_columns:\n",
    "    # 각 열을 수치형으로 변환\n",
    "    everything[col] = pd.to_numeric(everything[col], errors='coerce')\n",
    "\n",
    "\n",
    "# 각 하위 요인별 Cronbach's α 계산 함수\n",
    "def calculate_cronbach_alpha(columns):\n",
    "    data = everything[columns]\n",
    "    return pg.cronbach_alpha(data=data)[0]\n",
    "\n",
    "# 각 하위 요인별 Cronbach's α 계산\n",
    "cronbach_results = {}\n",
    "\n",
    "# 각 하위 요인에 대해 Cronbach's α 계산\n",
    "cronbach_results['academic_stress'] = calculate_cronbach_alpha(academic_stress_columns)\n",
    "cronbach_results['exam_anxiety'] = calculate_cronbach_alpha(exam_anxiety_columns)\n",
    "cronbach_results['friend_rel'] = calculate_cronbach_alpha(friend_rel_columns)\n",
    "cronbach_results['teacher_rel'] = calculate_cronbach_alpha(teacher_rel_columns)\n",
    "cronbach_results['father_rel'] = calculate_cronbach_alpha(father_rel_columns)\n",
    "cronbach_results['mother_rel'] = calculate_cronbach_alpha(mother_rel_columns)\n",
    "cronbach_results['parent_rel'] = calculate_cronbach_alpha(parent_rel_columns)\n",
    "cronbach_results['group_rel'] = calculate_cronbach_alpha(group_rel_columns)\n",
    "cronbach_results['emotional_state'] = calculate_cronbach_alpha(emotional_state_columns)\n",
    "cronbach_results['body_image_stress'] = calculate_cronbach_alpha(body_image_stress_columns)\n",
    "cronbach_results['exposure_violence'] = calculate_cronbach_alpha(exposure_violence_columns)\n",
    "cronbach_results['substance'] = calculate_cronbach_alpha(substance_columns)\n",
    "cronbach_results['impulse'] = calculate_cronbach_alpha(impulse_columns)\n",
    "cronbach_results['financial_satis'] = calculate_cronbach_alpha(financial_satis_columns)\n",
    "cronbach_results['time_support'] = calculate_cronbach_alpha(time_support_columns)\n",
    "\n",
    "# Cronbach's α 값 출력\n",
    "for factor, alpha in cronbach_results.items():\n",
    "    print(f\"{factor}의 Cronbach's α: {alpha:.3f}\")\n"
   ]
  },
  {
   "cell_type": "code",
   "execution_count": 114,
   "metadata": {},
   "outputs": [
    {
     "name": "stderr",
     "output_type": "stream",
     "text": [
      "WARNING:root:Fisher Information Matrix is not PD.Moore-Penrose inverse will be used instead of Cholesky decomposition. See 10.1109/TSP.2012.2208105.\n"
     ]
    },
    {
     "name": "stdout",
     "output_type": "stream",
     "text": [
      "✅ 유효한 가설만 남은 모델식:\n",
      "\n",
      "academic_pressure | ~ | emotional_state | -5.185635430825243 | 6.645594978760272e-07\n",
      "academic_pressure | ~ | human_rel | 4.723289258986477 | 0.00033938482879958265\n",
      "academic_pressure | ~ | parent_rel | 0.7118069053099968 | 0.0004920230521239244\n",
      "academic_pressure | ~ | support | 1.641334321640283 | 0.0056189435989519865\n",
      "academic_pressure | ~ | teacher_rel | -2.2740405196031936 | 0.0\n",
      "academic_stress | ~ | emotional_state | -0.5920642003147315 | 1.2556991709100629e-05\n",
      "academic_stress | ~ | human_rel | 2.598559372735225 | 1.3384715558117932e-10\n",
      "crisis_behavior | ~ | academic_pressure | 4.214949623593209 | 0.0\n",
      "crisis_behavior | ~ | emotional_state | 5.09010393353676 | 0.0\n",
      "crisis_behavior | ~ | exam_anxiety | 2.33951901114144 | 4.806710585114615e-11\n",
      "crisis_behavior | ~ | exposure_violence | 1.6141377601957412 | 0.0\n",
      "crisis_behavior | ~ | friend_rel | 8.941519285892085 | 0.0\n",
      "crisis_behavior | ~ | human_rel | 8.526914503470278 | 0.0\n",
      "crisis_behavior | ~ | parent_rel | -6.274078077889638 | 0.0\n",
      "emotional_state | ~ | academic_pressure | 1.4129630235315978 | 6.830986887251811e-10\n",
      "emotional_state | ~ | academic_stress | -1.00607427244587 | 0.011422742559872745\n",
      "emotional_state | ~ | financial_environment | -1.9075324930906143 | 0.00014899448625160794\n",
      "emotional_state | ~ | human_rel | 3.755676907028799 | 0.0\n",
      "emotional_state | ~ | parent_rel | -0.7106509389417075 | 0.019179258529824272\n",
      "emotional_state | ~ | support | 3.1524978273074162 | 0.0\n",
      "exam_anxiety | ~ | emotional_state | -1.375253388891005 | 0.014804811914398863\n",
      "exam_anxiety | ~ | human_rel | 1.3292599248497872 | 1.1609234928933176e-07\n",
      "exam_anxiety | ~ | support | -0.9585988396089942 | 3.6596350483364404e-07\n",
      "exam_anxiety | ~ | teacher_rel | 0.9014384891526341 | 0.0001575767701722519\n",
      "friend_rel | ~ | exposure_violence | -0.07647962399592975 | 4.822042765084689e-09\n",
      "group_rel | ~ | human_rel | 1.3157091294807386 | 0.0\n",
      "human_rel | ~ | academic_pressure | -0.4215829119792129 | 4.872244829812189e-10\n",
      "human_rel | ~ | exposure_violence | 0.5818259146461018 | 5.841009897977756e-10\n",
      "human_rel | ~ | substance | -6.566646068934105 | 0.0\n",
      "human_rel | ~ | support | -1.2434530343224115 | 1.715159303450342e-05\n",
      "impulse | ~ | academic_pressure | 0.2766032949963696 | 0.006709453058453052\n",
      "impulse | ~ | crisis_behavior | 0.8163698139159007 | 3.2507330161024584e-13\n",
      "impulse | ~ | emotional_state | -2.511950550497324 | 0.0\n",
      "impulse | ~ | human_rel | 2.548559968759511 | 6.303846333821639e-13\n",
      "mother_rel | ~ | parent_rel | 0.856261039970981 | 0.0\n",
      "parent_rel | ~ | exam_anxiety | 0.5357057786491687 | 0.0006509908903384876\n",
      "parent_rel | ~ | financial_environment | 6.103783994159089 | 0.0\n",
      "parent_rel | ~ | substance | -0.06922215885178121 | 0.038474995761863306\n",
      "parent_rel | ~ | support | -6.0520102052402995 | 0.0\n",
      "q05 | ~ | friend_rel | 1.0788021264702998 | 0.0\n",
      "q062 | ~ | teacher_rel | 1.0731119258051918 | 0.0\n",
      "q073 | ~ | exam_anxiety | 0.850165191461674 | 0.0\n",
      "q134 | ~ | friend_rel | 1.133331861910146 | 0.0\n",
      "q136 | ~ | friend_rel | 0.9658957574892395 | 0.0\n",
      "q163 | ~ | father_rel | 1.2471184440357186 | 0.0\n",
      "q172 | ~ | time_support | 0.896450968435475 | 0.0\n",
      "q173 | ~ | mother_rel | 1.3322446164439659 | 0.0\n",
      "q223 | ~ | emotional_state | 1.4744442037673056 | 0.0\n",
      "q225 | ~ | group_rel | 1.0727812460787958 | 0.0\n",
      "q226 | ~ | emotional_state | 0.9096602907881512 | 0.0\n",
      "q23 | ~ | emotional_state | 1.0938240418597234 | 0.0\n",
      "q2810 | ~ | crisis_behavior | 0.6591257020068857 | 0.0\n",
      "q288 | ~ | substance | 1.5283459636306522 | 0.0\n",
      "q289 | ~ | substance | 0.34290051191904225 | 0.0\n",
      "q31 | ~ | impulse | 1.1042913423510952 | 0.0\n",
      "q351 | ~ | exposure_violence | 1.4742854252465838 | 0.0\n",
      "q352 | ~ | exposure_violence | 1.6523070801427557 | 0.0\n",
      "q4813 | ~ | body_image_stress | 0.7346874379687598 | 0.0\n",
      "q4814 | ~ | body_image_stress | 1.1382215699007687 | 0.0\n",
      "q4815 | ~ | body_image_stress | 0.9840087223530332 | 0.0\n",
      "q4817 | ~ | financial_satis | 0.9731351911112335 | 0.0\n",
      "q486 | ~ | academic_stress | 1.0209952840450325 | 0.0\n",
      "q487 | ~ | academic_stress | 0.9608813317695677 | 0.0\n",
      "q488 | ~ | academic_stress | 0.8874301748280442 | 0.0\n",
      "q489 | ~ | friend_rel | 1.0565964179191687 | 0.0\n",
      "substance | ~ | academic_pressure | 0.13256838217435196 | 0.02044720893130414\n",
      "substance | ~ | exposure_violence | -0.13788333858912438 | 0.0003358375167936689\n",
      "substance | ~ | friend_rel | 0.4831738377986519 | 0.000798296805546217\n",
      "substance | ~ | parent_rel | -0.1498462508680988 | 0.01019457734086493\n",
      "teacher_rel | ~ | academic_pressure | 1.1668833561898484 | 0.0013838381980837422\n",
      "teacher_rel | ~ | exam_anxiety | -1.310366859446424 | 0.0010374959819301477\n",
      "teacher_rel | ~ | human_rel | 2.815612236413532 | 8.237064105021119e-06\n",
      "time_support | ~ | support | 1.7758182286854691 | 0.0\n"
     ]
    }
   ],
   "source": [
    "model = Model(model_desc)\n",
    "model.fit(everything)\n",
    "\n",
    "# 3. 추정 결과 추출\n",
    "estimates = model.inspect()\n",
    "estimates['p-value'] = pd.to_numeric(estimates['p-value'], errors='coerce')\n",
    "significant_paths = estimates[(estimates['p-value'] < 0.05) & (estimates['op'] == '~')]\n",
    "\n",
    "# 4. 유효한 식만 추출\n",
    "valid_equations = []\n",
    "\n",
    "for _, row in significant_paths.iterrows():\n",
    "    lhs = row['lval']\n",
    "    rhs = row['rval']\n",
    "    op = row['op']\n",
    "    Estimate = row['Estimate']\n",
    "    pvalue = row['p-value']\n",
    "    valid_equations.append(f\"{lhs} | {op} | {rhs} | {Estimate} | {pvalue}\")\n",
    "\n",
    "# 중복 제거 + 정렬\n",
    "valid_equations = sorted(set(valid_equations))\n",
    "\n",
    "# 5. 최종 모델식 만들기\n",
    "model_desc_valid = \"\\n\".join(valid_equations)\n",
    "\n",
    "# 6. 확인\n",
    "print(\"✅ 유효한 가설만 남은 모델식:\\n\")\n",
    "print(model_desc_valid)\n"
   ]
  },
  {
   "cell_type": "code",
   "execution_count": 115,
   "metadata": {},
   "outputs": [
    {
     "name": "stderr",
     "output_type": "stream",
     "text": [
      "WARNING:root:Fisher Information Matrix is not PD.Moore-Penrose inverse will be used instead of Cholesky decomposition. See 10.1109/TSP.2012.2208105.\n"
     ]
    },
    {
     "name": "stdout",
     "output_type": "stream",
     "text": [
      "✅ 애매한한 가설만 남은 모델식:\n",
      "\n",
      "academic_stress | ~ | parent_rel | -0.3920930688309888 | 0.06322489044294866\n",
      "emotional_state | ~ | body_image_experience | -0.09120125094407192 | 0.07360432968856978\n",
      "exam_anxiety | ~ | parent_rel | 0.3996016801422829 | 0.0529949186460652\n",
      "impulse | ~ | friend_rel | -0.4288890554047792 | 0.062390167386839\n",
      "impulse | ~ | parent_rel | -0.1941425788996551 | 0.09443146989803042\n",
      "parent_rel | ~ | human_rel | 1.008875809945514 | 0.09420141954352679\n",
      "teacher_rel | ~ | substance | -0.2442821058127304 | 0.0975862030585255\n"
     ]
    }
   ],
   "source": [
    "model = Model(model_desc)\n",
    "model.fit(everything)\n",
    "\n",
    "# 3. 추정 결과 추출\n",
    "estimates = model.inspect()\n",
    "estimates['p-value'] = pd.to_numeric(estimates['p-value'], errors='coerce')\n",
    "significant_paths = estimates[(estimates['p-value'] > 0.05) & (estimates['p-value'] <= 0.1) & (estimates['op'] == '~')]\n",
    "\n",
    "# 4. 유효한 식만 추출\n",
    "valid_equations = []\n",
    "\n",
    "for _, row in significant_paths.iterrows():\n",
    "    lhs = row['lval']\n",
    "    rhs = row['rval']\n",
    "    op = row['op']\n",
    "    Estimate = row['Estimate']\n",
    "    pvalue = row['p-value']\n",
    "    valid_equations.append(f\"{lhs} | {op} | {rhs} | {Estimate} | {pvalue}\")\n",
    "\n",
    "# 중복 제거 + 정렬\n",
    "valid_equations = sorted(set(valid_equations))\n",
    "\n",
    "# 5. 최종 모델식 만들기\n",
    "model_desc_valid = \"\\n\".join(valid_equations)\n",
    "\n",
    "# 6. 확인\n",
    "print(\"✅ 애매한한 가설만 남은 모델식:\\n\")\n",
    "print(model_desc_valid)\n"
   ]
  },
  {
   "cell_type": "code",
   "execution_count": 116,
   "metadata": {},
   "outputs": [],
   "source": [
    "def format_value(x):\n",
    "    try:\n",
    "        if str(x).strip() == '-':\n",
    "            return x\n",
    "        return f\"{float(x):.6f}\"\n",
    "    except:\n",
    "        return x"
   ]
  },
  {
   "cell_type": "code",
   "execution_count": 117,
   "metadata": {},
   "outputs": [],
   "source": [
    "def standardize_estimates_full(estimates_df, data):\n",
    "    \"\"\"\n",
    "    semopy 모델의 결과 DataFrame(estimates_df)에 대해 표준화 계수를 계산하는 함수.\n",
    "    - 회귀 계수(op='~') 및 요인 부하량(op='=~')에 대해 계산.\n",
    "    \n",
    "    Parameters:\n",
    "        estimates_df (pd.DataFrame): semopy의 model.inspect() 결과\n",
    "        data (pd.DataFrame): 원자료 또는 잠재변수 점수가 포함된 데이터프레임\n",
    "\n",
    "    Returns:\n",
    "        pd.DataFrame: std_estimate 열이 추가된 DataFrame\n",
    "    \"\"\"\n",
    "    std_estimates = []\n",
    "\n",
    "    for _, row in estimates_df.iterrows():\n",
    "        op = row['op']\n",
    "        lhs = row['lval']\n",
    "        rhs = row['rval']\n",
    "        estimate = row['Estimate']\n",
    "\n",
    "        if op == '~':  # 회귀 관계: lhs ~ rhs\n",
    "            if lhs in data.columns and rhs in data.columns:\n",
    "                try:\n",
    "                    std_lhs = np.std(data[lhs], ddof=1)\n",
    "                    std_rhs = np.std(data[rhs], ddof=1)\n",
    "                    std_beta = estimate * (std_rhs / std_lhs)\n",
    "                    std_estimates.append(std_beta)\n",
    "                except Exception:\n",
    "                    std_estimates.append(np.nan)\n",
    "            else:\n",
    "                std_estimates.append(np.nan)\n",
    "\n",
    "        elif op == '=~':  # 요인 부하량: latent =~ indicator\n",
    "            if rhs in data.columns:\n",
    "                try:\n",
    "                    std_rhs = np.std(data[rhs], ddof=1)\n",
    "                    std_loading = estimate * std_rhs  # 잠재변수는 단위분산 가정\n",
    "                    std_estimates.append(std_loading)\n",
    "                except Exception:\n",
    "                    std_estimates.append(np.nan)\n",
    "            else:\n",
    "                std_estimates.append(np.nan)\n",
    "\n",
    "        else:\n",
    "            std_estimates.append(np.nan)\n",
    "\n",
    "    estimates_df['std_estimate'] = std_estimates\n",
    "    return estimates_df\n"
   ]
  },
  {
   "cell_type": "code",
   "execution_count": 119,
   "metadata": {},
   "outputs": [],
   "source": [
    "# factor_scores = model.predict_factors(everything)\n",
    "# combined_df = pd.concat([everything.copy(), factor_scores], axis=1)\n",
    "# estimates_df = model.inspect()\n",
    "# std_estimates_df = standardize_estimates_full(estimates_df, combined_df)\n",
    "\n",
    "# # 결과 확인\n",
    "# pd.set_option('display.max_rows', None)\n",
    "# display(std_estimates_df)\n",
    "# pd.reset_option('display.max_rows')"
   ]
  },
  {
   "cell_type": "code",
   "execution_count": 120,
   "metadata": {},
   "outputs": [],
   "source": [
    "# for col in ['Estimate', 'Std. Err', 'z-value', 'p-value', 'std_estimate']:\n",
    "#     if col in std_estimates_df.columns:\n",
    "#         std_estimates_df[col] = std_estimates_df[col].apply(format_value)\n",
    "\n",
    "# std_estimates_df.to_csv('c:\\\\git_files\\\\education_analysis\\\\happy\\\\estimates.csv', index=False)\n",
    "# df.to_csv('c:\\\\git_files\\\\education_analysis\\\\happy\\\\final_df.csv', index=False)"
   ]
  },
  {
   "cell_type": "code",
   "execution_count": null,
   "metadata": {},
   "outputs": [],
   "source": []
  },
  {
   "cell_type": "code",
   "execution_count": null,
   "metadata": {},
   "outputs": [],
   "source": []
  }
 ],
 "metadata": {
  "kernelspec": {
   "display_name": "kernel",
   "language": "python",
   "name": "kernel"
  },
  "language_info": {
   "codemirror_mode": {
    "name": "ipython",
    "version": 3
   },
   "file_extension": ".py",
   "mimetype": "text/x-python",
   "name": "python",
   "nbconvert_exporter": "python",
   "pygments_lexer": "ipython3",
   "version": "3.11.2"
  }
 },
 "nbformat": 4,
 "nbformat_minor": 2
}
