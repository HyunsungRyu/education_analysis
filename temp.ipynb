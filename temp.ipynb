{
 "cells": [
  {
   "cell_type": "code",
   "execution_count": 1,
   "metadata": {},
   "outputs": [],
   "source": [
    "from sas7bdat import SAS7BDAT\n",
    "import pandas as pd\n",
    "from IPython.display import display\n",
    "import gc\n",
    "import pyreadstat"
   ]
  },
  {
   "cell_type": "code",
   "execution_count": 2,
   "metadata": {},
   "outputs": [],
   "source": [
    "# kyrbs_file_path = 'c:\\\\data\\\\education\\\\kyrbs2024_sas\\\\kyrbs\\\\kyrbs2024.sas7bdat'\n",
    "# pop_file_path = 'c:\\\\data\\\\education\\\\kyrbs2024_sas\\\\kyrbs\\\\pop24.sas7bdat'\n",
    "\n",
    "# enc = 'euc-kr'\n",
    "# df1, meta1 = pyreadstat.read_sas7bdat(kyrbs_file_path, encoding=enc)\n",
    "# df2, meta2 = pyreadstat.read_sas7bdat(pop_file_path, encoding=enc)\n",
    "\n",
    "# display(df1.head())\n",
    "# display(df2.head())\n",
    "\n",
    "# df1.to_csv('c:\\\\data\\\\education\\\\kyrbs2024_sas\\\\kyrbs\\\\kyrbs2024.csv', encoding='cp949', index=False)\n",
    "# df2.to_csv('c:\\\\data\\\\education\\\\kyrbs2024_sas\\\\kyrbs\\\\pop24.csv', encoding='cp949', index=False)\n",
    "\n",
    "# del df1\n",
    "# del df2\n",
    "# gc.collect()"
   ]
  },
  {
   "cell_type": "code",
   "execution_count": 3,
   "metadata": {},
   "outputs": [
    {
     "data": {
      "text/html": [
       "<div>\n",
       "<style scoped>\n",
       "    .dataframe tbody tr th:only-of-type {\n",
       "        vertical-align: middle;\n",
       "    }\n",
       "\n",
       "    .dataframe tbody tr th {\n",
       "        vertical-align: top;\n",
       "    }\n",
       "\n",
       "    .dataframe thead th {\n",
       "        text-align: right;\n",
       "    }\n",
       "</style>\n",
       "<table border=\"1\" class=\"dataframe\">\n",
       "  <thead>\n",
       "    <tr style=\"text-align: right;\">\n",
       "      <th></th>\n",
       "      <th>OBS</th>\n",
       "      <th>mod_d</th>\n",
       "      <th>YEAR</th>\n",
       "      <th>CITY</th>\n",
       "      <th>CTYPE</th>\n",
       "      <th>CTYPE_SD</th>\n",
       "      <th>MH</th>\n",
       "      <th>SCHOOL</th>\n",
       "      <th>STYPE</th>\n",
       "      <th>STRATA</th>\n",
       "      <th>...</th>\n",
       "      <th>E_LT_F</th>\n",
       "      <th>E_LT_SF</th>\n",
       "      <th>E_LT_M</th>\n",
       "      <th>E_LT_SM</th>\n",
       "      <th>E_EDU_F</th>\n",
       "      <th>E_KRN_F</th>\n",
       "      <th>E_BORN_F</th>\n",
       "      <th>E_EDU_M</th>\n",
       "      <th>E_KRN_M</th>\n",
       "      <th>E_BORN_M</th>\n",
       "    </tr>\n",
       "  </thead>\n",
       "  <tbody>\n",
       "    <tr>\n",
       "      <th>0</th>\n",
       "      <td>A100001</td>\n",
       "      <td>2024.11.26.</td>\n",
       "      <td>2024.0</td>\n",
       "      <td>서울</td>\n",
       "      <td>대도시</td>\n",
       "      <td>대도시</td>\n",
       "      <td>중학교</td>\n",
       "      <td>중학교</td>\n",
       "      <td>남녀공학</td>\n",
       "      <td>2024_64</td>\n",
       "      <td>...</td>\n",
       "      <td>1.0</td>\n",
       "      <td>9999.0</td>\n",
       "      <td>1.0</td>\n",
       "      <td>9999.0</td>\n",
       "      <td>3.0</td>\n",
       "      <td>1.0</td>\n",
       "      <td>9999.0</td>\n",
       "      <td>3.0</td>\n",
       "      <td>1.0</td>\n",
       "      <td>9999.0</td>\n",
       "    </tr>\n",
       "    <tr>\n",
       "      <th>1</th>\n",
       "      <td>A100002</td>\n",
       "      <td>2024.11.26.</td>\n",
       "      <td>2024.0</td>\n",
       "      <td>서울</td>\n",
       "      <td>대도시</td>\n",
       "      <td>대도시</td>\n",
       "      <td>중학교</td>\n",
       "      <td>중학교</td>\n",
       "      <td>남녀공학</td>\n",
       "      <td>2024_64</td>\n",
       "      <td>...</td>\n",
       "      <td>1.0</td>\n",
       "      <td>9999.0</td>\n",
       "      <td>1.0</td>\n",
       "      <td>9999.0</td>\n",
       "      <td>3.0</td>\n",
       "      <td>1.0</td>\n",
       "      <td>9999.0</td>\n",
       "      <td>3.0</td>\n",
       "      <td>1.0</td>\n",
       "      <td>9999.0</td>\n",
       "    </tr>\n",
       "    <tr>\n",
       "      <th>2</th>\n",
       "      <td>A100003</td>\n",
       "      <td>2024.11.26.</td>\n",
       "      <td>2024.0</td>\n",
       "      <td>서울</td>\n",
       "      <td>대도시</td>\n",
       "      <td>대도시</td>\n",
       "      <td>중학교</td>\n",
       "      <td>중학교</td>\n",
       "      <td>남녀공학</td>\n",
       "      <td>2024_64</td>\n",
       "      <td>...</td>\n",
       "      <td>1.0</td>\n",
       "      <td>9999.0</td>\n",
       "      <td>1.0</td>\n",
       "      <td>9999.0</td>\n",
       "      <td>3.0</td>\n",
       "      <td>1.0</td>\n",
       "      <td>9999.0</td>\n",
       "      <td>3.0</td>\n",
       "      <td>1.0</td>\n",
       "      <td>9999.0</td>\n",
       "    </tr>\n",
       "  </tbody>\n",
       "</table>\n",
       "<p>3 rows × 194 columns</p>\n",
       "</div>"
      ],
      "text/plain": [
       "       OBS        mod_d    YEAR CITY CTYPE CTYPE_SD   MH SCHOOL STYPE  \\\n",
       "0  A100001  2024.11.26.  2024.0   서울   대도시      대도시  중학교    중학교  남녀공학   \n",
       "1  A100002  2024.11.26.  2024.0   서울   대도시      대도시  중학교    중학교  남녀공학   \n",
       "2  A100003  2024.11.26.  2024.0   서울   대도시      대도시  중학교    중학교  남녀공학   \n",
       "\n",
       "    STRATA  ... E_LT_F  E_LT_SF E_LT_M  E_LT_SM  E_EDU_F  E_KRN_F  E_BORN_F  \\\n",
       "0  2024_64  ...    1.0   9999.0    1.0   9999.0      3.0      1.0    9999.0   \n",
       "1  2024_64  ...    1.0   9999.0    1.0   9999.0      3.0      1.0    9999.0   \n",
       "2  2024_64  ...    1.0   9999.0    1.0   9999.0      3.0      1.0    9999.0   \n",
       "\n",
       "   E_EDU_M  E_KRN_M  E_BORN_M  \n",
       "0      3.0      1.0    9999.0  \n",
       "1      3.0      1.0    9999.0  \n",
       "2      3.0      1.0    9999.0  \n",
       "\n",
       "[3 rows x 194 columns]"
      ]
     },
     "metadata": {},
     "output_type": "display_data"
    },
    {
     "data": {
      "text/html": [
       "<div>\n",
       "<style scoped>\n",
       "    .dataframe tbody tr th:only-of-type {\n",
       "        vertical-align: middle;\n",
       "    }\n",
       "\n",
       "    .dataframe tbody tr th {\n",
       "        vertical-align: top;\n",
       "    }\n",
       "\n",
       "    .dataframe thead th {\n",
       "        text-align: right;\n",
       "    }\n",
       "</style>\n",
       "<table border=\"1\" class=\"dataframe\">\n",
       "  <thead>\n",
       "    <tr style=\"text-align: right;\">\n",
       "      <th></th>\n",
       "      <th>db_y</th>\n",
       "      <th>_total_</th>\n",
       "      <th>STRATA</th>\n",
       "    </tr>\n",
       "  </thead>\n",
       "  <tbody>\n",
       "    <tr>\n",
       "      <th>0</th>\n",
       "      <td>2024.0</td>\n",
       "      <td>43.0</td>\n",
       "      <td>2024_1</td>\n",
       "    </tr>\n",
       "    <tr>\n",
       "      <th>1</th>\n",
       "      <td>2024.0</td>\n",
       "      <td>57.0</td>\n",
       "      <td>2024_10</td>\n",
       "    </tr>\n",
       "    <tr>\n",
       "      <th>2</th>\n",
       "      <td>2024.0</td>\n",
       "      <td>35.0</td>\n",
       "      <td>2024_100</td>\n",
       "    </tr>\n",
       "  </tbody>\n",
       "</table>\n",
       "</div>"
      ],
      "text/plain": [
       "     db_y  _total_    STRATA\n",
       "0  2024.0     43.0    2024_1\n",
       "1  2024.0     57.0   2024_10\n",
       "2  2024.0     35.0  2024_100"
      ]
     },
     "metadata": {},
     "output_type": "display_data"
    }
   ],
   "source": [
    "kyrbs = pd.read_csv('c:\\\\data\\\\education\\\\kyrbs2024_sas\\\\kyrbs\\\\kyrbs2024.csv', encoding='cp949')\n",
    "pop = pd.read_csv('c:\\\\data\\\\education\\\\kyrbs2024_sas\\\\kyrbs\\\\pop24.csv', encoding='cp949')\n",
    "\n",
    "display(kyrbs.head(3))\n",
    "display(pop.head(3))"
   ]
  },
  {
   "cell_type": "code",
   "execution_count": 4,
   "metadata": {},
   "outputs": [
    {
     "name": "stdout",
     "output_type": "stream",
     "text": [
      "['SCHOOL', 'PA_SWD_S', 'PA_SWD_N', 'PA_SWK_S', 'PA_SWK_N', 'HT', 'WT', 'M_SLP_HR', 'M_SLP_MM', 'M_WK_HR', 'M_WK_MM', 'AC_FAGE', 'TC_FAGE', 'TC_DAGE', 'TC_EC_FAGE', 'TC_EC_DAGE', 'TC_HTP_FAGE', 'TC_HTP_DAGE', 'S_FAGE', 'INT_SPWD_TM', 'INT_SPWK_TM', 'AGE', 'AGE_M', 'E_S_RCRD', 'E_SES', 'E_RES']\n"
     ]
    },
    {
     "data": {
      "text/plain": [
       "SCHOOL          441\n",
       "PA_SWD_S        967\n",
       "PA_SWD_N        967\n",
       "PA_SWK_S       1004\n",
       "PA_SWK_N       1004\n",
       "HT             1480\n",
       "WT             1480\n",
       "M_SLP_HR       4140\n",
       "M_SLP_MM       4140\n",
       "M_WK_HR        4140\n",
       "M_WK_MM        4140\n",
       "AC_FAGE          59\n",
       "TC_FAGE          87\n",
       "TC_DAGE          32\n",
       "TC_EC_FAGE       30\n",
       "TC_EC_DAGE       23\n",
       "TC_HTP_FAGE      32\n",
       "TC_HTP_DAGE      15\n",
       "S_FAGE          155\n",
       "INT_SPWD_TM    1821\n",
       "INT_SPWK_TM    1855\n",
       "AGE              49\n",
       "AGE_M            49\n",
       "E_S_RCRD          3\n",
       "E_SES             5\n",
       "E_RES             7\n",
       "dtype: int64"
      ]
     },
     "metadata": {},
     "output_type": "display_data"
    }
   ],
   "source": [
    "missing_cols = kyrbs.columns[kyrbs.isna().any()].tolist()\n",
    "print(missing_cols)\n",
    "display(kyrbs[missing_cols].isna().sum())"
   ]
  },
  {
   "cell_type": "code",
   "execution_count": 5,
   "metadata": {},
   "outputs": [
    {
     "data": {
      "text/plain": [
       "disturbed\n",
       "1    35952\n",
       "2    18701\n",
       "Name: count, dtype: int64"
      ]
     },
     "execution_count": 5,
     "metadata": {},
     "output_type": "execute_result"
    }
   ],
   "source": [
    "kyrbs['disturbed'] = kyrbs[[f'M_GAD_{i}' for i in range(1, 8)]].apply(lambda x: 2 if (x >= 3).any() else 1, axis=1) # 어떤것에 자주 방해 받는지\n",
    "kyrbs['disturbed'].value_counts()"
   ]
  },
  {
   "cell_type": "code",
   "execution_count": 6,
   "metadata": {},
   "outputs": [
    {
     "data": {
      "text/plain": [
       "violent\n",
       "1    53249\n",
       "2     1246\n",
       "3      158\n",
       "Name: count, dtype: int64"
      ]
     },
     "execution_count": 6,
     "metadata": {},
     "output_type": "execute_result"
    }
   ],
   "source": [
    "kyrbs['violent'] = kyrbs['V_TRT'].apply(lambda x: 1 if x == 1 else (3 if x == 7 else 2)) # 폭력 경험 - 1 없음, 2 있음, 3 자주(6회 이상)\n",
    "kyrbs['violent'].value_counts()"
   ]
  },
  {
   "cell_type": "code",
   "execution_count": 7,
   "metadata": {},
   "outputs": [
    {
     "data": {
      "text/plain": [
       "E_FM_F_1\n",
       "1.0       46840\n",
       "8888.0     5917\n",
       "9999.0     1896\n",
       "Name: count, dtype: int64"
      ]
     },
     "metadata": {},
     "output_type": "display_data"
    },
    {
     "data": {
      "text/plain": [
       "E_FM_SF_2\n",
       "9999.0    47004\n",
       "8888.0     5917\n",
       "2.0        1732\n",
       "Name: count, dtype: int64"
      ]
     },
     "metadata": {},
     "output_type": "display_data"
    }
   ],
   "source": [
    "display(kyrbs['E_FM_F_1'].value_counts())\n",
    "display(kyrbs['E_FM_SF_2'].value_counts())"
   ]
  },
  {
   "cell_type": "code",
   "execution_count": 8,
   "metadata": {},
   "outputs": [],
   "source": [
    "# 가족관련이 선택질문인데 8888은 무응답이므로 제외함\n",
    "kyrbs = kyrbs[kyrbs['E_FM_F_1'] != 8888]"
   ]
  },
  {
   "cell_type": "code",
   "execution_count": 9,
   "metadata": {},
   "outputs": [
    {
     "data": {
      "text/plain": [
       "E_FM_F_1\n",
       "1.0       46840\n",
       "9999.0     1896\n",
       "Name: count, dtype: int64"
      ]
     },
     "metadata": {},
     "output_type": "display_data"
    },
    {
     "data": {
      "text/plain": [
       "E_FM_SF_2\n",
       "9999.0    47004\n",
       "2.0        1732\n",
       "Name: count, dtype: int64"
      ]
     },
     "metadata": {},
     "output_type": "display_data"
    },
    {
     "data": {
      "text/plain": [
       "1610"
      ]
     },
     "metadata": {},
     "output_type": "display_data"
    }
   ],
   "source": [
    "display(kyrbs['E_FM_F_1'].value_counts())\n",
    "display(kyrbs['E_FM_SF_2'].value_counts())\n",
    "display(kyrbs[(kyrbs['E_FM_F_1'] == 9999) & (kyrbs['E_FM_SF_2'] == 9999)].shape[0])"
   ]
  },
  {
   "cell_type": "code",
   "execution_count": 10,
   "metadata": {},
   "outputs": [
    {
     "data": {
      "text/plain": [
       "E_FM_M_3\n",
       "3.0       47405\n",
       "9999.0     1331\n",
       "Name: count, dtype: int64"
      ]
     },
     "metadata": {},
     "output_type": "display_data"
    },
    {
     "data": {
      "text/plain": [
       "E_FM_SM_4\n",
       "9999.0    47258\n",
       "4.0        1478\n",
       "Name: count, dtype: int64"
      ]
     },
     "metadata": {},
     "output_type": "display_data"
    }
   ],
   "source": [
    "display(kyrbs['E_FM_M_3'].value_counts())\n",
    "display(kyrbs['E_FM_SM_4'].value_counts())"
   ]
  },
  {
   "cell_type": "code",
   "execution_count": 11,
   "metadata": {},
   "outputs": [
    {
     "name": "stdout",
     "output_type": "stream",
     "text": [
      "father\n",
      "45394\n",
      "286\n",
      "1446\n",
      "1610\n",
      "\n",
      "mother\n",
      "46095\n",
      "168\n",
      "1310\n",
      "1163\n"
     ]
    }
   ],
   "source": [
    "print(\"father\")\n",
    "print(kyrbs[(kyrbs['E_FM_F_1'] == 1) & (kyrbs['E_FM_SF_2'] == 9999)].shape[0])\n",
    "print(kyrbs[(kyrbs['E_FM_F_1'] == 9999) & (kyrbs['E_FM_SF_2'] == 2)].shape[0])\n",
    "print(kyrbs[(kyrbs['E_FM_F_1'] == 1) & (kyrbs['E_FM_SF_2'] == 2)].shape[0])\n",
    "print(kyrbs[(kyrbs['E_FM_F_1'] == 9999) & (kyrbs['E_FM_SF_2'] == 9999)].shape[0])\n",
    "\n",
    "print(\"\\nmother\")\n",
    "print(kyrbs[(kyrbs['E_FM_M_3'] == 3) & (kyrbs['E_FM_SM_4'] == 9999)].shape[0])\n",
    "print(kyrbs[(kyrbs['E_FM_M_3'] == 9999) & (kyrbs['E_FM_SM_4'] == 4)].shape[0])\n",
    "print(kyrbs[(kyrbs['E_FM_M_3'] == 3) & (kyrbs['E_FM_SM_4'] == 4)].shape[0])\n",
    "print(kyrbs[(kyrbs['E_FM_M_3'] == 9999) & (kyrbs['E_FM_SM_4'] == 9999)].shape[0])"
   ]
  },
  {
   "cell_type": "code",
   "execution_count": 12,
   "metadata": {},
   "outputs": [
    {
     "data": {
      "text/plain": [
       "E_LT_F\n",
       "1.0       42343\n",
       "2.0        4497\n",
       "9999.0     1896\n",
       "Name: count, dtype: int64"
      ]
     },
     "metadata": {},
     "output_type": "display_data"
    },
    {
     "data": {
      "text/plain": [
       "E_LT_SF\n",
       "9999.0    47004\n",
       "2.0        1303\n",
       "1.0         429\n",
       "Name: count, dtype: int64"
      ]
     },
     "metadata": {},
     "output_type": "display_data"
    }
   ],
   "source": [
    "display(kyrbs['E_LT_F'].value_counts())\n",
    "display(kyrbs['E_LT_SF'].value_counts())"
   ]
  },
  {
   "cell_type": "code",
   "execution_count": 13,
   "metadata": {},
   "outputs": [
    {
     "data": {
      "text/plain": [
       "E_LT_M\n",
       "1.0       45588\n",
       "2.0        1817\n",
       "9999.0     1331\n",
       "Name: count, dtype: int64"
      ]
     },
     "metadata": {},
     "output_type": "display_data"
    },
    {
     "data": {
      "text/plain": [
       "E_LT_SM\n",
       "9999.0    47258\n",
       "2.0        1288\n",
       "1.0         190\n",
       "Name: count, dtype: int64"
      ]
     },
     "metadata": {},
     "output_type": "display_data"
    }
   ],
   "source": [
    "display(kyrbs['E_LT_M'].value_counts()) \n",
    "display(kyrbs['E_LT_SM'].value_counts())"
   ]
  },
  {
   "cell_type": "code",
   "execution_count": 14,
   "metadata": {},
   "outputs": [],
   "source": [
    "def count_parents(row):\n",
    "    # 친부, 계부 확인\n",
    "    father = 1 if row['E_FM_F_1'] == 1 or row['E_FM_SF_2'] == 2 else 0  \n",
    "    # 친모, 계모 확인\n",
    "    mother = 1 if row['E_FM_M_3'] == 3 or row['E_FM_SM_4'] == 4 else 0  \n",
    "    return father + mother  # 부모 수 합산 (최대 2)\n",
    "\n",
    "kyrbs['countparent'] = kyrbs.apply(count_parents, axis=1)"
   ]
  },
  {
   "cell_type": "code",
   "execution_count": 15,
   "metadata": {},
   "outputs": [
    {
     "data": {
      "text/plain": [
       "countparent\n",
       "2    46271\n",
       "1     2157\n",
       "0      308\n",
       "Name: count, dtype: int64"
      ]
     },
     "execution_count": 15,
     "metadata": {},
     "output_type": "execute_result"
    }
   ],
   "source": [
    "kyrbs['countparent'].value_counts()"
   ]
  },
  {
   "cell_type": "code",
   "execution_count": 16,
   "metadata": {},
   "outputs": [
    {
     "data": {
      "text/plain": [
       "stepparent\n",
       "0    46760\n",
       "1     1976\n",
       "Name: count, dtype: int64"
      ]
     },
     "execution_count": 16,
     "metadata": {},
     "output_type": "execute_result"
    }
   ],
   "source": [
    "kyrbs['stepparent'] = kyrbs[['E_FM_SF_2', 'E_FM_SM_4']].apply(lambda x: 1 if (x == 2).any() or (x == 4).any() else 0, axis=1)\n",
    "kyrbs['stepparent'].value_counts()"
   ]
  },
  {
   "cell_type": "code",
   "execution_count": 17,
   "metadata": {},
   "outputs": [
    {
     "data": {
      "text/plain": [
       "E_FM_OBS_7\n",
       "9999.0    24534\n",
       "7.0       24202\n",
       "Name: count, dtype: int64"
      ]
     },
     "metadata": {},
     "output_type": "display_data"
    },
    {
     "data": {
      "text/plain": [
       "E_FM_YBS_8\n",
       "9999.0    26355\n",
       "8.0       22381\n",
       "Name: count, dtype: int64"
      ]
     },
     "metadata": {},
     "output_type": "display_data"
    },
    {
     "data": {
      "text/plain": [
       "E_FM_NO_9\n",
       "9999.0    48603\n",
       "9.0         133\n",
       "Name: count, dtype: int64"
      ]
     },
     "metadata": {},
     "output_type": "display_data"
    }
   ],
   "source": [
    "display(kyrbs['E_FM_OBS_7'].value_counts())\n",
    "display(kyrbs['E_FM_YBS_8'].value_counts())\n",
    "display(kyrbs['E_FM_NO_9'].value_counts())"
   ]
  },
  {
   "cell_type": "code",
   "execution_count": 18,
   "metadata": {},
   "outputs": [
    {
     "data": {
      "text/plain": [
       "brosis\n",
       "1    41187\n",
       "2     7549\n",
       "Name: count, dtype: int64"
      ]
     },
     "execution_count": 18,
     "metadata": {},
     "output_type": "execute_result"
    }
   ],
   "source": [
    "kyrbs['brosis'] = kyrbs[['E_FM_OBS_7', 'E_FM_YBS_8']].apply(lambda x: 1 if (x == 7).any() or (x == 8).any() else 2, axis=1)\n",
    "kyrbs['brosis'].value_counts()"
   ]
  },
  {
   "cell_type": "code",
   "execution_count": 19,
   "metadata": {},
   "outputs": [
    {
     "data": {
      "text/plain": [
       "OBS            0\n",
       "mod_d          0\n",
       "YEAR           0\n",
       "CITY           0\n",
       "CTYPE          0\n",
       "              ..\n",
       "disturbed      0\n",
       "violent        0\n",
       "countparent    0\n",
       "stepparent     0\n",
       "brosis         0\n",
       "Length: 199, dtype: int64"
      ]
     },
     "execution_count": 19,
     "metadata": {},
     "output_type": "execute_result"
    }
   ],
   "source": [
    "kyrbs.isna().sum()"
   ]
  },
  {
   "cell_type": "code",
   "execution_count": 20,
   "metadata": {},
   "outputs": [
    {
     "data": {
      "text/plain": [
       "Index(['OBS', 'mod_d', 'YEAR', 'CITY', 'CTYPE', 'CTYPE_SD', 'MH', 'SCHOOL',\n",
       "       'STYPE', 'STRATA',\n",
       "       ...\n",
       "       'E_KRN_F', 'E_BORN_F', 'E_EDU_M', 'E_KRN_M', 'E_BORN_M', 'disturbed',\n",
       "       'violent', 'countparent', 'stepparent', 'brosis'],\n",
       "      dtype='object', length=199)"
      ]
     },
     "execution_count": 20,
     "metadata": {},
     "output_type": "execute_result"
    }
   ],
   "source": [
    "kyrbs.columns"
   ]
  },
  {
   "cell_type": "code",
   "execution_count": 21,
   "metadata": {},
   "outputs": [
    {
     "data": {
      "text/html": [
       "<div>\n",
       "<style scoped>\n",
       "    .dataframe tbody tr th:only-of-type {\n",
       "        vertical-align: middle;\n",
       "    }\n",
       "\n",
       "    .dataframe tbody tr th {\n",
       "        vertical-align: top;\n",
       "    }\n",
       "\n",
       "    .dataframe thead th {\n",
       "        text-align: right;\n",
       "    }\n",
       "</style>\n",
       "<table border=\"1\" class=\"dataframe\">\n",
       "  <thead>\n",
       "    <tr style=\"text-align: right;\">\n",
       "      <th></th>\n",
       "      <th>MH</th>\n",
       "      <th>M_STR</th>\n",
       "      <th>M_SAD</th>\n",
       "      <th>M_LON</th>\n",
       "      <th>disturbed</th>\n",
       "      <th>PR_HT</th>\n",
       "      <th>E_S_RCRD</th>\n",
       "      <th>M_SUI_CON</th>\n",
       "      <th>M_SUI_PLN</th>\n",
       "      <th>M_SUI_ATT</th>\n",
       "      <th>E_SES</th>\n",
       "      <th>countparent</th>\n",
       "      <th>stepparent</th>\n",
       "      <th>brosis</th>\n",
       "      <th>E_RES</th>\n",
       "      <th>violent</th>\n",
       "    </tr>\n",
       "  </thead>\n",
       "  <tbody>\n",
       "    <tr>\n",
       "      <th>0</th>\n",
       "      <td>중학교</td>\n",
       "      <td>4.0</td>\n",
       "      <td>1.0</td>\n",
       "      <td>2.0</td>\n",
       "      <td>1</td>\n",
       "      <td>1.0</td>\n",
       "      <td>1.0</td>\n",
       "      <td>1.0</td>\n",
       "      <td>1.0</td>\n",
       "      <td>1.0</td>\n",
       "      <td>1.0</td>\n",
       "      <td>2</td>\n",
       "      <td>0</td>\n",
       "      <td>1</td>\n",
       "      <td>1.0</td>\n",
       "      <td>1</td>\n",
       "    </tr>\n",
       "    <tr>\n",
       "      <th>1</th>\n",
       "      <td>중학교</td>\n",
       "      <td>3.0</td>\n",
       "      <td>2.0</td>\n",
       "      <td>2.0</td>\n",
       "      <td>1</td>\n",
       "      <td>1.0</td>\n",
       "      <td>4.0</td>\n",
       "      <td>1.0</td>\n",
       "      <td>1.0</td>\n",
       "      <td>1.0</td>\n",
       "      <td>2.0</td>\n",
       "      <td>2</td>\n",
       "      <td>0</td>\n",
       "      <td>1</td>\n",
       "      <td>1.0</td>\n",
       "      <td>1</td>\n",
       "    </tr>\n",
       "    <tr>\n",
       "      <th>2</th>\n",
       "      <td>중학교</td>\n",
       "      <td>2.0</td>\n",
       "      <td>1.0</td>\n",
       "      <td>3.0</td>\n",
       "      <td>1</td>\n",
       "      <td>1.0</td>\n",
       "      <td>1.0</td>\n",
       "      <td>1.0</td>\n",
       "      <td>1.0</td>\n",
       "      <td>1.0</td>\n",
       "      <td>1.0</td>\n",
       "      <td>2</td>\n",
       "      <td>0</td>\n",
       "      <td>1</td>\n",
       "      <td>1.0</td>\n",
       "      <td>1</td>\n",
       "    </tr>\n",
       "  </tbody>\n",
       "</table>\n",
       "</div>"
      ],
      "text/plain": [
       "    MH  M_STR  M_SAD  M_LON  disturbed  PR_HT  E_S_RCRD  M_SUI_CON  M_SUI_PLN  \\\n",
       "0  중학교    4.0    1.0    2.0          1    1.0       1.0        1.0        1.0   \n",
       "1  중학교    3.0    2.0    2.0          1    1.0       4.0        1.0        1.0   \n",
       "2  중학교    2.0    1.0    3.0          1    1.0       1.0        1.0        1.0   \n",
       "\n",
       "   M_SUI_ATT  E_SES  countparent  stepparent  brosis  E_RES  violent  \n",
       "0        1.0    1.0            2           0       1    1.0        1  \n",
       "1        1.0    2.0            2           0       1    1.0        1  \n",
       "2        1.0    1.0            2           0       1    1.0        1  "
      ]
     },
     "execution_count": 21,
     "metadata": {},
     "output_type": "execute_result"
    }
   ],
   "source": [
    "usecols = ['MH', 'M_STR', 'M_SAD', 'M_LON', 'disturbed', 'PR_HT', 'E_S_RCRD', 'M_SUI_CON', 'M_SUI_PLN', 'M_SUI_ATT', 'E_SES', 'countparent', 'stepparent', 'brosis', 'E_RES', 'violent']\n",
    "kyrbs = kyrbs[usecols]\n",
    "kyrbs.head(3)"
   ]
  },
  {
   "cell_type": "code",
   "execution_count": 22,
   "metadata": {
    "vscode": {
     "languageId": "powershell"
    }
   },
   "outputs": [],
   "source": [
    "kyrbs = kyrbs.dropna()"
   ]
  },
  {
   "cell_type": "code",
   "execution_count": 23,
   "metadata": {
    "vscode": {
     "languageId": "powershell"
    }
   },
   "outputs": [],
   "source": [
    "# 스트레스 척도 변환 (1(많이) ~ 5(전혀) -> 5(많이) ~ 1(전혀))\n",
    "kyrbs['M_STR'] = 6 - kyrbs['M_STR']\n",
    "\n",
    "# 건강 상태 척도 변환 (1(건강함) ~ 5(건강 못함) -> 5(건강함) ~ 1(건강 못함))\n",
    "kyrbs['PR_HT'] = 6 - kyrbs['PR_HT']\n",
    "\n",
    "# 학업 성적 척도 변환 (1(상) ~ 5(하) -> 5(상) ~ 1(하))\n",
    "kyrbs['E_S_RCRD'] = 6 - kyrbs['E_S_RCRD']\n",
    "\n",
    "# 경제 상태 척도 변환 (1(상) ~ 5(하) -> 5(상) ~ 1(하))\n",
    "kyrbs['E_SES'] = 6 - kyrbs['E_SES']\n"
   ]
  },
  {
   "cell_type": "code",
   "execution_count": 24,
   "metadata": {
    "vscode": {
     "languageId": "powershell"
    }
   },
   "outputs": [],
   "source": [
    "# 숫자형 변수\n",
    "numeric_cols = ['M_STR', 'M_LON', 'PR_HT', 'E_S_RCRD', 'E_SES', 'violent']\n",
    "for col in numeric_cols:\n",
    "    kyrbs[col] = pd.to_numeric(kyrbs[col], errors='coerce')\n",
    "\n",
    "# 범주형 변수\n",
    "categorical_cols = ['M_SAD', 'disturbed', 'M_SUI_CON', 'M_SUI_PLN', 'M_SUI_ATT', \n",
    "                    'countparent', 'stepparent', 'brosis', 'E_RES']\n",
    "for col in categorical_cols:\n",
    "    kyrbs[col] = kyrbs[col].astype(\"category\")\n",
    "\n",
    "# # 순서형 변수\n",
    "# ordinal_cols = ['violent']\n",
    "# violent_categories = ['never', 'sometimes', 'often']\n",
    "\n",
    "# for col in ordinal_cols:\n",
    "#     kyrbs[col] = kyrbs[col].astype(pd.CategoricalDtype(categories=violent_categories, ordered=True))"
   ]
  },
  {
   "cell_type": "code",
   "execution_count": 25,
   "metadata": {},
   "outputs": [
    {
     "data": {
      "text/plain": [
       "(26323, 22413)"
      ]
     },
     "execution_count": 25,
     "metadata": {},
     "output_type": "execute_result"
    }
   ],
   "source": [
    "mid = kyrbs[kyrbs['MH'] == '중학교']\n",
    "high = kyrbs[kyrbs['MH'] == '고등학교']\n",
    "\n",
    "len(mid), len(high)"
   ]
  },
  {
   "cell_type": "code",
   "execution_count": 26,
   "metadata": {},
   "outputs": [
    {
     "data": {
      "text/plain": [
       "MH               object\n",
       "M_STR           float64\n",
       "M_SAD          category\n",
       "M_LON           float64\n",
       "disturbed      category\n",
       "PR_HT           float64\n",
       "E_S_RCRD        float64\n",
       "M_SUI_CON      category\n",
       "M_SUI_PLN      category\n",
       "M_SUI_ATT      category\n",
       "E_SES           float64\n",
       "countparent    category\n",
       "stepparent     category\n",
       "brosis         category\n",
       "E_RES          category\n",
       "violent           int64\n",
       "dtype: object"
      ]
     },
     "execution_count": 26,
     "metadata": {},
     "output_type": "execute_result"
    }
   ],
   "source": [
    "high.dtypes"
   ]
  },
  {
   "cell_type": "code",
   "execution_count": 27,
   "metadata": {},
   "outputs": [],
   "source": [
    "import pandas as pd\n",
    "from semopy import Model, Optimizer, calc_stats"
   ]
  },
  {
   "cell_type": "code",
   "execution_count": 43,
   "metadata": {},
   "outputs": [
    {
     "name": "stdout",
     "output_type": "stream",
     "text": [
      "\n",
      "    stress =~ M_STR\n",
      "    mood =~ M_SAD + M_LON + disturbed\n",
      "    suicide =~ M_SUI_CON + M_SUI_PLN + M_SUI_ATT\n",
      "    grade =~ E_S_RCRD\n",
      "    family =~ E_SES + countparent + stepparent\n",
      "    livingspace =~ E_RES\n",
      "    \n",
      "    mood ~ grade + family + livingspace\n",
      "    stress ~ grade + family + livingspace\n",
      "    suicide ~ stress + mood\n",
      "\n",
      "적합도 지표:\n",
      "                       Value\n",
      "DoF               43.000000\n",
      "DoF Baseline      66.000000\n",
      "chi2            2434.663602\n",
      "chi2 p-value       0.000000\n",
      "chi2 Baseline  39379.955598\n",
      "CFI                0.939165\n",
      "GFI                0.938175\n",
      "AGFI               0.905106\n",
      "NFI                0.938175\n",
      "TLI                0.906625\n",
      "RMSEA              0.049817\n",
      "AIC               69.782745\n",
      "BIC              350.391620\n",
      "LogLik             0.108627\n"
     ]
    }
   ],
   "source": [
    "from semopy import Model\n",
    "\n",
    "model_desc = \"\"\"\n",
    "    stress =~ M_STR\n",
    "    mood =~ M_SAD + M_LON + disturbed\n",
    "    suicide =~ M_SUI_CON + M_SUI_PLN + M_SUI_ATT\n",
    "    grade =~ E_S_RCRD\n",
    "    family =~ E_SES + countparent + stepparent\n",
    "    livingspace =~ E_RES\n",
    "    \n",
    "    mood ~ grade + family + livingspace\n",
    "    stress ~ grade + family + livingspace\n",
    "    suicide ~ stress + mood\n",
    "\"\"\"\n",
    "\n",
    "m = Model(model_desc)\n",
    "print(model_desc)\n",
    "\n",
    "m.fit(high)\n",
    "\n",
    "# 구조 모델 결과 확인\n",
    "stats = calc_stats(m)\n",
    "\n",
    "print(\"적합도 지표:\\n\", stats.T)\n"
   ]
  },
  {
   "cell_type": "code",
   "execution_count": 32,
   "metadata": {},
   "outputs": [
    {
     "name": "stderr",
     "output_type": "stream",
     "text": [
      "WARNING:root:Fisher Information Matrix is not PD.Moore-Penrose inverse will be used instead of Cholesky decomposition. See 10.1109/TSP.2012.2208105.\n"
     ]
    },
    {
     "name": "stdout",
     "output_type": "stream",
     "text": [
      "                   lval  op                 rval  Estimate  Std. Err  \\\n",
      "0                Stress   ~   Family_Environment  0.040067   0.01462   \n",
      "1                Stress   ~  Violence_Experience  0.405067  0.000413   \n",
      "2                Stress   ~               Health -0.255359   0.00701   \n",
      "3                Stress   ~             Academic -0.060199  0.023395   \n",
      "4                 E_SES   ~   Family_Environment  1.000000         -   \n",
      "5           countparent   ~   Family_Environment  0.054367  0.006439   \n",
      "6            stepparent   ~   Family_Environment -0.010142  0.002104   \n",
      "7                brosis   ~   Family_Environment -0.004186   0.00374   \n",
      "8                 E_RES   ~   Family_Environment -0.044808  0.009255   \n",
      "9               violent   ~  Violence_Experience  1.000000         -   \n",
      "10                PR_HT   ~               Health  1.000000         -   \n",
      "11             E_S_RCRD   ~             Academic  1.000000         -   \n",
      "12                M_STR   ~               Stress  1.000000         -   \n",
      "13            M_SUI_CON   ~               Stress  0.708942  0.017566   \n",
      "14            M_SUI_PLN   ~               Stress  0.484490  0.011953   \n",
      "15            M_SUI_ATT   ~               Stress  0.280170  0.007182   \n",
      "16             Academic  ~~             Academic  0.234117  0.010075   \n",
      "17             Academic  ~~   Family_Environment  0.264036  0.006605   \n",
      "18   Family_Environment  ~~   Family_Environment  0.547654  0.061679   \n",
      "19               Health  ~~               Health  0.271631  0.005147   \n",
      "20               Health  ~~             Academic  0.067657   0.00691   \n",
      "21               Health  ~~   Family_Environment  0.104299  0.005317   \n",
      "22               Health  ~~  Violence_Experience -0.003869  0.000894   \n",
      "23               Stress  ~~               Stress  0.072240  0.003634   \n",
      "24  Violence_Experience  ~~  Violence_Experience  0.016884  0.001016   \n",
      "25  Violence_Experience  ~~             Academic  0.000642  0.001079   \n",
      "26  Violence_Experience  ~~   Family_Environment -0.001160  0.000824   \n",
      "27                E_RES  ~~                E_RES  0.587402  0.005553   \n",
      "28                E_SES  ~~                E_SES  0.181692  0.061341   \n",
      "29             E_S_RCRD  ~~             E_S_RCRD  1.011606  0.010553   \n",
      "30                M_STR  ~~                M_STR  0.771933  0.007635   \n",
      "31            M_SUI_ATT  ~~            M_SUI_ATT  0.015206  0.000177   \n",
      "32            M_SUI_CON  ~~            M_SUI_CON  0.056010  0.000812   \n",
      "33            M_SUI_PLN  ~~            M_SUI_PLN  0.018429  0.000331   \n",
      "34                PR_HT  ~~                PR_HT  0.583867  0.005808   \n",
      "35               brosis  ~~               brosis  0.128718  0.001216   \n",
      "36          countparent  ~~          countparent  0.070583  0.000692   \n",
      "37           stepparent  ~~           stepparent  0.030452  0.000288   \n",
      "38              violent  ~~              violent  0.004049  0.001004   \n",
      "\n",
      "       z-value   p-value  \n",
      "0     2.740473  0.006135  \n",
      "1   981.001119       0.0  \n",
      "2   -36.426525       0.0  \n",
      "3    -2.573117  0.010079  \n",
      "4            -         -  \n",
      "5     8.443803       0.0  \n",
      "6    -4.820766  0.000001  \n",
      "7    -1.119285  0.263019  \n",
      "8    -4.841733  0.000001  \n",
      "9            -         -  \n",
      "10           -         -  \n",
      "11           -         -  \n",
      "12           -         -  \n",
      "13   40.357992       0.0  \n",
      "14     40.5336       0.0  \n",
      "15   39.008339       0.0  \n",
      "16   23.236625       0.0  \n",
      "17   39.972144       0.0  \n",
      "18    8.879162       0.0  \n",
      "19   52.772699       0.0  \n",
      "20    9.790645       0.0  \n",
      "21   19.614647       0.0  \n",
      "22   -4.326959  0.000015  \n",
      "23   19.877135       0.0  \n",
      "24   16.621259       0.0  \n",
      "25    0.595188  0.551718  \n",
      "26   -1.407271  0.159347  \n",
      "27  105.777401       0.0  \n",
      "28    2.962023  0.003056  \n",
      "29   95.863611       0.0  \n",
      "30  101.106661       0.0  \n",
      "31   85.923112       0.0  \n",
      "32   68.956555       0.0  \n",
      "33   55.611962       0.0  \n",
      "34   100.52725       0.0  \n",
      "35  105.858242       0.0  \n",
      "36  102.058182       0.0  \n",
      "37  105.778623       0.0  \n",
      "38    4.033493  0.000055  \n"
     ]
    }
   ],
   "source": [
    "estimates = m.inspect()\n",
    "print(estimates)"
   ]
  },
  {
   "cell_type": "code",
   "execution_count": 33,
   "metadata": {},
   "outputs": [
    {
     "name": "stderr",
     "output_type": "stream",
     "text": [
      "WARNING:root:Fisher Information Matrix is not PD.Moore-Penrose inverse will be used instead of Cholesky decomposition. See 10.1109/TSP.2012.2208105.\n",
      "WARNING:root:Fisher Information Matrix is not PD.Moore-Penrose inverse will be used instead of Cholesky decomposition. See 10.1109/TSP.2012.2208105.\n",
      "WARNING:root:Fisher Information Matrix is not PD.Moore-Penrose inverse will be used instead of Cholesky decomposition. See 10.1109/TSP.2012.2208105.\n",
      "WARNING:root:Fisher Information Matrix is not PD.Moore-Penrose inverse will be used instead of Cholesky decomposition. See 10.1109/TSP.2012.2208105.\n",
      "WARNING:root:Fisher Information Matrix is not PD.Moore-Penrose inverse will be used instead of Cholesky decomposition. See 10.1109/TSP.2012.2208105.\n",
      "WARNING:root:Fisher Information Matrix is not PD.Moore-Penrose inverse will be used instead of Cholesky decomposition. See 10.1109/TSP.2012.2208105.\n"
     ]
    }
   ],
   "source": [
    "from semopy import semplot, report\n",
    "semplot(m, './high.png')\n",
    "report(m, './report')"
   ]
  },
  {
   "cell_type": "code",
   "execution_count": null,
   "metadata": {},
   "outputs": [],
   "source": []
  }
 ],
 "metadata": {
  "kernelspec": {
   "display_name": "kernel",
   "language": "python",
   "name": "kernel"
  },
  "language_info": {
   "codemirror_mode": {
    "name": "ipython",
    "version": 3
   },
   "file_extension": ".py",
   "mimetype": "text/x-python",
   "name": "python",
   "nbconvert_exporter": "python",
   "pygments_lexer": "ipython3",
   "version": "3.11.2"
  }
 },
 "nbformat": 4,
 "nbformat_minor": 2
}
